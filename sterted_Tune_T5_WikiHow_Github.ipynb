{
  "cells": [
    {
      "cell_type": "markdown",
      "metadata": {
        "id": "view-in-github",
        "colab_type": "text"
      },
      "source": [
        "<a href=\"https://colab.research.google.com/github/mariya-goltsova/Parser/blob/main/sterted_Tune_T5_WikiHow_Github.ipynb\" target=\"_parent\"><img src=\"https://colab.research.google.com/assets/colab-badge.svg\" alt=\"Open In Colab\"/></a>"
      ]
    },
    {
      "cell_type": "code",
      "execution_count": 1,
      "metadata": {
        "ExecuteTime": {
          "end_time": "2020-09-02T18:48:47.482217Z",
          "start_time": "2020-09-02T18:48:47.245642Z"
        },
        "id": "K2khil_hStWP",
        "outputId": "6bfa4a47-19c3-4e70-b4dd-d2322e454532",
        "colab": {
          "base_uri": "https://localhost:8080/"
        }
      },
      "outputs": [
        {
          "output_type": "stream",
          "name": "stdout",
          "text": [
            "Looking in indexes: https://pypi.org/simple, https://us-python.pkg.dev/colab-wheels/public/simple/\n",
            "Collecting pytorch_lightning\n",
            "  Downloading pytorch_lightning-2.0.0-py3-none-any.whl (715 kB)\n",
            "\u001b[2K     \u001b[90m━━━━━━━━━━━━━━━━━━━━━━━━━━━━━━━━━━━━━━\u001b[0m \u001b[32m715.6/715.6 KB\u001b[0m \u001b[31m15.3 MB/s\u001b[0m eta \u001b[36m0:00:00\u001b[0m\n",
            "\u001b[?25hRequirement already satisfied: tqdm>=4.57.0 in /usr/local/lib/python3.9/dist-packages (from pytorch_lightning) (4.65.0)\n",
            "Requirement already satisfied: torch>=1.11.0 in /usr/local/lib/python3.9/dist-packages (from pytorch_lightning) (1.13.1+cu116)\n",
            "Requirement already satisfied: PyYAML>=5.4 in /usr/local/lib/python3.9/dist-packages (from pytorch_lightning) (6.0)\n",
            "Collecting torchmetrics>=0.7.0\n",
            "  Downloading torchmetrics-0.11.4-py3-none-any.whl (519 kB)\n",
            "\u001b[2K     \u001b[90m━━━━━━━━━━━━━━━━━━━━━━━━━━━━━━━━━━━━━━\u001b[0m \u001b[32m519.2/519.2 KB\u001b[0m \u001b[31m35.1 MB/s\u001b[0m eta \u001b[36m0:00:00\u001b[0m\n",
            "\u001b[?25hRequirement already satisfied: packaging>=17.1 in /usr/local/lib/python3.9/dist-packages (from pytorch_lightning) (23.0)\n",
            "Requirement already satisfied: typing-extensions>=4.0.0 in /usr/local/lib/python3.9/dist-packages (from pytorch_lightning) (4.5.0)\n",
            "Requirement already satisfied: numpy>=1.17.2 in /usr/local/lib/python3.9/dist-packages (from pytorch_lightning) (1.22.4)\n",
            "Collecting lightning-utilities>=0.7.0\n",
            "  Downloading lightning_utilities-0.8.0-py3-none-any.whl (20 kB)\n",
            "Requirement already satisfied: fsspec[http]>2021.06.0 in /usr/local/lib/python3.9/dist-packages (from pytorch_lightning) (2023.3.0)\n",
            "Requirement already satisfied: requests in /usr/local/lib/python3.9/dist-packages (from fsspec[http]>2021.06.0->pytorch_lightning) (2.27.1)\n",
            "Collecting aiohttp!=4.0.0a0,!=4.0.0a1\n",
            "  Downloading aiohttp-3.8.4-cp39-cp39-manylinux_2_17_x86_64.manylinux2014_x86_64.whl (1.0 MB)\n",
            "\u001b[2K     \u001b[90m━━━━━━━━━━━━━━━━━━━━━━━━━━━━━━━━━━━━━━━━\u001b[0m \u001b[32m1.0/1.0 MB\u001b[0m \u001b[31m64.0 MB/s\u001b[0m eta \u001b[36m0:00:00\u001b[0m\n",
            "\u001b[?25hRequirement already satisfied: charset-normalizer<4.0,>=2.0 in /usr/local/lib/python3.9/dist-packages (from aiohttp!=4.0.0a0,!=4.0.0a1->fsspec[http]>2021.06.0->pytorch_lightning) (2.0.12)\n",
            "Collecting multidict<7.0,>=4.5\n",
            "  Downloading multidict-6.0.4-cp39-cp39-manylinux_2_17_x86_64.manylinux2014_x86_64.whl (114 kB)\n",
            "\u001b[2K     \u001b[90m━━━━━━━━━━━━━━━━━━━━━━━━━━━━━━━━━━━━━━\u001b[0m \u001b[32m114.2/114.2 KB\u001b[0m \u001b[31m12.0 MB/s\u001b[0m eta \u001b[36m0:00:00\u001b[0m\n",
            "\u001b[?25hCollecting aiosignal>=1.1.2\n",
            "  Downloading aiosignal-1.3.1-py3-none-any.whl (7.6 kB)\n",
            "Requirement already satisfied: attrs>=17.3.0 in /usr/local/lib/python3.9/dist-packages (from aiohttp!=4.0.0a0,!=4.0.0a1->fsspec[http]>2021.06.0->pytorch_lightning) (22.2.0)\n",
            "Collecting yarl<2.0,>=1.0\n",
            "  Downloading yarl-1.8.2-cp39-cp39-manylinux_2_17_x86_64.manylinux2014_x86_64.whl (264 kB)\n",
            "\u001b[2K     \u001b[90m━━━━━━━━━━━━━━━━━━━━━━━━━━━━━━━━━━━━━━\u001b[0m \u001b[32m264.6/264.6 KB\u001b[0m \u001b[31m24.0 MB/s\u001b[0m eta \u001b[36m0:00:00\u001b[0m\n",
            "\u001b[?25hCollecting async-timeout<5.0,>=4.0.0a3\n",
            "  Downloading async_timeout-4.0.2-py3-none-any.whl (5.8 kB)\n",
            "Collecting frozenlist>=1.1.1\n",
            "  Downloading frozenlist-1.3.3-cp39-cp39-manylinux_2_5_x86_64.manylinux1_x86_64.manylinux_2_17_x86_64.manylinux2014_x86_64.whl (158 kB)\n",
            "\u001b[2K     \u001b[90m━━━━━━━━━━━━━━━━━━━━━━━━━━━━━━━━━━━━━━\u001b[0m \u001b[32m158.8/158.8 KB\u001b[0m \u001b[31m17.8 MB/s\u001b[0m eta \u001b[36m0:00:00\u001b[0m\n",
            "\u001b[?25hRequirement already satisfied: urllib3<1.27,>=1.21.1 in /usr/local/lib/python3.9/dist-packages (from requests->fsspec[http]>2021.06.0->pytorch_lightning) (1.26.15)\n",
            "Requirement already satisfied: idna<4,>=2.5 in /usr/local/lib/python3.9/dist-packages (from requests->fsspec[http]>2021.06.0->pytorch_lightning) (3.4)\n",
            "Requirement already satisfied: certifi>=2017.4.17 in /usr/local/lib/python3.9/dist-packages (from requests->fsspec[http]>2021.06.0->pytorch_lightning) (2022.12.7)\n",
            "Installing collected packages: multidict, lightning-utilities, frozenlist, async-timeout, yarl, torchmetrics, aiosignal, aiohttp, pytorch_lightning\n",
            "Successfully installed aiohttp-3.8.4 aiosignal-1.3.1 async-timeout-4.0.2 frozenlist-1.3.3 lightning-utilities-0.8.0 multidict-6.0.4 pytorch_lightning-2.0.0 torchmetrics-0.11.4 yarl-1.8.2\n",
            "Looking in indexes: https://pypi.org/simple, https://us-python.pkg.dev/colab-wheels/public/simple/\n",
            "Collecting sentencepiece\n",
            "  Downloading sentencepiece-0.1.97-cp39-cp39-manylinux_2_17_x86_64.manylinux2014_x86_64.whl (1.3 MB)\n",
            "\u001b[2K     \u001b[90m━━━━━━━━━━━━━━━━━━━━━━━━━━━━━━━━━━━━━━━━\u001b[0m \u001b[32m1.3/1.3 MB\u001b[0m \u001b[31m17.7 MB/s\u001b[0m eta \u001b[36m0:00:00\u001b[0m\n",
            "\u001b[?25hInstalling collected packages: sentencepiece\n",
            "Successfully installed sentencepiece-0.1.97\n"
          ]
        }
      ],
      "source": [
        "!pip install pytorch_lightning\n",
        "!pip install sentencepiece"
      ]
    },
    {
      "cell_type": "code",
      "source": [
        "!pip install nlp"
      ],
      "metadata": {
        "colab": {
          "base_uri": "https://localhost:8080/"
        },
        "id": "KR_rntX9VRL1",
        "outputId": "e437bf35-a65c-423c-babc-843d1f779904"
      },
      "execution_count": 2,
      "outputs": [
        {
          "output_type": "stream",
          "name": "stdout",
          "text": [
            "Looking in indexes: https://pypi.org/simple, https://us-python.pkg.dev/colab-wheels/public/simple/\n",
            "Collecting nlp\n",
            "  Downloading nlp-0.4.0-py3-none-any.whl (1.7 MB)\n",
            "\u001b[2K     \u001b[90m━━━━━━━━━━━━━━━━━━━━━━━━━━━━━━━━━━━━━━━━\u001b[0m \u001b[32m1.7/1.7 MB\u001b[0m \u001b[31m35.4 MB/s\u001b[0m eta \u001b[36m0:00:00\u001b[0m\n",
            "\u001b[?25hRequirement already satisfied: filelock in /usr/local/lib/python3.9/dist-packages (from nlp) (3.10.1)\n",
            "Requirement already satisfied: requests>=2.19.0 in /usr/local/lib/python3.9/dist-packages (from nlp) (2.27.1)\n",
            "Requirement already satisfied: numpy in /usr/local/lib/python3.9/dist-packages (from nlp) (1.22.4)\n",
            "Collecting xxhash\n",
            "  Downloading xxhash-3.2.0-cp39-cp39-manylinux_2_17_x86_64.manylinux2014_x86_64.whl (212 kB)\n",
            "\u001b[2K     \u001b[90m━━━━━━━━━━━━━━━━━━━━━━━━━━━━━━━━━━━━━━\u001b[0m \u001b[32m212.2/212.2 KB\u001b[0m \u001b[31m20.8 MB/s\u001b[0m eta \u001b[36m0:00:00\u001b[0m\n",
            "\u001b[?25hRequirement already satisfied: pandas in /usr/local/lib/python3.9/dist-packages (from nlp) (1.4.4)\n",
            "Collecting dill\n",
            "  Downloading dill-0.3.6-py3-none-any.whl (110 kB)\n",
            "\u001b[2K     \u001b[90m━━━━━━━━━━━━━━━━━━━━━━━━━━━━━━━━━━━━━━\u001b[0m \u001b[32m110.5/110.5 KB\u001b[0m \u001b[31m12.1 MB/s\u001b[0m eta \u001b[36m0:00:00\u001b[0m\n",
            "\u001b[?25hRequirement already satisfied: pyarrow>=0.16.0 in /usr/local/lib/python3.9/dist-packages (from nlp) (9.0.0)\n",
            "Requirement already satisfied: tqdm>=4.27 in /usr/local/lib/python3.9/dist-packages (from nlp) (4.65.0)\n",
            "Requirement already satisfied: certifi>=2017.4.17 in /usr/local/lib/python3.9/dist-packages (from requests>=2.19.0->nlp) (2022.12.7)\n",
            "Requirement already satisfied: idna<4,>=2.5 in /usr/local/lib/python3.9/dist-packages (from requests>=2.19.0->nlp) (3.4)\n",
            "Requirement already satisfied: urllib3<1.27,>=1.21.1 in /usr/local/lib/python3.9/dist-packages (from requests>=2.19.0->nlp) (1.26.15)\n",
            "Requirement already satisfied: charset-normalizer~=2.0.0 in /usr/local/lib/python3.9/dist-packages (from requests>=2.19.0->nlp) (2.0.12)\n",
            "Requirement already satisfied: pytz>=2020.1 in /usr/local/lib/python3.9/dist-packages (from pandas->nlp) (2022.7.1)\n",
            "Requirement already satisfied: python-dateutil>=2.8.1 in /usr/local/lib/python3.9/dist-packages (from pandas->nlp) (2.8.2)\n",
            "Requirement already satisfied: six>=1.5 in /usr/local/lib/python3.9/dist-packages (from python-dateutil>=2.8.1->pandas->nlp) (1.16.0)\n",
            "Installing collected packages: xxhash, dill, nlp\n",
            "Successfully installed dill-0.3.6 nlp-0.4.0 xxhash-3.2.0\n"
          ]
        }
      ]
    },
    {
      "cell_type": "code",
      "source": [
        "!pip install transformers"
      ],
      "metadata": {
        "colab": {
          "base_uri": "https://localhost:8080/"
        },
        "id": "jPj6bVm5VUPl",
        "outputId": "6d58a7c4-0f6f-4420-d4c2-b5458959155a"
      },
      "execution_count": 3,
      "outputs": [
        {
          "output_type": "stream",
          "name": "stdout",
          "text": [
            "Looking in indexes: https://pypi.org/simple, https://us-python.pkg.dev/colab-wheels/public/simple/\n",
            "Collecting transformers\n",
            "  Downloading transformers-4.27.3-py3-none-any.whl (6.8 MB)\n",
            "\u001b[2K     \u001b[90m━━━━━━━━━━━━━━━━━━━━━━━━━━━━━━━━━━━━━━━━\u001b[0m \u001b[32m6.8/6.8 MB\u001b[0m \u001b[31m43.8 MB/s\u001b[0m eta \u001b[36m0:00:00\u001b[0m\n",
            "\u001b[?25hCollecting tokenizers!=0.11.3,<0.14,>=0.11.1\n",
            "  Downloading tokenizers-0.13.2-cp39-cp39-manylinux_2_17_x86_64.manylinux2014_x86_64.whl (7.6 MB)\n",
            "\u001b[2K     \u001b[90m━━━━━━━━━━━━━━━━━━━━━━━━━━━━━━━━━━━━━━━━\u001b[0m \u001b[32m7.6/7.6 MB\u001b[0m \u001b[31m93.3 MB/s\u001b[0m eta \u001b[36m0:00:00\u001b[0m\n",
            "\u001b[?25hRequirement already satisfied: regex!=2019.12.17 in /usr/local/lib/python3.9/dist-packages (from transformers) (2022.10.31)\n",
            "Requirement already satisfied: numpy>=1.17 in /usr/local/lib/python3.9/dist-packages (from transformers) (1.22.4)\n",
            "Requirement already satisfied: pyyaml>=5.1 in /usr/local/lib/python3.9/dist-packages (from transformers) (6.0)\n",
            "Collecting huggingface-hub<1.0,>=0.11.0\n",
            "  Downloading huggingface_hub-0.13.3-py3-none-any.whl (199 kB)\n",
            "\u001b[2K     \u001b[90m━━━━━━━━━━━━━━━━━━━━━━━━━━━━━━━━━━━━━━\u001b[0m \u001b[32m199.8/199.8 KB\u001b[0m \u001b[31m21.0 MB/s\u001b[0m eta \u001b[36m0:00:00\u001b[0m\n",
            "\u001b[?25hRequirement already satisfied: packaging>=20.0 in /usr/local/lib/python3.9/dist-packages (from transformers) (23.0)\n",
            "Requirement already satisfied: tqdm>=4.27 in /usr/local/lib/python3.9/dist-packages (from transformers) (4.65.0)\n",
            "Requirement already satisfied: filelock in /usr/local/lib/python3.9/dist-packages (from transformers) (3.10.1)\n",
            "Requirement already satisfied: requests in /usr/local/lib/python3.9/dist-packages (from transformers) (2.27.1)\n",
            "Requirement already satisfied: typing-extensions>=3.7.4.3 in /usr/local/lib/python3.9/dist-packages (from huggingface-hub<1.0,>=0.11.0->transformers) (4.5.0)\n",
            "Requirement already satisfied: charset-normalizer~=2.0.0 in /usr/local/lib/python3.9/dist-packages (from requests->transformers) (2.0.12)\n",
            "Requirement already satisfied: certifi>=2017.4.17 in /usr/local/lib/python3.9/dist-packages (from requests->transformers) (2022.12.7)\n",
            "Requirement already satisfied: urllib3<1.27,>=1.21.1 in /usr/local/lib/python3.9/dist-packages (from requests->transformers) (1.26.15)\n",
            "Requirement already satisfied: idna<4,>=2.5 in /usr/local/lib/python3.9/dist-packages (from requests->transformers) (3.4)\n",
            "Installing collected packages: tokenizers, huggingface-hub, transformers\n",
            "Successfully installed huggingface-hub-0.13.3 tokenizers-0.13.2 transformers-4.27.3\n"
          ]
        }
      ]
    },
    {
      "cell_type": "code",
      "source": [
        "!pip install datasets"
      ],
      "metadata": {
        "colab": {
          "base_uri": "https://localhost:8080/"
        },
        "id": "79oDnutDXNwi",
        "outputId": "facff005-cfb5-494c-faef-b61cbc1fca3a"
      },
      "execution_count": 4,
      "outputs": [
        {
          "output_type": "stream",
          "name": "stdout",
          "text": [
            "Looking in indexes: https://pypi.org/simple, https://us-python.pkg.dev/colab-wheels/public/simple/\n",
            "Collecting datasets\n",
            "  Downloading datasets-2.10.1-py3-none-any.whl (469 kB)\n",
            "\u001b[2K     \u001b[90m━━━━━━━━━━━━━━━━━━━━━━━━━━━━━━━━━━━━━━━\u001b[0m \u001b[32m469.0/469.0 KB\u001b[0m \u001b[31m3.9 MB/s\u001b[0m eta \u001b[36m0:00:00\u001b[0m\n",
            "\u001b[?25hRequirement already satisfied: huggingface-hub<1.0.0,>=0.2.0 in /usr/local/lib/python3.9/dist-packages (from datasets) (0.13.3)\n",
            "Requirement already satisfied: tqdm>=4.62.1 in /usr/local/lib/python3.9/dist-packages (from datasets) (4.65.0)\n",
            "Requirement already satisfied: pandas in /usr/local/lib/python3.9/dist-packages (from datasets) (1.4.4)\n",
            "Requirement already satisfied: packaging in /usr/local/lib/python3.9/dist-packages (from datasets) (23.0)\n",
            "Requirement already satisfied: fsspec[http]>=2021.11.1 in /usr/local/lib/python3.9/dist-packages (from datasets) (2023.3.0)\n",
            "Requirement already satisfied: aiohttp in /usr/local/lib/python3.9/dist-packages (from datasets) (3.8.4)\n",
            "Collecting responses<0.19\n",
            "  Downloading responses-0.18.0-py3-none-any.whl (38 kB)\n",
            "Requirement already satisfied: xxhash in /usr/local/lib/python3.9/dist-packages (from datasets) (3.2.0)\n",
            "Collecting multiprocess\n",
            "  Downloading multiprocess-0.70.14-py39-none-any.whl (132 kB)\n",
            "\u001b[2K     \u001b[90m━━━━━━━━━━━━━━━━━━━━━━━━━━━━━━━━━━━━━━\u001b[0m \u001b[32m132.9/132.9 KB\u001b[0m \u001b[31m15.3 MB/s\u001b[0m eta \u001b[36m0:00:00\u001b[0m\n",
            "\u001b[?25hRequirement already satisfied: requests>=2.19.0 in /usr/local/lib/python3.9/dist-packages (from datasets) (2.27.1)\n",
            "Requirement already satisfied: dill<0.3.7,>=0.3.0 in /usr/local/lib/python3.9/dist-packages (from datasets) (0.3.6)\n",
            "Requirement already satisfied: pyarrow>=6.0.0 in /usr/local/lib/python3.9/dist-packages (from datasets) (9.0.0)\n",
            "Requirement already satisfied: numpy>=1.17 in /usr/local/lib/python3.9/dist-packages (from datasets) (1.22.4)\n",
            "Requirement already satisfied: pyyaml>=5.1 in /usr/local/lib/python3.9/dist-packages (from datasets) (6.0)\n",
            "Requirement already satisfied: multidict<7.0,>=4.5 in /usr/local/lib/python3.9/dist-packages (from aiohttp->datasets) (6.0.4)\n",
            "Requirement already satisfied: frozenlist>=1.1.1 in /usr/local/lib/python3.9/dist-packages (from aiohttp->datasets) (1.3.3)\n",
            "Requirement already satisfied: yarl<2.0,>=1.0 in /usr/local/lib/python3.9/dist-packages (from aiohttp->datasets) (1.8.2)\n",
            "Requirement already satisfied: aiosignal>=1.1.2 in /usr/local/lib/python3.9/dist-packages (from aiohttp->datasets) (1.3.1)\n",
            "Requirement already satisfied: attrs>=17.3.0 in /usr/local/lib/python3.9/dist-packages (from aiohttp->datasets) (22.2.0)\n",
            "Requirement already satisfied: async-timeout<5.0,>=4.0.0a3 in /usr/local/lib/python3.9/dist-packages (from aiohttp->datasets) (4.0.2)\n",
            "Requirement already satisfied: charset-normalizer<4.0,>=2.0 in /usr/local/lib/python3.9/dist-packages (from aiohttp->datasets) (2.0.12)\n",
            "Requirement already satisfied: filelock in /usr/local/lib/python3.9/dist-packages (from huggingface-hub<1.0.0,>=0.2.0->datasets) (3.10.1)\n",
            "Requirement already satisfied: typing-extensions>=3.7.4.3 in /usr/local/lib/python3.9/dist-packages (from huggingface-hub<1.0.0,>=0.2.0->datasets) (4.5.0)\n",
            "Requirement already satisfied: urllib3<1.27,>=1.21.1 in /usr/local/lib/python3.9/dist-packages (from requests>=2.19.0->datasets) (1.26.15)\n",
            "Requirement already satisfied: certifi>=2017.4.17 in /usr/local/lib/python3.9/dist-packages (from requests>=2.19.0->datasets) (2022.12.7)\n",
            "Requirement already satisfied: idna<4,>=2.5 in /usr/local/lib/python3.9/dist-packages (from requests>=2.19.0->datasets) (3.4)\n",
            "Requirement already satisfied: pytz>=2020.1 in /usr/local/lib/python3.9/dist-packages (from pandas->datasets) (2022.7.1)\n",
            "Requirement already satisfied: python-dateutil>=2.8.1 in /usr/local/lib/python3.9/dist-packages (from pandas->datasets) (2.8.2)\n",
            "Requirement already satisfied: six>=1.5 in /usr/local/lib/python3.9/dist-packages (from python-dateutil>=2.8.1->pandas->datasets) (1.16.0)\n",
            "Installing collected packages: multiprocess, responses, datasets\n",
            "Successfully installed datasets-2.10.1 multiprocess-0.70.14 responses-0.18.0\n"
          ]
        }
      ]
    },
    {
      "cell_type": "code",
      "source": [
        "!pip install rouge_score rouge_score"
      ],
      "metadata": {
        "colab": {
          "base_uri": "https://localhost:8080/"
        },
        "id": "5ZWUkHJRjFo9",
        "outputId": "0c5e687c-5fd9-4932-e55e-29b1559b9416"
      },
      "execution_count": 5,
      "outputs": [
        {
          "output_type": "stream",
          "name": "stdout",
          "text": [
            "Looking in indexes: https://pypi.org/simple, https://us-python.pkg.dev/colab-wheels/public/simple/\n",
            "Collecting rouge_score\n",
            "  Downloading rouge_score-0.1.2.tar.gz (17 kB)\n",
            "  Preparing metadata (setup.py) ... \u001b[?25l\u001b[?25hdone\n",
            "Requirement already satisfied: absl-py in /usr/local/lib/python3.9/dist-packages (from rouge_score) (1.4.0)\n",
            "Requirement already satisfied: nltk in /usr/local/lib/python3.9/dist-packages (from rouge_score) (3.8.1)\n",
            "Requirement already satisfied: numpy in /usr/local/lib/python3.9/dist-packages (from rouge_score) (1.22.4)\n",
            "Requirement already satisfied: six>=1.14.0 in /usr/local/lib/python3.9/dist-packages (from rouge_score) (1.16.0)\n",
            "Requirement already satisfied: joblib in /usr/local/lib/python3.9/dist-packages (from nltk->rouge_score) (1.1.1)\n",
            "Requirement already satisfied: regex>=2021.8.3 in /usr/local/lib/python3.9/dist-packages (from nltk->rouge_score) (2022.10.31)\n",
            "Requirement already satisfied: tqdm in /usr/local/lib/python3.9/dist-packages (from nltk->rouge_score) (4.65.0)\n",
            "Requirement already satisfied: click in /usr/local/lib/python3.9/dist-packages (from nltk->rouge_score) (8.1.3)\n",
            "Building wheels for collected packages: rouge_score\n",
            "  Building wheel for rouge_score (setup.py) ... \u001b[?25l\u001b[?25hdone\n",
            "  Created wheel for rouge_score: filename=rouge_score-0.1.2-py3-none-any.whl size=24954 sha256=d27fee3970bf597830f549ddbdc1cd8ae62cd5e34df7d76ce18afd8be231a5a9\n",
            "  Stored in directory: /root/.cache/pip/wheels/9b/3d/39/09558097d3119ca0a4d462df68f22c6f3c1b345ac63a09b86e\n",
            "Successfully built rouge_score\n",
            "Installing collected packages: rouge_score\n",
            "Successfully installed rouge_score-0.1.2\n"
          ]
        }
      ]
    },
    {
      "cell_type": "code",
      "source": [
        "!pip install nltk"
      ],
      "metadata": {
        "colab": {
          "base_uri": "https://localhost:8080/"
        },
        "id": "ACYQkYFVkF3q",
        "outputId": "d7ab5d3c-47ae-4f98-e041-8bbcd12dcf69"
      },
      "execution_count": 6,
      "outputs": [
        {
          "output_type": "stream",
          "name": "stdout",
          "text": [
            "Looking in indexes: https://pypi.org/simple, https://us-python.pkg.dev/colab-wheels/public/simple/\n",
            "Requirement already satisfied: nltk in /usr/local/lib/python3.9/dist-packages (3.8.1)\n",
            "Requirement already satisfied: tqdm in /usr/local/lib/python3.9/dist-packages (from nltk) (4.65.0)\n",
            "Requirement already satisfied: click in /usr/local/lib/python3.9/dist-packages (from nltk) (8.1.3)\n",
            "Requirement already satisfied: regex>=2021.8.3 in /usr/local/lib/python3.9/dist-packages (from nltk) (2022.10.31)\n",
            "Requirement already satisfied: joblib in /usr/local/lib/python3.9/dist-packages (from nltk) (1.1.1)\n"
          ]
        }
      ]
    },
    {
      "cell_type": "code",
      "source": [
        "!pip install wandb"
      ],
      "metadata": {
        "colab": {
          "base_uri": "https://localhost:8080/"
        },
        "id": "J4XN99fEoqi9",
        "outputId": "40758b43-b002-4a76-8bb2-96ba32175733"
      },
      "execution_count": 7,
      "outputs": [
        {
          "output_type": "stream",
          "name": "stdout",
          "text": [
            "Looking in indexes: https://pypi.org/simple, https://us-python.pkg.dev/colab-wheels/public/simple/\n",
            "Collecting wandb\n",
            "  Downloading wandb-0.14.0-py3-none-any.whl (2.0 MB)\n",
            "\u001b[2K     \u001b[90m━━━━━━━━━━━━━━━━━━━━━━━━━━━━━━━━━━━━━━━━\u001b[0m \u001b[32m2.0/2.0 MB\u001b[0m \u001b[31m45.5 MB/s\u001b[0m eta \u001b[36m0:00:00\u001b[0m\n",
            "\u001b[?25hCollecting setproctitle\n",
            "  Downloading setproctitle-1.3.2-cp39-cp39-manylinux_2_5_x86_64.manylinux1_x86_64.manylinux_2_17_x86_64.manylinux2014_x86_64.whl (30 kB)\n",
            "Requirement already satisfied: Click!=8.0.0,>=7.0 in /usr/local/lib/python3.9/dist-packages (from wandb) (8.1.3)\n",
            "Collecting sentry-sdk>=1.0.0\n",
            "  Downloading sentry_sdk-1.17.0-py2.py3-none-any.whl (189 kB)\n",
            "\u001b[2K     \u001b[90m━━━━━━━━━━━━━━━━━━━━━━━━━━━━━━━━━━━━━━\u001b[0m \u001b[32m189.1/189.1 KB\u001b[0m \u001b[31m17.3 MB/s\u001b[0m eta \u001b[36m0:00:00\u001b[0m\n",
            "\u001b[?25hRequirement already satisfied: setuptools in /usr/local/lib/python3.9/dist-packages (from wandb) (67.6.0)\n",
            "Requirement already satisfied: appdirs>=1.4.3 in /usr/local/lib/python3.9/dist-packages (from wandb) (1.4.4)\n",
            "Requirement already satisfied: protobuf!=4.21.0,<5,>=3.15.0 in /usr/local/lib/python3.9/dist-packages (from wandb) (3.19.6)\n",
            "Requirement already satisfied: requests<3,>=2.0.0 in /usr/local/lib/python3.9/dist-packages (from wandb) (2.27.1)\n",
            "Collecting GitPython!=3.1.29,>=1.0.0\n",
            "  Downloading GitPython-3.1.31-py3-none-any.whl (184 kB)\n",
            "\u001b[2K     \u001b[90m━━━━━━━━━━━━━━━━━━━━━━━━━━━━━━━━━━━━━━\u001b[0m \u001b[32m184.3/184.3 KB\u001b[0m \u001b[31m19.7 MB/s\u001b[0m eta \u001b[36m0:00:00\u001b[0m\n",
            "\u001b[?25hCollecting docker-pycreds>=0.4.0\n",
            "  Downloading docker_pycreds-0.4.0-py2.py3-none-any.whl (9.0 kB)\n",
            "Collecting pathtools\n",
            "  Downloading pathtools-0.1.2.tar.gz (11 kB)\n",
            "  Preparing metadata (setup.py) ... \u001b[?25l\u001b[?25hdone\n",
            "Requirement already satisfied: PyYAML in /usr/local/lib/python3.9/dist-packages (from wandb) (6.0)\n",
            "Requirement already satisfied: typing-extensions in /usr/local/lib/python3.9/dist-packages (from wandb) (4.5.0)\n",
            "Requirement already satisfied: psutil>=5.0.0 in /usr/local/lib/python3.9/dist-packages (from wandb) (5.9.4)\n",
            "Requirement already satisfied: six>=1.4.0 in /usr/local/lib/python3.9/dist-packages (from docker-pycreds>=0.4.0->wandb) (1.16.0)\n",
            "Collecting gitdb<5,>=4.0.1\n",
            "  Downloading gitdb-4.0.10-py3-none-any.whl (62 kB)\n",
            "\u001b[2K     \u001b[90m━━━━━━━━━━━━━━━━━━━━━━━━━━━━━━━━━━━━━━━━\u001b[0m \u001b[32m62.7/62.7 KB\u001b[0m \u001b[31m6.5 MB/s\u001b[0m eta \u001b[36m0:00:00\u001b[0m\n",
            "\u001b[?25hRequirement already satisfied: certifi>=2017.4.17 in /usr/local/lib/python3.9/dist-packages (from requests<3,>=2.0.0->wandb) (2022.12.7)\n",
            "Requirement already satisfied: urllib3<1.27,>=1.21.1 in /usr/local/lib/python3.9/dist-packages (from requests<3,>=2.0.0->wandb) (1.26.15)\n",
            "Requirement already satisfied: charset-normalizer~=2.0.0 in /usr/local/lib/python3.9/dist-packages (from requests<3,>=2.0.0->wandb) (2.0.12)\n",
            "Requirement already satisfied: idna<4,>=2.5 in /usr/local/lib/python3.9/dist-packages (from requests<3,>=2.0.0->wandb) (3.4)\n",
            "Collecting smmap<6,>=3.0.1\n",
            "  Downloading smmap-5.0.0-py3-none-any.whl (24 kB)\n",
            "Building wheels for collected packages: pathtools\n",
            "  Building wheel for pathtools (setup.py) ... \u001b[?25l\u001b[?25hdone\n",
            "  Created wheel for pathtools: filename=pathtools-0.1.2-py3-none-any.whl size=8807 sha256=addee62b5e4f795e269f45a78e69676f557fbe9f1a6c159fac70e4bfb135dcc8\n",
            "  Stored in directory: /root/.cache/pip/wheels/b7/0a/67/ada2a22079218c75a88361c0782855cc72aebc4d18d0289d05\n",
            "Successfully built pathtools\n",
            "Installing collected packages: pathtools, smmap, setproctitle, sentry-sdk, docker-pycreds, gitdb, GitPython, wandb\n",
            "Successfully installed GitPython-3.1.31 docker-pycreds-0.4.0 gitdb-4.0.10 pathtools-0.1.2 sentry-sdk-1.17.0 setproctitle-1.3.2 smmap-5.0.0 wandb-0.14.0\n"
          ]
        }
      ]
    },
    {
      "cell_type": "code",
      "source": [
        "!pip install transformers==3.4.0\n",
        "!pip install simpletransformers==0.49.7\n",
        "!pip install sentencepiece==0.1.94"
      ],
      "metadata": {
        "colab": {
          "base_uri": "https://localhost:8080/"
        },
        "id": "jLXfxCEy2Gd0",
        "outputId": "64b0f9b6-2a63-4657-9c59-c43bc11cec5e"
      },
      "execution_count": 8,
      "outputs": [
        {
          "output_type": "stream",
          "name": "stdout",
          "text": [
            "Looking in indexes: https://pypi.org/simple, https://us-python.pkg.dev/colab-wheels/public/simple/\n",
            "Collecting transformers==3.4.0\n",
            "  Downloading transformers-3.4.0-py3-none-any.whl (1.3 MB)\n",
            "\u001b[2K     \u001b[90m━━━━━━━━━━━━━━━━━━━━━━━━━━━━━━━━━━━━━━━━\u001b[0m \u001b[32m1.3/1.3 MB\u001b[0m \u001b[31m43.7 MB/s\u001b[0m eta \u001b[36m0:00:00\u001b[0m\n",
            "\u001b[?25hCollecting tokenizers==0.9.2\n",
            "  Downloading tokenizers-0.9.2.tar.gz (170 kB)\n",
            "\u001b[2K     \u001b[90m━━━━━━━━━━━━━━━━━━━━━━━━━━━━━━━━━━━━━━\u001b[0m \u001b[32m170.8/170.8 KB\u001b[0m \u001b[31m14.9 MB/s\u001b[0m eta \u001b[36m0:00:00\u001b[0m\n",
            "\u001b[?25h  Installing build dependencies ... \u001b[?25l\u001b[?25hdone\n",
            "  Getting requirements to build wheel ... \u001b[?25l\u001b[?25hdone\n",
            "  Preparing metadata (pyproject.toml) ... \u001b[?25l\u001b[?25hdone\n",
            "Requirement already satisfied: filelock in /usr/local/lib/python3.9/dist-packages (from transformers==3.4.0) (3.10.1)\n",
            "Requirement already satisfied: tqdm>=4.27 in /usr/local/lib/python3.9/dist-packages (from transformers==3.4.0) (4.65.0)\n",
            "Requirement already satisfied: protobuf in /usr/local/lib/python3.9/dist-packages (from transformers==3.4.0) (3.19.6)\n",
            "Requirement already satisfied: sentencepiece!=0.1.92 in /usr/local/lib/python3.9/dist-packages (from transformers==3.4.0) (0.1.97)\n",
            "Requirement already satisfied: packaging in /usr/local/lib/python3.9/dist-packages (from transformers==3.4.0) (23.0)\n",
            "Requirement already satisfied: requests in /usr/local/lib/python3.9/dist-packages (from transformers==3.4.0) (2.27.1)\n",
            "Requirement already satisfied: numpy in /usr/local/lib/python3.9/dist-packages (from transformers==3.4.0) (1.22.4)\n",
            "Requirement already satisfied: regex!=2019.12.17 in /usr/local/lib/python3.9/dist-packages (from transformers==3.4.0) (2022.10.31)\n",
            "Collecting sacremoses\n",
            "  Downloading sacremoses-0.0.53.tar.gz (880 kB)\n",
            "\u001b[2K     \u001b[90m━━━━━━━━━━━━━━━━━━━━━━━━━━━━━━━━━━━━━━\u001b[0m \u001b[32m880.6/880.6 KB\u001b[0m \u001b[31m28.8 MB/s\u001b[0m eta \u001b[36m0:00:00\u001b[0m\n",
            "\u001b[?25h  Preparing metadata (setup.py) ... \u001b[?25l\u001b[?25hdone\n",
            "Requirement already satisfied: idna<4,>=2.5 in /usr/local/lib/python3.9/dist-packages (from requests->transformers==3.4.0) (3.4)\n",
            "Requirement already satisfied: urllib3<1.27,>=1.21.1 in /usr/local/lib/python3.9/dist-packages (from requests->transformers==3.4.0) (1.26.15)\n",
            "Requirement already satisfied: certifi>=2017.4.17 in /usr/local/lib/python3.9/dist-packages (from requests->transformers==3.4.0) (2022.12.7)\n",
            "Requirement already satisfied: charset-normalizer~=2.0.0 in /usr/local/lib/python3.9/dist-packages (from requests->transformers==3.4.0) (2.0.12)\n",
            "Requirement already satisfied: six in /usr/local/lib/python3.9/dist-packages (from sacremoses->transformers==3.4.0) (1.16.0)\n",
            "Requirement already satisfied: click in /usr/local/lib/python3.9/dist-packages (from sacremoses->transformers==3.4.0) (8.1.3)\n",
            "Requirement already satisfied: joblib in /usr/local/lib/python3.9/dist-packages (from sacremoses->transformers==3.4.0) (1.1.1)\n",
            "Building wheels for collected packages: tokenizers, sacremoses\n",
            "  \u001b[1;31merror\u001b[0m: \u001b[1msubprocess-exited-with-error\u001b[0m\n",
            "  \n",
            "  \u001b[31m×\u001b[0m \u001b[32mBuilding wheel for tokenizers \u001b[0m\u001b[1;32m(\u001b[0m\u001b[32mpyproject.toml\u001b[0m\u001b[1;32m)\u001b[0m did not run successfully.\n",
            "  \u001b[31m│\u001b[0m exit code: \u001b[1;36m1\u001b[0m\n",
            "  \u001b[31m╰─>\u001b[0m See above for output.\n",
            "  \n",
            "  \u001b[1;35mnote\u001b[0m: This error originates from a subprocess, and is likely not a problem with pip.\n",
            "  Building wheel for tokenizers (pyproject.toml) ... \u001b[?25l\u001b[?25herror\n",
            "\u001b[31m  ERROR: Failed building wheel for tokenizers\u001b[0m\u001b[31m\n",
            "\u001b[0m  Building wheel for sacremoses (setup.py) ... \u001b[?25l\u001b[?25hdone\n",
            "  Created wheel for sacremoses: filename=sacremoses-0.0.53-py3-none-any.whl size=895259 sha256=1e183f41325451efc9a5bee7f77dcc1a10e090f41c608d3ac9ad569fd1e34a37\n",
            "  Stored in directory: /root/.cache/pip/wheels/12/1c/3d/46cf06718d63a32ff798a89594b61e7f345ab6b36d909ce033\n",
            "Successfully built sacremoses\n",
            "Failed to build tokenizers\n",
            "\u001b[31mERROR: Could not build wheels for tokenizers, which is required to install pyproject.toml-based projects\u001b[0m\u001b[31m\n",
            "\u001b[0mLooking in indexes: https://pypi.org/simple, https://us-python.pkg.dev/colab-wheels/public/simple/\n",
            "Collecting simpletransformers==0.49.7\n",
            "  Downloading simpletransformers-0.49.7-py3-none-any.whl (219 kB)\n",
            "\u001b[2K     \u001b[90m━━━━━━━━━━━━━━━━━━━━━━━━━━━━━━━━━━━━━━\u001b[0m \u001b[32m219.9/219.9 KB\u001b[0m \u001b[31m12.2 MB/s\u001b[0m eta \u001b[36m0:00:00\u001b[0m\n",
            "\u001b[?25hRequirement already satisfied: tqdm>=4.47.0 in /usr/local/lib/python3.9/dist-packages (from simpletransformers==0.49.7) (4.65.0)\n",
            "Requirement already satisfied: tokenizers in /usr/local/lib/python3.9/dist-packages (from simpletransformers==0.49.7) (0.13.2)\n",
            "Requirement already satisfied: requests in /usr/local/lib/python3.9/dist-packages (from simpletransformers==0.49.7) (2.27.1)\n",
            "Requirement already satisfied: scikit-learn in /usr/local/lib/python3.9/dist-packages (from simpletransformers==0.49.7) (1.2.2)\n",
            "Requirement already satisfied: pandas in /usr/local/lib/python3.9/dist-packages (from simpletransformers==0.49.7) (1.4.4)\n",
            "Collecting streamlit\n",
            "  Downloading streamlit-1.20.0-py2.py3-none-any.whl (9.6 MB)\n",
            "\u001b[2K     \u001b[90m━━━━━━━━━━━━━━━━━━━━━━━━━━━━━━━━━━━━━━━━\u001b[0m \u001b[32m9.6/9.6 MB\u001b[0m \u001b[31m41.2 MB/s\u001b[0m eta \u001b[36m0:00:00\u001b[0m\n",
            "\u001b[?25hRequirement already satisfied: regex in /usr/local/lib/python3.9/dist-packages (from simpletransformers==0.49.7) (2022.10.31)\n",
            "Requirement already satisfied: numpy in /usr/local/lib/python3.9/dist-packages (from simpletransformers==0.49.7) (1.22.4)\n",
            "Requirement already satisfied: transformers>=3.0.2 in /usr/local/lib/python3.9/dist-packages (from simpletransformers==0.49.7) (4.27.3)\n",
            "Requirement already satisfied: scipy in /usr/local/lib/python3.9/dist-packages (from simpletransformers==0.49.7) (1.10.1)\n",
            "Requirement already satisfied: wandb in /usr/local/lib/python3.9/dist-packages (from simpletransformers==0.49.7) (0.14.0)\n",
            "Collecting seqeval\n",
            "  Downloading seqeval-1.2.2.tar.gz (43 kB)\n",
            "\u001b[2K     \u001b[90m━━━━━━━━━━━━━━━━━━━━━━━━━━━━━━━━━━━━━━━━\u001b[0m \u001b[32m43.6/43.6 KB\u001b[0m \u001b[31m4.0 MB/s\u001b[0m eta \u001b[36m0:00:00\u001b[0m\n",
            "\u001b[?25h  Preparing metadata (setup.py) ... \u001b[?25l\u001b[?25hdone\n",
            "Collecting tensorboardx\n",
            "  Downloading tensorboardX-2.6-py2.py3-none-any.whl (114 kB)\n",
            "\u001b[2K     \u001b[90m━━━━━━━━━━━━━━━━━━━━━━━━━━━━━━━━━━━━━━\u001b[0m \u001b[32m114.5/114.5 KB\u001b[0m \u001b[31m10.0 MB/s\u001b[0m eta \u001b[36m0:00:00\u001b[0m\n",
            "\u001b[?25hRequirement already satisfied: filelock in /usr/local/lib/python3.9/dist-packages (from transformers>=3.0.2->simpletransformers==0.49.7) (3.10.1)\n",
            "Requirement already satisfied: pyyaml>=5.1 in /usr/local/lib/python3.9/dist-packages (from transformers>=3.0.2->simpletransformers==0.49.7) (6.0)\n",
            "Requirement already satisfied: huggingface-hub<1.0,>=0.11.0 in /usr/local/lib/python3.9/dist-packages (from transformers>=3.0.2->simpletransformers==0.49.7) (0.13.3)\n",
            "Requirement already satisfied: packaging>=20.0 in /usr/local/lib/python3.9/dist-packages (from transformers>=3.0.2->simpletransformers==0.49.7) (23.0)\n",
            "Requirement already satisfied: python-dateutil>=2.8.1 in /usr/local/lib/python3.9/dist-packages (from pandas->simpletransformers==0.49.7) (2.8.2)\n",
            "Requirement already satisfied: pytz>=2020.1 in /usr/local/lib/python3.9/dist-packages (from pandas->simpletransformers==0.49.7) (2022.7.1)\n",
            "Requirement already satisfied: certifi>=2017.4.17 in /usr/local/lib/python3.9/dist-packages (from requests->simpletransformers==0.49.7) (2022.12.7)\n",
            "Requirement already satisfied: charset-normalizer~=2.0.0 in /usr/local/lib/python3.9/dist-packages (from requests->simpletransformers==0.49.7) (2.0.12)\n",
            "Requirement already satisfied: urllib3<1.27,>=1.21.1 in /usr/local/lib/python3.9/dist-packages (from requests->simpletransformers==0.49.7) (1.26.15)\n",
            "Requirement already satisfied: idna<4,>=2.5 in /usr/local/lib/python3.9/dist-packages (from requests->simpletransformers==0.49.7) (3.4)\n",
            "Requirement already satisfied: threadpoolctl>=2.0.0 in /usr/local/lib/python3.9/dist-packages (from scikit-learn->simpletransformers==0.49.7) (3.1.0)\n",
            "Requirement already satisfied: joblib>=1.1.1 in /usr/local/lib/python3.9/dist-packages (from scikit-learn->simpletransformers==0.49.7) (1.1.1)\n",
            "Collecting pympler>=0.9\n",
            "  Downloading Pympler-1.0.1-py3-none-any.whl (164 kB)\n",
            "\u001b[2K     \u001b[90m━━━━━━━━━━━━━━━━━━━━━━━━━━━━━━━━━━━━━━\u001b[0m \u001b[32m164.8/164.8 KB\u001b[0m \u001b[31m17.9 MB/s\u001b[0m eta \u001b[36m0:00:00\u001b[0m\n",
            "\u001b[?25hCollecting validators>=0.2\n",
            "  Downloading validators-0.20.0.tar.gz (30 kB)\n",
            "  Preparing metadata (setup.py) ... \u001b[?25l\u001b[?25hdone\n",
            "Requirement already satisfied: tornado>=6.0.3 in /usr/local/lib/python3.9/dist-packages (from streamlit->simpletransformers==0.49.7) (6.2)\n",
            "Requirement already satisfied: importlib-metadata>=1.4 in /usr/local/lib/python3.9/dist-packages (from streamlit->simpletransformers==0.49.7) (6.1.0)\n",
            "Collecting blinker>=1.0.0\n",
            "  Downloading blinker-1.5-py2.py3-none-any.whl (12 kB)\n",
            "Requirement already satisfied: toml in /usr/local/lib/python3.9/dist-packages (from streamlit->simpletransformers==0.49.7) (0.10.2)\n",
            "Collecting watchdog\n",
            "  Downloading watchdog-3.0.0-py3-none-manylinux2014_x86_64.whl (82 kB)\n",
            "\u001b[2K     \u001b[90m━━━━━━━━━━━━━━━━━━━━━━━━━━━━━━━━━━━━━━━━\u001b[0m \u001b[32m82.1/82.1 KB\u001b[0m \u001b[31m10.1 MB/s\u001b[0m eta \u001b[36m0:00:00\u001b[0m\n",
            "\u001b[?25hRequirement already satisfied: pyarrow>=4.0 in /usr/local/lib/python3.9/dist-packages (from streamlit->simpletransformers==0.49.7) (9.0.0)\n",
            "Requirement already satisfied: cachetools>=4.0 in /usr/local/lib/python3.9/dist-packages (from streamlit->simpletransformers==0.49.7) (5.3.0)\n",
            "Requirement already satisfied: tzlocal>=1.1 in /usr/local/lib/python3.9/dist-packages (from streamlit->simpletransformers==0.49.7) (4.3)\n",
            "Requirement already satisfied: altair<5,>=3.2.0 in /usr/local/lib/python3.9/dist-packages (from streamlit->simpletransformers==0.49.7) (4.2.2)\n",
            "Collecting semver\n",
            "  Downloading semver-2.13.0-py2.py3-none-any.whl (12 kB)\n",
            "Requirement already satisfied: pillow>=6.2.0 in /usr/local/lib/python3.9/dist-packages (from streamlit->simpletransformers==0.49.7) (8.4.0)\n",
            "Requirement already satisfied: typing-extensions>=3.10.0.0 in /usr/local/lib/python3.9/dist-packages (from streamlit->simpletransformers==0.49.7) (4.5.0)\n",
            "Requirement already satisfied: gitpython!=3.1.19 in /usr/local/lib/python3.9/dist-packages (from streamlit->simpletransformers==0.49.7) (3.1.31)\n",
            "Collecting pydeck>=0.1.dev5\n",
            "  Downloading pydeck-0.8.0-py2.py3-none-any.whl (4.7 MB)\n",
            "\u001b[2K     \u001b[90m━━━━━━━━━━━━━━━━━━━━━━━━━━━━━━━━━━━━━━━━\u001b[0m \u001b[32m4.7/4.7 MB\u001b[0m \u001b[31m89.7 MB/s\u001b[0m eta \u001b[36m0:00:00\u001b[0m\n",
            "\u001b[?25hRequirement already satisfied: rich>=10.11.0 in /usr/local/lib/python3.9/dist-packages (from streamlit->simpletransformers==0.49.7) (13.3.2)\n",
            "Requirement already satisfied: click>=7.0 in /usr/local/lib/python3.9/dist-packages (from streamlit->simpletransformers==0.49.7) (8.1.3)\n",
            "Requirement already satisfied: protobuf<4,>=3.12 in /usr/local/lib/python3.9/dist-packages (from streamlit->simpletransformers==0.49.7) (3.19.6)\n",
            "Requirement already satisfied: sentry-sdk>=1.0.0 in /usr/local/lib/python3.9/dist-packages (from wandb->simpletransformers==0.49.7) (1.17.0)\n",
            "Requirement already satisfied: setproctitle in /usr/local/lib/python3.9/dist-packages (from wandb->simpletransformers==0.49.7) (1.3.2)\n",
            "Requirement already satisfied: psutil>=5.0.0 in /usr/local/lib/python3.9/dist-packages (from wandb->simpletransformers==0.49.7) (5.9.4)\n",
            "Requirement already satisfied: docker-pycreds>=0.4.0 in /usr/local/lib/python3.9/dist-packages (from wandb->simpletransformers==0.49.7) (0.4.0)\n",
            "Requirement already satisfied: appdirs>=1.4.3 in /usr/local/lib/python3.9/dist-packages (from wandb->simpletransformers==0.49.7) (1.4.4)\n",
            "Requirement already satisfied: setuptools in /usr/local/lib/python3.9/dist-packages (from wandb->simpletransformers==0.49.7) (67.6.0)\n",
            "Requirement already satisfied: pathtools in /usr/local/lib/python3.9/dist-packages (from wandb->simpletransformers==0.49.7) (0.1.2)\n",
            "Requirement already satisfied: entrypoints in /usr/local/lib/python3.9/dist-packages (from altair<5,>=3.2.0->streamlit->simpletransformers==0.49.7) (0.4)\n",
            "Requirement already satisfied: jinja2 in /usr/local/lib/python3.9/dist-packages (from altair<5,>=3.2.0->streamlit->simpletransformers==0.49.7) (3.1.2)\n",
            "Requirement already satisfied: toolz in /usr/local/lib/python3.9/dist-packages (from altair<5,>=3.2.0->streamlit->simpletransformers==0.49.7) (0.12.0)\n",
            "Requirement already satisfied: jsonschema>=3.0 in /usr/local/lib/python3.9/dist-packages (from altair<5,>=3.2.0->streamlit->simpletransformers==0.49.7) (4.3.3)\n",
            "Requirement already satisfied: six>=1.4.0 in /usr/local/lib/python3.9/dist-packages (from docker-pycreds>=0.4.0->wandb->simpletransformers==0.49.7) (1.16.0)\n",
            "Requirement already satisfied: gitdb<5,>=4.0.1 in /usr/local/lib/python3.9/dist-packages (from gitpython!=3.1.19->streamlit->simpletransformers==0.49.7) (4.0.10)\n",
            "Requirement already satisfied: zipp>=0.5 in /usr/local/lib/python3.9/dist-packages (from importlib-metadata>=1.4->streamlit->simpletransformers==0.49.7) (3.15.0)\n",
            "Requirement already satisfied: markdown-it-py<3.0.0,>=2.2.0 in /usr/local/lib/python3.9/dist-packages (from rich>=10.11.0->streamlit->simpletransformers==0.49.7) (2.2.0)\n",
            "Requirement already satisfied: pygments<3.0.0,>=2.13.0 in /usr/local/lib/python3.9/dist-packages (from rich>=10.11.0->streamlit->simpletransformers==0.49.7) (2.14.0)\n",
            "Requirement already satisfied: pytz-deprecation-shim in /usr/local/lib/python3.9/dist-packages (from tzlocal>=1.1->streamlit->simpletransformers==0.49.7) (0.1.0.post0)\n",
            "Requirement already satisfied: decorator>=3.4.0 in /usr/local/lib/python3.9/dist-packages (from validators>=0.2->streamlit->simpletransformers==0.49.7) (4.4.2)\n",
            "Requirement already satisfied: smmap<6,>=3.0.1 in /usr/local/lib/python3.9/dist-packages (from gitdb<5,>=4.0.1->gitpython!=3.1.19->streamlit->simpletransformers==0.49.7) (5.0.0)\n",
            "Requirement already satisfied: MarkupSafe>=2.0 in /usr/local/lib/python3.9/dist-packages (from jinja2->altair<5,>=3.2.0->streamlit->simpletransformers==0.49.7) (2.1.2)\n",
            "Requirement already satisfied: attrs>=17.4.0 in /usr/local/lib/python3.9/dist-packages (from jsonschema>=3.0->altair<5,>=3.2.0->streamlit->simpletransformers==0.49.7) (22.2.0)\n",
            "Requirement already satisfied: pyrsistent!=0.17.0,!=0.17.1,!=0.17.2,>=0.14.0 in /usr/local/lib/python3.9/dist-packages (from jsonschema>=3.0->altair<5,>=3.2.0->streamlit->simpletransformers==0.49.7) (0.19.3)\n",
            "Requirement already satisfied: mdurl~=0.1 in /usr/local/lib/python3.9/dist-packages (from markdown-it-py<3.0.0,>=2.2.0->rich>=10.11.0->streamlit->simpletransformers==0.49.7) (0.1.2)\n",
            "Requirement already satisfied: tzdata in /usr/local/lib/python3.9/dist-packages (from pytz-deprecation-shim->tzlocal>=1.1->streamlit->simpletransformers==0.49.7) (2022.7)\n",
            "Building wheels for collected packages: seqeval, validators\n",
            "  Building wheel for seqeval (setup.py) ... \u001b[?25l\u001b[?25hdone\n",
            "  Created wheel for seqeval: filename=seqeval-1.2.2-py3-none-any.whl size=16180 sha256=09508e753a5485bed367a9ae1dd1c7c324b8ee6b394e41718b372306ebe2dd25\n",
            "  Stored in directory: /root/.cache/pip/wheels/e2/a5/92/2c80d1928733611c2747a9820e1324a6835524d9411510c142\n",
            "  Building wheel for validators (setup.py) ... \u001b[?25l\u001b[?25hdone\n",
            "  Created wheel for validators: filename=validators-0.20.0-py3-none-any.whl size=19579 sha256=a83c1818d5865d46dba15f86da016336b35074de111f584c7284bf50eaded42a\n",
            "  Stored in directory: /root/.cache/pip/wheels/2d/f0/a8/1094fca7a7e5d0d12ff56e0c64675d72aa5cc81a5fc200e849\n",
            "Successfully built seqeval validators\n",
            "Installing collected packages: watchdog, validators, tensorboardx, semver, pympler, blinker, pydeck, seqeval, streamlit, simpletransformers\n",
            "Successfully installed blinker-1.5 pydeck-0.8.0 pympler-1.0.1 semver-2.13.0 seqeval-1.2.2 simpletransformers-0.49.7 streamlit-1.20.0 tensorboardx-2.6 validators-0.20.0 watchdog-3.0.0\n",
            "Looking in indexes: https://pypi.org/simple, https://us-python.pkg.dev/colab-wheels/public/simple/\n",
            "Collecting sentencepiece==0.1.94\n",
            "  Downloading sentencepiece-0.1.94-cp39-cp39-manylinux2014_x86_64.whl (1.1 MB)\n",
            "\u001b[2K     \u001b[90m━━━━━━━━━━━━━━━━━━━━━━━━━━━━━━━━━━━━━━━━\u001b[0m \u001b[32m1.1/1.1 MB\u001b[0m \u001b[31m5.7 MB/s\u001b[0m eta \u001b[36m0:00:00\u001b[0m\n",
            "\u001b[?25hInstalling collected packages: sentencepiece\n",
            "  Attempting uninstall: sentencepiece\n",
            "    Found existing installation: sentencepiece 0.1.97\n",
            "    Uninstalling sentencepiece-0.1.97:\n",
            "      Successfully uninstalled sentencepiece-0.1.97\n",
            "Successfully installed sentencepiece-0.1.94\n"
          ]
        }
      ]
    },
    {
      "cell_type": "code",
      "source": [
        "import argparse\n",
        "import glob\n",
        "import os\n",
        "import json\n",
        "import time\n",
        "import logging\n",
        "import random\n",
        "import re\n",
        "from itertools import chain\n",
        "from string import punctuation\n",
        "\n",
        "import nltk\n",
        "nltk.download('punkt')\n",
        "from nltk.tokenize import sent_tokenize\n",
        "\n",
        "import pandas as pd\n",
        "import numpy as np\n",
        "import torch\n",
        "import pytorch_lightning as pl\n",
        "from torch.utils.data import Dataset, DataLoader\n",
        "from pytorch_lightning.loggers import WandbLogger\n",
        "from nlp import load_metric\n",
        "\n",
        "from transformers import (\n",
        "    AdamW,\n",
        "    T5ForConditionalGeneration,\n",
        "    T5Tokenizer,\n",
        "    get_linear_schedule_with_warmup\n",
        ")"
      ],
      "metadata": {
        "colab": {
          "base_uri": "https://localhost:8080/"
        },
        "id": "ZOmG-ooIVJo4",
        "outputId": "4afd0c81-c191-4e0b-be5e-be786ce23c5c"
      },
      "execution_count": 9,
      "outputs": [
        {
          "output_type": "stream",
          "name": "stderr",
          "text": [
            "[nltk_data] Downloading package punkt to /root/nltk_data...\n",
            "[nltk_data]   Unzipping tokenizers/punkt.zip.\n"
          ]
        }
      ]
    },
    {
      "cell_type": "markdown",
      "metadata": {
        "id": "nhB3sErVStWT"
      },
      "source": [
        "### Set up WandB for your project"
      ]
    },
    {
      "cell_type": "code",
      "execution_count": 10,
      "metadata": {
        "id": "-CcfSFz-StWV",
        "colab": {
          "base_uri": "https://localhost:8080/"
        },
        "outputId": "93acc4fa-1e98-4210-8ede-b40c74e5ab11"
      },
      "outputs": [
        {
          "output_type": "stream",
          "name": "stdout",
          "text": [
            "\u001b[34m\u001b[1mwandb\u001b[0m: Logging into wandb.ai. (Learn how to deploy a W&B server locally: https://wandb.me/wandb-server)\n",
            "\u001b[34m\u001b[1mwandb\u001b[0m: You can find your API key in your browser here: https://wandb.ai/authorize\n",
            "\u001b[34m\u001b[1mwandb\u001b[0m: Paste an API key from your profile and hit enter, or press ctrl+c to quit: \n",
            "\u001b[34m\u001b[1mwandb\u001b[0m: Appending key for api.wandb.ai to your netrc file: /root/.netrc\n"
          ]
        }
      ],
      "source": [
        "## Login to WandB and get your API Key\n",
        "!wandb login"
      ]
    },
    {
      "cell_type": "code",
      "execution_count": 11,
      "metadata": {
        "ExecuteTime": {
          "end_time": "2020-09-02T18:48:47.486121Z",
          "start_time": "2020-09-02T18:48:47.483336Z"
        },
        "id": "kzVSMcQeStWV",
        "colab": {
          "base_uri": "https://localhost:8080/",
          "height": 123
        },
        "outputId": "4d7d0285-df76-47af-dbc5-618d6176e819"
      },
      "outputs": [
        {
          "output_type": "stream",
          "name": "stderr",
          "text": [
            "\u001b[34m\u001b[1mwandb\u001b[0m: Currently logged in as: \u001b[33mmariya_goltsova\u001b[0m. Use \u001b[1m`wandb login --relogin`\u001b[0m to force relogin\n"
          ]
        },
        {
          "output_type": "display_data",
          "data": {
            "text/plain": [
              "<IPython.core.display.HTML object>"
            ],
            "text/html": [
              "Tracking run with wandb version 0.14.0"
            ]
          },
          "metadata": {}
        },
        {
          "output_type": "display_data",
          "data": {
            "text/plain": [
              "<IPython.core.display.HTML object>"
            ],
            "text/html": [
              "Run data is saved locally in <code>./wandb/run-20230325_131009-p3yl7dbn</code>"
            ]
          },
          "metadata": {}
        },
        {
          "output_type": "display_data",
          "data": {
            "text/plain": [
              "<IPython.core.display.HTML object>"
            ],
            "text/html": [
              "Syncing run <strong><a href='https://wandb.ai/mariya_goltsova/wikohow-t5/runs/p3yl7dbn' target=\"_blank\">dark-butterfly-33</a></strong> to <a href='https://wandb.ai/mariya_goltsova/wikohow-t5' target=\"_blank\">Weights & Biases</a> (<a href='https://wandb.me/run' target=\"_blank\">docs</a>)<br/>"
            ]
          },
          "metadata": {}
        },
        {
          "output_type": "display_data",
          "data": {
            "text/plain": [
              "<IPython.core.display.HTML object>"
            ],
            "text/html": [
              " View project at <a href='https://wandb.ai/mariya_goltsova/wikohow-t5' target=\"_blank\">https://wandb.ai/mariya_goltsova/wikohow-t5</a>"
            ]
          },
          "metadata": {}
        },
        {
          "output_type": "display_data",
          "data": {
            "text/plain": [
              "<IPython.core.display.HTML object>"
            ],
            "text/html": [
              " View run at <a href='https://wandb.ai/mariya_goltsova/wikohow-t5/runs/p3yl7dbn' target=\"_blank\">https://wandb.ai/mariya_goltsova/wikohow-t5/runs/p3yl7dbn</a>"
            ]
          },
          "metadata": {}
        }
      ],
      "source": [
        "\n",
        "## Paste your API key in the YOUR_API_KEY variable below\n",
        "import wandb\n",
        "YOUR_API_KEY = 'd08ca5f4bbe65830fbdb53434c84b55a0dc10bbd'\n",
        "os.environ[\"WANDB_API_KEY\"] = YOUR_API_KEY\n",
        "wandb_logger = WandbLogger(project='wikohow-t5')\n",
        "# wandb.init(project=\"transformers_tutorials_summarization\")"
      ]
    },
    {
      "cell_type": "markdown",
      "metadata": {
        "id": "Z4AEIrSIStWW"
      },
      "source": [
        "## Load Data using NLP Library"
      ]
    },
    {
      "cell_type": "code",
      "execution_count": 12,
      "metadata": {
        "ExecuteTime": {
          "end_time": "2020-09-02T18:48:47.865252Z",
          "start_time": "2020-09-02T18:48:47.487297Z"
        },
        "id": "wrlclMtwStWW",
        "outputId": "06f0c415-220b-4808-8f6f-33b03a018740",
        "colab": {
          "base_uri": "https://localhost:8080/"
        }
      },
      "outputs": [
        {
          "output_type": "stream",
          "name": "stdout",
          "text": [
            "acronym_identification, ade_corpus_v2, adversarial_qa, aeslc, afrikaans_ner_corpus, ag_news, ai2_arc, air_dialogue, ajgt_twitter_ar, allegro_reviews, allocine, alt, amazon_polarity, amazon_reviews_multi, amazon_us_reviews, ambig_qa, americas_nli, ami, amttl, anli, app_reviews, aqua_rat, aquamuse, ar_cov19, ar_res_reviews, ar_sarcasm, arabic_billion_words, arabic_pos_dialect, arabic_speech_corpus, arcd, arsentd_lev, art, arxiv_dataset, ascent_kb, aslg_pc12, asnq, asset, assin, assin2, atomic, autshumato, babi_qa, banking77, bbaw_egyptian, bbc_hindi_nli, bc2gm_corpus, beans, best2009, bianet, bible_para, big_patent, billsum, bing_coronavirus_query_set, biomrc, biosses, blbooks, blbooksgenre, blended_skill_talk, blimp, blog_authorship_corpus, bn_hate_speech, bnl_newspapers, bookcorpus, bookcorpusopen, boolq, bprec, break_data, brwac, bsd_ja_en, bswac, c3, c4, cail2018, caner, capes, casino, catalonia_independence, cats_vs_dogs, cawac, cbt, cc100, cc_news, ccaligned_multilingual, cdsc, cdt, cedr, cfq, chr_en, cifar10, cifar100, circa, civil_comments, clickbait_news_bg, climate_fever, clinc_oos, clue, cmrc2018, cmu_hinglish_dog, cnn_dailymail, coached_conv_pref, coarse_discourse, codah, code_search_net, code_x_glue_cc_clone_detection_big_clone_bench, code_x_glue_cc_clone_detection_poj104, code_x_glue_cc_cloze_testing_all, code_x_glue_cc_cloze_testing_maxmin, code_x_glue_cc_code_completion_line, code_x_glue_cc_code_completion_token, code_x_glue_cc_code_refinement, code_x_glue_cc_code_to_code_trans, code_x_glue_cc_defect_detection, code_x_glue_ct_code_to_text, code_x_glue_tc_nl_code_search_adv, code_x_glue_tc_text_to_code, code_x_glue_tt_text_to_text, com_qa, common_gen, common_language, common_voice, commonsense_qa, competition_math, compguesswhat, conceptnet5, conll2000, conll2002, conll2003, conllpp, consumer-finance-complaints, conv_ai, conv_ai_2, conv_ai_3, conv_questions, coqa, allenai/cord19, cornell_movie_dialog, cos_e, cosmos_qa, counter, covid_qa_castorini, covid_qa_deepset, covid_qa_ucsd, covid_tweets_japanese, covost2, cppe-5, craigslist_bargains, crawl_domain, crd3, crime_and_punish, crows_pairs, cryptonite, cs_restaurants, cuad, curiosity_dialogs, daily_dialog, dane, danish_political_comments, dart, datacommons_factcheck, dbpedia_14, dbrd, deal_or_no_dialog, definite_pronoun_resolution, dengue_filipino, dialog_re, diplomacy_detection, disaster_response_messages, discofuse, discovery, disfl_qa, doc2dial, docred, doqa, dream, drop, duorc, dutch_social, dyk, e2e_nlg, e2e_nlg_cleaned, ecb, ecthr_cases, eduge, ehealth_kd, eitb_parcc, electricity_load_diagrams, eli5, eli5_category, emea, emo, dair-ai/emotion, emotone_ar, empathetic_dialogues, enriched_web_nlg, eraser_multi_rc, esnli, eth_py150_open, ethos, eu_regulatory_ir, eurlex, euronews, europa_eac_tm, europa_ecdc_tm, europarl_bilingual, event2Mind, evidence_infer_treatment, exams, factckbr, fake_news_english, fake_news_filipino, farsi_news, fashion_mnist, fever, few_rel, financial_phrasebank, finer, flores, flue, food101, fquad, freebase_qa, gap, gem, generated_reviews_enth, generics_kb, german_legal_entity_recognition, germaner, germeval_14, giga_fren, gigaword, glucose, glue, gnad10, go_emotions, gooaq, google_wellformed_query, grail_qa, great_code, greek_legal_code, guardian_authorship, gutenberg_time, hans, hansards, hard, harem, has_part, hate_offensive, hate_speech18, hate_speech_filipino, hate_speech_offensive, hate_speech_pl, hate_speech_portuguese, hatexplain, hausa_voa_ner, hausa_voa_topics, hda_nli_hindi, head_qa, health_fact, hebrew_projectbenyehuda, hebrew_sentiment, hebrew_this_world, hellaswag, hendrycks_test, hind_encorp, hindi_discourse, hippocorpus, hkcancor, hlgd, hope_edi, hotpot_qa, hover, hrenwac_para, hrwac, humicroedit, hybrid_qa, hyperpartisan_news_detection, iapp_wiki_qa_squad, id_clickbait, id_liputan6, id_nergrit_corpus, id_newspapers_2018, id_panl_bppt, id_puisi, igbo_english_machine_translation, igbo_monolingual, igbo_ner, ilist, imdb, imdb_urdu_reviews, imppres, indic_glue, indonli, indonlp/indonlu, inquisitive_qg, interpress_news_category_tr, interpress_news_category_tr_lite, irc_disentangle, isixhosa_ner_corpus, isizulu_ner_corpus, iwslt2017, jeopardy, jfleg, jigsaw_toxicity_pred, jigsaw_unintended_bias, jnlpba, journalists_questions, kan_hope, kannada_news, kd_conv, kde4, kelm, kilt_tasks, kilt_wikipedia, kinnews_kirnews, klue, kor_3i4k, kor_hate, kor_ner, kor_nli, kor_nlu, kor_qpair, kor_sae, kor_sarcasm, labr, lama, lambada, large_spanish_corpus, laroseda, lc_quad, lener_br, lex_glue, liar, librispeech_asr, librispeech_lm, limit, lince, linnaeus, liveqa, lj_speech, lm1b, lst20, m_lama, mac_morpho, makhzan, masakhaner, math_dataset, math_qa, matinf, mbpp, mc4, mc_taco, md_gender_bias, mdd, med_hop, medal, medical_dialog, medical_questions_pairs, menyo20k_mt, meta_woz, metooma, metrec, miam, mkb, mkqa, mlqa, mlsum, mnist, mocha, moroco, movie_rationales, mrqa, ms_marco, ms_terms, msr_genomics_kbcomp, msr_sqa, msr_text_compression, msr_zhen_translation_parity, msra_ner, mt_eng_vietnamese, muchocine, multi_booked, multi_eurlex, multi_news, multi_nli, multi_nli_mismatch, multi_para_crawl, multi_re_qa, multi_woz_v22, multi_x_science_sum, multidoc2dial, multilingual_librispeech, mutual_friends, mwsc, myanmar_news, narrativeqa, narrativeqa_manual, natural_questions, ncbi_disease, nchlt, ncslgr, nell, neural_code_search, news_commentary, newsgroup, newsph, newsph_nli, newspop, newsqa, newsroom, nkjp-ner, nli_tr, nlu_evaluation_data, norec, norne, norwegian_ner, nq_open, nsmc, numer_sense, numeric_fused_head, oclar, offcombr, offenseval2020_tr, offenseval_dravidian, ofis_publik, ohsumed, ollie, omp, onestop_english, onestop_qa, open_subtitles, openai_humaneval, openbookqa, openslr, openwebtext, opinosis, opus100, opus_books, opus_dgt, opus_dogc, opus_elhuyar, opus_euconst, opus_finlex, opus_fiskmo, opus_gnome, opus_infopankki, opus_memat, opus_montenegrinsubs, opus_openoffice, opus_paracrawl, opus_rf, opus_tedtalks, opus_ubuntu, opus_wikipedia, opus_xhosanavy, orange_sum, oscar, para_crawl, para_pat, parsinlu_reading_comprehension, pass, paws-x, paws, pec, allenai/peer_read, peoples_daily_ner, per_sent, persian_ner, pg19, php, etalab-ia/piaf, pib, piqa, pn_summary, poem_sentiment, polemo2, poleval2019_cyberbullying, poleval2019_mt, polsum, polyglot_ner, prachathai67k, pragmeval, proto_qa, psc, ptb_text_only, pubmed, pubmed_qa, py_ast, qa4mre, qa_srl, qa_zre, qangaroo, qanta, qasc, allenai/qasper, qed, qed_amara, quac, quail, quarel, quartz, quora, quoref, race, re_dial, reasoning_bg, recipe_nlg, reclor, red_caps, reddit, reddit_tifu, refresd, reuters21578, riddle_sense, ro_sent, ro_sts, ro_sts_parallel, roman_urdu, ronec, ropes, rotten_tomatoes, russian_super_glue, allenai/s2orc, samsum, sanskrit_classic, saudinewsnet, sberquad, scan, scb_mt_enth_2020, scene_parse_150, schema_guided_dstc8, allenai/scicite, scielo, scientific_papers, allenai/scifact, sciq, scitail, allenai/scitldr, search_qa, sede, selqa, sem_eval_2010_task_8, sem_eval_2014_task_1, sem_eval_2018_task_1, sem_eval_2020_task_11, sent_comp, senti_lex, senti_ws, sentiment140, sepedi_ner, sesotho_ner_corpus, setimes, setswana_ner_corpus, sharc, sharc_modified, sick, silicone, simple_questions_v2, siswati_ner_corpus, smartdata, sms_spam, snips_built_in_intents, snli, snow_simplified_japanese_corpus, so_stacksample, social_bias_frames, social_i_qa, sofc_materials_articles, sogou_news, spanish_billion_words, spc, species_800, speech_commands, spider, squad, squad_adversarial, squad_es, squad_it, squad_kor_v1, squad_kor_v2, squad_v1_pt, squad_v2, squadshifts, srwac, sst, stereoset, story_cloze, stsb_mt_sv, stsb_multi_mt, style_change_detection, subjqa, super_glue, superb, svhn, swag, swahili, swahili_news, swda, swedish_medical_ner, swedish_ner_corpus, swedish_reviews, rcds/swiss_judgment_prediction, tab_fact, tamilmixsentiment, tanzil, tapaco, tashkeela, taskmaster1, taskmaster2, taskmaster3, tatoeba, ted_hrlr, ted_iwlst2013, ted_multi, ted_talks_iwslt, telugu_books, telugu_news, tep_en_fa_para, text2log, thai_toxicity_tweet, thainer, thaiqa_squad, thaisum, the_pile, the_pile_books3, the_pile_openwebtext2, the_pile_stack_exchange, tilde_model, time_dial, times_of_india_news_headlines, timit_asr, tiny_shakespeare, tlc, tmu_gfm_dataset, told-br, totto, trec, trivia_qa, tsac, ttc4900, tunizi, tuple_ie, turk, turkic_xwmt, turkish_movie_sentiment, turkish_ner, turkish_product_reviews, turkish_shrinked_ner, turku_ner_corpus, tweet_eval, tweet_qa, tweets_ar_en_parallel, tweets_hate_speech_detection, twi_text_c3, twi_wordsim353, tydiqa, ubuntu_dialogs_corpus, udhr, um005, un_ga, un_multi, un_pc, universal_dependencies, universal_morphologies, urdu_fake_news, urdu_sentiment_corpus, vctk, vivos, web_nlg, web_of_science, web_questions, weibo_ner, wi_locness, wider_face, wiki40b, wiki_asp, wiki_atomic_edits, wiki_auto, wiki_bio, wiki_dpr, wiki_hop, wiki_lingua, wiki_movies, wiki_qa, wiki_qa_ar, wiki_snippets, wiki_source, wiki_split, wiki_summary, wikiann, wikicorpus, wikihow, wikipedia, wikisql, wikitext, wikitext_tl39, wili_2018, wino_bias, winograd_wsc, winogrande, wiqa, wisesight1000, wisesight_sentiment, wmt14, wmt15, wmt16, wmt17, wmt18, wmt19, wmt20_mlqe_task1, wmt20_mlqe_task2, wmt20_mlqe_task3, wmt_t2t, wnut_17, wongnai_reviews, woz_dialogue, wrbsc, x_stance, xcopa, xcsr, xed_en_fi, xglue, xnli, xor_tydi_qa, xquad, xquad_r, xsum, xsum_factuality, xtreme, yahoo_answers_qa, yahoo_answers_topics, yelp_polarity, yelp_review_full, yoruba_bbc_topics, yoruba_gv_ner, yoruba_text_c3, yoruba_wordsim353, youtube_caption_corrections, zest, 0n1xus/codexglue, 0n1xus/pytorrent-standalone, AConsApart/anime_subtitles_DialoGPT, AHussain0418/day2_data, AHussain0418/day4data, AHussain0418/demo_data, AI-Sweden/SuperLim, AI-it/khs_service_test, AI-it/korean-hate-speech, ARKseal/YFCC14M_subset_webdataset, ARTeLab/fanpage, ARTeLab/ilpost, ARTeLab/mlsum-it, ASCCCCCCCC/amazon_zh, ASCCCCCCCC/amazon_zh_simple, Abdo1Kamr/Arabic_Hadith, Abirate/code_net_dataset, Abirate/code_net_dev_dataset, Abirate/code_net_test_final_dataset, Abirate/english_quotes, Abirate/french_book_reviews, AdWeeb/DravidianMT, Adnan/Urdu_News_Headlines, AhmadSawal/qa, AhmedSSoliman/CoNaLa, Aisha/BAAD16, Aisha/BAAD6, Akila/ForgottenRealmsWikiDataset, Akshith/aa, Akshith/g_rock, Akshith/test, adorkin/extended_tweet_emojis, AlekseyKorshuk/comedy-scripts, AlekseyKorshuk/horror-scripts, AlexMaclean/all-deletion-compressions, AlexMaclean/wikipedia-deletion-compressions, AlexZapolskii/zapolskii-amazon, AlgoveraAI/CryptoPunks, Aliseyfi/event_token_type, Alvenir/nst-da-16khz, AndrewMcDowell/de_corpora_parliament_processed, Annabelleabbott/real-fake-news-workshop, Annielytics/DoctorsNotes, Anurag-Singh-creator/task, Anurag-Singh-creator/tasks, ApiInferenceTest/asr_dummy, Arnold/hausa_common_voice, AryanLala/autonlp-data-Scientific_Title_Generator, Atsushi/fungi_diagnostic_chars_comparison_japanese, Atsushi/fungi_indexed_mycological_papers_japanese, Atsushi/fungi_trait_circus_database, Avishekavi/Avi, BSC-LT/SQAC, BSC-LT/ancora-ca-ner, BSC-LT/sts-ca, BSC-LT/tecla, BSC-LT/viquiquad, BSC-LT/xquad-ca, Babelscape/rebel-dataset, Babelscape/wikineural, BatuhanYilmaz/github-issues, Baybars/parla_text_corpus, BeIR/beir-corpus, BeIR/beir, Lacito/pangloss, Binbin/my_dataset, BlakesOrb6/Fred-Flintstone, Bosio/pacman, Bosio/pacman_descriptions, BritishLibraryLabs/EThOS-PhD-metadata, CAGER/rick, CALM/arwiki, CAiRE/ASCEND, CShorten/KerasBERT, ChadxxxxHall/Inter-vision, Champion/vpc2020_clear_anon_speech, Check/a_re_gi, Check/region_1, Check/region_2, Check/region_3, Check/region_4, Check/region_5, Check/region_6, Check/region_7, Check/region_8, Check/region_9, Check/regions, Check/vverify, Cheranga/test, ChristophSchuhmann/MS_COCO_2017_URL_TEXT, Chun/dataset, Chuu/Vhh, CodedotAI/code-clippy-tfrecords, CodedotAI/code_clippy, CodedotAI/code_clippy_github, Crives/haha, Cropinky/flatearther, Cropinky/rap_lyrics_english, Cropinky/wow_fishing_bobber, Cyberfish/pos_tagger, Cyberfish/text_error_correction, CyranoB/polarity, DDSC/angry-tweets, DDSC/dkhate, DDSC/europarl, DDSC/lcc, DDSC/partial-danish-gigaword-no-twitter, DDSC/reddit-da-asr-preprocessed, DDSC/reddit-da, DDSC/twitter-sent, DELith/github-issues, DSCI511G1/COP26_Energy_Transition_Tweets, DanL/scientific-challenges-and-directions-dataset, Daniele/dante-corpus, Darren/data, Datatang/accented_english, Datatang/accented_mandarin, Datatang/chinese_dialect, Datatang/mandarin_chinese, Datatang/mixed_speech_chinese_english, Datatang/multi_language, Datatang/multi_language_conversation, Davlan/conll2003_de_noMISC, Davlan/conll2003_noMISC, Davlan/masakhanerV1, DelgadoPanadero/Pokemon, DeskDown/ALTDataset, DeskDown/ALTDataset_en-to-fil-vi-id-ms-ja-khm, DiFronzo/Human_Activity_Recognition, Dmitriy612/1, DoctorSlimm/yipee, Doohae/klue-mrc-bm25, Doohae/modern_music_re, DoyyingFace/github-embeddings-doy, DoyyingFace/github-issues-doy, DrishtiSharma/as_opus100_processed, DrishtiSharma/bg_opus100_processed, DrishtiSharma/br_opus100_processed, DrishtiSharma/hi_opus100_processed, DrishtiSharma/kk_opus100_processed, DrishtiSharma/mr_opus100_processed, DrishtiSharma/or_opus100_processed, DrishtiSharma/sl_opus100_processed, DrishtiSharma/sr_opus100_processed, Dumiiii/common-voice-romaniarss, EMBO/biolang, EMBO/sd-nlp, ESZER/H, Emanuel/UD_Portuguese-Bosque, Emma121/aaaaa, Emma121/testtest, Enes3774/data, Exr0n/wiki-entity-similarity, Eymen3455/xsum_tr, FIG-Loneliness/FIG-Loneliness, FL33TW00D/test-dataset, FRTNX/cosuju, FRTNX/worldbank-projects, Felix-ML/quoteli3, Finnish-NLP/mc4_fi_cleaned, Firoj/HumAID, Francois/futures_es, Fraser/mnist-text-default, Fraser/mnist-text-no-spaces, Fraser/mnist-text-small, Fraser/dream-coder, Fraser/python-lines, Fraser/python-state-changes, Fraser/short-jokes, Fraser/wiki_sentences, GEM/ART, GEM/BiSECT, GEM/CrossWOZ, GEM/OrangeSum, GEM/RiSAWOZ, GEM/RotoWire_English-German, GEM/SIMPITIKI, GEM/SciDuet, GEM/Taskmaster, GEM/cochrane-simplification, GEM/common_gen, GEM/conversational_weather, GEM/cs_restaurants, GEM/dart, GEM/dstc10_track2_task2, GEM/e2e_nlg, GEM/indonlg, GEM/mlb_data_to_text, GEM/mlsum, GEM/opusparcus, GEM/references, GEM/schema_guided_dialog, GEM/sportsett_basketball, GEM/squad_v2, GEM/surface_realisation_st_2020, GEM/totto, GEM/turku_hockey_data2text, GEM/turku_paraphrase_corpus, GEM-submissions/v1-outputs-and-scores, GEM/viggo, GEM/web_nlg, GEM/wiki_auto_asset_turk, GEM/wiki_cat_sum, GEM/wiki_lingua, GEM/xlsum, GEM/xsum, GEM-submissions/GEM__bart_base_schema_guided_dialog__1645547915, GEM-submissions/Leo__bart-large__1645784880, GEM-submissions/Leo__mbart-large-cc25__1645802644, GEM-submissions/lewtun__hugging-face-test-t5-base.outputs.json-36bf2a59__1645558682, GEM-submissions/lewtun__hugging-face-test-t5-base.outputs.json-36bf2a59__1645559101, GEM-submissions/lewtun__hugging-face-test-t5-base.outputs.json-36bf2a59__1645800191, GEM-submissions/lewtun__hugging-face-test-t5-base.outputs.json-36bf2a59__1646049378, GEM-submissions/lewtun__hugging-face-test-t5-base.outputs.json-36bf2a59__1646049424, GEM-submissions/lewtun__hugging-face-test-t5-base.outputs.json-36bf2a59__1646049601, GEM-submissions/lewtun__hugging-face-test-t5-base.outputs.json-36bf2a59__1646049876, GEM-submissions/lewtun__hugging-face-test-t5-base.outputs.json-36bf2a59__1646050898, GEM-submissions/lewtun__hugging-face-test-t5-base.outputs.json-36bf2a59__1646051364, GEM-submissions/lewtun__hugging-face-test-t5-base.outputs.json-36bf2a59__1646052073, GEM-submissions/lewtun__this-is-a-test__1646052811, GEM-submissions/lewtun__this-is-a-test__1646230987, GEM-submissions/ratishsp, GEM-submissions/submission-scores, GV05/shlomit_speech, Gabriel/quora_swe, GalacticAI/Noirset, Gauravadlakha1509/new_one, GeoffVdr/cv8_trainval_processed, GonzaloA/fake_news, Graphcore/gqa-lxmert, Graphcore/gqa, Graphcore/vqa-lxmert, Graphcore/vqa, Graphcore/wikipedia-bert-128, Graphcore/wikipedia-bert-512, GroNLP/ik-nlp-22_pestyle, GroNLP/ik-nlp-22_slp, GroNLP/ik-nlp-22_transqe, GroNLP/ik-nlp-22_winemag, Gwangho/NCBI-Sars-Cov-2, HHousen/ParaSCI, HHousen/msrp, HHousen/quora, HUPD/hupd, Halilyesilceng/autonlp-data-nameEntityRecognition, HarleyQ/WitcherDialogue, HarrisDePerceptron/sv_corpora_parliament_processed, HarrisDePerceptron/ur_corpora_pib, Harveenchadha/bol-models, Harveenchadha/indic-voice, HarveyBWest/mybot, Hellisotherpeople/DebateSum, Helsinki-NLP/tatoeba_mt, HenryAI/KerasAPIReference.txt, HenryAI/KerasBERTv1-Data, HenryAI/KerasCodeExamples.txt, HenryAI/KerasDeveloperGuides.txt, Huertas97/autonlp-data-mami-semeval-20-21, Husain/intent-classification-en-fr, IFSTalfredoswald/MBTI, Iftoo95/Arabic_Sentiment_and_Topics, IlyaGusev/gazeta, IlyaGusev/headline_cause, Intel/WEC-Eng, Ishwar/Senti, Iskaj/dutch_corpora_parliament_processed, JIWON/nil_dataset, JIsanan/war-ceb-wikipedia, Jack0508/TED2020_kor, Jack0508/TED2020_vi, Jack0508/TED2020vi_kor, Jack0508/demo, Jack0508/eng_vi_demo, Jack0508/test, Jack0508/vi-ko-TED-txt, Jean-Baptiste/wikiner_fr, Jeska/autonlp-data-vaccinfaq, Jeska/vaccinchat, JesseParvess/book_snippets_asr, Jiejie/asr_book_lm, LysandreJik/demo1, LysandreJik/demo2, LysandreJik/demo3, LysandreJik/demo4, LysandreJik/glue-mnli-train, LysandreJik/push-to-hub, LysandreJik/pushe-to-hub, LysandreJik/pushed-to-hub, LysandreJik/pushedd-to-hub, LysandreJik/random_repo, LysandreJik/stargazers, LysandreJik/temp-repo-valid, LysandreJik/test-16336477963335, LysandreJik/test-16336478042515, LysandreJik/test-16336479967338, LysandreJik/test-16336480189315, LysandreJik/test-16336486877862, LysandreJik/test-16340052901609, LysandreJik/test-16340052972855, LysandreJik/test-16344347220590, LysandreJik/test-16344347234752, LysandreJik/test-16344349332219, LysandreJik/test-16344349440339, LysandreJik/test-16344351925697, LysandreJik/test-16344360501144, LysandreJik/test-16344361893586, LysandreJik/test-16344362261113, LysandreJik/test-16344362895458, LysandreJik/test-16344364230608, LysandreJik/test-16344364547167, LysandreJik/test-16344367190179, LysandreJik/test-16344368182003, JonathanSum/en_corpora_parliament_processed, JonathanSum/github-issues, JonathanSum/sv_corpora_parliament_processed, JustinE/Test, KBLab/overlim, KBLab/sucx3_ner, KETI-AIR/aihub, KETI-AIR/klue, KETI-AIR/kor_corpora, KETI-AIR/korquad, KETI-AIR/nikl, KTH/martin, KTH/nst, KTH/speechdat, KTH/waxholm, Karavet/ARPA-Armenian-Paraphrase-Corpus, Karavet/ILUR-news-text-classification-corpus, Karavet/pioNER-Armenian-Named-Entity, Khanoooo/autonlp-data-Corona, Khondoker/SentNoB, Kili/plastic_in_river, Kira-Asimov/gender_clinical_trial, LIAMF-USP/arc-retrieval-c4, Langame/starter, Langame/waiting-messages, Language/Fren, Language/trans, Lenn/github-issues, LeoCordoba/CC-NEWS-ES-titles, LeoCordoba/CC-NEWS-ES, LeverageX/book-summarization, LeverageX/klue-mrc, LeverageX/klue-re, Linda/test1111, Llamacha/monolingual-quechua-iic, LoganKells/amazon_product_reviews_video_games, Lucylulu/amazon, Lucylulu/imdb, LuisG07/es_corpora_parliament_processed, Lumos/yahoo_hga, MBAH/MOVIESON, MKK/Dhivehi-English, Mahalakshmi/ta_lm_processed, Mansooreh/sharif-emotional-speech-dataset, MarianaSahagun/test, MarkusDressel/cord, Marzipan/QA4PC, McGill-NLP/mlquestions, Mcy/random_uselesstestsequence, Melinoe/TheLabTexts, MickyMike/large_c_corpus, Motahar/github-issues, Mrleo1nid/Test_ru_dataset, Mulin/my_third_dataset, NLPC-UOM/English-Tamil-Parallel-Corpus, NLPC-UOM/Sinhala-POS-Data, NLPC-UOM/Sinhala-Stopword-list, NTUYG/RAGTest, NYTK/HuCOLA, NYTK/HuCoPA, NYTK/HuRC, NYTK/HuSST, NYTK/HuWNLI, NahedAbdelgaber/evaluating-student-writing, Narsil/asr_dummy, Narsil/conversational_dummy, Narsil/image_dummy, Narsil/test_data, Nathanael/NPS, Navigator/dodydard-marty, NbAiLab/NCC, NbAiLab/NCC_small_100, NbAiLab/NCC_small_divided, NbAiLab/NPSC, NbAiLab/NPSC_test, NbAiLab/NPSC_test2, NbAiLab/bokmaal_admin, NbAiLab/norec_agg, NbAiLab/norne, NbAiLab/norwegian_parliament, Niciu/github-issues, Niciu/test-cre-dataset-issues, Niciu/test-squad, NikolajW/NPS_nonNormalized-Cased, NishinoTSK/leishmaniaV2, NishinoTSK/leishmaniav1, Nuwaisir/Quran_speech_recognition_kaggle, Ofrit/tmp, Omar2027/caner_replicate, OmarN121/train, PDJ107/riot-data, Paul/hatecheck, PaulLerner/triviaqa_for_viquae, PaulLerner/triviaqa_splits_for_viquae, PaulLerner/viquae_all_images, PaulLerner/viquae_dataset, PaulLerner/viquae_images, PaulLerner/viquae_wikipedia, Pengfei/asfwe, Pengfei/test, Pengfei/test1, PereLluis13/parla_text_corpus, PereLluis13/spanish_speech_text, Perkhad/corejur, PlanTL-GOB-ES/SQAC, PlanTL-GOB-ES/cantemist-ner, PlanTL-GOB-ES/pharmaconer, Plim/common_voice_7_0_fr_processed, Plim/fr_corpora_parliament_processed, Plim/fr_wikipedia_processed, Plim/language_model_fr, Pongsaky/Wiki_SCG, Pratik/Gujarati_OpenSLR, Pyjay/emotion_nl, Pyke/patent_abstract, QA/abk-eng, R0bk/XFUN, RBG-AI/CoRePooL, Recognai/ag_news_corrected_labels, Recognai/corrected_labels_ag_news, Recognai/gutenberg_spacy-ner, Recognai/imdb_spacy-ner, Recognai/news, Recognai/sentiment-banking, Recognai/veganuary, Remesita/tagged_reviews, Renukswamy/Patent_sentiment_analysis, RohanAiLab/persian_blog, RohanAiLab/persian_daily_news, RohanAiLab/persian_news_dataset, RollingMuffin/test_scripts, romrawinjp/mn-sim, RuudVelo/commonvoice_mt_8_processed, RuudVelo/commonvoice_nl_8_processed, RuudVelo/nl_corpora_parliament_processed, SCourthial/test, Sabokou/qg_squad_modified, Sabokou/qg_squad_modified_dev, SajjadAyoubi/persian_qa, Sakonii/nepalitext-language-model-dataset, Sam2021/Arguement_Mining_CL2017, Samip/func, SaulLu/Natural_Questions_HTML, SaulLu/Natural_Questions_HTML_Toy, SaulLu/Natural_Questions_HTML_reduced_all, SaulLu/test, SaulLu/toy_struc_dataset, SebastianS/github-issues, SergeiGKS/wikiner_fr_job, Serhii/Custom_SQuAD, SetFit/20_newsgroups, SetFit/TREC-QC, SetFit/ag_news, SetFit/amazon_counterfactual, SetFit/amazon_counterfactual_en, SetFit/amazon_polarity, SetFit/bbc-news, SetFit/emotion, SetFit/enron_spam, SetFit/ethos, SetFit/ethos_binary, SetFit/go_emotions, SetFit/hate_speech18, SetFit/hate_speech_offensive, SetFit/imdb, SetFit/insincere-questions, SetFit/mnli, SetFit/mnli_mm, SetFit/mrpc, SetFit/qnli, SetFit/qqp, SetFit/rte, SetFit/sst2, SetFit/sst5, SetFit/stsb, SetFit/student-question-categories, SetFit/subj, SetFit/toxic_conversations, SetFit/tweet_eval_stance, SetFit/tweet_sentiment_extraction, SetFit/wnli, SetFit/yelp_review_full, Shanna/Jamaica, ShinyQ/PPKM_Pemerintah, ShreyaR/DepressionDetection, Shushant/ContaminationQA, Shushant/NepaliSentiment, Shushant/nepali, SkelterLabsInc/JaQuAD, Smiling/webnovels-en, SoLID/shellcode_i_a32, SocialGrep/one-million-reddit-confessions, SocialGrep/one-million-reddit-jokes, SocialGrep/one-million-reddit-questions, SocialGrep/one-year-of-r-india, SocialGrep/reddit-crypto-aug-2021, SocialGrep/reddit-nonewnormal-complete, SocialGrep/reddit-wallstreetbets-aug-2021, SocialGrep/ten-million-reddit-answers, SocialGrep/the-2022-trucker-strike-on-reddit, SocialGrep/the-reddit-covid-dataset, SocialGrep/top-american-universities-on-reddit, SophieTr/reddit_clean, Sunbird/salt-dataset, SuperAI2-Machima/ThaiQA_LST20, SuperAI2-Machima/Yord_ThaiQA_LST20, TRoboto/masc, TRoboto/names, TaahaKazi/FCE, Taekyoon/test_none_state, Tahsin-Mayeesha/Bengali-SQuAD, Tatyana/ru_sentiment_dataset, Terry0107/RiSAWOZ, TestCher/Testi, Tevatron/msmarco-passage-corpus, Tevatron/msmarco-passage, Tevatron/scifact-corpus, Tevatron/scifact, Tevatron/wikipedia-curated-corpus, Tevatron/wikipedia-curated, Tevatron/wikipedia-nq-corpus, Tevatron/wikipedia-nq, Tevatron/wikipedia-squad-corpus, Tevatron/wikipedia-squad, Tevatron/wikipedia-trivia-corpus, Tevatron/wikipedia-trivia, Tevatron/wikipedia-wq-corpus, Tevatron/wikipedia-wq, TheBlindBandit/SpongeNot, TimTreasure4/Test, Trainmaster9977/957, Trainmaster9977/zbakuman, TristanBehrens/js-fakes-4bars, TurkuNLP/register_mc4, TurkuNLP/register_oscar, TurkuNLP/turku_hockey_data2text, TurkuNLP/turku_paraphrase_corpus, Tyler/wikimatrix_collapsed, Usin2705/test, VJGamer/test, VadorMazer/skyrimdialogstest, Valahaar/wsdmt, Vishnu393831/VICTORY_dataset, Vishva/UniFAQ_DataSET, Wiedy/be, Wiedy/wav2vec2-large-xls-r-300m-tr-colab, Wikidepia/IndoParaCrawl, Wikidepia/IndoSQuAD, Wikidepia/mc4-filter, WillFerreiraSantos/halos, leey4n/KR3, Wuhu0/output, WyrdCurt/AO4W, Xenova/sponsorblock-768, Xenova/sponsorblock, XiangPan/iflytek, XiangPan/snli_break, XiangXiang/clt, Xinghua/test, Yatoro/github-issues, Yatoro/github_issues, Yeva/arm-summary, YuAnthony/chid, YuAnthony/tnews, Zaid/coqa_expanded, Zaid/quac_expanded, Zoe10/ner_dataset, abdusah/masc, abdusah/masc_dev, abhishek/autonlp-data-imdb_eval, abhishek/autonlp-data-prodigy-10, abidlabs/crowdsourced-notes, abidlabs/crowdsourced-speech-demo, abidlabs/crowdsourced-speech, abidlabs/crowdsourced-speech2, abidlabs/crowdsourced-speech3, abidlabs/crowdsourced-speech4, abidlabs/crowdsourced-speech5, abidlabs/crowdsourced-speech6, abidlabs/crowdsourced-speech7, abidlabs/test-audio-1, abidlabs/test-audio-13, abidlabs/test-image-13, abidlabs/test-image-classifier-dataset, abidlabs/test-translation-dataset, abidlabs/voice-verification-adversarial-dataset, abwicke/C-B-R, abwicke/koplo, adalbertojunior/MININER, adalbertojunior/punctuation-ptbr-light, adalbertojunior/punctuation-ptbr, adamlin/FewShotWoz, adamlin/companion, adamlin/coqa_squad, adamlin/daily_dialog, adamlin/domain_classification, adamlin/mail-classification, adamlin/multiwoz_dst, adamlin/qa_verification, adamlin/roc_story, adamlin/rs, adamlin/weibo_ner, addy88/nq-question-answeronly, addy88/sanskrit-asr-84-eval, addy88/sanskrit-asr-84, afasafen/mydataset, afasafen/newDataSet, ai4bharat/samanantar, aidystark/Yt, ajmbell/test-dataset, akhaliq/test, akumar33/manufacturing, albertvillanova/carbon_24, albertvillanova/datasets-tests-compression, albertvillanova/dummy_libri2mix, albertvillanova/legal_contracts, albertvillanova/lm_en_dummy0, albertvillanova/lm_en_dummy1, albertvillanova/lm_en_dummy2, albertvillanova/lm_en_dummy3, albertvillanova/lm_en_dummy4, albertvillanova/pmc_open_access, albertvillanova/sat, albertvillanova/tests-public-raw-jsonl, albertvillanova/tests-raw-jsonl, albertvillanova/tmp-tests-zip, albertvillanova/tmp-tests, alexantonov/chuvash_parallel, aliabd/crowdsourced-calculator-demo, aliabd/crowdsourced-speech4, aliabd/hello-world, alireza655/alireza655, alistvt/coqa-flat, alistvt/coqa-stories, alistvt/coqa, alittleie/mis_238, allegro/klej-allegro-reviews, allegro/klej-cbd, allegro/klej-cdsc-e, allegro/klej-cdsc-r, allegro/klej-dyk, allegro/klej-nkjp-ner, allegro/klej-polemo2-in, allegro/klej-polemo2-out, allegro/klej-psc, allegro/polish-question-passage-pairs, allegro/summarization-allegro-articles, allegro/summarization-polish-summaries-corpus, allenai/c4, allenai/scico, alperbayram/HaberTweetlerininDuyguAnaliziVeSiniflandirma, alperbayram/Tweet_Siniflandirma, alperbayram/TwitterDuygu, alperiox/autonlp-data-user-review-classification, alvp/autonlp-data-alberti-stanza-names, alvp/autonlp-data-alberti-stanzas-finetuning, aminedjebbie/Multi-Arabic-dialects, andrepreira/outros2021, anechaev/med_history, anechaev/ru_med_history, animesh/autonlp-data-peptides, maastrichtlawtech/bsard, antoinegk/HealthChallenge_dataset, anton-l/common_language, anton-l/superb, anton-l/superb_demo, anton-l/superb_dummy, anukaver/EstQA, anuragshas/bg_opus100_processed, anuragshas/ha_cc100_processed, anuragshas/ha_opus100_processed, anuragshas/hi_opus100_processed, anuragshas/lv_opus100_processed, anuragshas/mr_cc100_processed, anuragshas/mt_opus100_processed, anuragshas/pa_cc100_processed, anuragshas/sk_opus100_processed, anuragshas/sl_opus100_processed, anuragshas/ur_opus100_processed, anushakamath/sv_corpora_parliament_processed_v0, anzorq/kbd-ru-1.67M-temp, anzorq/kbd-ru-jsonl-tmp, anzorq/kbd-ru-temp, arch-raven/MAMI, arjundd/meddlr-data, arjunth2001/online_privacy_qna, artemis13fowl/github-issues, artyeth/Dorian, aryanpatke/github-issues, lmqg/qg_jaquad, lmqg/qg_squad, aseifert/merlin, aseifert/pie-synthetic, ashraq/dhivehi-corpus, asi/wikitext_fr, asoroa/bsbasque, astarostap/antisemitic-tweets, astarostap/antisemitic_tweets, astarostap/autonlp-data-antisemitism-2, astremo/friendly_JA_corpus, astrideducation/cefr-combined-no-cefr-test, atelders/politweets, athar/QA, athar/a_b, ausgequetschtem/jtrddfhfgh, austin/rheum_abstracts, avadesian/dddd, avanishcobaltest/datasetavanish, averyanalex/panorama, azuur/es_corpora_parliament_processed, azuur/gn_wiki_cleaned, badranx/opus_raw, bavard/personachat_truecased, bazinga/bazinga, be4rr/github-issues, beacon/test, bemanningssitua/dplremjfjfj, benjaminbeilharz/better_daily_dialog, benjaminbeilharz/daily_dialog_w_turn_templates, benjaminbeilharz/empathetic_dialogues_for_lm, berkergurcay/2020-10K-Reports, bertin-project/mc4-es-sampled, bertin-project/mc4-sampling, bhadresh-savani/web_split, bhavnicksm/sentihood, bhigy/buckeye_asr, bigscience/P3, bigscience-catalogue-data-dev/lm_code_github-eval_subset, bigscience-historical-texts/HIPE2020_sent-split, bigscience-historical-texts/hipe2020, bingzhen/test2, birgermoell/sv_corpora_parliament_processed, bitmorse/kickstarter_2022-2021, biu-nlp/qa_align, biu-nlp/qa_discourse, biu-nlp/qa_srl2018, biu-nlp/qa_srl2020, biu-nlp/qamr, biu-nlp/qanom, blinoff/medical_qa_ru_data, bobbydylan/top2k, bondarchukb/autonlp-data-iab_classification, braincode/braincode, brunodorneles/ner, bryantpwhite/Medieval_Sermons_in_French, bs-modeling-metadata/OSCAR_Entity_13_000, bs-modeling-metadata/c4-en-html-with-metadata, bs-modeling-metadata/c4_newslike_url_only, bs-modeling-metadata/website_metadata_c4, bs-modeling-metadata/wiki_dump, bstad/github-issues, bwu2018/anime-tagging-dataset, caca/zscczs, cahya/persona_empathetic, cakiki/args_me, cakiki/arxiv-metadata, cakiki/en_wiki_quote, cakiki/paperswithcode, caltonji/harrypotter_squad_v2, caltonji/harrypotter_squad_v2_2, calvpang/github-issues, cameronbc/synthtiger, cassandra-themis/QR-AN, castorini/afriberta-corpus, castorini/mr-tydi-corpus, castorini/mr-tydi, castorini/msmarco_v1_doc_doc2query-t5_expansions, castorini/msmarco_v1_doc_segmented_doc2query-t5_expansions, castorini/msmarco_v1_passage_doc2query-t5_expansions, castorini/msmarco_v2_doc_doc2query-t5_expansions, castorini/msmarco_v2_doc_segmented_doc2query-t5_expansions, castorini/msmarco_v2_passage_doc2query-t5_expansions, castorini/nq_gar-t5_expansions, castorini/triviaqa_gar-t5_expansions, caythuoc/caoduoclieu, cbrew475/hwu66, ccccccc/hdjw_94ejrjr, ccdv/arxiv-classification, ccdv/arxiv-summarization, ccdv/cnn_dailymail, ccdv/govreport-summarization, ccdv/patent-classification, ccdv/pubmed-summarization, cdleong/piglatin-mt, cdleong/temp_africaNLP_keyword_spotting_for_african_languages, cdminix/iwslt2011, cdminix/mgb1, cem/dnm, cem/film, cemigo/taylor_vs_shakes, cemigo/test-data, cestwc/adapted-msrcomp, cestwc/adapted-paranmt5m, cestwc/adapted-sentcomp, cestwc/adapted-synonym, cestwc/adapted-wikismall, cestwc/adapted-wordnet, cestwc/asrc, cestwc/cnn_dailymail-metaeval100, cestwc/cnn_dailymail-snippets, cestwc/cnn_dailymail-test50, cestwc/conjnli, cestwc/sac-approx-1, cestwc/sac-na, cestwc/sac, cfilt/iitb-english-hindi, cgarciae/point-cloud-mnist, chau/ink_test01, chenghao/mc4_eu_dedup, chenghao/mc4_sw_dedup, chenghao/scielo_books, chenyuxuan/wikigold, cheulyop/dementiabank, cheulyop/ksponspeech, chitra/contradiction, chitra/contradictionNLI, chmanoj/ai4bharat__samanantar_processed_te, chopey/dhivehi, clarin-pl/2021-punctuation-restoration, clarin-pl/aspectemo, clarin-pl/cst-wikinews, clarin-pl/kpwr-ner, clarin-pl/multiwiki_90k, clarin-pl/nkjp-pos, clarin-pl/polemo2-official, classla/FRENK-hate-en, classla/FRENK-hate-hr, classla/FRENK-hate-sl, classla/copa_hr, classla/hr500k, classla/janes_tag, classla/reldi_hr, classla/reldi_sr, classla/setimes_sr, classla/ssj500k, clem/autonlp-data-french_word_detection, clips/mfaq, clips/mqa, cloverhxy/DADER-source, cnrcastroli/aaaa, coala/kkk, coastalcph/fairlex, codeceejay/ng_accent, cointegrated/ru-paraphrase-NMT-Leipzig, collectivat/tv3_parla, comodoro/pscr, comodoro/vystadial2016_asr, congpt/dstc23_asr, corypaik/coda, corypaik/prost, craffel/openai_lambada, crich/cider, cristinakuo/latino40, crystina-z/inlang-mrtydi-corpus, crystina-z/inlang-mrtydi, crystina-z/mbert-mrtydi-corpus, crystina-z/mbert-mrtydi, crystina-z/msmarco-passage, csarron/25m-img-caps, csarron/4m-img-caps, csarron/image-captions, csebuetnlp/xlsum, csebuetnlp/xnli_bn, csikasote/bemba_train_dev_sets_processed, csikasote/bemba_trainset_processed, csikasote/bembaspeech_plus_jw_processed, cstrathe435/Task2Dial, ctgowrie/chessgames, ctu-aic/csfever, ctu-aic/csfever_nli, ctu-aic/ctkfacts_nli, cyko/books, cylee/github-issues, dalle-mini/YFCC100M_OpenAI_subset, dalle-mini/open-images, dalle-mini/wit, damlab/HIV_FLT, damlab/HIV_PI, damlab/HIV_V3_bodysite, damlab/HIV_V3_coreceptor, dansbecker/hackernews_hiring_posts, darentang/generated, darentang/sroie, darkraipro/recipe-instructions, dasago78/dasago78dataset, dataset/wikipedia_bn, davanstrien/19th-century-ads, davanstrien/ads-test, davanstrien/beyond_test, davanstrien/crowdsourced-keywords, davanstrien/embellishments-sample, davanstrien/embellishments, davanstrien/hipe2020, davanstrien/hmd_newspapers, davanstrien/iiif_labeled, davanstrien/iiif_manuscripts_label_ge_50, davanstrien/kitten, davanstrien/manuscript_iiif_test, BritishLibraryLabs/BookGenreSnorkelAnnotated, davanstrien/test_iiif, davanstrien/test_push_to_hub_image, davanstrien/testpush, david-wb/zeshel, davidwisdom/reddit-randomness, dcfidalgo/test, debajyotidatta/biosses, debatelab/aaac, debatelab/deepa2, deepset/germandpr, deepset/germanquad, dennlinger/klexikon, deokgu/fooddetection, dev/untitled_imgs, dfgvhxfgv/fghghj, DFKI-SLT/few-nerd, DFKI-SLT/mobie, dgknrsln/Yorumsepeti, diiogo/annotations, dispenst/jhghdghfd, dispix/test-dataset, diwank/hinglish-dump, diwank/silicone-merged, dk-crazydiv/huggingface-modelhub, dlb/plue, dongpil/test, dragosnicolae555/RoITD, dram-conflict/horror-scripts, dvilasuero/ag_news_error_analysis, dvilasuero/ag_news_training_set_losses, dvilasuero/test-dataset, dweb/squad_with_cola_scores, dynabench/dynasent, dynabench/qa, eason929/test, ebrigham/asr_files, ebrigham/labels, ebrigham/multi_sentiment, echarlaix/gqa-lxmert, echarlaix/gqa, echarlaix/vqa-lxmert, echarlaix/vqa, edbeeching/decision_transformer_gym_replay, edbeeching/github-issues, edfews/szdfcszdf, edge2992/github-issues, edge2992/rri-short, edge2992/rri_short, edsas/fgrdtgrdtdr, edsas/grttyi, ehcalabres/ravdess_speech, ejjaffe/onion_headlines_2_sources, eliza-dukim/load_klue_re, elonmuskceo/persistent-space-dataset, elonmuskceo/wordle, elricwan/bert_data, emre/Open_SLR108_Turkish_10_hours, emrecan/stsb-mt-turkish, enelpol/czywiesz, ervis/aaa, ervis/qqq, erwanlc/cocktails_recipe, erwanlc/cocktails_recipe_no_brand, espejelomar/code_search_net_python_10000_examples, eugenesiow/BSD100, eugenesiow/Div2k, eugenesiow/PIRM, eugenesiow/Set14, eugenesiow/Set5, eugenesiow/Urban100, evageon/IADD, facebook/multilingual_librispeech, fastjt/fasst, fatvvs/autonlp-data-entity_model_conll2003, fededeleon/CriteriosClasificacion, fengzhang/fzTestDatasets, fhamborg/news_sentiment_newsmtsc, fighterhitx/test, fihtrotuld/asu, flax-community/code_clippy_data, flax-community/conceptual-12m-mbart-50-multilingual, flax-community/conceptual-12m-multilingual-marian-128, flax-community/conceptual-12m-multilingual-marian-es, flax-community/conceptual-12m-multilingual-marian, flax-community/conceptual-captions-12, flax-community/dummy-oscar-als-32, flax-community/german-common-voice-processed, flax-community/german_common_crawl, flax-community/multilingual-vqa, flax-community/norwegian-clean-dummy, flax-community/swahili-safi, flax-sentence-embeddings/Gender_Bias_Evaluation_Set, flax-sentence-embeddings/paws-jsonl, flax-sentence-embeddings/stackexchange_math_jsonl, flax-sentence-embeddings/stackexchange_title_best_voted_answer_jsonl, flax-sentence-embeddings/stackexchange_title_body_jsonl, flax-sentence-embeddings/stackexchange_titlebody_best_and_down_voted_answer_jsonl, flax-sentence-embeddings/stackexchange_titlebody_best_voted_answer_jsonl, flax-sentence-embeddings/stackexchange_xml, flexthink/librig2p-nostress-space, flexthink/librig2p-nostress, flexthink/ljspeech, florentgbelidji/test-3, florentgbelidji/test-dataset, florianbussmann/FUNSD-vu2020revising, florianbussmann/train_tickets-yu2020pick, flxclxc/encoded_drug_reviews, formermagic/github_python_1m, formu/CVT, fractalego/QA_to_statements, frahman/github-issues, frtna/deneme, frtna/es_it_Results-base-OPUS_Tatoeba, frtna/jwt300_mt, frtna/opensubtitles_mt, frtna/sabahaKKarsi, frtna/ted_mt, frtna/test, frtna/test2, fulai/DuReader, fuliucansheng/coco, fuliucansheng/minicoco, fuliucansheng/mininlp, fuliucansheng/pascal_voc, fuyun1107/clip-for-vlp, fvillena/cantemist, fvillena/spanish_diagnostics, gabella/demo_data_raw, gabtan99/pex-conversations, gagan3012/fake-news, gagan3012/grover-data, gagan3012/vizwiz, gar1t/test, gayanin/pubmed-gastro-maskfilling, gayanin/pubmed-gastro-paraphrasing, gayanin/pubmed-gastro-summarisation, gcaillaut/citeseer, gcaillaut/cora, gcaillaut/frwiki_good_pages_el, gcaillaut/pubmed, geekydevu/mlquestions, geninhu/vi_opus100_processed, geninhu/vi_vivos-cv-tts-fpt_processed, german-nlp-group/german_common_crawl, gfigueroa/wikitext_processed, gfissore/arxiv-abstracts-2021, ghadeermobasher/BC5CDR-Chemical-Disease, ghadeermobasher/CRAFT-Chem, ghomasHudson/ao3_style_change, ghomasHudson/character_id, ghomasHudson/hotpotExtended, ghomasHudson/long_contra_pro, ghomasHudson/muld, ghomasHudson/vlsp, gigant/african_accented_french, gigant/m-ailabs_speech_dataset_fr, gigant/ro_corpora_parliament_processed, gigant/romanian_speech_synthesis_0_8_1, giganticode/java-cmpx-v1, giganticode/java-cmpx, gj1997/trial, gmnlp/tico19, gorkemgoknar/tr_ted_talk_translated, gpt3mix/rt20, gpt3mix/sst2, gsarti/change_it, gsarti/clean_mc4_it, gsarti/flores_101, gsarti/itacola, gsarti/wmt_vat, guoqiang/cuge, gusu/mymodel1, habu24/fdz, hartzeer/kdfjdshfje, henrychess/gutenberg-fulltext-dirty-locc, herbievore/test, hf-internal-testing/cats_vs_dogs_sample, hf-internal-testing/fixtures_ade20k, hf-internal-testing/fixtures_docvqa, hf-internal-testing/fixtures_image_utils, hf-internal-testing/fixtures_nlvr2, hf-internal-testing/fixtures_ocr, hf-internal-testing/fixtures_sintel, hf-internal-testing/librispeech_asr_demo, hf-internal-testing/librispeech_asr_dummy, hf-internal-testing/test-dataset, hf-internal-testing/transformers-metadata, hf-test/sv_corpora_parliament_processed, hfface/poopi, holodata/sensai, holylovenia/recam, hong/autonlp-data-zoo_test, honghungle/dataset, huggingFaceUser02/air21_grp13_inference_results, huggingFaceUser02/air21_grp13_tokenized_results, huggingartists/100-gecs, huggingartists/21-savage, huggingartists/25-17, huggingartists/50-cent, huggingartists/5nizza, huggingartists/5opka, huggingartists/6ix9ine, huggingartists/aaron-watson, huggingartists/abba, huggingartists/adele, huggingartists/agata-christie, huggingartists/aikko, huggingartists/aimer, huggingartists/ajr, huggingartists/alan-walker, huggingartists/andre-3000, huggingartists/arash, huggingartists/architects, huggingartists/arctic-monkeys, huggingartists/ariana-grande, huggingartists/ariya, huggingartists/armin-van-buuren, huggingartists/as-i-lay-dying, huggingartists/asdfgfa, huggingartists/asper-x, huggingartists/baklan, huggingartists/big-baby-tape, huggingartists/big-russian-boss, huggingartists/bill-wurtz, huggingartists/billie-eilish, huggingartists/billy-talent, huggingartists/bladee, huggingartists/bob-dylan, huggingartists/bones, huggingartists/booker, huggingartists/boris-grebenshikov, huggingartists/braii, huggingartists/bring-me-the-horizon, huggingartists/bruce-springsteen, huggingartists/bryan-adams, huggingartists/burzum, huggingartists/bushido-zho, huggingartists/cardi-b, huggingartists/chester-bennington, huggingartists/chief-keef, huggingartists/cocomelon, huggingartists/coin, huggingartists/coldplay, huggingartists/dababy, huggingartists/david-bowie, huggingartists/ddt, huggingartists/death-grips, huggingartists/deep-purple, huggingartists/denderty, huggingartists/dermot-kennedy, huggingartists/dj-artem-artemov, huggingartists/doja-cat, huggingartists/drake, huggingartists/dua-lipa, huggingartists/duran-duran, huggingartists/dzhizus, huggingartists/ed-sheeran, huggingartists/egor-kreed, huggingartists/egor-letov, huggingartists/elton-john, huggingartists/eminem, huggingartists/enigma, huggingartists/enya, huggingartists/epic-rap-battles-of-history, huggingartists/face, huggingartists/fascinoma, huggingartists/fear-factory, huggingartists/florence-the-machine, huggingartists/freddie-dredd, huggingartists/freelancer, huggingartists/galenskaparna-and-after-shave, huggingartists/ghost, huggingartists/ghostemane, huggingartists/ghostmane, huggingartists/gizmo, huggingartists/gorillaz, huggingartists/green-day, huggingartists/grigory-leps, huggingartists/grimes, huggingartists/gspd, huggingartists/gunna, huggingartists/hillsong-worship, huggingartists/hyuna, huggingartists/i-dont-know-how-but-they-found-me, huggingartists/idktime, huggingartists/imagine-dragons, huggingartists/jah-khalib, huggingartists/jim-morrison, huggingartists/john-k-samson, huggingartists/john-lennon, huggingartists/joji, huggingartists/joni-mitchell, huggingartists/justin-bieber, huggingartists/kanye-west, huggingartists/kasta, huggingartists/katy-perry, huggingartists/kehlani, huggingartists/kendrick-lamar, huggingartists/kesha, huggingartists/king-krule, huggingartists/kipelov, huggingartists/kishlak, huggingartists/kizaru, huggingartists/kojey-radical, huggingartists/krechet, huggingartists/krept-and-konan-bugzy-malone-sl-morisson-abra-cadabra-rv-and-snap-capone, huggingartists/kurt-cobain, huggingartists/lady-gaga, huggingartists/lazy-jay, huggingartists/led-zeppelin, huggingartists/lil-baby, huggingartists/lil-nas-x, huggingartists/lil-peep, huggingartists/lil-skies, huggingartists/lil-uzi-vert, huggingartists/linkin-park, huggingartists/little-big, huggingartists/lizer, huggingartists/logic, huggingartists/lorde, huggingartists/loud-luxury, huggingartists/loverance, huggingartists/lovv66, huggingartists/lumen, huggingartists/lyapis-trubetskoy, huggingartists/macan, huggingartists/machine-gun-kelly, huggingartists/madonna, huggingartists/marillion, huggingartists/maroon-5, huggingartists/mashina-vremeni, huggingartists/mating-ritual, huggingartists/max-korzh, huggingartists/mayot, huggingartists/mc-ride, huggingartists/melanie-martinez, huggingartists/metallica, huggingartists/mf-doom, huggingartists/michael-jackson, huggingartists/mikhail-gorshenev, huggingartists/mikhail-krug, huggingartists/miyagi, huggingartists/mnogoznaal, huggingartists/morgenshtern, huggingartists/mumiy-troll, huggingartists/muse, huggingartists/nautilus-pompilius, huggingartists/nervy, huggingartists/nicki-minaj, huggingartists/nirvana, huggingartists/noize-mc, huggingartists/oasis, huggingartists/obladaet, huggingartists/og-buda, huggingartists/ot-rus, huggingartists/our-last-night, huggingartists/oxxxymiron, huggingartists/peter-paul-and-mary, huggingartists/pharaoh, huggingartists/phish, huggingartists/pink-floyd, huggingartists/placebo, huggingartists/platina, huggingartists/pop-smoke, huggingartists/post-malone, huggingartists/pyrokinesis, huggingartists/queen, huggingartists/radiohead, huggingartists/rage-against-the-machine, huggingartists/ramil, huggingartists/rammstein, huggingartists/red-hot-chili-peppers, huggingartists/rex-orange-county, huggingartists/rihanna, huggingartists/rocket, huggingartists/sam-kim, huggingartists/scriptonite, huggingartists/sektor-gaza, huggingartists/selena-gomez, huggingartists/sergei-letov, huggingartists/shadowraze, huggingartists/sia, huggingartists/sid-sriram, huggingartists/skillet, huggingartists/slava-kpss, huggingartists/slava-marlow, huggingartists/snoop-dogg, huggingartists/sqwore, huggingartists/sugar-ray, huggingartists/suicideoscope, huggingartists/sum-41, huggingartists/sundara-karma, huggingartists/system-of-a-down, huggingartists/t-fest, huggingartists/tanzy-minus, huggingartists/taylor-swift, huggingartists/tedeschi-trucks-band, huggingartists/the-69-eyes, huggingartists/the-avalanches, huggingartists/the-beatles, huggingartists/the-gazette, huggingartists/the-grateful-dead, huggingartists/the-king-and-the-jester, huggingartists/the-notorious-big, huggingartists/the-sugarcubes, huggingartists/the-the-pigs, huggingartists/the-velvet-underground, huggingartists/the-weeknd, huggingartists/tiamat, huggingartists/till-lindemann, huggingartists/tom-waits, huggingartists/tony-raut-and-garry-topor, huggingartists/tool, huggingartists/totpoc, huggingartists/travis-scott, huggingartists/twenty-one-pilots, huggingartists/tyler-the-creator, huggingartists/upsahl, huggingartists/v-x-v-prince, huggingartists/van-morrison, huggingartists/veggietales, huggingartists/viktor-tsoi, huggingartists/vladimir-vysotsky, huggingartists/xxxtentacion, huggingartists/young-thug, huggingartists/yung-lean, huggingartists/yung-plague, huggingartists/zemfira, huggingface/DataMeasurementsFiles, huggingface/cats-image, huggingface/documentation-images, huggingface/label-files, huggingface/task-page-images, huggingface/transformers-metadata, huggingface-course/codeparrot-ds-train, huggingface-course/codeparrot-ds-valid, huggingface-course/documentation-images, husnu/tquad-v1v2, husnu/tquad2, huyongquan/d2, hyeonduck/whiteboard_abuse_dataset, hyeonduck/your_dataset_name, ia-bentebib/conv_ai_2_fr, ia-bentebib/conv_ai_3_fr, ia-bentebib/daily_dialog_fr, ia-bentebib/diafrag, ia-bentebib/dialog_re_fr, ia-bentebib/doc2dial_fr, ia-bentebib/empathetic_dialogues_fr, iamshsdf/sssssssssss, iarfmoose/qa_evaluator, iarfmoose/question_generator, image-search-2/unsplash_lite_image_dataset, imflash217/github-issues, imthanhlv/binhvq_dedup, imthanhlv/binhvq_news21_raw, imvladikon/hebrew_speech_coursera, imvladikon/hebrew_speech_kan, imvladikon/knesset_meetings_corpus, indonesian-nlp/id_newspapers_2018, indonesian-nlp/id_personachat, iohadrubin/mtop, iohadrubin/smcalflow, ixxi/my_v1, izzy-lazerson/sv_corpora_parliament_processed, jacobbieker/open-crab-sample, jaimin/wav2vec2-large-xlsr-gujarati-demo, jakeazcona/short-text-labeled-emotion-classification, jakeazcona/short-text-multi-labeled-emotion-classification, jakemarcus/MATH, jamescalam/climate-fever-similarity, jamol1741/test_dataset, jcmc/ga-IE_opus_dgt_train, jcmc/ga_mc4_processed, jdepoix/junit_test_completion, jeffboudier/testing3, jegormeister/dutch-snli, jel/covid, jeree/fr_corpora_parliament_processed, jfarray/TFM, jfrenz/legalglue, jgammack/MTL-abstracts, jgammack/SAE-door-abstracts, jgammack/THESES-abstracts, jglaser/binding_affinity, jhonparra18/spanish_billion_words_clean, jhqwqq/2, jianhong/dateset1, jianhong/dateset2, jiminsun/atc0_demo, jimregan/clarinpl_sejmsenat, jimregan/clarinpl_studio, jimregan/foinse, jimregan/lasid, jinmang2/KorQuADv1, jinmang2/common-sense-mrc, jinmang2/load_klue_re, jinmang2/medical-mask, jinmang2/pred, jiyoojeong/targetizer, jlh/coco, jmamou/augmented-glue-sst2, joelito/ler, joelito/sem_eval_2010_task_8, johnpaulbin/autonlp-data-asag-v2, jonatli/youtube-sponsor, jonfd/ICC, jozierski/ecomwebtexts-pl, jpcorb20/multidogo, jsfactory/mental_health_reddit_posts, ju-bezdek/conll2003-SK-NER, julien-c/dummy-dataset-from-colab, julien-c/persistent-space-dataset, julien-c/reactiongif, juliensimon/autonlp-data-song-lyrics-demo, juliensimon/autonlp-data-song-lyrics, juniorrios/roi_leish_test, juny116/few_glue, justinqbui/covid_fact_checked_google_api, justinqbui/covid_fact_checked_polifact, k-halid/ar, k0t1k/test, karinev/lanuitdudroit, kartikay/review-summarizer, katanaml/cord, katoensp/VR-OP, kaushikacharya/github-issues, kenlevine/CUAD, keshan/clean-si-mc4, keshan/large-sinhala-asr-dataset, keshan/multispeaker-tts-sinhala, keshan/wit-dataset, kevinassobo/sales_2015_dataset, kevinjesse/ManyTypes4TypeScript, kevinlu1248/personificationgen, khalidsaifullaah/detecThreats, khanbaba/online_love, kiamehr74/CoarseWSD-20, kingabzpro/Rick-bot-flags, kingabzpro/ar_corpora_parliament_processed, kingabzpro/ga_corpora_parliament_processed, kingabzpro/pan_corpora_parliament_processed, kingabzpro/savtadepth-flags, kingabzpro/tt_corpora_parliament_processed, kiyoung2/aistage-mrc, kiyoung2/temp, kleinay/qa_srl, kmfoda/booksum, kmfoda/name_finder_v1, kmyoo/klue-tc-dev, knilakshan20/wikigold, kowndinya23/bert-dataset, krandiash/beethoven, krandiash/sc09, krandiash/youtubemix, kresnik/librispeech_asr_test, kresnik/zeroth_korean, kroshan/BioASQ, kroshan/qa_evaluator, kudo-research/mustc-en-es-text-only, kyryl0s/ukbbc, laion/filtered-wit, laion/laion400m, laion/laion_100m_vqgan_f8, lara-martin/Scifi_TV_Shows, larcane/ko-WIT, laugustyniak/abusive-clauses-pl, lavis-nlp/german_legal_sentences, layboard/layboard.in, lbox/lbox_open, lc-col/sv_corpora_parliament_processed, leetdavid/celera, leetdavid/market-positivity-bert-tokenized, leiping/jj, leiping/teeee, leoapolonio/AMI_Meeting_Corpus, leonadase/fdner, leonadase/mycoll3, lewtun/asr-preds-test, lewtun/asr_dummy, lewtun/benchmark-test, lewtun/binary_classification_dummy, lewtun/bulk-superb-s3p-superb-49606, lewtun/drug-reviews, lewtun/gem-multi-dataset-predictions, lewtun/gem-sub-03, lewtun/gem-test-predictions, lewtun/gem-test-references, lewtun/github-issues-test, lewtun/github-issues, lewtun/mnist-preds, lewtun/my-awesome-dataset, lewtun/s3prl-sd-dummy, lewtun/test, lewtun/text_classification_dummy, lgrobol/openminuscule, lhoestq/conll2003, lhoestq/custom_squad, lhoestq/demo1, lhoestq/squad, lhoestq/test, lhoestq/test2, lhoestq/test_commit_descriptions, lhoestq/test_zip_txt, lhoestq/wikipedia_bn, liam168/nlp_c4_sentiment, lidia/202111, lijingxin/github-issues, lijingxin/squad_zen, lijingxin/squad_zh_1, limjiayi/hateful_memes_expanded, lincoln/newsquadfr, linhd-postdata/pulpo, linhd-postdata/stanzas, liweili/c4_200m, lkarjun/Malayalam-Articles, lkiouiou/o9ui7877687, lkndsjkndgskjngkjsndkj/jsjdjsdvkjvszlhdskb, llangnickel/long-covid-classification-data, lohanna/testedjkcxkf, loretoparisi/spoken-punctuation, lorsorlah/Dadedadedam, loveguruji609/dfdfsdfsdfsdfsdfsd, lpsc-fiuba/melisa, lsb/ancient-latin-passages, lsb/million-english-numbers, lucien/sciencemission, lucien/voacantonesed, lucien/wsaderfffjjjhhh, lucio/common_voice_eval, lukasmasuch/my-test-repo-3, lukasmasuch/my-test-repo-4, lukasmasuch/test-2, lukasmasuch/test-3, lukasmasuch/test, lukesjordan/worldbank-project-documents, luketheduke/stsb, luofengge/mydata, luofengge/testDataset, luomingshuang/GRID_audio, luomingshuang/GRID_text, luomingshuang/grid_lip_160_80, luozhouyang/dureader, luozhouyang/kgclue-knowledge, luozhouyang/question-answering-datasets, lvwerra/abc-test, lvwerra/abc, codeparrot/codeparrot-clean-train, codeparrot/codeparrot-clean-valid, codeparrot/codeparrot-clean, lvwerra/codeparrot-valid-clean-minimal, lvwerra/codeparrot-valid, lvwerra/github-alphacode, codeparrot/github-code, lvwerra/important_dataset, lvwerra/lm_ar_wikipedia, lvwerra/red-wine, lvwerra/repo-images, lvwerra/test, lysandre/image-to-text, lysandre/my-cool-dataset, m3hrdadfi/recipe_nlg_lite, mad/IndonesiaNewsDataset, maindadwitiya/weather_dataset, maji/npo_mission_statement_ucf, majod/CleanNaturalQuestionsDataset, makanan/umich, malay-huggingface/pembalakan, mammut/mammut-corpus-venezuela-test-set, mammut/mammut-corpus-venezuela, manifoldix/sg_testset_fhnw, manifoldix/swg_parliament_fhnw, manishk31/Demo, manu/fr_corpora_parliament_processed-lowercased, illuin/fr_corpora_parliament_processed, marinone94/nst_no, marinone94/nst_sv, mariosasko/dummy_test, mariosasko/test_multi_dir_dataset, markscrivo/OddsOn, martodaniel/terere, masked-neuron/amazon, masked-neuron/ccd, masked-neuron/qb, mattchurgin/sv_corpora_parliament_processed, matteopilotto/github-issues, maximedb/mcqa_light, maximedb/mfaq_light, maximedb/paws-x-all, maximedb/vaccinchat, maximedb/vaccinchat_retrieval, maximedb/wow, maxmoynan/SemEval2017-Task4aEnglish, maydogan/TRSAv1, mbateman/github-issues, medzaf/test, meghanabhange/chaii, meghanabhange/hilm141021, meghanabhange/hitalm141021, meghanabhange/hitalmsandbox, meghanabhange/talm141021, merve/coco, merve/folk-mythology-tales, merve/poetry, merve/qqp, metaeval/blimp_classification, metaeval/crowdflower, metaeval/ethics, metaeval/linguisticprobing, metaeval/recast, metalearning/kaggale-nlp-tutorial, metamong1/summarization_optimization, metopedia/autonlp-data-Multiple-Source-Language-Consensus-Reconstruction-o, michaelbenayoun/wikipedia-bert-128, microsoft/codexglue_method_generation, midas/citeulike180, midas/cstr, midas/duc2001, midas/inspec, midas/inspec_ke_tagged, midas/kdd, midas/kp20k, midas/kpcrowd, midas/kptimes, midas/krapivin, midas/ldke3k_medium, midas/ldke3k_small, midas/ldkp10k, midas/ldkp3k, midas/ldkp3k_small, midas/nus, midas/oagkx, midas/openkp, midas/pubmed, midas/semeval2010, midas/semeval2010_ke_tagged, midas/semeval2017, midas/semeval2017_ke_tagged, midas/test_ldkp, midas/www, mideind/icelandic-common-crawl-corpus-IC3, mideind/icelandic-error-corpus-IceEC, miesnerjacob/github-issues, mikeee/model-z, mirari/sv_corpora_parliament_processed, mishig/sample_images, mksaad/Arabic_news, ml6team/cnn_dailymail_nl, ml6team/xsum_nl, mldmm/glass_alloy_composition, mmcquade11-test/reuters-for-summarization-two, mmm-da/rutracker_anime_torrent_titles, mnaylor/evaluating-student-writing, mnemlaghi/widdd, mohamed-illiyas/wav2vec-malayalam-data, mohamed-illiyas/wav2vec-malayalam-new-data, mohamed-illiyas/wav2vec2-base-lj-demo-colab, morganchen1007/1215, morganchen1007/1216, morganchen1007/1216_00, morganchen1007/test_1213_00, moshew/my_raft, mostol/wiktionary-ipa, moumeneb1/French_arpa_lm, moumeneb1/filtered, moumeneb1/filtered_300, moumeneb1/fr_lm_dataset, moumeneb1/large_vocabulary_dataset, moumeneb1/osc_processed_lm, moumeneb1/testing, moxi43/github-issues, mozilla-foundation/common_voice_1_0, mozilla-foundation/common_voice_2_0, mozilla-foundation/common_voice_3_0, mozilla-foundation/common_voice_4_0, mozilla-foundation/common_voice_5_0, mozilla-foundation/common_voice_5_1, mozilla-foundation/common_voice_6_0, mozilla-foundation/common_voice_6_1, mozilla-foundation/common_voice_7_0, mozilla-foundation/common_voice_8_0, mpierrau/sv_corpora_parliament_processed, mr-robot/ec, mrm8488/fake-news, mrm8488/goemotions, mrojas/abbreviation, mrojas/body, mrojas/disease, mrojas/family, mrojas/finding, mrojas/medication, mrojas/procedure, mrp/Thai-Semantic-Textual-Similarity-Benchmark, msarmi9/korean-english-multitarget-ted-talks-task, msivanes/github-issues, mswedrowski/multiwiki_90k, mtfelix/datasetdemo, mtlew/0001_Angry_test, muhtasham/autonlp-data-Doctor_DE, mulcyber/europarl-mono, indonesian-nlp/mc4-id, mustafa12/db_ee, mustafa12/edaaaas, mustafa12/thors, mvarma/medwiki, mvip/tr_corpora_parliament_processed, mvip/tr_corpora_parliament_processed_non_hatted, nateraw/auto-cats-and-dogs, nateraw/auto-exp-2, nateraw/beans, nateraw/beans_old, nateraw/blahblah, nateraw/bulk-dummy, nateraw/cats-and-dogs, nateraw/cats_vs_dogs, nateraw/dummy-csv-dataset, nateraw/filings-10k, nateraw/food101, nateraw/food101_old, nateraw/huggingpics-data-2, nateraw/huggingpics-data, nateraw/image-folder, nateraw/imagefolder, nateraw/imagenette, nateraw/img-demo, nateraw/punks, nateraw/rock_paper_scissors, nateraw/sync_food101, nateraw/test, nateraw/wit, nathanlsl/news, naver-clova-conversation/klue-tc-dev-tsv, naver-clova-conversation/klue-tc-tsv, navjordj/nak_nb, ncats/EpiSet4BinaryClassification, ncats/EpiSet4NER-v1, ncats/GARD_EpiSet4TextClassification, ncduy/github-issues, ncduy/mt-en-vi, ncoop57/athena_data, ncoop57/csnc_human_judgement, ncoop57/rico_captions, neelalex/raft-predictions, nferruz/UR50_2021_04, ngdiana/hu_severity, ngdiana/uaspeech, ngdiana/uaspeech_severity, ngdiana/uaspeech_severity_high, ngdiana/uaspeech_severity_low, nickmuchi/financial-classification, nickmuchi/trade-the-event-finance, nid989/FNC-1, nielsr/FUNSD_layoutlmv2, nielsr/XFUN, nielsr/funsd, nlpconnect/dpr-nq-reader-v2, nlpconnect/dpr-nq-reader, nlpconnect/ms_marco_subset_v2.1, nlpufg/brwac-pt, nlpufg/brwac, nlpufg/oscar-pt, nlpyeditepe/tr-qnli, nlpyeditepe/tr_rte, nntadotzip/iuQAchatbot, notional/notional-python, nouamanetazi/ar_common_voice_processed, nouamanetazi/ar_opus100_processed, ntagg/data1, nthngdy/bananas, nthngdy/ccnews_split, nthngdy/openwebtext_split, ntutexas/amazon, nucklehead/ht-voice-dataset, nykodmar/cs_corpora_parliament_processed, oelkrise/CRT, omar-sharif/BAD-Bengali-Aggressive-Text-Dataset, openclimatefix/eumetsat_uk_hrv, openclimatefix/gfs, openclimatefix/goes-l2, openclimatefix/goes-mrms, openclimatefix/goes, openclimatefix/hrrr, openclimatefix/nimrod-uk-1km, orisuchy/Descriptive_Sentences_He, osanseviero/codeparrot-train, osanseviero/llama_test, osanseviero/test, oscar-corpus/OSCAR-2109, ought/raft-submission, ought/raft, outman/test, papluca/language-identification, pariajm/sharif_emotional_speech_dataset, parivartanayurveda/Malesexproblemsayurvedictreatment, pasinit/scotus, pasinit/xlwic, patrickvonplaten/ami_single_headset_segmented_and_chunked, patrickvonplaten/common_voice_6_tr, patrickvonplaten/common_voice_processed_turkish, patrickvonplaten/helena_coworking, patrickvonplaten/librispeech_asr_dummy, patrickvonplaten/librispeech_local, patrickvonplaten/librispeech_local_dummy, patrickvonplaten/scientific_papers_dummy, patrickvonplaten/sensitive_data_sv, pdesoyres/test, peixian/equity_evaluation_corpus, peixian/rtGender, pelican/test_100, persiannlp/parsinlu_entailment, persiannlp/parsinlu_query_paraphrasing, persiannlp/parsinlu_reading_comprehension, persiannlp/parsinlu_sentiment, persiannlp/parsinlu_translation_en_fa, persiannlp/parsinlu_translation_fa_en, peterbonnesoeur/autonlp-data-test_text_summarization, peterhsu/github-issues, philschmid/germeval18, philschmid/prompted-germanquad, philschmid/test_german_squad, phoelti/squad_dev, phongdtd/VinDataVLSP, phongdtd/youtube_casual_audio, phonlab-tcd/cngv1, phonlab-tcd/corpuscrawler-ga, piEsposito/br-quad-2.0, piEsposito/br_quad_20, piEsposito/squad_20_ptbr, pierreant-p/jcvd-or-linkedin, pierreguillou/lener_br_finetuning_language_model, pierreguillou/test_datasetdict, pierresi/cord, pietrolesci/ag_news, pile-of-law/pile-of-law, pki/autonlp-data-cybersecurity, pmc/open_access, polinaeterna/benchmark, polinaeterna/benchmark_dataset, polinaeterna/dummy_dataset, MLCommons/ml_spoken_words, polinaeterna/test_opus, poperson1205/mrtydi-v1.1-korean-fixed, prajin/ne_corpora_parliament_processed, princeton-nlp/datasets-for-simcse, pritamdeka/cord-19-abstract, pritamdeka/cord-19-fulltext, priya3301/Graduation_admission, priya3301/tes, priya3301/test, prk/testsq, proffttega/ILLUMINATI, proffttega/doc, proffttega/join_illuminati_to_become_rich, proffttega/persian_daily_news, project2you/asr, projecte-aina/ancora-ca-ner, projecte-aina/casum, projecte-aina/catalan_general_crawling, projecte-aina/catalan_government_crawling, projecte-aina/catalan_textual_corpus, projecte-aina/parlament_parla, projecte-aina/sts-ca, projecte-aina/teca, projecte-aina/tecla, projecte-aina/vilaquad, projecte-aina/vilasum, projecte-aina/viquiquad, projecte-aina/wnli-ca, projecte-aina/xquad-ca, psrpsj/stop_words, pstroe/cc100-latin, puffy310/yandset, pulmo/chest_xray, qa4pc/QA4PC, qanastek/ANTILLES, qanastek/ECDC, qanastek/ELRC-Medical-V2, qanastek/EMEA-V3, qanastek/WMT-16-PubMed, qfortier/instagram_ny, quarter100/boolq_log, quis/vnexpress-train, qwant/squad_fr, radhakri119/sv_corpora_parliament_processed, rahular/itihasa, rajeshradhakrishnan/malayalam_2020_wiki, rajeshradhakrishnan/malayalam_news, rajeshradhakrishnan/malayalam_wiki, ramitsurana/sanskrit, ramybaly/conll2012, ramybaly/nerd, ranim/Algerian-Arabic, ranpox/xfund, rays2pix/example, rays2pix/example_dataset, rbawden/DiaBLa, readerbench/ChatLinks, rewardsignal/reddit_writing_prompts, rgismondi/code-fill-dataset, robz/test, rocca/sims4-faces, ronaldvanos/testdata, rony/soccer-dialogues, rookieguy12/dataset, rosettarandd/rosetta_balcanica, roskoN/dailydialog, roskoN/dstc8-reddit-corpus, rubenwol/multi_news_qasrl, rubrix/cleanlab-label_errors, rubrix/gutenberg_spacy-ner, rubrix/imdb_spacy-ner, rubrix/sentiment-banking, rucyang/sales, rwebe/rwebe, s-myk/test, s3h/arabic-gec, s3h/arabic-grammar-corrections, s3h/custom-qalb-classification, s3h/customized-qalb-v2, s3h/customized-qalb, s3h/gec-arabic, s3h/gec-cleaned, s3h/gec-token-classification, s3h/poc-gec, s50227harry/test1, safik/github-issues-comments, safik/github-issues, sagnikrayc/mctest, sagnikrayc/quasar, sagteam/author_profiling, sajadk/IranianCarLicencePlate, salesken/Paraphrase_category_detection, samarlune/Holy_Coran, sangmini/FooReview, sangmini/star_tagging, samirt8/fr_corpora_parliament_processed, samjgorman/sample, sammy786/finnish_traindata, sanyu/aw, sanyu/er, sanyu/hh, sanyu/vb, sarulab-speech/bvcc-voicemos2022, sc2qa/sc2q_commoncrawl, sc2qa/sc2q_commoncrawl_large, sc2qa/sc2qa_commoncrawl, sdfufygvjh/fgghuviugviu, seamew/ChnSentiCorp, seamew/Hotel, seamew/THUCNews, seamew/THUCNewsText, seamew/THUCNewsTitle, seamew/Weibo, seanbethard/autonlp-data-summarization_model, sebastiaan/test-cefr, sebastian-hofstaetter/tripclick-training, segments/sidewalk-semantic, semeru/completeformer-masked, sentence-transformers/embedding-training-data, sentence-transformers/msmarco-hard-negatives, sentence-transformers/parallel-sentences, sentence-transformers/reddit-title-body, seregadgl/test_set, sevbqewre/vebdesbdty, severo/autonlp-data-sentiment_detection-3c8bcd36, severo/embellishments, severo/wit, seyia92coding/steam_games_2019.csv, shahp7575/sia_pile_sample, shahp7575/sia_tp_sample, shahrukhx01/questions-vs-statements, shaina/covid19, shanya/website_metadata_c4_toy, shao/git_data, shao/test, sharejing/BiPaR, sheryylli/utr_total_reads, shibing624/nli_zh, shibing624/source_code, shivam/hindi_pib_processed, shivam/marathi_pib_processed, shivam/marathi_samanantar_processed, shivam/test-translation-2, shivam/test-translation, shivam/test, shivkumarganesh/CoLA, shivmoha/squad-unanswerable, shivmoha/squad_adversarial_manual, shpotes/ms_coco, shpotes/tfcol, sia-precision-education/pile_cpp, sia-precision-education/pile_js, sia-precision-education/pile_python, sia-precision-education/sia_pile_sample, sijpapi/batch13, sijpapi/funsd, sijpapi/funsds, sil-ai/bloom-lm, silentzone/test, sine/zzz, sismetanin/rureviews, smallv0221/my-test, softcatala/Europarl-catalan, softcatala/Softcatala-Web-Texts-Dataset, softcatala/Tilde-MODEL-Catalan, softcatala/ca_text_corpus, softcatala/catalan-dictionary, softcatala/open-source-english-catalan-corpus, solomonk/reddit_mental_health_posts, spacemanidol/ms_marco_doc2query, spacemanidol/msmarco_passage_ranking, spasis/datasets-github-issues, spasis/github-issues, sshleifer/pseudo_bart_xsum, stas/c4-en-10k, stas/openwebtext-10k, stas/oscar-en-10k, stas/wmt14-en-de-pre-processed, stas/wmt16-en-ro-pre-processed, stevhliu/demo, stiel/skjdhjkasdhasjkd, stjokerli/TextToText_boolq, stjokerli/TextToText_boolq_seqio, stjokerli/TextToText_cb, stjokerli/TextToText_cb_seqio, stjokerli/TextToText_copa, stjokerli/TextToText_copa_seqio, stjokerli/TextToText_mnli, stjokerli/TextToText_mnli_seqio, stjokerli/TextToText_rte, stjokerli/TextToText_rte_seqio, subiksha/OwnDataset, superb/superb-data, susumu2357/squad_v2_sv, svakulenk0/qrecc, svakulenk0/spoken_kgqa, svalabs/all-nli-german-translation-wmt19, svanhvit/iceErrorCorpus, svanhvit/icelandic-ner-MIM-GOLD-NER, tals/test, tanfiona/causenet_wiki, tasosk/airlines, tau/fs, tau/mrqa, tau/scientific_papers, tau/scrolls, tesemnikov-av/toxic_dataset_classification, tesemnikov-av/toxic_dataset_ner, testOrganization01/test05, teven/all_wikipedia_passages, teven/c4_15M, teven/github_all_lang_filtered, teven/matched_passages_wikidata, teven/mpww, teven/mpww_all_passages, teven/prompted_examples, teven/pseudo_crawl_en_seeds, teven/stackexchange, tharindu/MOLD, tharindu/SOLID, thiemowa/argumentationreviewcorpus, thiemowa/empathyreviewcorpus, thomwolf/codeparrot-train, thomwolf/codeparrot-valid, thomwolf/codeparrot, thomwolf/github-dataset, thomwolf/github-python, thomwolf/very-good-dataset, thomwolf/very-test-dataset-2, thomwolf/very-test-dataset, tianxing1994/temp, toddmorrill/github-issues, toloka/CrowdSpeech, toloka/VoxDIY-RusNews, tommy19970714/common_voice, toriving/kosimcse, toriving/talktalk-sentiment-210713-multi-singleturn-custom-multiturn, tranduyquang2205/vietnamese_dataset, transformersbook/codeparrot-train, transformersbook/codeparrot-valid, transformersbook/codeparrot, trnt/github-issues, ttj/metadata_arxiv, turingbench/TuringBench, uasoyasser/rgfes, ubamba98/ro_cv7_processed, ucberkeley-dlab/measuring-hate-speech, uit-nlp/vietnamese_students_feedback, ujjawal1612/quora, unicamp-dl/mmarco, unicamp-dl/mrobust, usc-isi/WikiConvert, uva-irlab/canard_quretec, uva-irlab/trec-cast-2019-multi-turn, uyeongjae/load_klue_re_agmented, valurank/12-factor, valurank/PoliticalBias, valurank/PoliticalBias_AllSides_Txt, valurank/PoliticalBias_Sources, valurank/hate-multi, valurank/news-12factor, valurank/offensive-multi, vanadhi/finlitqa, vannacute/AmazonReviewHelpfulness, vannora/pdata, vannynakamura/leish, vasilis/et_corpora_parliament_processed, vasudevgupta/amazon-ml-hack, vasudevgupta/bigbird-tokenized-natural-questions, vasudevgupta/data, vasudevgupta/fairseq-ljspeech, vasudevgupta/gsoc-librispeech, vasudevgupta/natural-questions-validation, vasudevgupta/prml_data_contest, vasudevgupta/temperature-distribution-2d-plate, vasudevgupta/temperature-distribution-3d-cylinder, iitm-ddp/iiith-indic-speech, vblagoje/lfqa, vblagoje/lfqa_support_docs, vblagoje/wikipedia_snippets_streamed, vctc92/sdsd, vctc92/test, vera-pro/ShadowLink, versae/bibles, versae/modernisa, versae/norwegian-t5-dataset-debug, versae/norwegian-t5-dataset-debug2, versae/norwegian-t5-dataset-debug3, vershasaxena91/datasets, vershasaxena91/squad_multitask, vesteinn/icelandic-ner-MIM-GOLD-NER, vesteinn/icelandic-qa-NQiI, victor/autonlp-data-imdb-reviews-sentiment, vidhur2k/multilingual-hate-speech, vincentclaes/mit_indoor_scenes, vishnun/huggingpics-data, vivekverma239/question-generation, vkhangpham/github-issues, vocab-transformers/wiki-en-passages-20210101, vs4vijay/VizDS, vumichien/common_voice_large, vumichien/common_voice_large_jsut_jsss_css10, vumichien/ja_opus100_processed, w-nicole/childes_data, w-nicole/childes_data_no_tags, w-nicole/childes_data_no_tags_, w-nicole/childes_data_with_tags, w-nicole/childes_data_with_tags_, w11wo/imdb-javanese, wanagenst/maslow-six-choices, wanagenst/maslow-stories, wanagenst/plutchik-nine-choices, wanagenst/plutchik-stories, wanagenst/reiss-stories, wanagenst/reiss-twenty-choices, wardenga/lsoie, warwickai/financial_phrasebank_mirror, webek18735/ddvoacantonesed, webek18735/dhikhscook, webimmunization/COVID-19-vaccine-attitude-tweets, webis/args_me, webis/conclugen, webis/ms-marco-anchor-text, weijieliu/senteval_cn, wesamhaddad14/testdata, wicho/stylekqc-style, wietsedv/stsbenchmark, wifis/ouivirtual, wikilee/ADFA_Mapping, wikimedia/wikipedia, wikimedia/wikisource, winvoker/turkish-sentiment-analysis-dataset, wisdomify/story, wmt/europarl, wmt/news-commentary, wmt/uncorpus, wmt/wikititles, wmt/wmt10, wmt/wmt13, wmt/wmt14, wmt/wmt15, wmt/wmt16, wmt/wmt17, wmt/wmt18, wmt/wmt19, wpicard/nostradamus-propheties, wzkariampuzha/EpiClassifySet, wzkariampuzha/EpiExtract4GARD, wzywzy/telegram_summary, botisan-ai/cantonese-mandarin-translations, xiaj/ds_test, xiaj/test0919, xiaobendanyn/demo, xiaobendanyn/nyt10, xiaobendanyn/tacred, xkang/github-issues, xuyeliu/notebookCDG, yabramuvdi/wfh-problematic, yannobla/Sunshine, yazdipour/text-to-sparql-kdwd, ydshieh/coco_dataset_script, yerevann/sst2, yharyarias/tirads_tiroides, yhavinga/mc4_nl_cleaned, yluisfern/PBU, yo/devparty, yonesuke/Ising2D, yonesuke/Vicsek, yonesuke/kuramoto, ysharma/rickandmorty, yuanchuan/annotated_reference_strings, yuchenlin/OntoRock, yuvalkirstain/asset, yuvalkirstain/contract_nli-debug, yuvalkirstain/contract_nli_t5, yuvalkirstain/contract_nli_t5_lm, yuvalkirstain/qasper_t5, yuvalkirstain/qasper_t5_lm, yuvalkirstain/qmsum_t5, yuvalkirstain/qmsum_t5_lm, yuvalkirstain/quality, yuvalkirstain/quality_debug, yuvalkirstain/quality_squad, yuvalkirstain/quality_squad_debug, yuvalkirstain/quality_t5, yuvalkirstain/quality_t5_lm, yuvalkirstain/scrolls_t5, yuvalkirstain/squad_full_doc, yuvalkirstain/squad_seq2seq, yuvalkirstain/squad_t5, yuvalkirstain/summ_screen_fd_t5, yuvalkirstain/summ_screen_fd_t5_lm, yxchar/ag-tlm, yxchar/amazon-tlm, yxchar/chemprot-tlm, yxchar/citation_intent-tlm, yxchar/hyp-tlm, yxchar/imdb-tlm, yxchar/rct-20k-tlm, yxchar/sciie-tlm, z-uo/female-LJSpeech-italian, z-uo/male-LJSpeech-italian, z-uo/squad-it, zapsdcn/ag, zapsdcn/amazon, zapsdcn/chemprot, zapsdcn/citation_intent, zapsdcn/hyperpartisan_news, zapsdcn/imdb, zapsdcn/rct-20k, zapsdcn/sciie, zf-org/org_dataset, zfaB4Hmm/test, zhangruihan1/face-recognition-validation, zhangruihan1/face-recognition, zhangruihan1/fr-cfp_fp, zhoujun/hitab, zhufy/xquad_split, zj88zj/PubMed_200k_RCT, zj88zj/SCIERC, zloelias/kinopoisk-reviews-short, zloelias/kinopoisk-reviews, zloelias/lenta-ru-short, zloelias/lenta-ru, zwang199/autonlp-data-traffic_nlp_binary, fancyerii/test, ArnavL/finetune_preprocessed_yelp, huggan/anime-faces, GEM-submissions/lewtun__this-is-a-test__1646314818, GEM-submissions/lewtun__this-is-a-test__1646316929, v-card/lol, fuliucansheng/wheat, davanstrien/testhugit, testst/dsdfasdfsaf, firzens/authors, NLPC-UOM/Sinhala-Tamil-Aligned-Parallel-Corpus, NLPC-UOM/AnanyaSinhalaNERDataset, openclimatefix/gfs-reforecast, nlpaueb/finer-139, GEM-submissions/ratishsp__seqplan__1646397329, GEM-submissions/ratishsp__seqplan__1646397829, Alvenir/alvenir_asr_da_eval, google/xtreme_s, anjandash/java-8m-methods-v1, PhilSad/data-guided-scp-gptj-lit, elkarhizketak, ruanchaves/hashset_distant_sampled, ruanchaves/hashset_distant, chiarab/covid-tweet-sentiment, ruanchaves/hashset_manual, ruanchaves/stan_large, ruanchaves/stan_small, ruanchaves/boun, ruanchaves/dev_stanford, ruanchaves/test_stanford, batterydata/paper-abstracts, Davis/Swahili-tweet-sentiment, codyburker/yelp_review_sampled, OrfeasTsk/TriviaQA, ruanchaves/nru_hse, ruanchaves/loyola, AhmedSSoliman/QRCD, mbartolo/synQA, Paulosdeanllons/sedar, ruanchaves/bt11, ruanchaves/binkley, ruanchaves/jhotdraw, ruanchaves/lynx, ruanchaves/snap, crystina-z/nocs-mrtydi, crystina-z/nocs-mrtydi-corpus, rocca/emojis, Siyam/mydata, flxclxc/english-norwegian-bible-set, Carlisle/msmarco-passage-non-abs, Carlisle/msmarco-passage-abs, wypoon/github-issues, gustavecortal/fr_covid_news, teven/hal_tests, Cyberfish/multiwoz2.1, Jiejie/asr_book_lm_v1.1, mateiut1/sv_corpora_parliament_processed, jackwyndham/gloru, flxclxc/en-no-semantic-search-set, m-newhauser/senator-tweets, FinScience/FS-distilroberta-fine-tuned, flxclxc/en_no_with_embeddings, Carlisle/msmacro-test, Carlisle/msmacro-passage-non-abs-small, flxclxc/en_no_with_embeddings2, Carlisle/msmacro-test-corpus, msollami-sf/processed_mnist, Sunghun/1, Sunghun/Example1, Sunghun/Example2, pensieves/mimicause, ayberkuckun/hu_corpora_parliament_processed, chiarab/tweet-text-full, chiarab/tweets-dict, helloway/data-test, FanFan/sentiment-amazon-test, nielsr/rvl-cdip-demo, z-uo/qasper-squad, lhoestq/test_none_image, jquiros/suicide, Noricum/der_standard_processed, nielsr/rvlcdip-demo, davanstrien/iiif_biblissima_w_image, shpotes/bosch-small-traffic-lights-dataset, Huseyin/tummul, Marianina/Example2, Carlosholivan/base, Marianina/sentiment-banking, franz96521/BilletesMexico, crystina-z/no-nonself-mrtydi, jquiros/clean, SocialGrep/the-antiwork-subreddit-dataset, laion/laion2B-en, christianloyal/loyal_clinc_MLE, crystina-z/no-nonself-mrtydi-corpus, laion/laion2B-multi, chiarab/jan-2021-unlabeled-full, chiarab/combined-train, chiarab/may-2020-unlabeled-full, hadehuang/testdataset, fmplaza/EmoEvent, abdusah/adi5, nortizf/risk_multilabel, khcy82dyc/zzzz, ai4bharat/IndicParaphrase, albertvillanova/wikipedia, rubrix/sst2_with_predictions, nthngdy/oscar-mini, laion/laion1B-nolang, ia-bentebib/tweet_eval_sentiment_fr, drAbreu/bc4chemd_ner, fuliucansheng/unitorch-datasets, Non-Residual-Prompting/C2Gen, FanFan/sentiment-amazon-clean, davanstrien/iiif_manuscripts_label_ge_100, christianloyal/loyal_clinc_MLE_unlabeled, CLUTRR/v1, damlab/uniprot, agemagician/u50_test, chiarab/vaccine-sentiment-clean, chiarab/vaccine-sentiment-clean-2, juched/spotifinders, ArnavL/TWTEval-Pretraining-Processed, juched/spotifinders-dataset, PaddlePaddle/dureader_robust, kyleinincubated/autonlp-data-cat33, Georgii/poetry-genre, joangaes/depression, ai4bharat/IndicHeadlineGeneration, ai4bharat/IndicSentenceSummarization, ai4bharat/IndicWikiBio, ai4bharat/IndicQuestionGeneration, aasd291809733/myself, Mulin/sg-holiday, gustavecortal/diverse_french_news, Azu/Handwritten-Mathematical-Expression-Convert-LaTeX, sasha/pii-oscar-sample, ruanchaves/reddit_china, Biomedical-TeMU/ProfNER_corpus_classification, Biomedical-TeMU/ProfNER_corpus_NER, yjernite/datasets_clusters, McGill-NLP/feedbackQA, Biomedical-TeMU/SPACCC_Sentence-Splitter, Biomedical-TeMU/SPACCC_Tokenizer, Biomedical-TeMU/CodiEsp_corpus, Mulin/weather-data, lstynerl/M1a1d, Khedesh/ArmanNER, gigant/horse2zebra, Khedesh/PeymaNER, GEM-submissions/ratishsp__macro__1646998904, Khedesh/ParsTwiNER, rubrix/big_patent_a_test_100, GEM-submissions/v2-outputs-and-scores, solomonk/reddit, crystina-z/no-nonself-title-mrtydi-corpus, Zeel/common, microsoft/CLUES, Unso/amazon_reviews_multi_de, Unso/amazon_reviews_multi_es, Unso/amazon_reviews_multi_fr, Unso/amazon_reviews_multi_ja, Unso/amazon_reviews_multi_zh, Unso/catalonia_independence_ca, Unso/catalonia_independence_es, Unso/muchocine_es, Unso/xglue_nc, rakkaalhazimi/hotel-review, jglaser/protein_ligand_contacts, Amba/mt5-small-finetuned-amazon-en-es_books_dataset, Amba/mt5-small-finetuned-amazon-en-es_tokenized_datasets, Mudrock/huggingpics-data, lanesket/r-lang-dataset, ctheodoris/Genecorpus-30M, Wikram/autonlp-data-QuestionAnswer, SetFit/catalonia_independence_ca, SetFit/catalonia_independence_es, SetFit/xglue_nc, SetFit/amazon_reviews_multi_de, SetFit/amazon_reviews_multi_es, SetFit/amazon_reviews_multi_ja, SetFit/amazon_reviews_multi_zh, SetFit/amazon_reviews_multi_fr, SetFit/muchocine_es, Unso/myfirstds, multiIR/toy_data, rocca/top-reddit-posts, carbon12/evaluating_student_writing, willcai/wav2vec2_common_voice_accents, chiarab/just-vaccine, gj1997/trial2, chiarab/final-train, Parmann/speech_classification, chiarab/add-10, chiarab/dct-keyword-all, chiarab/vaccine-keyword-all, gj1997/trial3, chiarab/sorted-with-10-lessneu, chiarab/dct-keyword-us, chiarab/dct-keyword-uk, stjokerli/TextToText_wic_seqio, stjokerli/TextToText_multirc_seqio, stjokerli/TextToText_record_seqio, zhiweitong/wiki_dpr-qg, stjokerli/TextToText_wsc_seqio, stjokerli/TextToText_axg_seqio, stjokerli/TextToText_axb_seqio, joypersicanon/ph-en-text, Amba/bert-finetuned-ner_raw_datasets, Amba/bert-finetuned-ner_tokenized_datasets, raphaelmerx/lfqa-id, weizhey/asap_review, lewtun/top_quark_tagging, chiarab/canada, chiarab/dct-keyword-canada, chiarab/uk, chiarab/us, wanyu/IteraTeR_full_sent, chiarab/vax-keyword-canada, chiarab/vax-keyword-uk, chiarab/vax-keyword-us, Evan/spaCy-github-issues, wanyu/IteraTeR_full_doc, wanyu/IteraTeR_human_sent, wanyu/IteraTeR_human_doc, benjaminbeilharz/ed-for-lm, Aclairs/ALBERTFINALYEAR, reatiny/chinese-spam-10000, alkzzz/palui, GEM-submissions/lewtun__this-is-a-test__1647246406, GEM-submissions/lewtun__mt5_xl__1647246454, ianomunga/MIAS, GEM-submissions/lewtun__this-is-a-test__1647247409, EMBO/BLURB, Jiejie/asr_book_lm_v2.0, GEM-submissions/lewtun__this-is-a-test__1647256250, wikitablequestions, gimmaru/github-issues, openclimatefix/uk_pv, GEM-submissions/lewtun__this-is-a-test__1647263213, marsyas/gtzan, GEM/xwikis, lvwerra/my_test, lvwerra/my_test_2, Jiejie/asr_book_lm_v2.1, EALeon16/poems, oscar-corpus/OSCAR-2201, cgarciae/cartoonset, tdklab/Hebrew_Squad_v1, PradeepReddyThathireddy/Inspiring_Content_Detection_Dataset, conll2012_ontonotesv5, anjandash/java-8m-methods-v2, victor/autonlp-data-tweet-sentiment, agemagician/uniref50, hazal/Turkish-Biomedical-corpus-trM, rubrix/go_emotions_training, Jiejie/asr_book_lm_v2.3, malteos/paperswithcode-aspects, kSaluja/tokens_data, Dayyan/bwns, Hiruni99/eng-sin-laws-and-acts, jeffboudier/testing, rubrix/research_titles_multi-label, rubrix/go_emotions_multi-label, elricwan/roberta-data, willcai/wav2vec2_common_voice_accents_3, jorge-henao/disco_poetry_spanish, gcaillaut/enwiki_el, crabz/stsb-sk, mfleck/german_extracted_text, ebrigham/agnewsadapted, yangdong/ecqa, davanstrien/newspaper_navigator_people, voidful/NMSQA, shpotes/SJTU, shpotes/ImVisible, LongNN/news_sum, tomekkorbak/test, tomekkorbak/pile-curse-small, MatanBenChorin/temp, shivam/split-test, rubrix/research_papers_multi-label, wietsedv/udpos28, nimaster/autonlp-data-devign_raw_test, anthonny/hate_speech, umanlp/xscitldr, nikit91/qald9, n6L3/kaggle, n6L3/nlp, Wang123/codeparrot-train, Wang123/codeparrot-valid, tomekkorbak/pile-curse-full_test, DrishtiSharma/MESD-Processed-Dataset, abidlabs/crowdsourced-test3, abidlabs/crowdsourced-test4, abidlabs/crowdsourced-test5, shivam/split, mrm8488/test2, mercerchen/fakenews-jsonl, Mionozmi/Ddy, franz96521/scientific_papers, Paulosdeanllons/ODS_BOE, malteos/test-ds, malteos/test2, malteos/aspect-paper-embeddings, elena-soare/crawled-ecommerce, abdusah/arabic_speech_massive, cfilt/iwn_wordlists, arun007/mydata, tomekkorbak/pile-debug, malteos/aspect-paper-metadata, hackathon-pln-es/parallel-sentences, fofiu/test-dataset, indonesian-nlp/eli5_id, tomekkorbak/pile-curse-chunk-1, tomekkorbak/pile-curse-chunk-0, tomekkorbak/pile-curse-chunk-3, tomekkorbak/pile-curse-chunk-2, tomekkorbak/pile-curse-chunk-5, tomekkorbak/pile-curse-chunk-6, tomekkorbak/pile-curse-chunk-4, tomekkorbak/pile-curse-chunk-16, tomekkorbak/pile-curse-chunk-15, tomekkorbak/pile-curse-chunk-14, tomekkorbak/pile-curse-chunk-13, tomekkorbak/pile-curse-chunk-8, tomekkorbak/pile-curse-chunk-9, tomekkorbak/pile-curse-chunk-20, tomekkorbak/pile-curse-chunk-18, tomekkorbak/pile-curse-chunk-7, tomekkorbak/pile-curse-chunk-24, tomekkorbak/pile-curse-chunk-17, tomekkorbak/pile-curse-chunk-21, tomekkorbak/pile-curse-chunk-22, tomekkorbak/pile-curse-chunk-10, tomekkorbak/pile-curse-chunk-26, tomekkorbak/pile-curse-chunk-11, tomekkorbak/pile-curse-chunk-27, tomekkorbak/pile-curse-chunk-12, tomekkorbak/pile-curse-chunk-25, tomekkorbak/pile-curse-chunk-19, tomekkorbak/pile-curse-chunk-23, tomekkorbak/pile-curse-chunk-29, tomekkorbak/pile-curse-chunk-28, tomekkorbak/pile-curse-full, scjnugacj/scjn_dataset_ner, kingabzpro/savtadepth-flags-V2, yhavinga/ccmatrix, JennyGub/PrivTest, indonesian-nlp/lfqa_id, artemis13fowl/sst-3, IIC/spanish_biomedical_crawled_corpus, scjnugacj/scjn_dataset_corpus_tesis, hackathon-pln-es/MESD, MatanBenChorin/our_dataset, vinaykudari/acled-token-summary, IIC/lfqa_spanish, TomTBT/pmc_open_access_xml, Heriot-WattUniversity/CANDOR-corpus, Heriot-WattUniversity/bAbi-Plus, Heriot-WattUniversity/switchboard, Heriot-WattUniversity/Groningen-Meaning-Bank, enimai/MuST-C-fr, voidful/asr_glue_train, dannyvas23/textosuicidios, abidlabs/Urdu-ASR-flags, abidlabs/Urdu-ASR-flags2, kingabzpro/Urdu-ASR-flags2, dannyvas23/notas_suicidios, Splend1dchan/phone-mnli, nathanaelc/commonvoice8, hazal/electronic-radiology-phd-thesis-trR, jacobbieker/hyperion-clouds, rubrix/frases_muchocine, monash_tsf, kingabzpro/Urdu-ASR-flags, xiongshunjie/ProDataset, polinaeterna/audiofolder_zip_one_split, eleldar/github-issues, Cheltone/MyTwitter, nielsr/CelebA-faces, Dabs/bioasq, blo05/cleaned_wiki_en, CohleM/sample, fangyuan/lfqa_discourse, rubrix/frases_muchocine_NER, EALeon16/autonlp-data-pruebapoems, hackathon-pln-es/comentarios_depresivos, hackathon-pln-es/poems-es, rubrix/muchocine_ner, rubrix/pococine_textcat, IIC/bioasq22_es, rubrix/muchocine_aspects, josearangos/spanish-calls-corpus-Home, josearangos/spanish-calls-corpus-Caribbean, josearangos/spanish-calls-corpus-Friends, nedroden/nlcity, rubrix/muchocine_aspectos, archmagos/HourAI-data, emrecan/nli_tr_for_simcse, d0r1h/Real_vs_Fake, Carlos89apc/TraductorES_Kichwa, sayalaruano/FakeNewsCorpusSpanish, sayalaruano/FakeNewsSpanish_Kaggle1, sayalaruano/FakeNewsSpanish_Kaggle2, openclimatefix/mrms, erikacardenas300/Zillow-Text-Listings, jullarson/sdd, rahulkuruvilla/CovidTravelQA, nreimers/trec-covid, Mnauel/MESD, IsaacRodgz/Fake-news-latam-omdena, sichenzhong/squad_v2_back_trans_aug, sumedh/MeQSum, nthngdy/oscar-small, 10zinten/op_classical_corpus_bo, CohleM/CohleM, CohleM/Classification, grabbysingh/funsd, nreimers/trec-covid-generated-queries, peerapongch/aion-3-20220323, tau/multi_news, GEM-submissions/lewtun__this-is-a-test-name__1648048960, Rakesharma21/transliterate-eng-hi, huggan/edges2shoes, huggan/facades, albertvillanova/zip_zip, polinaeterna/test_encode_example, huggan/night2day, huggan/maps, huggan/cityscapes, huggan/ae_photos, RUC-DataLab/ER-dataset, doctorlan/bert-amz-c, crystina-z/msmarco-passage-dl19, crystina-z/msmarco-passage-dl20, tiennvcs/your_dataset_name, tartuNLP/liv4ever, sentence-transformers/NQ-retrieval, GEM-submissions/lewtun__this-is-a-test-name__1648111972, M-Quan/sv_corpora_parliament_processed, huggan/CelebA-HQ, Jira/mao, huggan/cartoon-faces, huggan/cats, Gare/Classical_Chinese_to_Modern_Chinese, Vipitis/Shadertoys-bimodal, ebrigham/NOS-news, GEM-submissions/lewtun__this-is-a-test-name__1648137608, wesamhaddad14/spanishNLP, Openmindedness/mc_chat_scraped_from_toxigon_anarchy, huggan/AFHQ, DrishtiSharma/MESD-Processed-Dataset-v2, beyond/20NG, huggan/AFHQv2, DFKI-SLT/scidtb, huggan/metfaces, pietrolesci/nli_fever, pietrolesci/conj_nli, Fatima-Gh/GLARE, sosuke/dataset_for_ease, GEM-submissions/lewtun__this-is-a-test-name__1648220072, roman_urdu_hate_speech, JuanJoseMV/CIE10-classifier-Test_Dataset, facebook/winoground, nndhung/garlic, avacaondata/lfqa_squad, Splend1dchan/NMSQA_w2v2-st-ft, Gare/github-issues, benjamin/ner-uk, laion/laion2B-en-safety, laion/laion2B-multi-safety, laion/laion1B-nolang-safety, laion/laion5B-index, Marmoot/Fake_News_jpposadas, Marmoot/Kaggle_1, Georgii/russianPoetry, MorVentura/TRBLLmaker, medardodt/ESsnli, jglaser/pdbbind_complexes, ashishpapanai/inverted_vs_normal, Jiangjie/ekar_chinese, Jiangjie/ekar_english, atenglens/taiwanese_english_translation, nadhifikbarw/id_ohsuhmed, tomekkorbak/pile-toxic-chunk-0, UrukHan/wav2vec2-russian, T-202/github-issues, TzRain/AMPs, smilegate-ai/kor_unsmile, UrukHan/t5-russian-spell_I, UrukHan/t5-russian-spell_II, UrukHan/t5-russian-spell_III, stjokerli/TextToText_DocNLI_seqio, laion/conceptual-captions-12m-webdataset, leonadase/fdRE, IIC/spanish_biomedical_crawled_corpus_splitted, mrm8488/AnswerSum, IIC/ms_marco_es, stjokerli/TextToText_squad_seqio, sac3tf/roman_urdu, adv_glue, sichenzhong/squad_v2_synonym_aug, carolina-c4ai/corpus-carolina, wrapper228/arxiv_data_extended, nobodylll/test_huggingface_dataset, laion/laion-synthetic-115m, IIC/msmarco_es, laion/laion2B-en-watermark, KeithHorgan98/autotrain-data-TweetClimateAnalysis, laion/water-vit-webdataset, Splend1dchan/NMSQA_w2v2-st-ft2, Pavithra/sampled-code-parrot-ds-train, Pavithra/sampled-code-parrot-ds-valid, M-Quan/sv_corpora_parliament_processe, hackathon-pln-es/Dataset-Acoso-Twitter-Es, abdusah/arabic_speech_massive_sm, huggan/horse2zebra, tskolm/youtube_top_popular_videos_comments, huggan/monet2photo, huggan/cezanne2photo, huggan/ukiyoe2photo, huggan/vangogh2photo, huggan/apple2orange, huggan/iphone2dslr_flower, huggan/summer2winter_yosemite, huggan/grumpifycat, malay-huggingface/jelapang-padi, hackathon-pln-es/Fake_news_train, rzhang123/UScourt, marksverdhei/clickbait_title_classification, laion/laion2B-en-joined, laion/laion2B-multi-joined, laion/laion1B-nolang-joined, liza-alx/tokenized_data_yahoo, liza-alx/tokenized_data, laion/laion2B-multi-watermark, laion/laion1B-nolang-watermark, hackathon-pln-es/nli-es, sichenzhong/squad_v2_word2vec_aug, vumichien/pitch_japanese_data, Cptburgos/aircraft_reports, andreamorgar/spanish_poetry, blo05/cleaned_wiki_en_0-20, javilonso/mex_data, Splend1dchan/phone-squad, artemis13fowl/imdb, blo05/cleaned_wiki_en_20-40, ntt123/infore, omerm/test_dataset, MLCommons/peoples_speech_v1.0, hackathon-pln-es/Axolotl-Spanish-Nahuatl, lislia/GDPR, MF-Rocket/MFRPC, sichenzhong/squad_v2_context_aug, sichenzhong/squad_v2_back_trans_synonym_aug, copenlu/sufficient_facts, simonchristensen1/GDPR, vlsb/autotrain-data-security-texts-classification-distilroberta, hackathon-pln-es/disco_spanish_poetry, nateraw/test-imagefolder-dataset, marksverdhei/reddit-syac-urls, oscarfossey/NLP_Pole_emploi, su/jingdong, Atnafu/Parallel_dataset_for_Ethiopian_languages, DioLiu/Test1, DioLiu/Test2, tomekkorbak/pile-nontoxic-chunk-0, Splend1dchan/phone-squad-parquet, benwoodyear/guardian_crosswords, LeoFeng/MLHW_6, Samip/Scotch, tomekkorbak/pile-toxicity-balanced, huggan/CelebA-faces-with-attributes, rubrix/news, rubrix/news_test, rubrix/test_datasetdict, johnowhitaker/glid3_orbs, nntadotzips/vietjack_geography_original_labeled, arjundd/dosma-data, hackathon-pln-es/neutral-es, NbAiLab/nb_bert_debiased, KevinZ/psycholinguistic_eval, sichenzhong/squad_v2_back_trans_possib_aug, sichenzhong/squad_v2_back_trans_synonym_possib_aug, ConvLab/multiwoz21, Ericblancosf/subtechnique, malay-huggingface/lane-detection, tan9/bioasq, HosseinGT/wider_face_background, tan9/pubmedQA, sfdkiaei/EAS, jimregan/psst, huggan/few-shot-obama, huggan/few-shot-grumpy-cat, huggan/few-shot-panda, huggan/few-shot-cat, huggan/few-shot-dog, huggan/few-shot-anime-face, huggan/pokemon, blo05/cleaned_wiki_en_40-60, huggan/few-shot-art-painting, huggan/few-shot-fauvism-still-life, huggan/few-shot-flat-colored-patterns, huggan/few-shot-moongate, huggan/few-shot-pokemon, huggan/few-shot-shells, huggan/few-shot-skulls, hackathon-pln-es/es_tweets_laboral, lislia/gdpr_train, metashift, jamescalam/stoic-corpus, PaulLerner/viquae_passages, nntadotzips/vietjack_geography_original_labeled_train_test, jglaser/pdb_protein_ligand_complexes, hackathon-pln-es/biomed_squad_es_v2, iluvvatar/RuNNE, DMetaSoul/chinese-semantic-textual-similarity, AykeeSalazar/violation-classification, copenlu/fever_gold_evidence, UrukHan/t5-russian-summarization, marksverdhei/wordnet-definitions-en-2021, hackathon-pln-es/spanish-poetry-dataset, hackathon-pln-es/spanish-to-quechua, aymen31/PlantVillage, abdulhady/ckb, blo05/cleaned_wiki_en_60-80, narad/rockingface, johnowhitaker/colorbs, fmmolina/eHealth-KD-Adaptation, Pavithra/sampled-code-parrot-train-100k, Pavithra/sampled-code-parrot-valid-100k, hackathon-pln-es/readability-es-caes, hackathon-pln-es/unam_tesis, hackathon-pln-es/scientific_papers_en, miracFence/scientific_papers_es, miracFence/scientific_papers_en_es, hackathon-pln-es/scientific_papers_es, hackathon-pln-es/scientific_papers_en_es, hackathon-pln-es/ITAMA-DataSet, ManRo/Sexism_Twitter_MeTwo, amandakonet/climate_fever_adopted, pragnakalp/squad_v2_french_translated, blo05/cleaned_wiki_en_80-100, ikekobby/40-percent-cleaned-preprocessed-fake-real-news, arch-raven/music-fingerprint-dataset, hackathon-pln-es/readability-es-hackathon-pln-public, huggan/inat_butterflies, elena-soare/datasaur_text2sql, huggingartists/olga-buzova, Nart/abkhaz_text, lislia/clean_policyQA_train, huggan/inat_butterflies_top10k, damlab/human_hiv_ppi, nielsr/eurosat-demo, huggan/flowers-102-categories, met/mm, huggan/smithsonian-butterfly-lowres, met/Meti_ICT, SocialGrep/the-reddit-dataset-dataset, aaraki/github-issues, DioLiu/Test3, rafay/upside_down_detection_cifar100, jet-universe/jetclass, PolyAI/minds14, aaraki/github-issues2, ramnika003/autotrain-data-sentiment_analysis_project, met/AMH_MET, met/Meti_try, met/Met, Jeneral/fer2013, duskvirkus/dafonts-free, huggan/sim2real_gta5_to_cityscapes, javilonso/mex_data_augmented, julien-c/impressionists, Pavithra/sampled-code-parrot-ds-train-100, aayush9753/InterIIT-Bosch-MidPrep-AgeGenderClassificationInCCTV, SocialGrep/the-reddit-place-dataset, Junior/data, Cheltone/augmented_50k, dnes1983/train.csv, dnes1983/train, Jianxin1111/juicycollection, aaraki/github-issues3, chainyo/rvl-cdip, theproductboxes/packagingboxes, dalton72/turk-data-tw, israel/Amharic-News-Text-classification-Dataset, lulul/liludataset, huggan/wikiart, nealmgkr/tminer_hs, dalton72/twitter-sent, albertvillanova/mtet, truongpdd/KDD22task2, Chris1/cityscapes, tyfann/csgsql, StanBienaives/french-open-fiscal-texts, JeunesseAfricaine/sheng_nlu, dalton72/twitter-data-set-tr, Chris1/GTA5, Pavithra/sampled-code-parrot-ds-valid-100, met/MetaIct, Jeneral/fer-2013, chainyo/rvl-cdip-questionnaire, chainyo/rvl-cdip-invoice, ukr-models/Ukr-Synth, Cheltone/AugSent, openclimatefix/era5, ucl-snlp-group-11/guardian_crosswords, truongpdd/KDD22task2Full, bible-nlp/biblenlp-corpus, DINDAKHRNNNSA/VCLAS_M6, frascuchon/news_test, aaraki/github-issues1, iluvvatar/NEREL, mteb/reddit-clustering, davanstrien/hugit_hmd_flysheet, yuxiangwang/flat_relation, NLPC-UOM/Sinhala-News-Category-classification, NLPC-UOM/Sinhala-News-Source-classification, Splend1dchan/NMSQA_wav2vev2-lv-60-espeak-cv-ft_phone, tomekkorbak/pile-toxicity-balanced2, projecte-aina/gencata, mteb/stackexchange-clustering, mteb/twentynewsgroups-clustering, skt/kobest_v1, victor/autotrain-data-test-21312, AlekseyKorshuk/fluf-world-scenes-and-sounds, LeoFeng/Text_classification, abhishek-shrm/github-issues, kniemiec/crack-segm, AlekseyKorshuk/dooggies, johnnydevriese/airplanes, i-am-neo/ami_shard_0of8_phrases_experiment, yzhou992/tokenize_wikitext103, Gautam9595/Squad_Translated, nateraw/quickdraw-sample, aaraki/github-issues5, deepakvk/squad2_valdn, AlekseyKorshuk/cryptopunks, deepakvk/squad2_valdn_paraphrased, openclimatefix/swedish-rainfall-radar, GEM-submissions/ratishsp__ent__1649421332, GEM-submissions/ratishsp__ncp_cc__1649422112, GEM-submissions/ratishsp__ent__1649422569, GEM-submissions/ratishsp__ncp_cc__1649422863, Gautam9595/Squad_dataset2, davanstrien/v4design_test, davanstrien/v4design_csv_only, juancopi81/github-issues, bergoliveira/pl-corpus, lm233/humor_train, McGill-NLP/TopiOCQA, alperiox/user-opinion-classification-hf-kili, nateraw/quickdraw, ceyda/smithsonian_butterflies, eliwill/First_and_Last_Freedom, gdwangh/kaggle-nlp-getting-start, eliwill/Krishnamurti, Chris1/boredapeyachtclub, student/celebA, eliwill/Lincoln, student/MNIST, huggan/chebakia, krinal214/tydiqa_ben_tel, Guldeniz/flower_dataset, Guldeniz/trimaps_dataset, huggingnft/dooggies, krinal214/squad_ben_tel_que_only, krinal214/squad_ben_tel_context, Chris1/cryptopunks, huggingnft/cryptoadz-by-gremplin, huggingnft/cyberkongz, huggingnft/mini-mutants, huggingnft/theshiboshis, huggingnft/cryptopunks, huggingnft/nftrex, huggingnft/etherbears, huggingnft/alpacadabraz, huggingnft/trippytoadznft, huggingnft/boredapeyachtclub, iluvvatar/RuREBus, LQQ/github-issues, krinal214/squad_que_partial, lewtun/top_quark_tagging_old, nsusemiehl/SciERC, arjundd/skm-tea-mini, Conrad747/Lg-En-Profession-Parallel-Corpus, DrishtiSharma/Anime-Face-Dataset, mattgmcadams/AirDrums, crystina-z/quora, crystina-z/quora-corpus, surdan/nerel_short, enimai/MuST-C-de, yogi/amazon, huggingface/semantic-segmentation-test-sample, westphal-jan/mnli_matched, csebuetnlp/squad_bn, openclimatefix/prepared-batches, AntoineLB/Frozen-lake-dataset, paul21/nq_dataset, Diva/AutomatedBlogSpot, arampacha/rsicd, UrukHan/wav2vec2-ru-I, dhirajprai/funsd, theojolliffe/github-issues, theojolliffe/welsh-trans-1, vendrick17/dark_fantasy, irenelizihui/Surfer100, Soulaimen/cerebra, raquiba/Sarcasm_News_Headline, dandelin/imagenet, nntadotzip/iuQAchatbot_ver12April2022, Splend1dchan/NMSQA_wav2vec2-large-960h-lv60-self, taln-ls2n/inspec, yarongef/human_proteome_singlets, Matthijs/snacks, mwong/fever-evidence-related, yuanjie/demo, arakesh/test9920, gsm8k, HFFErica/steamreviews, sbu_captions, yarongef/human_proteome_doublets, yarongef/human_proteome_triplets, mwong/climate-evidence-related, Pavithree/eli5, Splend1dchan/NMSQA_wav2vec2-large-10min-lv60-self, enimai/MuST-C-and-WMT16-de-en, Matthijs/snacks-detection, arakesh/PennFudanPedestrian-1024x512, arakesh/deepglobe-2448x2448, csteinmetz1/test-dataset, arakesh/uavid-15-hq-mixedres, mteb/quora-retrieval, bshaekos/Pasadena-Wind_Tunnel-ArtCenter_College_of_Design, mteb/cqadupstack-retrieval, peteroli/github-issues, openenvironments/blockgroupvoting, huggan/few-shot-universe, Soulaimen/layout, huggan/few-shot-aurora, Splend1dchan/slue-text, StinginAI/TestDataset, HannahRoseKirk/HatemojiCheck, ckdkambh/testDataSet, HannahRoseKirk/HatemojiBuild, ghomasHudson/hotpotExtendedAno, krinal214/tydiqa_Translated, huggan/smithsonian_butterflies_subset, krinal214/tydiqa_Translated_v2, javilonso/mex_data_title_with_opinion, SetFit/amazon_reviews_multi_en, vinaykudari/acled-information-extraction, enimai/MuST-C-it, bullmount/squad_it, Aanisha/NeonGAN_dataset, taln-ls2n/kp20k, patriziobellan/PET, Srini99/TamilQA, huggingnft/hapeprime, ajanco/pesp, truongpdd/task2Train, conceptual_captions, truongpdd/task2Test, huggingnft/cryptoskulls, jason9693/APEACH, hysts/TADNE-sample-images, jason9693/autotrain-data-kor_hate_eval, daniel-dona/tfg-voice-1, javilonso/mex_data_title_with_opinion_augmented, craffel/tasky_or_not, miccull/met_museum, huggingnft/azuki, huggingnft/mutant-ape-yacht-club, Chris1/mutant-ape-yacht-club, XiangPan/waimai_10k, XiangPan/online_shopping_10_cats_62k, XiangPan/ChnSentiCorp_htl_8k, awacke1/data.csv, awacke1/autotrain-data-Persistence, bullmount/squad-it-exp, mwong/fever-claim-related, mwong/climate-claim-related, rocca/clip-keyphrase-embeddings, winryrb3/jcth_trans, nielsr/ade20k-demo, Peihao/test-dateset, UrukHan/wav2vec2-ru-II, UrukHan/wav2vec2-ru-III, UrukHan/wav2vec2-ru-IV, conceptual_12m, UrukHan/wav2vec2-ru-V, Chris1/hapeprime, Chris1/official-moar-by-joan-cornella, Chris1/the-art-of-seasons, Chris1/bored-ape-kennel-club, Chris1/clonex, Chris1/azuki, cestwc/cnn_dailymail_test_outputs, UrukHan/wav2vec2-ru-VI, eliwill/rhetLincoln, Peihao/sharestudy, yumingh/course_project, polinaeterna/jsonl_test, rasikabh/pile-pii, tomekkorbak/toxicity-debug, ajanco/deep, kniemiec/testupdxdxddsgsgdfsgxdate-crack-segmentation, XiangPan/CovidQCLS, student/CIFAR-10, mdm/yesay, student/FFHQ, krinal214/squad_translated_20k_mbart, huseinzol05/Malay-TTS-Yasmin, student/ImageNet-64, dl4phys/top_tagging, dl4phys/top_tagging_nsubjettiness, dl4phys/top_tagging_images, westphal-jan/mnli_entailment, horsbug98/squad_demo, surrey-nlp/PLOD-filtered, horsbug98/squad_ai4bharat_append, surrey-nlp/PLOD-unfiltered, horsbug98/squad_ai4bharat_ben_tel_train, necm77/negotiation_data, Paercky/Tweets, Paercky/autotrain-data-Tweets, huseinzol05/Malay-TTS-Osman, enimai/MuST-C-ru, laion/laion5B-watermark-safety-ordered, horsbug98/ai4bharat_ben_tel_train, tomekkorbak/pile-toxicity-balanced2-filtered, Divyanshu/indicxnli, surafelkindu/Amharic_corpus, Pavithra/autopilot-sampled50k-train, Pavithra/autopilot-sampled50k-valid, rzhang123/US_Court_8_2, cestwc/shortcut, KevinZ/oLMpics, student/birds_400, student/CUB_birds_200_2011, agemagician/NetSurfP-SS3, multiIR/ccnews2016-8multi, nerpad/test, nerpad/test_model, unjustify/Justify, stevhliu/dummy, batubayk/TR-News, batubayk/HU-News, stepp1/tweet_emotion_intensity, SocialGrep/the-reddit-irl-dataset, Lexi/spanextract, wanyu/IteraTeR_v2, ciroy/mlcommons-test, gagan3012/k2t-training-data, Bingsu/Cat_and_Dog, Bingsu/KSS_Dataset, huggan/selfie2anime, hnchen/Session-search, huggingface/image-classification-test-sample, samwell/en_twi, google/fleurs, mteb/twitterurlcorpus-pairclassification, mteb/sprintduplicatequestions-pairclassification, mteb/twittersemeval2015-pairclassification, bigscience-historical-texts/Open_Medieval_French, mteb/askubuntudupquestions-reranking, taln-ls2n/wikinews-fr-100, mteb/scidocs-reranking, mteb/stackoverflowdupquestions-reranking, JEFFREY-VERDIERE/train_X_PJT_NLP, taln-ls2n/taln-archives, mteb/sickr-sts, mnazari/urmi-assyrian-voice, mteb/biosses-sts, SKYKISS/test, mteb/stsbenchmark-sts, arka0821/multi_document_summarization, asdAD222/segment_T, danrambado/SODA, kniemiec/crack-segmentation, kniemiec/test, kniemiec/sidewalk-imagery-test, Lexi/spanextract_no_qg, enoriega/biocreative_gene_mention, aspis/car_background_removal, truongpdd/us_train, truongpdd/test_us, truongpdd/train_jp, truongpdd/test_jp, truongpdd/train_es, truongpdd/test_es, bookbot/id_word2phoneme, hapandya/sqnnr, truongpdd/train_valid_jp, truongpdd/train_valid_us, truongpdd/train_valid_es, Khalsuu/filipino_dataset_script, csebuetnlp/CrossSum, UmnatHCU/test, osanseviero/test123, javilonso/TEST_mex_data_title_with_opinion, nirmalkumar/old-old-old, nirmalkumar/cricket-commentary, mteb/sts12-sts, mteb/sts13-sts, mteb/sts14-sts, mteb/sts15-sts, mteb/sts16-sts, javilonso/PRED_TEST_mex_data_title_with_opinion, mwong/climatetext-claim-related-evaluation, NbAiLab/NST, mwong/climatetext-evidence-related-evaluation, Peihao/CURE-Pretrain, Fin/cat_bs, davanstrien/test_bl_fickr, Yaxin/SemEval2016Task5Raw, enoriega/GENIA-Term-Corpus, Ericblancosf/subtechnie2, KeithHorgan/TweetClimateAnalysisData, crisdev/comentarios, daniel-dona/tfg-voice-2, alisawuffles/WANLI, billray110/corpus-of-diverse-styles, Kateryna/eva_ru_forum_headlines, ylacombe/xsum_factuality, cmotions/NL_restaurant_reviews, AntoineLB/FrozenLakeNotFrozen, mwong/climatetext-climate_evidence-claim-related-evaluation, mwong/climatetext-claim-climate_evidence-related-evaluation, mwong/climatetext-evidence-claim-pair-related-evaluation, mwong/climatetext-claim-evidence-pair-related-evaluation, mweiss/fashion_mnist_corrupted, visual_genome, yanekyuk/wikikey-full, Yaxin/SemEval2014Task4Raw, yanekyuk/wikikey-small, yanekyuk/wikikey-large, yanekyuk/wikikey-medium, tsantosh7/COVID-19_Annotations, Yaxin/SemEval2015Task12Raw, pie/conll2003, rvl_cdip, Goud/Goud-sum, eleldar/sub_train-normal_tests-datasets, GEM-submissions/ratishsp__seqplan-sportsett__1650556902, pietrolesci/glue_diagnostics, patrickvonplaten/librispeech_asr_self_contained, truongpdd/dataset_clf, multiIR/testing_ko, adithya7/xlel_wd_dictionary, adithya7/xlel_wd, Lumos/imdb_test, AntoineLB/FrozenLakeFrozen, pietrolesci/fracas, loretoparisi/tatoeba-sentences, pietrolesci/scitail, taln-ls2n/termith-eval, bigscience-data/roots_ar_uncorpus, bigscience-data/roots_en_uncorpus, bigscience-data/roots_es_uncorpus, bigscience-data/roots_fr_uncorpus, bigscience-data/roots_zh_uncorpus, cfilt/HiNER-collapsed, surrey-nlp/SDU-test, multiIR/multi2016-9, taln-ls2n/semeval-2010-pre, pietrolesci/mpe, princeton-nlp/wikibook_fairseq_format, pietrolesci/add_one_rte, loubnabnl/tokenized-codeparrot-valid, AndresPitta/sg-reports_labeled, pietrolesci/recast_white, loubnabnl/tokenized-codeparrot-train, Pavithree/askHistorians, Pavithree/askScience, deancgarcia/Diversity, ntcuong777/iuontology, johnowhitaker/vqgan1024_reconstruction, sbusso/fluf, Neku/meme, Pavithree/eli5_split, dnaveenr/cmu_mocap, AliceTears/thanadol_sin, Xiaowei/github-issues, ysharma/eurosat-demo, ntcuong777/iuontology_segmented, JEFFREY-VERDIERE/star_wars, JEFFREY-VERDIERE/Photos, johnowhitaker/vqgan1024_encs_sf, qanastek/MASSIVE, laion/clevr-webdataset, JEFFREY-VERDIERE/grasping_data_set, johnowhitaker/vqgan16k_reconstruction, chrishuber/kaggle_mnli, johnowhitaker/vqgan16k_encs_sf_190k, johnowhitaker/vqgan16k_encs_sf_200k, Reproducibility/naacl22_wikitext15M, Reproducibility/naacl22_wikitext15M_eval, aneof/train_multi, lanesket/r-asts, gagan3012/adab, ozilfan8/Test, d0r1h/Shlokam, maximedb/paws-x-concat, lanesket/r-asts-val, gagan3012/OnlineKhatt, ahazeemi/librispeech10h, McGill-NLP/FaithDial, rosimeirecosta/c_corpus_br, Fhrozen/tau_srir_db, Carol99/multimodal_sarcasm_detection, NbAiLab/old_hesitate, GENG/word_data, pietrolesci/dialogue_nli, hnchen/hqcn, ceyda/test-privacy, pietrolesci/dnc, jordane95/msmarco-passage-query, Meena/imdb_ratings_table, pietrolesci/stress_tests_nli, blo05/wiki_titles, pietrolesci/gen_debiased_nli, pietrolesci/gpt3_nli, BritishLibraryLabs/web_archive_classification, drGOD/test, lanesket/r-asts-tokenized, pietrolesci/robust_nli, pietrolesci/robust_nli_li_ts, pietrolesci/robust_nli_is_sd, jamescalam/reddit-python, loubnabnl/tokenized-github-code-python, pietrolesci/joci, pietrolesci/breaking_nli, pietrolesci/copa_nli, cfilt/HiNER-original, cakiki/emotion-with-length, RohanAiLab/persian_blog_V2, tejasdev/training_data_NSPM, myvision/gender-classification, xap/covid19-sentiment-nepali, davanstrien/human_cats, rosimeirecosta/c_corpus, AmirulOm/lottie-urls, Davincilee/closure_system_door_inner, Ericblancosf/lenssubtechnique, hrithikpiyush/acl-arc, eleldar/different_sub_normal_datasets, BigScienceBiasEval/crows_pairs_multilingual, albertxu/CrosswordQA, khalidalt/HuffPost, blinoff/kinopoisk, hady/kurdiabadulhady, inseq/dummy_enit, sxu/CANLI, agemagician/uniref90, hrithikpiyush/scierc, ENM/prueba, ENM/dataset-prueba, saattrupdan/doc-nli, SocialGrep/the-reddit-nft-dataset, princeton-nlp/glue_fairseq_format, murdockthedude/sv_corpora_parliament_processed, aakanksha/udpos, fut501/ds1, spoiled/ecqa_explanation_classify, wza/TimeTravel, aps/bioasq_task_b, zaraTahhhir/urduprusdataset, Zaratahir123/urduprusdataset, junliang/symptom, janck/bigscience-lama, Calin/eurosat-demo, StanBienaives/jade-considerants, Zaratahir123/groupData, Zaratahir123/test, kaizan/amisum_v1, shreyasmani/whrdata2021, shweta2911/SCIERC, PolyAI/banking77, EAST/autotrain-data-Rule, osyvokon/pavlick-formality-scores, yerevann/common_voice_9_0, NLPC-UOM/Writing-style-classification, ibrahimmoazzam/mysprecordings, bigscience-catalogue-data/bias-shades, mrm8488/ImageNet1K-val, mrm8488/ImageNet1K-train, AmazonScience/massive, odellus/beerqa, codeparrot/codeparrot-valid-more-filtering, TahaRazzaq/urduprusdataset, codeparrot/codeparrot-train-more-filtering, mathigatti/spanish_imdb_synopsis, chrisjay/crowd-speech-africa, TalTechNLP/VoxLingua107, zzzzzzttt/subtrain, abidlabs/crowdsourced-speech-demo2, strombergnlp/danfever, JbIPS/stanford-dogs, strombergnlp/broad_twitter_corpus, strombergnlp/ipm_nel, strombergnlp/shaj, strombergnlp/dkstance, strombergnlp/polstance, strombergnlp/bornholmsk, strombergnlp/twitter_pos_vcb, strombergnlp/zulu_stance, Elfsong/clef_data, tomasmcz/word2vec_analogy, rockdrigoma/spanish-nahuatl-flagging, Zaratahir123/23100065, Zaratahir123/21030019, Zaratahir123/23100133, dwen/rocstories, Zaratahir123/Group2Data, BigScienceBiasEval/bias-shades, jamescalam/reddit-topics, talaugust/sci-definition, aps/dynasent, spoiled/pre-answer, spoiled/with_label, spoiled/with_random_label, smallv0221/dd, gusevski/factrueval2016, multiIR/langfiles2018-6_sr, Mim/autotrain-data-procell-expert, doddle124578/speechcorpus, nielsr/funsd-image-feature, nielsr/funsd-layoutlmv3, soyasis/wikihow_small, muibk/wmt21_metrics_task, rish16/cs4243-database-dict, iamholmes/tiny-imdb, Samip/scotch_try, mozilla-foundation/common_voice_9_0, jamescalam/world-cities-geo, aps/dynahate, dalle-mini/vqgan-pairs, Seledorn/SwissProt-EC, Seledorn/SwissProt-Pfam, Seledorn/SwissProt-GO, samhellkill/spacekitty-v1, charly/test, JEFFREY-VERDIERE/Creditcard, lightonai/SwissProt-EC-leaf, bousejin/eurosat-demo, osyvokon/wiki-edits-uk, defector/autotrain-data-company, valentij/train.csv, valentij/test.csv, Filippo/osdg_cd, claytonsamples/eurosat-demo, Anon126/my-raft-submission, Rodion/uno_sustainable_development_goals, obokkkk/NMT_test, NazaGara/wikiner-es, hongdijk/kor_nlu_hufsice2, gary109/crop14_balance, hongdijk/kor_nlu_hufs, skg/toxigen-data, Diegomejia/ds1ucb, multiIR/cc_multi_2021-1_en, JEFFREY-VERDIERE/Cornell_Grasping_Dataset, google/wit, hnchen/ricr_data, lanesket/r-asts-splitted, jdrl96/sv_corpora_parliament_processed, Gifted/iris, Davincilee/door_inner_with_SAE, sil-ai/bloom-captioning, shanya/crd3, wikimedia/wit_base, imagenet-1k, nielsr/cord-layoutlmv3, pauli31/czech-subjectivity-dataset, ppate192/conll.eng.testa, arbml/masader, wza/roc_stories, Apo/AKE20K_sky, carlosejimenez/snli_aug, Apo/ADE20K_sky_13labels, Apo/AKE20K_sky_13labels, Vardan/train, Erwin/coffee_reviews_corpus, lanesket/r-asts-splitted-tokenized, NishinoTSK/Dissertacao, tne, vencortex/TechNews, carlosejimenez/qqp_aug, LHF/escorpius-mr, farazeftekhar/geojson, orieg/elsevier-oa-cc-by, enoriega/keyword_pubmed, allenai/drug-combo-extraction, Ukhushn/home-depot, vumichien/japanese_large_dataset, ntinouldinho/el_corpora_parliament_processed, Seledorn/SwissProt-EC-leaf_upd, Seledorn/SwissProt-EC-leaf_upt_again, cestwc/lsnli, nielsr/test, nlpconnect/DocVQA, cncoleman/CA_LEA_Manuals, IsaacRodgz/DravidianCodeMix-Dataset, Alayt/gcode, Ericblancosf/autotrain-data-lenmiitrebest, textvqa, chrisvinsen/id_kenlm_language_model, 00data00/data, ett, BK-V/arman, ghomasHudson/hotpotExtendedAnoLM, truthisneverlinear/eleventh-doctor-scripts, marwansalam/art_split_datasets, marwansalam/araucaria_split_datasets, marwansalam/araucaria_nolabel_split_datasets, boli-ai-admin/vishal, PoolC/news-corpus-mini, sil-ai/bloom-vist, ablam/gcode, adsabs/WIESP2022-NER, dlwh/wikitext_103_detokenized, dlwh/wikitext_2_detokenized, nateraw/gradio-guides-files, BennoKrojer/ImageCoDe, ashraq/youtube-transcription, nateraw/test-imagefolder-metadata, nateraw/test-imagefolder-metadata-csv, nateraw/test-imagefolder-metadata-2, zzzzzzttt/train, ntt123/viet-tts-dataset, searle-j/kote, crystina-z/mmarco-passage, filwsyl/video_understanding, mdroth/github-issues, medmcqa, Fhrozen/FSD50k, SetFit/amazon_massive_scenario_af-ZA, SetFit/amazon_massive_scenario_am-ET, SetFit/amazon_massive_scenario_ar-SA, SetFit/amazon_massive_scenario_az-AZ, SetFit/amazon_massive_scenario_bn-BD, SetFit/amazon_massive_scenario_cy-GB, SetFit/amazon_massive_scenario_da-DK, SetFit/amazon_massive_scenario_de-DE, SetFit/amazon_massive_scenario_el-GR, SetFit/amazon_massive_scenario_en-US, SetFit/amazon_massive_scenario_es-ES, SetFit/amazon_massive_scenario_fa-IR, SetFit/amazon_massive_scenario_fi-FI, SetFit/amazon_massive_scenario_fr-FR, SetFit/amazon_massive_scenario_he-IL, SetFit/amazon_massive_scenario_hi-IN, SetFit/amazon_massive_scenario_hu-HU, SetFit/amazon_massive_scenario_hy-AM, SetFit/amazon_massive_scenario_id-ID, SetFit/amazon_massive_scenario_is-IS, SetFit/amazon_massive_scenario_it-IT, SetFit/amazon_massive_scenario_ja-JP, SetFit/amazon_massive_scenario_jv-ID, SetFit/amazon_massive_scenario_ka-GE, SetFit/amazon_massive_scenario_km-KH, SetFit/amazon_massive_scenario_kn-IN, SetFit/amazon_massive_scenario_ko-KR, SetFit/amazon_massive_scenario_lv-LV, SetFit/amazon_massive_scenario_mn-MN, SetFit/amazon_massive_scenario_ms-MY, SetFit/amazon_massive_scenario_my-MM, SetFit/amazon_massive_scenario_nb-NO, SetFit/amazon_massive_scenario_nl-NL, SetFit/amazon_massive_scenario_pl-PL, SetFit/amazon_massive_scenario_pt-PT, SetFit/amazon_massive_scenario_ro-RO, SetFit/amazon_massive_scenario_ru-RU, SetFit/amazon_massive_scenario_sl-SL, SetFit/amazon_massive_scenario_sq-AL, SetFit/amazon_massive_scenario_sv-SE, SetFit/amazon_massive_scenario_sw-KE, SetFit/amazon_massive_scenario_ta-IN, SetFit/amazon_massive_scenario_te-IN, SetFit/amazon_massive_scenario_th-TH, SetFit/amazon_massive_scenario_tl-PH, SetFit/amazon_massive_scenario_tr-TR, SetFit/amazon_massive_scenario_ur-PK, SetFit/amazon_massive_scenario_vi-VN, SetFit/amazon_massive_scenario_zh-CN, SetFit/amazon_massive_scenario_zh-TW, SetFit/amazon_massive_intent_af-ZA, SetFit/amazon_massive_intent_am-ET, SetFit/amazon_massive_intent_ar-SA, SetFit/amazon_massive_intent_az-AZ, SetFit/amazon_massive_intent_bn-BD, SetFit/amazon_massive_intent_cy-GB, SetFit/amazon_massive_intent_da-DK, SetFit/amazon_massive_intent_de-DE, SetFit/amazon_massive_intent_el-GR, SetFit/amazon_massive_intent_en-US, SetFit/amazon_massive_intent_es-ES, SetFit/amazon_massive_intent_fa-IR, SetFit/amazon_massive_intent_fi-FI, SetFit/amazon_massive_intent_fr-FR, SetFit/amazon_massive_intent_he-IL, SetFit/amazon_massive_intent_hi-IN, SetFit/amazon_massive_intent_hu-HU, SetFit/amazon_massive_intent_hy-AM, SetFit/amazon_massive_intent_id-ID, SetFit/amazon_massive_intent_is-IS, SetFit/amazon_massive_intent_it-IT, SetFit/amazon_massive_intent_ja-JP, SetFit/amazon_massive_intent_jv-ID, SetFit/amazon_massive_intent_ka-GE, SetFit/amazon_massive_intent_km-KH, SetFit/amazon_massive_intent_kn-IN, SetFit/amazon_massive_intent_ko-KR, SetFit/amazon_massive_intent_lv-LV, SetFit/amazon_massive_intent_mn-MN, SetFit/amazon_massive_intent_ms-MY, SetFit/amazon_massive_intent_my-MM, SetFit/amazon_massive_intent_nb-NO, SetFit/amazon_massive_intent_nl-NL, SetFit/amazon_massive_intent_pl-PL, SetFit/amazon_massive_intent_pt-PT, SetFit/amazon_massive_intent_ro-RO, SetFit/amazon_massive_intent_ru-RU, SetFit/amazon_massive_intent_sl-SL, SetFit/amazon_massive_intent_sq-AL, SetFit/amazon_massive_intent_sv-SE, SetFit/amazon_massive_intent_sw-KE, SetFit/amazon_massive_intent_ta-IN, SetFit/amazon_massive_intent_te-IN, SetFit/amazon_massive_intent_th-TH, SetFit/amazon_massive_intent_tl-PH, SetFit/amazon_massive_intent_tr-TR, SetFit/amazon_massive_intent_ur-PK, SetFit/amazon_massive_intent_vi-VN, SetFit/amazon_massive_intent_zh-CN, SetFit/amazon_massive_intent_zh-TW, filwsyl/video_tags, taln-ls2n/kptimes, swcrazyfan/net-kjv, crabz/boolq_sk, vehnem/DBpedia, MauriceV2021/AuroraSDGsDataset, filwsyl/ascend, ai4bharat/Aksharantar, cradle-bio/FLIP_clusters, cradle-bio/FLIP_biggest_cluster_Q0PD48, polinaeterna/vox_lingua, pie/german_legal_entity_recognition, pie/conll2002, pie/germeval_14, pie/conllpp, pie/germaner, pie/ncbi_disease, pie/wnut_17, pie/wikiann, Rizwan125/AIByRizwan, strombergnlp/twitter_pos, kimcando/KOR-RE-natures-and-environments, avacaondata/randomq, nateraw/background-remover-files, d0r1h/customer_churn, NLPC-UOM/Student_feedback_analysis_dataset, Bingsu/arcalive_220506, zhiguoxu/test_data, deydebasmita91/Tweet, manirai91/ebiquity-v2, laion/laion-high-resolution, nadhifikbarw/id_ner_nimas, peandrew/conceptnet_en_simple, jeremyf/fanfiction_z, kejian/pile-severetoxicTEST-chunk-0, hidude562/textsources, hidude562/BadWikipedia, hsiehpinghan/github-issues, peandrew/conceptnet_en_nomalized, parvezmrobin/MCMD, nateraw/imagenet-sketch, shzhang/tutorial_datasets_github_issues, johnowhitaker/imagewoof2-320, johnowhitaker/imagenette2-320, peandrew/dialy_dialogue_with_recoginized_concept_raw, sayanhf22/amazonfashionmeta, bananabot/engMollywoodSummaries, ufukhaman/uspto_balanced_200k_ipc_classification, vinaykudari/acled-ie-actors, nguyenvulebinh/fsd50k, pile-of-law/eoir_privacy, lilitket/voxlingua107, kejian/pile-severetoxic-chunk-0, kejian/pile-severetoxic-balanced, avacaondata/covidqa_translated-intermediate, avacaondata/covidqa_translated, strombergnlp/rustance, FelixE/t4d01, deepakvk/conversational_dialogues_001, Fhrozen/AudioSet2K22, Maddy132/bottles, lukee/github-issues, ccdv/WCEP-10, HugoLaurencon/libri_light, IljaSamoilov/ERR-transcription-to-subtitles, mmillet/copy, benyang123/code, domischwimmbeck/germdata, jerpint/imagenette, dianatixi/NoticiasEcuador, Pengfei/test22, Eigen/twttone, milesbutler/consumer_complaints, CEBaB/CEBaB, domenicrosati/QA2D, mdroth/github_issues_300, fancyerii/github-issues, DFKI-SLT/brat, kejian/pile-severetoxic-random100k, kejian/pile-severetoxic-balanced2, Pavithree/eli5_55, SberDevices/Golos, drAbreu/sd-nlp-2, laugustyniak/political-advertising-pl, mteb/raw_arxiv, strombergnlp/offenseval_2020, MilaNLProc/honest, Maddy132/sample1, laurens88/laurensthesis, Pavithree/askHistorians_55, mteb/arxiv-clustering-s2s, Bolishetti/dataset, Pavithree/askScience_55, Pavithree/eli5Split_55, mteb/arxiv-clustering-p2p, lukee/github-issues-embeddings, tomekkorbak/cursing-debugging, mteb/raw_biorxiv, mteb/raw_medrxiv, facebook/voxpopuli, leo19941227/g2p, allenai/mup, s3prl/g2p, Leyo/TGIF, anuragshas/bn_opus100_processed, bigscience/bloom-book-prompts, HFFErica/labelled, anuragshas/ur_opus100_processed_cv9, strombergnlp/nordic_langid, alisaqallah/emotion-with-length, HuggingFaceM4/howto100m, bigscience/collaborative_catalog, lk2/lk3, FollishBoi/autotrain-data-tpsmay22, eduardopds/github-issues, HuggingFaceM4/epic_kitchens_100, avacaondata/bioasq22-es, enoriega/odinsynth_dataset, enoriega/odinsynth_temp, YYan/csnc_retrieval, manirai91/yt-nepali-movie-reviews, NbAiLab/NST_hesitate, mteb/biorxiv-clustering-s2s, mteb/biorxiv-clustering-p2p, mteb/medrxiv-clustering-s2s, mteb/medrxiv-clustering-p2p, HuggingFaceM4/charades, RuiqianLi/Li_singlish, mteb/stackexchange-clustering-p2p, pere/italian_tweets_500k, strombergnlp/bornholmsk_parallel, mteb/reddit-clustering-p2p, strombergnlp/bajer_danish_misogyny, lmqg/qg_subjqa, Maddy132/customwb, mox/german_politicians_twitter_sentiment, HFFErica/triadiclabelled_dataset, LIUM/tedlium, MLRS/korpus_malti, elmurod1202/uzbek-sentiment-analysis, zArabi/ArmanNERPublic, DDSC/dagw_reddit_filtered_v1.0.0, selfishark/hf-issues-dataset-with-comments, Team-PIXEL/rendered-bookcorpus, Team-PIXEL/rendered-wikipedia-english, Malaina/en-wiki-sentences-index, yjernite/DataMeasurementsClusterCache, strombergnlp/named_timexes, strombergnlp/itu_faroese_danish, jontooy/Flickr8k-Image-Features, najoungkim/edge_probing_dep_ewt_line_by_line, rajeshvarma/sla, ontophagic/experiment, myradeng/cs230-news, domenicrosati/TruthfulQA, bananabot/TrumpSpeeches, nateraw/hf-hub-walkthrough-assets, vijaygoriya/SentimentDetection, cradle-bio/TAPE_stability_clusters, danieleV9H/en_corpora_parliament_processed, ncats/EpiSet4NER-v2, reallycarlaost/emobank-single-binary, strombergnlp/rumoureval_2019, HugoLaurencon/libri_light_bytes, met/customAmhTig, nickmuchi/rugd-dataset-all, beery/Dutch-SQuAD, piotr-rybak/poleval-passage-retrieval, azminetoushikwasi/cristiano-ronaldo-all-club-goals-stats, cradle-bio/tape-fluorescence, cradle-bio/tape-fluorescence-processed, Roh/ryanspeech, thomagram/StyleNeRF_Datasets, HuggingFaceM4/webvid, colabtrial17/common_voice_ar_v9, HuggingFaceM4/something_something_v2, SetFit/toxic_conversations_50k, pensieves/newsgroups, Leyo/ActivityNet_Captions, gaganpathre/amgerindaf, forcorpus/WikiCybersecurity, Jyotika02/lala, tomekkorbak/pile-pii, Evelyn18/becas, HuggingFaceM4/vatex, gagan3012/test, hxue3/autotrain-data-code_summarization, gagan3012/test1, Barik/testt, itsroadtrip/test-dataset, mrojas/wl-disease, myradeng/cs230-news-unfiltered, morteza/cogtext, PoolC/news-corpus-divided, reallycarlaost/emo-valence-5, hidude562/XS-word-rating, reallycarlaost/emobank, pinecone/reddit-qa, nestoralvaro/data_prep_2021_12_26___t1_7.csv, ahmedlone123/sv_corpora_parliament_processed, iohadrubin/vqvae, Chr0my/freesound.org, nouamanetazi/test111, mteb/amazon_massive_scenario, mteb/amazon_massive_intent, fuliucansheng/kdd2022, Moo/korean-parallel-corpora, jk-gjom/covid19weibo, filwsyl/test, Sultannn/id_recipe, Kastuks/embeddings_bh, ntt123/vi-text, mwritescode/slither-audited-smart-contracts, wdc/products-2017, sharfo2/Wearable_Activity, augustoortiz/Test, M-CLIP/ImageCaptions-7M-Translations, zchengc/wsb, araanbranco/cryptoweebs, mdroth/transformers_issues_labels, J3romee/CLEAR, allenai/wmt22_african, erickdp/csvData, zchengc/wsb_full, STAM/agricore, HuggingFaceM4/ActivitiyNet_Captions, HuggingFaceM4/TGIF, mteb/banking77, EMBO/sd-nlp-non-tokenized, Iyanuoluwa/YOSM, godwinh/fongbe-asr, dcfidalgo/test_datasetdict, M-CLIP/ImageCaptions-7M-Embeddings, erickdp/set-date, erickdp/dse, emilylearning/cond_ft_none_on_reddit__prcnt_na__test_run_True, erickdp/xmio, nboudad/ASCED, emilylearning/cond_ft_subreddit_on_reddit__prcnt_na__test_run_True, emilylearning/cond_ft_none_on_wiki_bio__prcnt_na__test_run_True, emilylearning/cond_ft_birth_date_on_wiki_bio__prcnt_na__test_run_True, Yingda/test, justmywyw/datasets, paust/ko_daily_dialog, PontifexMaximus/Persian-English, Gwangho/test, PontifexMaximus/En-as, Daliny/ground, bigscience-data/roots_ar_arabench, bigscience-data/roots_ar_labr, bigscience-data/roots_ar_wikinews, bigscience-data/roots_ar_wikiquote, bigscience-data/roots_ar_wikiversity, bigscience-data/roots_ar_wiktionary, bigscience-data/roots_ca_catalan_government_crawling, bigscience-data/roots_ar_wikisource, bigscience-data/roots_ca_enriched_conllu_ancora_for_ml_training, bigscience-data/roots_ar_wikipedia, bigscience-data/roots_ca_tecla, bigscience-data/roots_ca_vilaquad, bigscience-data/roots_ca_parlament_parla, bigscience-data/roots_ca_ted_talks_iwslt, bigscience-data/roots_ca_catalan_textual_corpus, bigscience-data/roots_ca_xquad_ca, bigscience-data/roots_ca_wikiquote, bigscience-data/roots_ca_wikisource, bigscience-data/roots_ca_wikibooks, bigscience-data/roots_ca_wikimedia, bigscience-data/roots_ca_viquiquad, bigscience-data/roots_ca_wikinews, bigscience-data/roots_ca_wikipedia, bigscience-data/roots_en_odiencorp, bigscience-data/roots_en_book_dash_books, bigscience-data/roots_en_no_code_stackexchange, bigscience-data/roots_code_stackexchange, bigscience-data/roots_ar_wikibooks, bigscience-data/roots_ar_ted_talks_iwslt, bigscience-data/roots_ar_tashkeela, bigscience-data/roots_ar_sanad, bigscience-data/roots_ar_openiti_proc, bigscience-data/roots_en_the_pile_europarl, bigscience-data/roots_en_ted_talks_iwslt, bigscience-data/roots_en_royal_society_corpus, bigscience-data/roots_en_wikinews, bigscience-data/roots_en_wikiversity, bigscience-data/roots_en_wikibooks, bigscience-data/roots_en_wikiquote, bigscience-data/roots_en_wikivoyage, bigscience-data/roots_en_wikipedia, bigscience-data/roots_en_wiktionary, bigscience-data/roots_en_the_pile_uspto, bigscience-data/roots_es_ted_talks_iwslt, bigscience-data/roots_es_wikibooks, bigscience-data/roots_es_the_pile_europarl, bigscience-data/roots_es_wikinews, bigscience-data/roots_es_wikipedia, bigscience-data/roots_es_wikiquote, bigscience-data/roots_es_wikiversity, bigscience-data/roots_es_wiktionary, bigscience-data/roots_es_wikivoyage, bigscience-data/roots_es_wikisource, bigscience-data/roots_eu_ted_talks_iwslt, bigscience-data/roots_eu_wikibooks, bigscience-data/roots_eu_bsbasque, bigscience-data/roots_eu_wikisource, bigscience-data/roots_fr_book_dash_books, bigscience-data/roots_eu_wikiquote, bigscience-data/roots_eu_wiktionary, bigscience-data/roots_eu_wikipedia, bigscience-data/roots_fr_ted_talks_iwslt, bigscience-data/roots_fr_wikibooks, bigscience-data/roots_fr_wikinews, bigscience-data/roots_fr_the_pile_europarl, bigscience-data/roots_fr_wikiquote, bigscience-data/roots_fr_wiktionary, bigscience-data/roots_fr_wikiversity, bigscience-data/roots_fr_wikivoyage, bigscience-data/roots_fr_wikipedia, bigscience-data/roots_id_indo4b_jw300, bigscience-data/roots_id_indo4b_talpco, bigscience-data/roots_id_indonesian_frog_storytelling_corpus, bigscience-data/roots_id_indonesian_news_corpus, bigscience-data/roots_fr_wikisource, bigscience-data/roots_id_indonesian_news_articles_2017, bigscience-data/roots_id_indonli, bigscience-data/roots_id_indosum, bigscience-data/roots_id_wikimedia, bigscience-data/roots_id_wikisource, bigscience-data/roots_id_wikipedia, bigscience-data/roots_id_ted_talks_iwslt, bigscience-data/roots_id_wikiquote, bigscience-data/roots_id_wikibooks, bigscience-data/roots_id_wiktionary, bigscience-data/roots_indic-as_ted_talks_iwslt, bigscience-data/roots_indic-as_wiktionary, bigscience-data/roots_indic-as_wikipedia, bigscience-data/roots_indic-as_wikisource, bigscience-data/roots_indic-bn_mkb, bigscience-data/roots_indic-bn_bengali_question_answering, bigscience-data/roots_indic-bn_bangla_sentiment_classification_datasets, bigscience-data/roots_indic-bn_indic_nlp_corpus, bigscience-data/roots_indic-bn_pib, bigscience-data/roots_indic-bn_ted_talks_iwslt, bigscience-data/roots_indic-bn_wikivoyage, bigscience-data/roots_indic-bn_wikibooks, bigscience-data/roots_indic-bn_wiktionary, bigscience-data/roots_indic-bn_wikipedia, bigscience-data/roots_indic-gu_indic_nlp_corpus, bigscience-data/roots_indic-bn_bangla_lm, bigscience-data/roots_indic-bn_wikisource, bigscience-data/roots_indic-gu_ted_talks_iwslt, bigscience-data/roots_indic-gu_mkb, bigscience-data/roots_indic-gu_pib, bigscience-data/roots_indic-gu_wikiquote, bigscience-data/roots_indic-gu_wiktionary, bigscience-data/roots_indic-gu_wikipedia, bigscience-data/roots_indic-gu_wikisource, bigscience-data/roots_indic-hi_mkb, bigscience-data/roots_indic-hi_ted_talks_iwslt, bigscience-data/roots_indic-hi_pib, bigscience-data/roots_indic-hi_iitb_english_hindi_corpus, bigscience-data/roots_indic-hi_wikiversity, bigscience-data/roots_indic-hi_wikibooks, bigscience-data/roots_indic-hi_wikimedia, bigscience-data/roots_indic-hi_wiktionary, bigscience-data/roots_indic-hi_wikiquote, bigscience-data/roots_indic-hi_wikivoyage, bigscience-data/roots_indic-hi_wikipedia, bigscience-data/roots_indic-hi_indic_nlp_corpus, bigscience-data/roots_indic-hi_wikisource, bigscience-data/roots_indic-kn_ted_talks_iwslt, bigscience-data/roots_indic-kn_indic_nlp_corpus, bigscience-data/roots_indic-kn_wiktionary, bigscience-data/roots_indic-kn_wikiquote, bigscience-data/roots_indic-kn_wikipedia, bigscience-data/roots_indic-kn_wikisource, bigscience-data/roots_indic-ml_ted_talks_iwslt, bigscience-data/roots_indic-ml_indic_nlp_corpus, bigscience-data/roots_indic-ml_pib, bigscience-data/roots_indic-ml_mkb, bigscience-data/roots_indic-ml_wikibooks, bigscience-data/roots_indic-mr_pib, bigscience-data/roots_indic-ml_wikipedia, bigscience-data/roots_indic-ml_wiktionary, bigscience-data/roots_indic-mr_mkb, bigscience-data/roots_indic-ml_wikiquote, bigscience-data/roots_indic-ml_wikisource, bigscience-data/roots_indic-mr_indic_nlp_corpus, bigscience-data/roots_indic-mr_wiktionary, bigscience-data/roots_indic-or_mkb, bigscience-data/roots_indic-mr_wikiquote, bigscience-data/roots_indic-or_pib, bigscience-data/roots_indic-mr_ted_talks_iwslt, bigscience-data/roots_indic-or_odiencorp, bigscience-data/roots_indic-mr_wikibooks, bigscience-data/roots_indic-mr_wikipedia, bigscience-data/roots_indic-mr_wikisource, bigscience-data/roots_indic-or_indic_nlp_corpus, bigscience-data/roots_indic-or_wikisource, bigscience-data/roots_indic-or_wikipedia, bigscience-data/roots_indic-or_wiktionary, bigscience-data/roots_indic-pa_indic_nlp_corpus, bigscience-data/roots_indic-ta_mkb, bigscience-data/roots_indic-pa_ted_talks_iwslt, bigscience-data/roots_indic-pa_wikibooks, bigscience-data/roots_indic-pa_pib, bigscience-data/roots_indic-pa_wiktionary, bigscience-data/roots_indic-pa_wikipedia, bigscience-data/roots_indic-pa_wikisource, bigscience-data/roots_indic-ta_indic_nlp_corpus, bigscience-data/roots_indic-ta_wikiquote, bigscience-data/roots_indic-ta_wikipedia, bigscience-data/roots_indic-ta_pib, bigscience-data/roots_indic-ta_ted_talks_iwslt, bigscience-data/roots_indic-ta_wikinews, bigscience-data/roots_indic-ta_wikibooks, bigscience-data/roots_indic-te_pib, bigscience-data/roots_indic-te_mkb, bigscience-data/roots_indic-ta_wikisource, bigscience-data/roots_indic-te_indic_nlp_corpus, bigscience-data/roots_indic-te_ted_talks_iwslt, bigscience-data/roots_indic-ur_mkb, bigscience-data/roots_indic-te_wikibooks, bigscience-data/roots_indic-te_wikiquote, bigscience-data/roots_indic-te_wiktionary, bigscience-data/roots_indic-te_wikipedia, bigscience-data/roots_indic-ur_leipzig_wortschatz_urdu_newscrawl_2016_sentences, bigscience-data/roots_indic-te_wikisource, bigscience-data/roots_indic-ur_leipzig_wortschatz_urdu-pk_web_2019_sentences, bigscience-data/roots_indic-ur_wikibooks, bigscience-data/roots_indic-ur_ted_talks_iwslt, bigscience-data/roots_indic-ur_pib, bigscience-data/roots_indic-ur_wiktionary, bigscience-data/roots_indic-ur_wikiquote, bigscience-data/roots_indic-ur_urdu-monolingual-corpus, bigscience-data/roots_indic-ur_wikipedia, bigscience-data/roots_pt_wikiquote, bigscience-data/roots_pt_wikinews, bigscience-data/roots_pt_ted_talks_iwslt, bigscience-data/roots_pt_wikimedia, bigscience-data/roots_pt_wikibooks, bigscience-data/roots_pt_wikipedia, bigscience-data/roots_pt_the_pile_europarl, bigscience-data/roots_pt_wikisource, bigscience-data/roots_pt_wikiversity, bigscience-data/roots_pt_wikivoyage, bigscience-data/roots_pt_wiktionary, bigscience-data/roots_vi_data_on_covid_19_news_coverage_in_vietnam, bigscience-data/roots_vi_wikiquote, bigscience-data/roots_vi_wikivoyage, bigscience-data/roots_vi_ted_talks_iwslt, bigscience-data/roots_vi_wikibooks, bigscience-data/roots_vi_vietnamese_poetry, bigscience-data/roots_vi_wikisource, bigscience-data/roots_vi_wikipedia, bigscience-data/roots_vi_wiktionary, bigscience-data/roots_zh-cn_wikipedia, bigscience-data/roots_zh_du_reader, bigscience-data/roots_vi_binhvq_news_corpus, bigscience-data/roots_zh_ted_talks_iwslt, bigscience-data/roots_zh_wikibooks, bigscience-data/roots_zh-tw_wikipedia, bigscience-data/roots_zh_wikiversity, bigscience-data/roots_zh_wikinews, bigscience-data/roots_zh_wikiquote, bigscience-data/roots_zh_wikivoyage, strombergnlp/x-stance, veriga/dactilo, spoiled/ecqa_classify_94, cestwc/cnn_dailymail-coref, cestwc/cnn_dailymail-coref1, rajeshvarma/QA_on_SLA, khalidalt/tydiqa-goldp, JorenGij/inventorytest, hongcui/test, vk-mittal14/CryptoBubbles, nateraw/imagenet-sketch-data, rungalileo/20_Newsgroups_Fixed, aaraki/github-issues6, Yoonseong/climatebert_factcheck, brook/fullwiki-context, namnv1906/librispeech-100h, jdd/jddtest, statworx/haiku, strombergnlp/nlpcc-stance, HuggingFaceM4/yttemporal180m, Dus/tokenkorpus, mteb/sts17-crosslingual-sts, SoBytes/rubrix-test, mteb/mtop_intent, mteb/mtop_domain, avacaondata/modified_randomqa, GEM/FairytaleQA, s-nlp/paradetox, jjjonathan14/mango, jacklin/msmarco_passage_ranking_official_train, mteb/tatoeba-bitext-mining, jjjonathan14/mango1, jjjonathan14/mango2, mteb/bucc-bitext-mining, erickdp/ndat, Ruohao/pcmr, aaraki/github-issues7, yzhou992/tiny_imageNet, readerbench/ConversationalAgent-Ro, NLPC-UOM/Sinhala-English-Code-Mixed-Code-Switched-Dataset, HuggingFaceM4/ego4d, paul21/nq_processed_v2, hongdijk/kluetest, reallycarlaost/emobank-w-valence, markscrivo/oddson2, strombergnlp/ans-stance, tomekkorbak/pile-chunk-toxicity-scored-3, imagenet_sketch, tomekkorbak/pile-toxicity-balanced3, spoiled/ecqa_model_generate_roberta, DigitalUmuganda/kinyarwanda-tts-dataset, DigitalUmuganda/common-voice-kinyarwanda-text-dataset, Rexhaif/ru-med-ner, scoup123/testing, scoup123/tr_movie_reviews_training, cpllab/syntaxgym_sentences, arize-ai/movie_reviews_with_context_drift, s3prl/flashlight, EddieChen372/react_repos, Hongwei/CoQG, ccdv/mediasum, avacaondata/fullrandomq, charly/next_500, Shuchen/codeparrot-train, Shuchen/codeparrot-valid, conceptofmind/pile_cc, avacaondata/fullrandomv2, myradeng/testing, myradeng/cs-230-news-v2, rajistics/million-headlines, renatorangel/hedgies, feyzaakyurek/BBNLI, hidude562/Fake-and-real-words, laion/laion2B-en-aesthetic-tags, laion/laion2B-multi-aesthetic-tags, laion/laion1B-nolang-aesthetic-tags, avacaondata/blindrandom, laion/laion2B-en-aesthetic, laion/laion2B-multi-aesthetic, laion/laion1B-nolang-aesthetic, zhangqiaobit/chinese_poetrys, mesolitica/ms-wiki, laion/laion5B-aesthetic-tags-kv, laion/laion-art, launch/gov_report, IngoStatworx/Py150ExceptionClassification, reallycarlaost/emobank_w, cestwc/paraphrase, launch/gov_report_qs, Rexhaif/xnli-en-ru, conceptofmind/pile_hacker_news, conceptofmind/pile_wikipedia_en, conceptofmind/pile_open_web_text_2, conceptofmind/pile_uspto_backgrounds, teven/mpww_filtered, conceptofmind/pile_dm_mathematics, conceptofmind/pile_open_subtitles, conceptofmind/pile_project_gutenberg, zhangqiaobit/tangshi, sijunhe/thchs30, mesolitica/rumi-jawi, myradeng/cs-230-news-v2-test-moderate, myradeng/cs-230-news-v2-test-liberal, myradeng/cs-230-news-v2-test-conservative, NLPC-UOM/document_alignment_dataset-Sinhala-Tamil-English, breezedeus/cnocr-wx-qr-code, NLPC-UOM/sentence_alignment_dataset-Sinhala-Tamil-English, ekinakyurek/ftrace, nielsr/video-demo, GEM-submissions/lewtun__this-is-a-test-name__1653295318, GEM-submissions/lewtun__this-is-a-test-name__1653295430, reannayang/FL_pavement, aflah/autotrain-data-Engage, mteb/emotion, teven/mpww_filtered_all_passages, reannayang/FL_pavement2, abdoutony207/en_ar_dt, myradeng/cs-230-news-v3, strombergnlp/ara-stance, elifaltintas/new_mimic, myradeng/cs-230-news-v3-test-moderate, myradeng/cs-230-news-v3-test-liberal, myradeng/cs-230-news-v3-test-conservative, angerhang/neurips_submission, cpllab/syntaxgym, elmurod1202/SimRelUz_semantic_evaluation_dataset, espnet/Libri-Trans-Spatialized_SLURP-Spatialized_dataset, jonas/osdg_sdg_data_processed, juliensimon/amazon-shoe-reviews, resist/l, statworx/Py150ExceptionClassification, InfroLab/REBEL-RU, bloomberg/entsum, GroNLP/divemt, Aniemore/resd, Fhrozen/dcase22_task3, haml/halml, Splend1dchan/NMSQA_features_wav2vec2-large-lv60, trashsock/hands-images, Etephyr/Project-Echo, taln-ls2n/pubmed, ajders/machine_translated_cnn_dailymail_da_small, supermario/autotrain-data-test-auto, slegalAI/legalquestion, gzbang/datasetest, mariosasko/test_push_to_hub, Aniemore/cedr-m7, arampacha/librispeech39, duclee9x/speech_recognition_tdtu, Voicemod/librispeech40, yanekyuk/wikikey-tr, yanekyuk/wikikey-en, leo123/squad_posgrados, emilylearning/cond_ft_none_on_reddit__prcnt_20__test_run_False__xlm-roberta-base, dfstrans/elevator_data, thomasg26/fr_corpora_parliament_processed, emilylearning/cond_ft_subreddit_on_reddit__prcnt_20__test_run_False__xlm-roberta-base, emilylearning/cond_ft_none_on_reddit__prcnt_100__test_run_False__xlm-roberta-base, loubnabnl/repo-images, nouamanetazi/amazon_polarity, thomasg26/sv_corpora_parliament_processed, blinoff/healthcare_facilities_reviews, cradle-bio/meltome_cluster_split, evaluate/media, meetyildiz/toqad, myvision/filtered_synthetic, anvelezec/maderapp, mariodoebleriss/test_dataset, lexington/Sneakers, mteb/amazon_reviews_multi, erickdp/final_dataset, Lehrig/GTZAN-Collection, valurank/News_Articles_Categorization, mteb/amazon_polarity, nawalhmw/demo, awacke1/my-arrow-datasets, emilylearning/cond_ft_none_on_reddit__prcnt_na__test_run_True__xlm-roberta-base, seoyeon-22/test, ulysses-camara/ulysses-ner-br, spoiled/ecqa_classify_5, Jianxin1111/1111, taesiri/GamePhysics_Grand_Theft_Auto_V, idonov/test, mteb/imdb, emilylearning/cond_ft_subreddit_on_reddit__prcnt_100__test_run_False__xlm-roberta-base, mteb/amazon_counterfactual, Ashe/ceshi, LTress/lrl_transfer_hubert, Cheatham/unlabelled-EU-JAV-Italian, wrice/sv_corpora_parliament_processed, ErenHali/disaster_edited, pinecone/yt-transcriptions, Yah216/APCD_only_meter_data, merionum/ru_paraphraser, mteb/toxic_conversations_50k, yanekyuk/wikikey, mteb/tweet_sentiment_extraction, coreybrady/blackwoods, coreybrady/processedblackwoods, Aniemore/REPV, Aniemore/REPV-S, coreybrady/blackwoods-sentences, Evelyn18/becasv2, patrickvonplaten/diffusion_images, deepakvk/conversational_dialogues_001_holdout, ChristophSchuhmann/wikiart_with_BLIP_captions, mbazaNLP/kinyarwanda-tts-dataset, sileod/movie_recommendation, elham/vv, sileod/discourse_marker_qa, deepakvk/conversational_dialogues_001_iteration, blinoff/medical_institutions_reviews, wrice/sv_corpora_parliament_processed_punctuation, nickmuchi/fin-class-label, wrice/wikipedia-en-punctuated, Yah216/APCD-Poem_Rawiy_detection, Yah216/Poem_APCD_text_only, cat-state/clip-embeddings, Abdelrahman-Rezk/Arabic_Poem_Comprehensive_Dataset_APCD, jet-universe/top_landscape, jet-universe/quark_gluon, gary109/sv_corpora_parliament_processed, Lais/Sentiment-Analysis-on-Movie-Reviews, gary109/onset-singing_corpora_parliament_processed, diegorysr/sentiment-banking, jonas/undp_jobs_raw, diegorysr/sentiment-banking-pln, diversifix/inclusive_words, daniel-dona/dani-voice, Rexhaif/xsum_reduced, abdoutony207/en_ar_dataset, vcv/sentiment-banking, meghazisofiane/mt-ar-en-1, Rexhaif/xnli_ru, ashesicsis1/asr-sample, stfuowned/rick2, silver/lccc, silver/mmchat, avacaondata/fullnovalid, silver/personal_dialog, w4ngatang/squality, GEM/squality, danielhou13/cogs402dataset, cat-state/mscoco-1st-caption, Rexhaif/cedr-full, meetyildiz/toqad-aug, aaraki/github-issues8, eabayed/EmiratiDialictShowsAudioTranscription, Wangchunshu/VLUE, juletxara/xquad_xtreme, Lehrig/Monkey-Species-Collection, momilla/flattened_contracts, anton-l/earnings21, DFKI-SLT/wikitext_linked, hongdijk/kluekornlu, cahya/paper_abstract, hongdijk/AUGAUG, mteb/mind_small, yananchen/few_nerd_seq2seq, mteb/sts22-crosslingual-sts, cestwc/lsnli-full-uncertain, prajdabre/KreolMorisienMT, declare-lab/cicero, zdreiosis/ffa_grab_1, mbazaNLP/kinyarwanda-language-model-dataset, ibm/vira-intents, twnlp/mydataset, mikehemberger/topex_dataset, cestwc/quora, mikehemberger/topex_dennis, fpaulino/portuguese-tweets, biwi_kinect_head_pose, blinoff/restaurants_reviews, myvision/yuanchuan-synthetic-dataset-final, LDD/data_new, jakka/warehouse_part1, mikehemberger/topex, martinolmos/discursos_peron, dcfidalgo/liar_sentiment, Rauljj95/Rubrix, angie-chen55/python-github-code, JoseMiguel/sa, aleon215/sentiment-banking, muhtasham/tajik-corpus, nferruz/dataset_fastas, arize-ai/ecommerce_reviews_with_language_drift, lyakaap/laion2B-japanese-subset, PoolC/1-fold-clone-detection-600k-5fold, PoolC/2-fold-clone-detection-600k-5fold, PoolC/3-fold-clone-detection-600k-5fold, PoolC/4-fold-clone-detection-600k-5fold, PoolC/5-fold-clone-detection-600k-5fold, gary109/onset-chord_corpora_parliament_processed, clementgyj/FNLP, da3m0n/pln, OneFly/NER, martaculla/Rubrix, tomekkorbak/pile-debug-value-test, enwik8, Taeham/wav2vec2-ksponspeech-train, tomekkorbak/python-github-code, dianalogan/Marketing-Budget-and-Actual-Sales-Dataset, tomekkorbak/pile-toxicity-balanced3-with-values, STAM/agricore-datasets, cestwc/assumptions, binaya-s/en_corpora_parliament_processed, alejandro7548/Rubrix, flxclxc/cellock_data, Non-Residual-Prompting/common_gen_dev2, Nurseiit/nedzhi, Splend1dchan/NMSQA_testupload, Attention/mailabs_fyw, Splend1dchan/NMSQA_testupload2, LeboNLP/toxic-natural-utterances, koudeheld/beatles_lyrics, DWFlanagan/sentiment-banking, koudeheld/beatles_lyrics_dict, spasis/datasets-github-issues-2, lmqg/qg_squadshifts, marwansalam/semeval, benwri/GaryOut, lmqg/qg_esquad, lmqg/qg_koquad, lmqg/qg_ruquad, lmqg/qg_itquad, lmqg/qg_dequad, juanastudillo/datos_caudal, mehnaazasad/arxiv-co-ga, Vlasta/human_cdna, theJainuineGuy/ravdess_test, AlixCF/sample, amartyobanerjee/github-issues, cmotions/Beatles_lyrics, flxclxc/cellock_embeddings, flxclxc/cellock_data_with_embeddings, wgolding/test2, juancavallotti/bea-19-corruption, NLPC-UOM/Travel-Dataset-5000, NLPC-UOM/Sinhala-short-sentences, NLPC-UOM/Sinhala-news-clustering, NLPC-UOM/sinhala-sentiment-lexicon-generation, NLPC-UOM/Sinhala-Neuspellcorrector, NLPC-UOM/Tamil-Sinhala-short-sentence-similarity-deep-learning, NLPC-UOM/Sentiment-tagger, PLN-Activdad-2/sentiment-banking, yanekyuk/wikikey-fr, limsc/mlm-tapt-requirements, limsc/fr-nfr-classification, limsc/req-subclass-classification, limsc/mlm-dapt-aeroastro, awghuku/infore25, crystina-z/mmarco-train, anton-l/earnings22, DaniDelgon/sentiment-banking, DaniDelgon/rubrix, cakiki/fr_wikipedia_unigrams, arbml/metrecv2, TheoMrc/Zebrafish-AChE-Staining, cakiki/es_wikipedia_unigrams, pqknasvquolylkvlic/sentiment-banking, eduu16/Rubrix, juancavallotti/english-gec-tatoeba, cakiki/ar_wikipedia_unigrams, AlekseyKorshuk/persona-chat, cakiki/bn_wikipedia_unigrams, AllenGeng/OCaml_program_corpus, taesiri/GamePhysics, juancavallotti/bea-19-fine-tune, alexyanchag/demo, shpotes/pathfinder, wql/UIE_demo, cakiki/en_wikipedia_unigrams, cakiki/en_wikipedia_bigrams, buio/heart-disease, cakiki/fr_wikipedia_bigrams, cakiki/fr_wikipedia_trigrams, BlackSamorez/2ch_b_dialogues, BeIR/fiqa, BeIR/trec-covid, carblacac/twitter-sentiment-analysis, BeIR/trec-covid-qrels, BeIR/scifact, BeIR/nfcorpus, BeIR/msmarco, BeIR/nq, BeIR/hotpotqa, BeIR/arguana, BeIR/webis-touche2020, BeIR/quora, BeIR/dbpedia-entity, BeIR/scidocs, BeIR/fever, BeIR/climate-fever, BeIR/scifact-qrels, BeIR/nfcorpus-qrels, BeIR/msmarco-qrels, BeIR/hotpotqa-qrels, BeIR/fiqa-qrels, BeIR/arguana-qrels, BeIR/webis-touche2020-qrels, BeIR/quora-qrels, BeIR/dbpedia-entity-qrels, BeIR/scidocs-qrels, BeIR/fever-qrels, BeIR/climate-fever-qrels, Resteves/sentimento-red, cakiki/es_wikipedia_bigrams, cakiki/es_wikipedia_trigrams, Resteves/sentimento-red-validated, cakiki/ar_wikipedia_bigrams, cakiki/ar_wikipedia_trigrams, cakiki/bn_wikipedia_bigrams, cakiki/bn_wikipedia_trigrams, Resteves/ServiciosPublicos, alexyanchag/sentiment-banking, MarlaR/dalle, Splend1dchan/NMSQA_hubert-l_features, misaelferrer/actividad2, misaelferrer/sentiment-banking, yogeshkulkarni/MidcurveNN, awghuku/fosd, ziq/depression_tweet, akiyamasho/test, Adapting/empathetic_dialogues_v2, bekirbakar/sl_corpora_parliament_processed, bekirbakar/fi_corpora_parliament_processed, AlekseyKorshuk/hellaswag, quynhanh12345/potatoes, cakiki/en_wikipedia_trigrams, quynhanh12345/potatoes_test, quynhanh12345/sidewalk-imagery, jobarrio/sentiment-banking, cakiki/loam_1e_minus_02_unigrams_v1, cakiki/loam-viz, BeIR/nq-qrels, JeremyAlain/123_test, osanseviero/hugging_eats, espnet/an4, BeIR/arguana-generated-queries, BeIR/climate-fever-generated-queries, BeIR/dbpedia-entity-generated-queries, BeIR/fever-generated-queries, ziq/depression_advice, nateraw/imagefolder-metadata-test, nateraw/pascal-voc-2012, filwsyl/test1234, cakiki/loam_1e_minus_02_unigrams_v2, Tevatron/beir, Tevatron/beir-corpus, ngc7293/new_dataset, Ephrem/Amharic_ASR_Dataset, linxinyuan/mind, patrickvonplaten/images, nlpaueb/multi_eurlex, simecek/Human_DNA_v0, momilla/flattened_contract_4tools, richardblythman/test1, juancavallotti/english-gec-tatoeba-finetune, DigitalUmuganda/kinyarwanda-english-machine-translation-dataset, simecek/Human_DNA_v0_DNABert6tokenized, memyprokotow/rebel-dataset-rus, rungalileo/mit_movies_fixed_connll_format, banjtheman/AmazonHelpfulReviewsTest, banjtheman/AmazonHelpfulReviewsTrain, noahgift/fake-news, noahgift/test, Carloa/Notes, AleDella/tone, iamnotactuallyacompany/d, qbhy/dataset-example, limsc/concept-recognition, limsc/concept-recognition-not-iob, linxinyuan/imdb, wise-east/spolin, yoshitomo-matsubara/srsd-feynman_easy, yoshitomo-matsubara/srsd-feynman_medium, yoshitomo-matsubara/srsd-feynman_hard, linxinyuan/amazon, linxinyuan/cola, ggoren/amazon_verticals, FabianWillner/triviaQARC, salma-elshafey/my_dataset, AhmedSSabir/Textual-Image-Caption-Dataset, juletxara/tydiqa_xtreme, yinxiang/test, cakiki/subset_yake_keyword_unigrams_bigrams_no_stop_word_removal, AhmedSSabir/Japanese-wiki-dump-sentence-dataset, neurotech/swahili-ner-dataset, patrickvonplaten/scientific_images, tonytins/chat-dataset, truthful_qa, florentgbelidji/edmunds-car-ratings, nielsr/flowers-demo, florentgbelidji/car-reviews, frollo/ItalianCrimeNews, zakria/it_corpora_parliament_processed, bigbench, chandana-upadya/github-issues, rungalileo/test, multimodalart/latent-majesty-diffusion-settings, multimodalart/v-majesty-diffusion-settings, Bingsu/Human_Action_Recognition, spencer/python_slack, Brendan/yahoo_answers, AkaGuda/fate, Unso/ted2020_pairs_en_x, florentgbelidji/autotrain-data-quality-customer-reviews, EddieChen372/tokenized-4096-react, quickdraw, scikit-learn/auto-mpg, anton-l/images, chradden/face_age, davidcechak/Human_DNA_v0, florentgbelidji/autotrain-data-qa-team-car-review-project, davidcechak/Mouse_DNA_v0, sil-ai/bloom-speech, davidcechak/Mouse_DNA_v0_DNABert6tokenized, otheng03/test1, qualitydatalab/autotrain-data-car-review-project, kaniku/predict_data, speechcolab/gigaspeech, alexfabbri/answersumm, loulely/fr_corpora_parliament_processed_2, davidcechak/Zebrafish_DNA_v0, davidcechak/Zebrafish_DNA_v0_DNABert6tokenized, davidcechak/Fruitfly_DNA_v0, davidcechak/Fruitfly_DNA_v0_DNABert6tokenized, q2-jlbar/BrooksOrDunn, roshnir/mlqa-qa, davidcechak/Worm_DNA_v0, davidcechak/Worm_DNA_v0_DNABert6tokenized, davidcechak/Arabidopsis_thaliana_DNA_v0, davidcechak/Arabidopsis_thaliana_DNA_v0_DNABert6tokenized, MrClean/Dalleproject, sude123/twitter_dataset, AlekseyKorshuk/erotic-books, Impostor/Pixel, AlekseyKorshuk/fairy-tale-books, allenai/mup-full, th4tkh13m/amazon_shoe_reviews, AlekseyKorshuk/fantasy-books, EddieChen372/tokenized-1024-react, scutcyr/CPED, EddieChen372/tokenized-512-react, stevfoy/greenway, BNZSA/address_data, NbAiLab/newspapertop, simecek/Human_DNA_v0_Perceiver1tokenized, Nart/parallel-ab-ru, AlekseyKorshuk/romance-books, aprischa/testingdata, aiface/trainRow, sagantime/NBAData, luketheduke/wsc.fix, SetFit/wsc_fixed, sudo-s/datasetexample, SetFit/wsc, Amath/hotel, sudo-s/example1, SetFit/CR, cestwc/lsnli-predicted, sudo-s/Tiny_Images_datasets, pere/italian_tweets_10M, aiface/trainVN, Theivaprakasham/wildreceipt, AlekseyKorshuk/thriller-books, ggnm/ewww, ggnm/grdgytygh, ItsiAdam/storis, pysentimiento/spanish-targeted-sentiment-headlines, deusprofano/images, RynaHu/github-issues, ReverseThings/lol, Wendigofucker/GeneratedHorror, hoanhtu/datalarge, khalidalt/ultimate_arabic_news, noob123/small_augemented_nlp_dataset, Unso/globalvoices_pairs_en_x, EddieChen372/tokenized-128-react, AlekseyKorshuk/mystery-crime-books, AlekseyKorshuk/drama-books, olivierdehaene/xkcd, tttruka/Hihi, TencentMedicalNet/MRBrains18, trustwallet/22, trustwallet/24, hakbari/sv_corpora_parliament_processed, psyche/kowiki, jessedvixen/obama, AlekseyKorshuk/fiction-books, Taeham/wav2vec2-ksponspeech-test, pnrr/data-turkish-class, frankisms/arg, cestwc/lsnli-sim, Adapting/empathetic_dialogues_with_special_tokens, SJFieldLondon/Matrixial, sudo-s/Tiny_Images_datasets2, Jerimee/sobriquet, sagot/lefff_morpho, smilerip/smileip, pjain/amazon-shoe-reviews, arjundd/mridata-stanford-knee-3d-fse, espejelomar/my_embeddings, limsc/requirements-entity-recognition, amueller/syntactic_transformations, madatnlp/partial_car_kr, brikles/yea, Timtel/autotrain-data-Botm, grawcse/Sinhala_Facebook_posts_sentence_embeddings, Taeham/wav2vec2-ksponspeech-third-party-test, lewtun/raft-test-submission, Rodekool/ornl8, daokang/bidai, sst2, daokang/bs, felipe3dartist/autotrain-data-test, erickdp/sentiment_tweets, erickdp/clean-dataset, erickdp/principal-dt, sudo-s/Tiny_Images_datasets3, gran0lah/randomshit1, gran0lah/idk, savvy7/kristens, jacklin/msmarco_passage_ranking_queries, jacklin/msmarco_passage_ranking_corpus, gsarti/magpie, PiC/phrase_retrieval, rajistics/auditor_review, Jerimee/autotrain-data-dontknowwhatImdoing, PiC/phrase_sense_disambiguation, PiC/phrase_similarity, rajistics/auditor_review2, shwet/BBC_NEWS, rajistics/auditor_review3, demo-org/auditor_review, spencer/software_slacks, Saripudin/twitter_sentiment, tensorcat/RF-Samples, tensorcat/Danbooru-2020-Small, Saripudin/sroie2019_sample, isa93/mio, hydramst/face_mask_wearing, lewtun/imdb-dummy, Waleed-bin-Qamar/covid-dataset-CT-images, daokang/bisai, erickdp/kdataset, taskydata/tasky_or_not, eeeree/tarakajeet, lccc, ScandEval/dane-mini, ScandEval/norne-nb-mini, ScandEval/norne-nn-mini, ScandEval/suc3-mini, ScandEval/angry-tweets-mini, ScandEval/norec-mini, ScandEval/absabank-imm-mini, ScandEval/mim-gold-ner-mini, ScandEval/wikiann-fo-mini, rr/dd, isack/graduation, nateraw/cats-and-dogs-with-metadata, Voicemod/LibriTTS-100-preproc, nateraw/cats-and-dogs-metadata, ITESM/embedded_faqs_medicare, limsc/subclass-classification, nateraw/ade20k-tiny, DeuxAllemagnes/Images, nateraw/country211, nateraw/rendered-sst2, nateraw/kitti, Pavithree/eli5_0_19710, Pavithree/eli5_19710_39422, Lolubeva/cat, Pavithree/eli5_39422_59134, Pavithree/askScience_0_10534, Pavithree/askScience_10534_21068, EulerianKnight/SeaSpongeDetection, Pavithree/askScience_21068_31063, Pavithree/askHistorians_9381, Pavithree/askHistorians_9381_18762, Pavithree/askHistorians_18762_28144, angie-chen55/javascript-github-code, lucynwang/text_classifier_bert, rr/DDR, valhalla/images, chandrasutrisnotjhong/github-issues, sketchai/sam-dataset, gcaillaut/frwiki_el, ksbk/gg, iohadrubin/mini_xsum, pszemraj/multi_fc, NbAiLab/LIA_speech, themindorchestra/SoundHealing, codeparrot/apps, alpalasaul/tweets_clean, trustwallet/33, justpyschitry/autotrain-data-Psychiatry_Article_Identifier, EddieChen372/tokenized-1024-js, warre/u, omarxadel/MaWPS-ar, nateraw/huggingpics-test, sudo-s/exmalpe2, sudo-s/Tiny_Images_datasfkkffks3, fourthbrain-demo/reddit-comments-demo, sounakray1997/CoNLLU_WikiNEuRal, adamlin/question_augmentation, sudo-s/herbier, sudo-s/herbier2, cynthiachan/FeedRef2022, nateraw/kinetics, markrogers/github-issues, HALLA/Rhubarbify, davanstrien/v4test, sudo-s/herbier3, nehruperumalla/forms, sudo-s/herbier4, brigs/ocr_1, hoanhtu/train, scikit-learn/imdb, amissier/amazon-shoe-reviews, Chyvapchah/Poka, IIC/qges, hardyqr/counterfactual_gigaword_1m, codeparrot/codeparrot-valid-near-deduplication, fmplaza/offendes, sudo-s/herbier5, vesteinn/sosialurin-faroese-pos, codeparrot/codeparrot-train-near-deduplication, khalidalt/tydiqa-primary, codeparrot/codeparrot-train-v2-near-dedup, sudo-s/herbier6, codeparrot/codeparrot-valid-v2-near-dedup, nightingal3/fig-qa, sudo-s/herbier_mesuem, nateraw/list-of-bestselling-pc-games, nateraw/ipldataset, nateraw/rice-image-dataset, nateraw/bip4covid19, nateraw/rice-image-dataset-2, nateraw/espeni, osanseviero/top-hits-spotify, sudo-s/herbier_mesuem2, nateraw/airbnb-stock-price, Littencito/A, amanbawa96/jsonDataset, watakandai/LTLtraces, nateraw/kineticstest, Sampson2022/demo, s3prl/SNIPS, EddieChen372/js2jest, EddieChen372/js2jestFiles, marcomameli01/gear, Rizqi/emotion-raw, momilla/Ethereum_transacitons, vadis/sv-ident, loulely/glue_cola_processed, alexfrancow/wordpress, efederici/cats_vs_dogs, Sampson2022/demo2, 51la5/keyword-extraction, dcfidalgo/test_this, loulely/en_corpora_parliament_processed, Thisis/Juuuoo, rubrix/_simple_test, bengaliAI/CommonVoiceBangla, Taeham/wav2vec2-ksponspeech-train2, BeIR/nfcorpus-generated-queries, BeIR/scifact-generated-queries, BeIR/scidocs-generated-queries, BeIR/fiqa-generated-queries, BeIR/trec-covid-generated-queries, BeIR/trec-news-generated-queries, BeIR/webis-touche2020-generated-queries, BeIR/robust04-generated-queries, BeIR/signal1m-generated-queries, BeIR/quora-generated-queries, BeIR/nq-generated-queries, BeIR/hotpotqa-generated-queries, BeIR/cqadupstack-generated-queries, BeIR/cqadupstack-qrels, BeIR/bioasq-generated-queries, seal345/model_distilbert_trained, BeardedJohn/FakeNews, icelab/ntrs_meta, EddieChen372/tokenized-256-jest, tomekkorbak/codeparrot-clean-train-v2-pep8, erickdp/aix_kdataset, daniel-dona/paracrawl-9-gl-es, spacemanidol/ESCI-product-dataset-corpus, spacemanidol/ESCI-product-dataset, julien-c/kaggle-rounakbanik-pokemon, julien-c/kaggle-hugomathien-soccer, valurank/Adult-content-dataset, leo19941227/librispeech_metadata, s3prl/librispeech_metadata, alpalasaul/test, alpalasaul/span_full_corpus_clean, c17hawke/test-xml-data, CloverSearch/cc-news-mutlilingual, Nehc/AGIRussia-conversation, EddieChen372/javascript-medium, EddieChen372/javascript-small, pinecone/core-2020-05-10-deduplication, EddieChen372/tokenized-256-6-js, Rami/adhd_question, c17hawke/stackoverflow-dataset, Shayanvsf/ParSQuAD, cringemaster07/putin, iohadrubin/qampari, s3prl/pre-releases, mounikaiiith/Telugu_Sentiment, s3prl/mini_voxceleb1, mounikaiiith/Telugu_Emotion, mounikaiiith/Telugu-Hatespeech, mounikaiiith/Telugu-Sarcasm, sudo-s/herbier_mesuem1, mahfooz/lm_for_stt_mix_cv, imvladikon/leipzig_corpora_collection, imvladikon/hebrew_news, GEM-submissions/lewtun__this-is-a-test-name__1655666361, rjac/all-the-news-2-1-Component-one, facebook/pmd, EddieChen372/js2jest_without_comment, flexthink/audiomnist, olpa/jbo-corpus, Datatang/American_English_Speech_Data_by_Mobile_Phone_Reading, hugginglearners/malayalam_news, ankitsingh96/squad_multitask, hf-internal-testing/spaghetti-video, fabianrausch/financial-entities-values-augmented, sandeepds/noyhing, XGBooster/github-issues, EddieChen372/js2jest-without-comment-1024, abhishek/autotrain-data-vision_ccf5a6b02d5846ac9aab877555676b06, openclimatefix/gfs-surface-pressure-1.0deg, vitaliiai/test-dataset, scikit-learn/iris, scikit-learn/breast-cancer-wisconsin, anton-l/earnings22_robust, romjansen/robbert-base-v2-NER-NL-legislation-refs-data, scikit-learn/adult-census-income, scikit-learn/student-alcohol-consumption, scikit-learn/credit-card-clients, huggingartists/headie-one, Siddish/autotrain-data-yes-or-no-classifier-on-circa, severo/fix-401, sasha/chihuahua-muffin, s3prl/mini_fsc, sanchit-gandhi/earnings22_robust_split, sasha/dog-food, athar/cov, athar/cov2, athar/cc, PROSLab/BPMN-Redrawer-Dataset, NimaBoscarino/playlist-generator, davidkartchner/plant-phenotype, spencer/samsum_reformat, spencer/dialogsum_reformat, axds/fish-sounds-from-passive-acoustic-recordings, ywchoi/mdpi, tals/vitaminc, mrojas/ejemplo, NLPC-UOM/MWP_Dataset, Shayanvsf/pquad_public, Datatang/North_American_English_Speech_Data_by_Mobile_Phone_and_PC, Datatang/Mandarin_Conversational_Speech_Data_by_Mobile_Phone_and_Voice_Recorder, Datatang/American_English_Natural_Dialogue_Speech_Data, Datatang/Cantonese_Conversational_Speech_Data_by_Mobile_Phone_and_Voice_Recorder, mdnaserhassan/naser_cord, Datatang/Mandarin_Mobile_Telephony_Conversational_Speech_Collection_Data, Datatang/Mongolian_Colloquial_Video_Speech_Data, Datatang/German_Conversational_Speech_Data_by_Mobile_Phone, gary109/onset-stepmania_corpora_parliament_processed, Datatang/Vietnamese_Conversational_Speech_Data_by_Mobile_Phone, Datatang/Minnan_Dialect_Conversational_Speech_Data_by_Mobile_Phone, Datatang/French_Conversational_Speech_Data_by_Mobile_Phone, Datatang/Spanish_Conversational_Speech_Data_by_Mobile_Phone, Datatang/Saudi_Arabic_Colloquial_Video_Speech_Data, Datatang/Hindi_Conversational_Speech_Data_by_Mobile_Phone, Datatang/Indian_English_Colloquial_Video_Speech_Data, Datatang/British_English_Speech_Data_by_Mobile_Phone, Datatang/Italian_Speech_Data_by_Mobile_Phone, Datatang/Foreigner_Speaking_Chinese_Speech_Data_by_Mobile_Phone, Datatang/Chinese_Children_Speech_Data_by_Microphone, Datatang/Mandarin_Speech_Data_in_Cars_by_Mobile_Phone, Datatang/Chinese_Speaking_English_Speech_Data_by_Mobile_phone, Datatang/Mandarin_Speech_by_Mobile_Phone, Datatang/Mandarin_Heavy_Accent_Speech_Data_by_Mobile_Phone, Datatang/Uyghur_Speech_Data_by_Mobile_Phone, Datatang/Cantonese_Dialect_Speech_Data_by_Mobile_Phone, Datatang/Shanghai_Dialect_Speech_Data_by_Mobile_Phone, Datatang/Japanese_Speech_Data_by_Mobile_Phone_Reading, Datatang/Korean_Speech_Data_by_Mobile_Phone_Reading, Datatang/British_Children_Speech_Data_by_Microphone, Datatang/Mixed_Speech_with_Chinese_and_English_Data_by_Mobile_Phone, Datatang/Taiwan_Mandarin_Speech_Data_by_Mobile_Phone_Reading, Datatang/German_Speech_Data_by_Mobile_Phone_Reading, Datatang/European_Portuguese_Speech_Data_by_Mobile_Phone, Datatang/Italian_Speech_Data_by_Mobile_Phone_Reading, Datatang/Thai_Speech_Data_by_Mobile_Phone_Reading, Datatang/Indonesian_Speech_Data_by_Mobile_Phone_Reading, Datatang/Malay_Speech_Data_by_Mobile_Phone_Reading, Datatang/American_Children_Speech_Data_by_Microphone, Datatang/Chinese_Young_Children_Speech_Data_by_Mobile_Phone_and_Microphone, Datatang/British_English_Speech_Data_by_Mobile_Phone_Reading, Datatang/Spanish_Speech_Data_by_Mobile_Phone, Datatang/Brazilian_Portuguese_Speech_Data_by_Mobile_Phone, Datatang/French_Speech_Data_by_Mobile_Phone, Datatang/Number_Speech_Data_in_Mandarin_and_Dialects_by_Mobile_Phone, Datatang/Chinese_Wake-up_Words_Speech_Data_by_Mobile_Phone, Datatang/Russian_Speech_Data_by_Mobile_Phone, Datatang/Chinese_English_Speech_Data_by_Mobile_Phone, Datatang/Vietnamese_Speech_Data_by_Mobile_Phone, Datatang/Latin_American_Speaking_English_Speech_Data_by_Mobile_Phone, Datatang/Canadian_Speaking_English_Speech_Data_by_Mobile_Phone, Datatang/Japanese_Speaking_English_Speech_Data_by_Mobile_Phone, Datatang/Chinese_Mandarin_Synthesis_Corpus-Female_Customer_Service, Datatang/Mixed_Speech_with_Korean_and_English_Data_by_Mobile_Phone, Datatang/Filipino_Speaking_English_Speech_Data_by_Mobile_Phone, Datatang/Japanese_Synthesis_Corpus-Female, Datatang/Interspeech2020_Accented_English_Speech_Recognition_Competition_Data, SetFit/SentEval-CR, lcampillos/ctebmsp, ranaatay536/1, iejMac/CLIP-Kinetics700, codeparrot/github-jupyter, envedabio/plant-phenotype, deeptools-ai/test-document-invoice, lewtun/test__with__underscores, FacePerceiver/laion-face, mteb/summeval, autoevaluate/mnist-sample, knibu/test, JulesBelveze/tldr_news, COLD-team/COLD, cestwc/tempsnli, osanseviero/hyperbard, fusing/dog_captions, lewtun/benchmarks-gem-submission, nateraw/espeni-2, nateraw/airbnb-stock-price-2, openclimatefix/gfs-surface-pressure-0.5deg, nateraw/test-upload-folder-bug, nateraw/hyperbard, gngpostalsrvc/BERiT, nateraw/lung-cancer, nateraw/monkeypox, gary109/onset-singing_corpora_parliament_processed_MIR-ST500, trustwallet/support, Sampson2022/demo3, simecek/Human_DNA_v0_DNABert6tokenized_stride1, thotnd/VBSF001, Datatang/Scene_Noise_Data_by_Voice_Recorder, Datatang/Suzhou_Dialect_Speech_Data_by_Mobile_Phone, Datatang/Hangzhou_Dialect_Speech_Data_by_Mobile_Phone, Datatang/Microphone_Collecting_Radio_Frequency_Noise_Data, ITESM/dataset, Datatang/Mandarin_Heavy_Accent_Speech_Data, Datatang/Henan_Dialect_Speech_Data_by_Mobile_Phone, Datatang/Northeast_Dialect_Speech_Data_by_Mobile_Phone, Datatang/Chinese_Mandarin_Speech_Synthesis_Corpus-Female_Imitating_Children, Datatang/Sichuan_Dialect_Speech_Data_by_Mobile_Phone, Datatang/Korean_Speech_Data_by_Mobile_Phone_Guiding, Datatang/Taiwanese_Mandarin_Speech_Data_by_Mobile_Phone_Guiding, Datatang/German_Speech_Data_by_Mobile_Phone_Guiding, Datatang/Italian_Speech_Data_by_Mobile_Phone_Guiding, Datatang/Thai_Speech_Data_by_Mobile_Phone_Guiding, Datatang/British_English_Speech_Data_by_Mobile_Phone_Guiding, Datatang/Changsha_Dialect_Speech_Data_by_Mobile_Phone, Datatang/Korean_Speech_Data_by_Mobile_Phone, Datatang/Chinese_Speech_Data_by_Mobile_Phone, Datatang/In-Car_Noise_Data_by_Microphone_and_Mobile_Phone, Datatang/French_Speech_Data_by_Mobile_Phone_Reading, Datatang/French_Speech_Data_by_Mobile_Phone_Guiding, Datatang/Spanish_Speech_Data_by_Mobile_Phone_Reading, Datatang/Spanish_Speech_Data_by_Mobile_Phone_Guiding, Datatang/Hindi_Speech_Data_by_Mobile_Phone_Reading, Datatang/Hindi_Speech_Data_by_Mobile_Phone_Guiding, Datatang/Hindi_Speech_Data_by_Mobile_Phone, Datatang/Spanish_Speech_Data, Datatang/Chinese_Mandarin_Synthesis_Corpus_Female_Customer_Service, Datatang/Italian_Speech_Data_Collected_by_Mobile_Phone, Datatang/Chinese_Children_Speech_data_by_Mobile_phone, Datatang/Indian_English_Speech_Data_by_Mobile_Phone, Datatang/Wuhan_Dialect_Speech_Data_by_Mobile_Phone, Datatang/Pinyin_Annotation_Speech_Data_of_Audio_Book_Text, Datatang/Mic-Array_Speech_Data_in_Home_Environment, Datatang/Japanese_Speech_Data_By_Mobile_Phone, Datatang/American_English_Speech_Synthesis_Corpus-Female, Datatang/Scene_Noise_Data, Datatang/English_Emotional_Speech_Data_by_Microphone, Datatang/Mandarin_Speech_Data_in_Noisy_Environment_by_Mobile_Phone, Datatang/German_Speech_Data_by_Mobile_Phone, Datatang/Far-filed_Noise_Speech_Data_in_Home_Environment_by_Mic-Array, Datatang/Japanese_Speech_Data, Datatang/Kunming_Dialect_Speech_Data_by_Mobile_Phone, Datatang/Non-Hispanic_Spanish_Speech_Data_by_Mobile_Phone, Datatang/Emotional_Video_Data, Datatang/Mandarin_Interactive_Speech_Data_by_Mobile_Phone, Datatang/French_Speaking_English_Speech_Data_by_Mobile_Phone, Datatang/Spanish_Speaking_English_Speech_Data_by_Mobile_Phone, Datatang/Singaporean_Speaking_English_Speech_Data_by_Mobile_Phone, Datatang/Australian_English_Speech_Data_by_Mobile_Phone, Datatang/Indonesian_Speech_Data_by_Mobile_Phone, Datatang/Infant_Cry_Speech_Data_by_Mobile_Phone, Datatang/American_English_Speech_Data_by_Mobile_Phone, Datatang/Chinese_Children_Speaking_English_Speech_Data_by_Mobile_Phone, Datatang/Mandarin_Strong_Accent_Speech_Data_by_Mobile_Phone, Datatang/Korean_Speech_Data, Datatang/Mandarin_Voiceprint_Recognition_Speech_Data_by_Mobile_Phone, Datatang/Italian_Speaking_English_Speech_Data_by_Mobile_Phone, Datatang/Portuguese_Speaking_English_Speech_Data_by_Mobile_Phone, Datatang/Korean_Speaking_English_Speech_Data_by_Mobile_Phone, Datatang/Russian_Speaking_English_Speech_Data_by_Mobile_Phone, Datatang/Sichuan_Dialect_Conversational_Speech_Data_by_Mobile_Phone, Datatang/Chinese_Digital_Speech_Data_by_Mobile_Phone, Datatang/Wake-up_Words_Speech_Data_by_Microphone, GEM-submissions/lewtun__this-is-a-test-name__1655888220, Datatang/Mixed_Speech_with_Chinese_and_English_Data, Datatang/Mandarin_Speech_Data_by_Mobile_Phone, Datatang/Infant_Laugh_Speech_Data_by_Mobile_Phone, Datatang/Chinese_Mandarin_Synthesis_Data_Female_Customer_Service, Datatang/Chinese_Mandarin_Synthesis_Corpus-Male_Customer_Service, Datatang/Chinese_Mandarin_Average_Tone_Speech_Synthesis_Corpus-Customer_Service, Datatang/American_English_Colloquial_Video_Speech_Data, Datatang/Uyghur_Colloquial_Video_Speech_Data, Datatang/Chinese-English_Mixed_Average_Tone_Speech_Synthesis_Corpus-Customer_Service, Datatang/Kazakh_Colloquial_Video_Speech_Dat, Datatang/Tibetan_Colloquial_Video_Speech_Data, Datatang/Filipino_Speech_Data_by_Mobile_Phone, Datatang/Chinese_Mandarin_Synthesis_Corpus-Female-Customer_Service, Datatang/Chinese_Mandarin_Average_Tone_Speech_Synthesis_Corpus_General, Datatang/Chinese_Mandarin_Synthesis_Corpus-Female_General, Datatang/Chinese_Mandarin_Synthesis_Corpus-Female_Emotional, Datatang/Chinese_Average_Tone_Speech_Synthesis_Corpus-Three_Styles, Datatang/Chinese_Mandarin_Songs_in_Acapella__Female, Datatang/American_English_Speech_Synthesis_Corpus-Male, Datatang/Chinese_Mandarin_Synthesis_Corpus-Female_Customer_Service_Conversational_Speech, yuanjie/wikitext-103-albert-example, yuanjie/wikitext-103-albert-example-stream, Skelebor/book_titles_and_descriptions, polinaeterna/audiofolder_example, GEM-submissions/lewtun__this-is-a-test-name__1655900658, polinaeterna/audiofolder_two_splits_meta_outside, gopalkalpande/bbc-news-summary, gabrielsantosrv/pracegover, GEM-submissions/lewtun__this-is-a-test-name__1655905032, sharpcoder/bjorn_training, sasha/wino_bias_cloze1, sasha/wino_bias_cloze2, imvladikon/bmc, osanseviero/kaggle-animal-crossing-new-horizons-nookplaza-dataset, GEM-submissions/lewtun__this-is-a-test-name__1655913671, GEM-submissions/lewtun__this-is-a-test-name__1655913794, GEM-submissions/lewtun__this-is-a-test-name__1655913835, GEM-submissions/lewtun__this-is-a-test-name__1655913900, GEM-submissions/lewtun__this-is-a-test-name__1655914374, phihung/titanic, tykimos/company_rules, jalFaizy/detect_chess_pieces, nateraw/parti-prompts, iohadrubin/nq, iohadrubin/mapped_qampari, iohadrubin/mapped_nq, iohadrubin/mapped_multitask, GEM-submissions/lewtun__this-is-a-test-name__1655928558, shouzen/final_data_sale, openclimatefix/gfs-surface-pressure-2.0deg, martosinc/morrowtext, justpyschitry/autotrain-data-Wikipeida_Medical_Topic_Classifier, duongmle/viet-tts-datase, justpyschitry/autotrain-data-Wikipeida_Article_Classifier_by_Chap, tencups/gpt2, vimalb/tweet-eval-emotion, kws/sv_corpora_parliament_processed, seoyeon-22/test-2, GEM-submissions/lewtun__this-is-another-test-name__1655982268, GEM-submissions/lewtun__this-is-another-test-name__1655983106, GEM-submissions/lewtun__this-is-another-test-name__1655983383, GEM-submissions/lewtun__this-is-another-test-name__1655985826, scikit-learn/tips, zoha/fa_tep_en_fa_para, sasha/wino_bias_prompt1, sasha/wino_bias_prompt2, HekmatTaherinejad/Transparent, eugenetanjc/speech_accent, eugenetanjc/speech_accent_1000, CShorten/ML-ArXiv-Papers, PedroDKE/LibriS2S, fever/feverous, kiran957/railway_complaints, eugenetanjc/speech_accent_1000_french, spencer/samsum_by_sentence, wiselinjayajos/squad_modified_for_t5_qg, eugenetanjc/speech_accent_5_afrikaans, eugenetanjc/speech_accent_albanian, iohadrubin/nq_reranking_bm25, eugenetanjc/speech_accent_albanian_test, iohadrubin/qampari_reranking_bm25, NbAiLab/newspaperimagescompletetop, maxzoech/fever, simarora/ConcurrentQA, patrickvonplaten/diffuse_vp_ve, GEM-submissions/lewtun__this-is-a-test-submission__1656013291, GEM-submissions/lewtun__this-is-a-test-submission-1__1656014763, wiselinjayajos/squad_v2_modified_for_t5_qg, rjac/kaggle-entity-annotated-corpus-ner-dataset, eugenetanjc/speech_accent_english, eugenetanjc/speech_accent_english_test, mh53/asr_radio_ru, eugenetanjc/speech_accent_general, eugenetanjc/speech_accent_general_test, Splend1dchan/NMSQA_wav2vec2-large-10min-lv60-self2, eugenetanjc/speech_accent_general_200, EddieChen372/react_tokenized_1024, smangrul/MuDoConv, SurfaceData/translation_MorisienMT, s3prl/Nonspeech, autoevaluate/autoeval-staging-eval-project-6f448a33-7144739, autoevaluate/autoeval-staging-eval-project-3a096c4f-7154740, malteos/wechsel_de, autoevaluate/autoeval-staging-eval-project-24b8fb23-7164741, autoevaluate/autoeval-staging-eval-project-8bd2d2bb-7174742, autoevaluate/autoeval-staging-eval-project-16b3930d-7184743, autoevaluate/autoeval-staging-eval-project-189205be-7194744, autoevaluate/autoeval-staging-eval-project-e1ba2206-7204745, autoevaluate/autoeval-staging-eval-project-08298f45-7214746, autoevaluate/autoeval-staging-eval-project-08298f45-7214747, autoevaluate/autoeval-staging-eval-project-08298f45-7214748, autoevaluate/autoeval-staging-eval-project-08298f45-7214749, autoevaluate/autoeval-staging-eval-project-08298f45-7214750, autoevaluate/autoeval-staging-eval-project-08298f45-7214751, autoevaluate/autoeval-staging-eval-project-08298f45-7214752, autoevaluate/autoeval-staging-eval-project-08298f45-7214753, autoevaluate/autoeval-staging-eval-project-1c7ef613-7224754, autoevaluate/autoeval-staging-eval-project-1c7ef613-7224755, autoevaluate/autoeval-staging-eval-project-1c7ef613-7224756, autoevaluate/autoeval-staging-eval-project-1c7ef613-7224757, eugenetanjc/speech_accent_example, autoevaluate/autoeval-staging-eval-project-61110342-7234758, autoevaluate/autoeval-staging-eval-project-6a6944f2-7244759, autoevaluate/autoeval-staging-eval-project-6a6944f2-7244760, autoevaluate/autoeval-staging-eval-project-29af5371-7254761, autoevaluate/autoeval-staging-eval-project-29af5371-7254762, autoevaluate/autoeval-staging-eval-project-29af5371-7254763, autoevaluate/autoeval-staging-eval-project-29af5371-7254764, autoevaluate/autoeval-staging-eval-project-29af5371-7254765, autoevaluate/autoeval-staging-eval-project-2dc276ac-7264766, autoevaluate/autoeval-staging-eval-project-2dc276ac-7264767, autoevaluate/autoeval-staging-eval-project-2dc276ac-7264768, autoevaluate/autoeval-staging-eval-project-d9e82fe6-7274769, autoevaluate/autoeval-staging-eval-project-d9e82fe6-7274770, eugenetanjc/speech_accent_dutch, autoevaluate/autoeval-staging-eval-project-be45ecbd-7284771, autoevaluate/autoeval-staging-eval-project-be45ecbd-7284772, autoevaluate/autoeval-staging-eval-project-be45ecbd-7284773, autoevaluate/autoeval-staging-eval-project-be45ecbd-7284774, autoevaluate/autoeval-staging-eval-project-be45ecbd-7284775, autoevaluate/autoeval-staging-eval-project-be45ecbd-7284776, autoevaluate/autoeval-staging-eval-project-be45ecbd-7284777, albertvillanova/tmp-mention, autoevaluate/autoeval-staging-eval-project-38643302-7294778, autoevaluate/autoeval-staging-eval-project-38643302-7294779, autoevaluate/autoeval-staging-eval-project-38643302-7294780, autoevaluate/autoeval-staging-eval-project-38643302-7294781, autoevaluate/autoeval-staging-eval-project-38643302-7294782, autoevaluate/autoeval-staging-eval-project-38643302-7294783, Jaybore/autotrain-data-weibosent, autoevaluate/autoeval-staging-eval-project-84760c85-7314784, autoevaluate/autoeval-staging-eval-project-84760c85-7314785, autoevaluate/autoeval-staging-eval-project-84760c85-7314786, LTress/British_LibriAdapt, hikaru/tutorial, hellokitty/accident, IsaMaks/try_connll, BeardedJohn/ubb-endava-conll-assistant-ner, hashir123/huma, IsaMaks/tryconnl2, joelito/brazilian_court_decisions, rkstgr/mtg-jamendo, autoevaluate/autoeval-staging-eval-project-47728988-7374793, autoevaluate/autoeval-staging-eval-project-47728988-7374794, autoevaluate/autoeval-staging-eval-project-47728988-7374795, israfelsr/img-wikipedia-simple, autoevaluate/autoeval-staging-eval-project-f87a1758-7384796, autoevaluate/autoeval-staging-eval-project-f87a1758-7384797, autoevaluate/autoeval-staging-eval-project-f87a1758-7384798, autoevaluate/autoeval-staging-eval-project-f87a1758-7384799, autoevaluate/autoeval-staging-eval-project-f87a1758-7384800, HuggingFaceM4/VQAv2, eugenetanjc/speech_accent_english_100, eugenetanjc/speech_accent_spanish, eugenetanjc/speech_accent_spanish_test, flexthink/librig2p-nostress-space-cmu, romjansen/mbert-base-cased-NER-NL-legislation-refs-data, ashraq/movielens_ratings, chinoll/animeNet, autoevaluate/autoeval-staging-eval-project-72b4615f-7404801, Mascariddu8/github-issues, autoevaluate/autoeval-staging-eval-project-8f462ffa-7414802, autoevaluate/autoeval-staging-eval-project-8f462ffa-7414803, kennbyee25/trundle_patents-poc, codeparrot/codecomplex, chrisjay/mnist-adversarial-dataset, rjac/kaggle-entity-annotated-corpus-ner-dataset-oversampled, jvanz/querido_diario, LHF/escorpius, NbAiLab/newspaperimagescomplete, aughhhhh/idk, danielhou13/cogs402dataset2, bazyl/GTSRB, Mithil/amazonFakeReview, pcy/autotrain-data-test_sum, eugenetanjc/cv_dataset_train, eugenetanjc/cv_dataset_test, mustapha/QuranExe, autoevaluate/autoeval-staging-eval-project-5ece7d74-70d9-4701-a9b7-1777e66ed4b0-5145, autoevaluate/autoeval-staging-eval-project-bba54b81-5330-48f8-b7bf-1cb797f93bcf-5246, autoevaluate/autoeval-staging-eval-project-21811dfd-a09c-4692-82b2-7e358a2520ce-5347, autoevaluate/autoeval-staging-eval-project-840224bd-ff8b-4526-8827-e12d96f6c7bf-5448, autoevaluate/autoeval-staging-eval-project-896d78da-9e5e-4706-b736-32d4a31ff571-5549, autoevaluate/autoeval-staging-eval-project-6715a17f-ec96-4660-9a86-49fe175a04f1-5650, autoevaluate/wmt16-sample, autoevaluate/autoeval-staging-eval-project-62ca8f86-389e-4833-9ccf-a97cadcf4874-5751, autoevaluate/squad-sample, autoevaluate/xsum-sample, autoevaluate/autoeval-staging-eval-project-fed20ca6-7444804, autoevaluate/autoeval-staging-eval-project-17e9fcc1-7454805, autoevaluate/autoeval-staging-eval-project-17e9fcc1-7454806, autoevaluate/autoeval-staging-eval-project-17e9fcc1-7454809, autoevaluate/autoeval-staging-eval-project-17e9fcc1-7454810, autoevaluate/autoeval-staging-eval-project-17e9fcc1-7454812, autoevaluate/autoeval-staging-eval-project-17e9fcc1-7454811, autoevaluate/autoeval-staging-eval-project-17e9fcc1-7454808, autoevaluate/autoeval-staging-eval-project-17e9fcc1-7454807, autoevaluate/autoeval-staging-eval-project-f2126c7c-7464813, autoevaluate/autoeval-staging-eval-project-f2126c7c-7464814, autoevaluate/autoeval-staging-eval-project-f2126c7c-7464815, autoevaluate/autoeval-staging-eval-project-f2126c7c-7464816, autoevaluate/autoeval-staging-eval-project-1e62b8b2-7474818, autoevaluate/autoeval-staging-eval-project-1e62b8b2-7474817, autoevaluate/autoeval-staging-eval-project-1e62b8b2-7474819, autoevaluate/autoeval-staging-eval-project-1e62b8b2-7474820, autoevaluate/autoeval-staging-eval-project-1e62b8b2-7474821, autoevaluate/autoeval-staging-eval-project-1e62b8b2-7474822, autoevaluate/autoeval-staging-eval-project-1e62b8b2-7474823, autoevaluate/autoeval-staging-eval-project-1e62b8b2-7474824, autoevaluate/autoeval-staging-eval-project-1e62b8b2-7474825, autoevaluate/autoeval-staging-eval-project-1e62b8b2-7474826, loubnabnl/github-clean, AlekseyKorshuk/books, eugenetanjc/cv_train_dataset, eugenetanjc/cv_test_dataset, myvision/cora-dataset-final, sophieb/dynamically_generated_hate_speech_dataset, knibu/candle-shack-fragrances, peabits/a09, mesolitica/crawl-cambridge-english-malaysian, lewtun/dog_food, GitPrit/AmericanLegalCitationWorthinessDataset, autoevaluate/autoeval-staging-eval-project-e1907042-7494827, autoevaluate/autoeval-staging-eval-project-e1907042-7494828, autoevaluate/autoeval-staging-eval-project-e1907042-7494829, autoevaluate/autoeval-staging-eval-project-e1907042-7494830, autoevaluate/autoeval-staging-eval-project-e1907042-7494831, autoevaluate/autoeval-staging-eval-project-e1907042-7494832, autoevaluate/autoeval-staging-eval-project-e1907042-7494835, autoevaluate/autoeval-staging-eval-project-e1907042-7494833, autoevaluate/autoeval-staging-eval-project-e1907042-7494836, autoevaluate/autoeval-staging-eval-project-e1907042-7494834, autoevaluate/autoeval-staging-eval-project-5580c2c1-7504837, autoevaluate/autoeval-staging-eval-project-5580c2c1-7504838, autoevaluate/autoeval-staging-eval-project-5580c2c1-7504839, autoevaluate/autoeval-staging-eval-project-0596843c-7514840, autoevaluate/autoeval-staging-eval-project-0596843c-7514841, autoevaluate/autoeval-staging-eval-project-0596843c-7514842, yusufani/TrCaption, ElKulako/stocktwits-crypto, rjac/all-the-news-2-1-Component-one-embedding, SoDehghan/datasets_for_supmpn, autoevaluate/autoeval-staging-eval-project-a20dd7c6-7524844, autoevaluate/autoeval-staging-eval-project-a20dd7c6-7524845, autoevaluate/autoeval-staging-eval-project-a20dd7c6-7524843, autoevaluate/autoeval-staging-eval-project-a20dd7c6-7524846, autoevaluate/autoeval-staging-eval-project-a20dd7c6-7524847, autoevaluate/autoeval-staging-eval-project-a20dd7c6-7524848, autoevaluate/autoeval-staging-eval-project-a20dd7c6-7524849, autoevaluate/autoeval-staging-eval-project-a20dd7c6-7524850, autoevaluate/autoeval-staging-eval-project-a20dd7c6-7524851, autoevaluate/autoeval-staging-eval-project-a20dd7c6-7524852, autoevaluate/autoeval-staging-eval-project-0839fa4f-7534854, autoevaluate/autoeval-staging-eval-project-0839fa4f-7534855, autoevaluate/autoeval-staging-eval-project-0839fa4f-7534853, autoevaluate/autoeval-staging-eval-project-0839fa4f-7534856, autoevaluate/autoeval-staging-eval-project-0839fa4f-7534857, autoevaluate/autoeval-staging-eval-project-0839fa4f-7534858, autoevaluate/autoeval-staging-eval-project-0839fa4f-7534859, autoevaluate/autoeval-staging-eval-project-d05a5ffd-7544860, autoevaluate/autoeval-staging-eval-project-d05a5ffd-7544861, autoevaluate/autoeval-staging-eval-project-3aabac9e-7554863, autoevaluate/autoeval-staging-eval-project-3aabac9e-7554864, autoevaluate/autoeval-staging-eval-project-3aabac9e-7554862, autoevaluate/autoeval-staging-eval-project-3aabac9e-7554865, autoevaluate/autoeval-staging-eval-project-3aabac9e-7554866, autoevaluate/autoeval-staging-eval-project-3aabac9e-7554867, autoevaluate/autoeval-staging-eval-project-3aabac9e-7554868, autoevaluate/autoeval-staging-eval-project-3aabac9e-7554869, autoevaluate/autoeval-staging-eval-project-3aabac9e-7554870, autoevaluate/autoeval-staging-eval-project-3aabac9e-7554871, autoevaluate/autoeval-staging-eval-project-2f2d3a43-7564872, autoevaluate/autoeval-staging-eval-project-2f2d3a43-7564874, autoevaluate/autoeval-staging-eval-project-2f2d3a43-7564875, autoevaluate/autoeval-staging-eval-project-2f2d3a43-7564873, autoevaluate/autoeval-staging-eval-project-2f2d3a43-7564876, autoevaluate/autoeval-staging-eval-project-2f2d3a43-7564877, autoevaluate/autoeval-staging-eval-project-2f2d3a43-7564878, rjac/all-the-news-2-1-Component-one-sentence-embedding, autoevaluate/autoeval-staging-eval-project-d60b4e7e-7574879, autoevaluate/autoeval-staging-eval-project-d60b4e7e-7574881, autoevaluate/autoeval-staging-eval-project-d60b4e7e-7574882, autoevaluate/autoeval-staging-eval-project-d60b4e7e-7574880, autoevaluate/autoeval-staging-eval-project-d60b4e7e-7574883, autoevaluate/autoeval-staging-eval-project-d60b4e7e-7574884, autoevaluate/autoeval-staging-eval-project-d60b4e7e-7574885, autoevaluate/autoeval-staging-eval-project-d60b4e7e-7574886, autoevaluate/autoeval-staging-eval-project-d60b4e7e-7574887, autoevaluate/autoeval-staging-eval-project-d60b4e7e-7574888, autoevaluate/autoeval-staging-eval-project-bc0462a6-7584889, autoevaluate/autoeval-staging-eval-project-bc0462a6-7584890, autoevaluate/autoeval-staging-eval-project-bc0462a6-7584891, autoevaluate/autoeval-staging-eval-project-bc0462a6-7584893, autoevaluate/autoeval-staging-eval-project-bc0462a6-7584895, autoevaluate/autoeval-staging-eval-project-bc0462a6-7584892, autoevaluate/autoeval-staging-eval-project-bc0462a6-7584894, autoevaluate/autoeval-staging-eval-project-bc0462a6-7584897, autoevaluate/autoeval-staging-eval-project-0a15404e-7594899, autoevaluate/autoeval-staging-eval-project-0a15404e-7594900, autoevaluate/autoeval-staging-eval-project-0a15404e-7594901, autoevaluate/autoeval-staging-eval-project-0a15404e-7594902, autoevaluate/autoeval-staging-eval-project-0a15404e-7594903, autoevaluate/autoeval-staging-eval-project-0a15404e-7594904, autoevaluate/autoeval-staging-eval-project-0a15404e-7594905, autoevaluate/autoeval-staging-eval-project-0a15404e-7594906, autoevaluate/autoeval-staging-eval-project-0a15404e-7594907, autoevaluate/autoeval-staging-eval-project-bc0462a6-7584898, autoevaluate/autoeval-staging-eval-project-bc0462a6-7584896, autoevaluate/autoeval-staging-eval-project-0a15404e-7594908, autoevaluate/autoeval-staging-eval-project-d578e0ca-7604909, autoevaluate/autoeval-staging-eval-project-d578e0ca-7604910, autoevaluate/autoeval-staging-eval-project-d578e0ca-7604911, autoevaluate/autoeval-staging-eval-project-d578e0ca-7604912, autoevaluate/autoeval-staging-eval-project-d578e0ca-7604913, autoevaluate/autoeval-staging-eval-project-d578e0ca-7604914, autoevaluate/autoeval-staging-eval-project-d578e0ca-7604915, autoevaluate/autoeval-staging-eval-project-d578e0ca-7604917, autoevaluate/autoeval-staging-eval-project-d578e0ca-7604916, autoevaluate/autoeval-staging-eval-project-d578e0ca-7604918, autoevaluate/autoeval-staging-eval-project-d1959810-7614919, autoevaluate/autoeval-staging-eval-project-d1959810-7614920, autoevaluate/autoeval-staging-eval-project-d1959810-7614921, autoevaluate/autoeval-staging-eval-project-d1959810-7614922, autoevaluate/autoeval-staging-eval-project-d1959810-7614923, autoevaluate/autoeval-staging-eval-project-d1959810-7614924, autoevaluate/autoeval-staging-eval-project-d1959810-7614925, autoevaluate/autoeval-staging-eval-project-d1959810-7614926, autoevaluate/autoeval-staging-eval-project-d1959810-7614927, autoevaluate/autoeval-staging-eval-project-d1959810-7614928, autoevaluate/autoeval-staging-eval-project-4e92a9f7-7624930, autoevaluate/autoeval-staging-eval-project-4e92a9f7-7624929, autoevaluate/autoeval-staging-eval-project-4e92a9f7-7624931, autoevaluate/autoeval-staging-eval-project-4e92a9f7-7624932, autoevaluate/autoeval-staging-eval-project-4e92a9f7-7624933, autoevaluate/autoeval-staging-eval-project-4e92a9f7-7624934, autoevaluate/autoeval-staging-eval-project-4e92a9f7-7624935, autoevaluate/autoeval-staging-eval-project-4e92a9f7-7624936, autoevaluate/autoeval-staging-eval-project-4e92a9f7-7624937, autoevaluate/autoeval-staging-eval-project-4e92a9f7-7624938, autoevaluate/autoeval-staging-eval-project-b5bf635a-7634939, autoevaluate/autoeval-staging-eval-project-b5bf635a-7634940, autoevaluate/autoeval-staging-eval-project-b5bf635a-7634941, autoevaluate/autoeval-staging-eval-project-b5bf635a-7634942, autoevaluate/autoeval-staging-eval-project-019e0f0d-7644943, autoevaluate/autoeval-staging-eval-project-019e0f0d-7644945, autoevaluate/autoeval-staging-eval-project-019e0f0d-7644944, autoevaluate/autoeval-staging-eval-project-d47ba8c2-7654946, autoevaluate/autoeval-staging-eval-project-d47ba8c2-7654948, autoevaluate/autoeval-staging-eval-project-d47ba8c2-7654949, autoevaluate/autoeval-staging-eval-project-d47ba8c2-7654947, oliviermenir/embedded_faqs_medicare, autoevaluate/autoeval-staging-eval-project-0b0f26eb-7664950, autoevaluate/autoeval-staging-eval-project-0b0f26eb-7664952, autoevaluate/autoeval-staging-eval-project-0b0f26eb-7664953, autoevaluate/autoeval-staging-eval-project-0b0f26eb-7664951, autoevaluate/autoeval-staging-eval-project-6971abf9-7684954, autoevaluate/autoeval-staging-eval-project-6971abf9-7684956, autoevaluate/autoeval-staging-eval-project-6971abf9-7684957, autoevaluate/autoeval-staging-eval-project-6971abf9-7684955, autoevaluate/autoeval-staging-eval-project-200453bd-7694958, autoevaluate/autoeval-staging-eval-project-200453bd-7694959, autoevaluate/autoeval-staging-eval-project-200453bd-7694960, autoevaluate/autoeval-staging-eval-project-200453bd-7694961, autoevaluate/autoeval-staging-eval-project-200453bd-7694962, autoevaluate/autoeval-staging-eval-project-200453bd-7694963, autoevaluate/autoeval-staging-eval-project-200453bd-7694964, autoevaluate/autoeval-staging-eval-project-200453bd-7694965, autoevaluate/autoeval-staging-eval-project-200453bd-7694966, autoevaluate/autoeval-staging-eval-project-200453bd-7694967, autoevaluate/autoeval-staging-eval-project-ab647f27-7704968, autoevaluate/autoeval-staging-eval-project-ab647f27-7704969, autoevaluate/autoeval-staging-eval-project-ab647f27-7704970, autoevaluate/autoeval-staging-eval-project-ab647f27-7704971, carlosejimenez/flickr30k_clip-ViT-B-32-caption_pairs, carlosejimenez/flickr30k_captions_simCSE, jvanz/portuguese_wikipedia_sentences, charlesmichaelvaughn/charlesmichaelvaughn, lamarvandusen/lamarvandusen, persistent/medicare_nlp_embeddings, autoevaluate/autoeval-staging-eval-project-8ef742e5-7734972, Datatang/Human_Face_Image_Data_with_Multiple_Angles_Light_Conditions_and_Expressions, Datatang/Multi-pose_and_Multi-expression_Face_Data, Datatang/Driver_Behavior_Collection_Data, Datatang/Infrared_Face_Recognition_Data, Datatang/Passenger_Behavior_Recognition_Data, Datatang/Multi-race_Driver_Behavior_Collection_Data, Datatang/Face_Recognition_Data_with_Gauze_Mask, Datatang/Occluded_and_Multi-pose_Face_Recognition_Data, Datatang/Handwriting_OCR_Data_of_Japanese_and_Korean, Datatang/Natural_Scenes_OCR_Data_of_12_Languages, niceMLengineer/hindi_dataset, Datatang/Living_Face_Anti-Spoofing_Data, Datatang/3D_Living_Face_Anti_Spoofing_Data, Datatang/Multi-race_7_Expressions_Recognition_Data, Datatang/50_Types_of_Dynamic_Gesture_Recognition_Data, Datatang/Multi-race_and_Multi-pose_Face_Images_Data, Datatang/3D_Instance_Segmentation_and_22_Landmarks_Annotation_Data_of_Human_Body, Datatang/Human_Facial_Skin_Defects_Data, Datatang/Multi-class_Fashion_Item_Detection_Data, Datatang/3D_Face_Recognition_Images_Data, Datatang/3D_Facial_Expressions_Recognition_Data, pfin123/hindi-aggregated, Datatang/3D_Face_Anti_Spoofing_Data, Datatang/Human_Pose_Recognition_Data, Datatang/Re-ID_Data_in_Surveillance_Scenes, Datatang/Re-ID_Data_in_Real_Surveillance_Scenes, projecte-aina/ca_zh_wikipedia, autoevaluate/autoeval-staging-eval-project-6489fc46-7764973, autoevaluate/autoeval-staging-eval-project-6489fc46-7764974, autoevaluate/autoeval-staging-eval-project-6489fc46-7764975, autoevaluate/autoeval-staging-eval-project-6489fc46-7764976, autoevaluate/autoeval-staging-eval-project-6489fc46-7764977, autoevaluate/autoeval-staging-eval-project-6489fc46-7764978, autoevaluate/autoeval-staging-eval-project-6489fc46-7764979, autoevaluate/autoeval-staging-eval-project-6489fc46-7764980, autoevaluate/autoeval-staging-eval-project-6489fc46-7764981, autoevaluate/autoeval-staging-eval-project-6489fc46-7764982, RalphX1/embedded_faqs_medicare, projecte-aina/cat_manynames, autoevaluate/autoeval-staging-eval-project-f9a2c1a2-7774983, autoevaluate/autoeval-staging-eval-project-f9a2c1a2-7774984, autoevaluate/autoeval-staging-eval-project-f9a2c1a2-7774985, KevinChoi/test, CShorten/Tweets-from-AK, CShorten/Tweet-User-Interactions, CShorten/Liking-User-Bios, CShorten/AK-RecSys-Scoring-Data, mschi/twitter_stream_pile, biglam/illustrated_ads, loubnabnl/github-code-duplicate, ScandEval/scala-da, ScandEval/scala-nb, ScandEval/scala-nn, ScandEval/scala-sv, ScandEval/scala-is, ScandEval/scala-fo, knibu/best_sellers_june2022, ju-resplande/askD, davanstrien/testhmd, ShohamWeiss/Dragon_Ball_Colorization, autoevaluate/autoeval-staging-eval-project-b370e4e6-7784986, autoevaluate/autoeval-staging-eval-project-b370e4e6-7784987, autoevaluate/autoeval-staging-eval-project-b370e4e6-7784988, autoevaluate/autoeval-staging-eval-project-b370e4e6-7784989, autoevaluate/autoeval-staging-eval-project-b370e4e6-7784990, autoevaluate/autoeval-staging-eval-project-b370e4e6-7784991, autoevaluate/autoeval-staging-eval-project-b370e4e6-7784992, autoevaluate/autoeval-staging-eval-project-b370e4e6-7784993, autoevaluate/autoeval-staging-eval-project-b370e4e6-7784994, autoevaluate/autoeval-staging-eval-project-b370e4e6-7784995, loubnabnl/github-clean-v1, autoevaluate/autoeval-staging-eval-project-ba18bf28-7804996, autoevaluate/autoeval-staging-eval-project-ba18bf28-7804997, autoevaluate/autoeval-staging-eval-project-ba18bf28-7804998, autoevaluate/autoeval-staging-eval-project-ba18bf28-7804999, autoevaluate/autoeval-staging-eval-project-ba18bf28-7805000, autoevaluate/autoeval-staging-eval-project-ba18bf28-7805001, autoevaluate/autoeval-staging-eval-project-ba18bf28-7805002, autoevaluate/autoeval-staging-eval-project-ba18bf28-7805003, autoevaluate/autoeval-staging-eval-project-ba18bf28-7805004, autoevaluate/autoeval-staging-eval-project-ba18bf28-7805005, autoevaluate/autoeval-staging-eval-project-d42d3c12-7815006, autoevaluate/autoeval-staging-eval-project-d42d3c12-7815007, autoevaluate/autoeval-staging-eval-project-d42d3c12-7815008, autoevaluate/autoeval-staging-eval-project-d42d3c12-7815009, autoevaluate/autoeval-staging-eval-project-d42d3c12-7815010, autoevaluate/autoeval-staging-eval-project-d42d3c12-7815011, autoevaluate/autoeval-staging-eval-project-d42d3c12-7815012, autoevaluate/autoeval-staging-eval-project-d42d3c12-7815013, autoevaluate/autoeval-staging-eval-project-574ef780-7825014, autoevaluate/autoeval-staging-eval-project-574ef780-7825015, autoevaluate/autoeval-staging-eval-project-574ef780-7825016, autoevaluate/autoeval-staging-eval-project-574ef780-7825017, autoevaluate/autoeval-staging-eval-project-574ef780-7825018, autoevaluate/autoeval-staging-eval-project-574ef780-7825019, autoevaluate/autoeval-staging-eval-project-574ef780-7825020, autoevaluate/autoeval-staging-eval-project-574ef780-7825021, autoevaluate/autoeval-staging-eval-project-6ec9d41e-7835022, autoevaluate/autoeval-staging-eval-project-6ec9d41e-7835023, autoevaluate/autoeval-staging-eval-project-6ec9d41e-7835024, autoevaluate/autoeval-staging-eval-project-6ec9d41e-7835025, autoevaluate/autoeval-staging-eval-project-6ec9d41e-7835026, autoevaluate/autoeval-staging-eval-project-6ec9d41e-7835027, autoevaluate/autoeval-staging-eval-project-6ec9d41e-7835028, autoevaluate/autoeval-staging-eval-project-6ec9d41e-7835029, autoevaluate/autoeval-staging-eval-project-6ec9d41e-7835030, autoevaluate/autoeval-staging-eval-project-6ec9d41e-7835031, autoevaluate/autoeval-staging-eval-project-e1d72cd6-7845032, autoevaluate/autoeval-staging-eval-project-e1d72cd6-7845033, autoevaluate/autoeval-staging-eval-project-6fbfec76-7855034, autoevaluate/autoeval-staging-eval-project-6fbfec76-7855035, autoevaluate/autoeval-staging-eval-project-6fbfec76-7855036, autoevaluate/autoeval-staging-eval-project-6fbfec76-7855037, autoevaluate/autoeval-staging-eval-project-6fbfec76-7855038, autoevaluate/autoeval-staging-eval-project-6fbfec76-7855039, autoevaluate/autoeval-staging-eval-project-6fbfec76-7855040, autoevaluate/autoeval-staging-eval-project-6fbfec76-7855041, autoevaluate/autoeval-staging-eval-project-6fbfec76-7855042, autoevaluate/autoeval-staging-eval-project-6fbfec76-7855043, autoevaluate/autoeval-staging-eval-project-22361acb-7865044, autoevaluate/autoeval-staging-eval-project-22361acb-7865045, autoevaluate/autoeval-staging-eval-project-22361acb-7865046, autoevaluate/autoeval-staging-eval-project-22361acb-7865047, autoevaluate/autoeval-staging-eval-project-22361acb-7865048, autoevaluate/autoeval-staging-eval-project-22361acb-7865049, autoevaluate/autoeval-staging-eval-project-22361acb-7865050, autoevaluate/autoeval-staging-eval-project-22361acb-7865051, autoevaluate/autoeval-staging-eval-project-22361acb-7865052, autoevaluate/autoeval-staging-eval-project-49110cd6-7875053, autoevaluate/autoeval-staging-eval-project-de1c01d5-7885054, autoevaluate/autoeval-staging-eval-project-de1c01d5-7885055, autoevaluate/autoeval-staging-eval-project-1fb6a4fb-7895056, autoevaluate/autoeval-staging-eval-project-1fb6a4fb-7895057, autoevaluate/autoeval-staging-eval-project-7f1892d1-7905058, autoevaluate/autoeval-staging-eval-project-6cf336cb-7915059, autoevaluate/autoeval-staging-eval-project-4e787cde-7925060, autoevaluate/autoeval-staging-eval-project-4e787cde-7925061, autoevaluate/autoeval-staging-eval-project-4e787cde-7925062, autoevaluate/autoeval-staging-eval-project-208688aa-7955063, autoevaluate/autoeval-staging-eval-project-fc7ca17d-7965064, autoevaluate/autoeval-staging-eval-project-fc7ca17d-7965065, autoevaluate/autoeval-staging-eval-project-fc7ca17d-7965066, imvladikon/paranames, autoevaluate/autoeval-staging-eval-project-57377e87-7975067, autoevaluate/autoeval-staging-eval-project-57377e87-7975068, autoevaluate/autoeval-staging-eval-project-57377e87-7975069, autoevaluate/autoeval-staging-eval-project-57377e87-7975070, autoevaluate/autoeval-staging-eval-project-ac4402f5-7985071, autoevaluate/autoeval-staging-eval-project-ac4402f5-7985072, autoevaluate/autoeval-staging-eval-project-ac4402f5-7985073, autoevaluate/autoeval-staging-eval-project-ac4402f5-7985074, autoevaluate/autoeval-staging-eval-project-ac4402f5-7985075, autoevaluate/autoeval-staging-eval-project-ac4402f5-7985076, autoevaluate/autoeval-staging-eval-project-ac4402f5-7985077, autoevaluate/autoeval-staging-eval-project-ac4402f5-7985078, autoevaluate/autoeval-staging-eval-project-ac4402f5-7985080, autoevaluate/autoeval-staging-eval-project-ac4402f5-7985079, autoevaluate/autoeval-staging-eval-project-5480d71b-7995081, autoevaluate/autoeval-staging-eval-project-5480d71b-7995082, autoevaluate/autoeval-staging-eval-project-5480d71b-7995083, autoevaluate/autoeval-staging-eval-project-5480d71b-7995084, autoevaluate/autoeval-staging-eval-project-5480d71b-7995085, autoevaluate/autoeval-staging-eval-project-5480d71b-7995086, autoevaluate/autoeval-staging-eval-project-5480d71b-7995087, autoevaluate/autoeval-staging-eval-project-5480d71b-7995088, autoevaluate/autoeval-staging-eval-project-5480d71b-7995089, ConvLab/tm1, ConvLab/woz, ConvLab/camrest, ConvLab/tm2, ConvLab/tm3, ConvLab/metalwoz, ConvLab/sgd, ConvLab/kvret, ConvLab/dailydialog, psyche/common_crawl, nakkhatra/trial_bn, drjayfeldman/drjayfeldman, Skelebor/book_titles_and_descriptions_en, IDEA-CCNL/AFQMC, jimbozhang/speechocean762, ebrigham/squad-pt2, autoevaluate/autoeval-staging-eval-project-c3341050-8005090, autoevaluate/autoeval-staging-eval-project-c3341050-8005091, neuralchen/VGGFace2-HQ, huggingface-legal/takedown-notices, victor/titanic, knkarthick/dialogsum, knkarthick/AMI, Skelebor/book_titles_and_descriptions_en_clean, bnishi/steam_reviews_06_24_2022, mmdjiji/bert-chinese-idioms, AIKey/testName, iohadrubin/nq_reranking_dprnq, BeardedJohn/ubb-endava-conll-assistant-ner-only-misc, iohadrubin/qampari_reranking_dprnq, mariosasko/test_imagefolder_with_metadata, autoevaluate/autoeval-staging-eval-project-2e072638-8015092, autoevaluate/autoeval-staging-eval-project-2e072638-8015093, autoevaluate/autoeval-staging-eval-project-dae12784-8045094, autoevaluate/autoeval-staging-eval-project-b22f1e35-8055095, autoevaluate/autoeval-staging-eval-project-54e3607a-8065096, autoevaluate/autoeval-staging-eval-project-c10a3592-8075097, DarwinAnim8or/greentext, autoevaluate/autoeval-staging-eval-project-0bf8a8c2-8085098, autoevaluate/autoeval-staging-eval-project-f10157fe-8095099, autoevaluate/autoeval-staging-eval-project-cc4ce689-8125100, autoevaluate/autoeval-staging-eval-project-47033ecc-8135101, autoevaluate/autoeval-staging-eval-project-47033ecc-8135102, autoevaluate/autoeval-staging-eval-project-47033ecc-8135103, autoevaluate/autoeval-staging-eval-project-995ec51a-8145104, autoevaluate/autoeval-staging-eval-project-2aeae4c8-8155105, autoevaluate/autoeval-staging-eval-project-ace532eb-8195106, osanseviero/minedojo_knowledge, victor/real-or-fake-fake-jobposting-prediction, imvladikon/nemo_corpus, autoevaluate/autoeval-staging-eval-project-f8debe1e-8205107, autoevaluate/autoeval-staging-eval-project-2503e1d1-8215108, autoevaluate/autoeval-staging-eval-project-442e683f-8225109, autoevaluate/autoeval-staging-eval-project-81095335-8235110, autoevaluate/autoeval-staging-eval-project-b22ae01e-8255111, knibu/reduced_fo_data, kennbyee25/distilroberta-base_tokenized_english_patents, autoevaluate/autoeval-staging-eval-project-11f7151d-8285112, autoevaluate/autoeval-staging-eval-project-704f6b3c-8295113, autoevaluate/autoeval-staging-eval-project-3fc0998b-8325114, SpeedOfMagic/ontonotes_english, autoevaluate/autoeval-staging-eval-project-e01c84f0-8335115, autoevaluate/autoeval-staging-eval-project-25118781-8365116, autoevaluate/autoeval-staging-eval-project-25118781-8365117, autoevaluate/autoeval-staging-eval-project-25118781-8365118, autoevaluate/autoeval-staging-eval-project-c967fc98-8385124, knibu/fo_data_again, autoevaluate/autoeval-staging-eval-project-c76b0e96-8395128, autoevaluate/autoeval-staging-eval-project-36bd0b51-8375120, autoevaluate/autoeval-staging-eval-project-36bd0b51-8375121, autoevaluate/autoeval-staging-eval-project-c76b0e96-8395129, autoevaluate/autoeval-staging-eval-project-9d6be317-8445136, autoevaluate/autoeval-staging-eval-project-ccf8fbd7-8405132, bigcode/rosetta-code, launch/open_question_type, autoevaluate/autoeval-staging-eval-project-36bd0b51-8375123, autoevaluate/autoeval-staging-eval-project-666c75be-8505139, autoevaluate/autoeval-staging-eval-project-c76b0e96-8395130, autoevaluate/autoeval-staging-eval-project-022c7857-8475137, autoevaluate/autoeval-staging-eval-project-e54de368-8425135, autoevaluate/autoeval-staging-eval-project-ccf8fbd7-8405133, autoevaluate/autoeval-staging-eval-project-ccf8fbd7-8405134, autoevaluate/autoeval-staging-eval-project-c76b0e96-8395131, autoevaluate/autoeval-staging-eval-project-c967fc98-8385125, autoevaluate/autoeval-staging-eval-project-25118781-8365119, autoevaluate/autoeval-staging-eval-project-36bd0b51-8375122, autoevaluate/autoeval-staging-eval-project-ccb596b5-8515140, autoevaluate/autoeval-staging-eval-project-fa00aa79-8495138, autoevaluate/autoeval-staging-eval-project-c967fc98-8385126, autoevaluate/autoeval-staging-eval-project-c967fc98-8385127, rungalileo/mltakehome, autoevaluate/autoeval-staging-eval-project-d42706f8-8545141, slorge/sorge, autoevaluate/autoeval-staging-eval-project-f4fbf43a-8565142, autoevaluate/autoeval-staging-eval-project-018a791b-8575143, autoevaluate/autoeval-staging-eval-project-186519cb-8585144, autoevaluate/autoeval-staging-eval-project-ce097653-8595145, autoevaluate/autoeval-staging-eval-project-34433c04-8625146, autoevaluate/autoeval-staging-eval-project-8171ef4d-8635147, autoevaluate/autoeval-staging-eval-project-53b2ffbe-8645148, autoevaluate/autoeval-staging-eval-project-35b70ffb-8655149, Bluepelt/Idkwhattodomate, autoevaluate/autoeval-staging-eval-project-72edae24-8665150, autoevaluate/autoeval-staging-eval-project-72edae24-8665151, ThierryZhou/test, shinexia/dataset1, nvm472001/cvdataset-layoutlmv3, autoevaluate/autoeval-staging-eval-project-021977f4-8675152, autoevaluate/autoeval-staging-eval-project-73cde443-8685153, autoevaluate/autoeval-staging-eval-project-ef93a58e-8695154, autoevaluate/autoeval-staging-eval-project-0c315447-8705155, autoevaluate/autoeval-staging-eval-project-00af2765-8715156, autoevaluate/autoeval-staging-eval-project-a6ed3b29-8725157, autoevaluate/autoeval-staging-eval-project-3c4d65e4-8745158, autoevaluate/autoeval-staging-eval-project-0fb754ad-8755159, autoevaluate/autoeval-staging-eval-project-0fb754ad-8755160, autoevaluate/autoeval-staging-eval-project-73d2d7d9-8765161, autoevaluate/autoeval-staging-eval-project-45fe51c0-8775162, autoevaluate/autoeval-staging-eval-project-70bbbf36-8785163, autoevaluate/autoeval-staging-eval-project-e1247dac-8795164, autoevaluate/autoeval-staging-eval-project-bea5533f-8805165, Livingwithmachines/hmd-erwt-training, autoevaluate/autoeval-staging-eval-project-135506d9-8815166, autoevaluate/autoeval-staging-eval-project-fb2251a1-8825167, autoevaluate/autoeval-staging-eval-project-db433b72-8835168, autoevaluate/autoeval-staging-eval-project-6fdce340-8845169, autoevaluate/autoeval-staging-eval-project-b20351ec-8855170, autoevaluate/autoeval-staging-eval-project-81757492-8865171, autoevaluate/autoeval-staging-eval-project-c487a022-8885172, autoevaluate/autoeval-staging-eval-project-1e4ba6e1-8895173, knkarthick/samsum, autoevaluate/autoeval-staging-eval-project-4513204d-8905174, knkarthick/xsum, autoevaluate/autoeval-staging-eval-project-57326001-8925175, autoevaluate/autoeval-staging-eval-project-b756be98-8935176, autoevaluate/autoeval-staging-eval-project-b756be98-8935177, autoevaluate/autoeval-staging-eval-project-b756be98-8935183, autoevaluate/autoeval-staging-eval-project-b756be98-8935178, autoevaluate/autoeval-staging-eval-project-b756be98-8935184, autoevaluate/autoeval-staging-eval-project-b756be98-8935185, autoevaluate/autoeval-staging-eval-project-b756be98-8935179, autoevaluate/autoeval-staging-eval-project-b756be98-8935180, autoevaluate/autoeval-staging-eval-project-b756be98-8935181, autoevaluate/autoeval-staging-eval-project-4c585598-8945186, autoevaluate/autoeval-staging-eval-project-b756be98-8935182, autoevaluate/autoeval-staging-eval-project-99c43432-8955187, traversaro/testdataset, RuiqianLi/sv_corpora_parliament_processed, Gallai/dataset, knkarthick/highlightsum, BeardedJohn/ubb-endava-assistant-ner-only-misc, knkarthick/topicsum, autoevaluate/autoeval-staging-eval-project-59fe5447-8965188, RuiqianLi/en_corpora_parliament_processed, ctu-aic/enfever_nli, projecte-aina/catalanqa, chrix390/ashnikko, autoevaluate/autoeval-staging-eval-project-9c2c500a-8975189, autoevaluate/autoeval-staging-eval-project-b1563609-8985190, ZeyadAhmed/Arabic-SQuADv2.0, kensho/spgispeech, hongdijk/klue_final, wkrl/cord, hongdijk/kluefinal, autoevaluate/autoeval-staging-eval-project-fd0e448a-9035191, autoevaluate/autoeval-staging-eval-project-f89b1257-9045192, autoevaluate/autoeval-staging-eval-project-715d2197-9065193, kennbyee25/distilroberta-base_tokenized_english-patents_2, kennbyee25/distilroberta-base_tokenized_trundle-patents, LTress/Indian_LibriAdapt, Jazz/rutter-scrape, yuningm/citesum, autoevaluate/autoeval-staging-eval-project-183be059-9075194, SerdarHelli/SegmentationOfTeethPanoramicXRayImages, autoevaluate/autoeval-staging-eval-project-87e7c3be-9085195, autoevaluate/autoeval-staging-eval-project-cb9ed9f0-9105196, davidberg/inflation, davidberg/sentiment-reviews, autoevaluate/autoeval-staging-eval-project-00ac2adb-9115197, autoevaluate/autoeval-staging-eval-project-00ac2adb-9115198, autoevaluate/autoeval-staging-eval-project-00ac2adb-9115199, autoevaluate/autoeval-staging-eval-project-00ac2adb-9115200, loubnabnl/github-code-more-filtering, autoevaluate/autoeval-staging-eval-project-00ac2adb-9115202, autoevaluate/autoeval-staging-eval-project-00ac2adb-9115201, codeparrot/github-code-clean, launch/reddit_qg, Manuel/sentencias-corte-cons-colombia-1992-2021, autoevaluate/autoeval-staging-eval-project-2e9eddc6-9145203, RuiqianLi/en_corpora_June_30, superjordan/insurance_qa, Langame/langame-seeker, sunlixu/Uyghur, SivilTaram/poet-math, autoevaluate/autoeval-staging-eval-project-2e209b77-9165204, autoevaluate/autoeval-staging-eval-project-7c0aa38b-9175205, autoevaluate/autoeval-staging-eval-project-0f4d4215-9185206, TimeRobber/ag_news_classify_question_first_100, dddb/autotrain-data-mt5_chinese_small_finetune, PolyAI/evi, autoevaluate/autoeval-staging-eval-project-d25d1021-9195207, autoevaluate/autoeval-staging-eval-project-d25d1021-9195208, kennbyee25/english-patents_titles, kennbyee25/trundle-patents_titles, AntoineLB/watt-saving-agent-0, autoevaluate/autoeval-staging-eval-project-fa15e53e-9205209, autoevaluate/autoeval-staging-eval-project-6580d95a-9225215, autoevaluate/autoeval-staging-eval-project-fb88fdc2-9235216, mhaegeman/test, autoevaluate/autoeval-staging-eval-project-17069e72-9255217, Tipfa/LibriAdapt, simecek/Human_DNA_v0_K7tokenized_stride1, mesolitica/noisy-ms-en-augmentation, simecek/Human_DNA_v0_K8tokenized_stride1, allenai/metaicl-data, richt/Euroc, kennbyee25/alarm-patents_titles, emilylearning/cond_ft_none_on_reddit__prcnt_na__test_run_True__roberta-base, emilylearning/cond_ft_subreddit_on_reddit__prcnt_na__test_run_True__roberta-base, arize-ai/xtreme_en, ashraq/ml-latest-small, emilylearning/cond_ft_none_on_reddit__prcnt_100__test_run_False__roberta-base, arize-ai/xtreme_en_language_drift_es, arize-ai/xtreme_en_token_drift, bengaliAI/cvbn, Victimtest/Test, Attackertest/Attack, bayartsogt/mongolian-ner, wiyr/rbt_data, launch/ampere, autoevaluate/autoeval-staging-eval-project-bf5edc7f-9275218, autoevaluate/autoeval-staging-eval-project-ebd588d0-9285219, madao33/new-title-chinese, Maysee/tiny-imagenet, bayartsogt/mongolian-ner-demo, Buyandelger/mongolian-ner, emilylearning/cond_ft_subreddit_on_reddit__prcnt_100__test_run_False__roberta-base, Tritkoman/autotrain-data-Rusynpannonianpure, AswiN037/tamil-question-answering-dataset, autoevaluate/autoeval-staging-eval-project-c6bb7b4c-9295220, AntoineLB/watt-saving-agent-1, AntoineLB/watt-saving-agent-2, autoevaluate/autoeval-staging-eval-project-f542319d-9315222, autoevaluate/autoeval-staging-eval-project-a25a94fd-9305221, GEM-submissions/lewtun__this-is-a-test-submission-2__1656667730, ShihTing/IsCausewayOffset, jianguo/jianguo, benschill/brain-tumor-collection, dgrnd4/stanford_dog_dataset, joelito/covid19_emergency_event, joelito/german_argument_mining, joelito/greek_legal_ner, joelito/legalnero, joelito/online_terms_of_service, kensho/spgispeech_demo, TuhinColumbia/FLUTE, lapix/CCAgT, davanstrien/newspaper_navigator, gegham/tensor, jonaskoenig/trump_administration_statement, autoevaluate/autoeval-staging-eval-project-33b1001d-9365240, autoevaluate/autoeval-staging-eval-project-e208df6e-9375241, paren8esis/S4A, Yehor/ukrainian-news-headlines, PGT/benzene_unshuffled, spacemanidol/wikipedia-nq-query-variation, erickdp/dtserick, erickdp/autotrain-data-uds, autoevaluate/autoeval-staging-eval-project-4eb3cfac-9385242, erickdp/dteedp, autoevaluate/autoeval-staging-eval-project-8d1684b1-9395243, erickdp/abcv, erickdp/uvvw, Shlepa/Krop, Arkaniarius/Ark1, raphaelmerx/tetun-voice, bryanbocao/coco_minitrain, nev/nsd-general-clip, autoevaluate/autoeval-staging-eval-project-e278e96f-9405244, liyijing024/cyberkongz, MicPie/unpredictable_full, bigbio/scitail, autoevaluate/autoeval-staging-eval-project-854c0218-9415245, autoevaluate/autoeval-staging-eval-project-562e1223-9425246, nlp-esg-scoring/spx-sustainalytics-esg-scores, openclimatefix/dgmr-mrms, dddb/autotrain-data-new_model, autoevaluate/autoeval-staging-eval-project-891aa8a8-9445248, mahdiAsefi/autotrain-data-persina-paraphrase, TommyYe/Nothing, MicPie/unpredictable_mmo-champion-com, MicPie/unpredictable_baseball-fantasysports-yahoo-com, Gallai/my-test-dataset, MicPie/unpredictable_phonearena-com, djagatiya/ner-ontonotes-v5-eng-v4, MicPie/unpredictable_support-google-com, MicPie/unpredictable_dividend-com, MicPie/unpredictable_bulbapedia-bulbagarden-net, MicPie/unpredictable_wkdu-org, MicPie/unpredictable_dummies-com, shahidul034/text_generation_model_data, MicPie/unpredictable_mgoblog-com, MicPie/unpredictable_gamefaqs-com, MicPie/unpredictable_studystack-com, MicPie/unpredictable_sittercity-com, MicPie/unpredictable_msdn-microsoft-com, MicPie/unpredictable_cappex-com, MicPie/unpredictable_en-wikipedia-org, MicPie/unpredictable_cram-com, MicPie/unpredictable_w3-org, MicPie/unpredictable_sporcle-com, MicPie/unpredictable_wiki-openmoko-org, Christoph911/German-legal-SQuAD, shahidul034/text_generation_model_data2, MicPie/unpredictable_ensembl-org, davanstrien/test_clip, shahidul034/text_generation_model_data3, cakiki/humaneval-codeparrot-small-eval, shahidul034/text_generation_model_data4, shahidul034/text_generation_model_data5, FIdo-AI/ua-squad, 1989shack/1989shack.com, shahidul034/text_generation_model_data6, tonne/trader, davanstrien/manuscript_noisy_labels, davanstrien/manuscript_noisy_labels_iiif, FJC/corpusELE.csv, FIdo-AI/ua-news, pscotti/naturalscenesdataset, mf99/autotrain-data-sum-200-random, santiagxf/spanish-marketing-tweets, fce-m72109/mascorpus, EnZon3/The-Worlds-Sentiment, rjac/all-the-news-2-1-Component-ones-small-cluster, Yincen/SalienceEvaluation, Jeongyeon/synthtiger, autoevaluate/autoeval-staging-eval-project-5a01a61c-9465249, pxy/lch, shahidul034/text_generation_model_data7, autoevaluate/autoeval-staging-eval-project-ce6a174a-9475250, autoevaluate/autoeval-staging-eval-project-219ae750-9495251, autoevaluate/autoeval-staging-eval-project-4d620df7-9505252, Jeongyeon/SynthDoG, holylovenia/TITML-IDN, autoevaluate/autoeval-staging-eval-project-8d7c559d-9515253, Jeongyeon/temp, autoevaluate/autoeval-staging-eval-project-30c11cd6-9525254, Li-Tang/test_dataset, sepidmnorozy/Persian_sentiment, joheras/prueba, joheras/caes, autoevaluate/autoeval-staging-eval-project-b7b63a0a-9535255, shahidul034/text_generation_model_data8, PGT/IMDB-BINARY_unshuffled, CShorten/ArXiv-ML-Abstract-Embeddings, shahidul034/text_generation_model_data9, CShorten/ArXiv-ML-Title-Embeddings, shahidul034/text_generation_model_data10, autoevaluate/autoeval-staging-eval-project-84a47200-9545256, LTress/American_LibriAdapt, mounikaiiith/Telugu_Clickbait, shahidul034/text_generation_model_data11, autoevaluate/autoeval-staging-eval-project-8e5449c9-9555257, shahidul034/text_generation_model_data12, mideind/icelandic-winogrande, autoevaluate/autoeval-staging-eval-project-304a85d4-9565258, shahidul034/text_generation_model_data13, shahidul034/text_generation_model_data14, shahidul034/text_generation_model_data15, shahidul034/text_generation_model_data16, emelia/demo, BDas/Turkish-Dataset, autoevaluate/autoeval-staging-eval-project-2db6a277-9575259, autoevaluate/autoeval-staging-eval-project-d8c541f4-9585260, lyakaap/laion-mini-ja, sudo-s/herbier_mesuem3, emelia/my_dataset, autoevaluate/autoeval-staging-eval-project-1b5b4bbb-9595261, HTTP404ERROR/huggingface, conceptofmind/pile_enron_emails, autoevaluate/autoeval-staging-eval-project-7b6da1fc-9605262, s3prl/iemocap_split, autoevaluate/autoeval-staging-eval-project-60cf8f3c-9615263, autoevaluate/autoeval-staging-eval-project-09c9acf6-9625264, CloverSearch/distribution, autoevaluate/autoeval-staging-eval-project-cf9e225c-9635265, autoevaluate/autoeval-staging-eval-project-9c4fef49-9645266, autoevaluate/autoeval-staging-eval-project-18da8997-9655267, Stero/dataset1, Paul/hatecheck-spanish, autoevaluate/autoeval-staging-eval-project-34fc6543-9685268, Paul/hatecheck-portuguese, Paul/hatecheck-polish, Paul/hatecheck-mandarin, Paul/hatecheck-italian, Paul/hatecheck-hindi, Paul/hatecheck-german, Paul/hatecheck-french, Paul/hatecheck-dutch, Paul/hatecheck-arabic, autoevaluate/autoeval-staging-eval-project-b95cefb8-9695269, autoevaluate/autoeval-staging-eval-project-f69fd870-9715285, loulely/es_corpora_parliament_processed, sheikh/FCD_lmv2, loubnabnl/github-code-clean-small, Saripudin/imagefolder, autoevaluate/autoeval-staging-eval-project-08a0cbc0-9735301, autoevaluate/autoeval-staging-eval-project-59a788e4-9745302, Saripudin/imagefolder-metadata, vesteinn/icelandic-parallel-abstracts-corpus-IPAC, ColumbiaNLP/FLUTE, kmkarakaya/turkishReviews-ds, userGagan/100MarsSamples, userGagan/MarsSample, autoevaluate/autoeval-staging-eval-project-6d071244-9765303, autoevaluate/autoeval-staging-eval-project-b96b3446-9775304, wiselinjayajos/cvdataset_train_t5_qg, loulely/es_corpora_parliament_processed_2, VanessaSchenkel/translation-en-pt, CloverSearch/distribution_count, autoevaluate/autoeval-staging-eval-project-d6eb1223-1416, rockmiin/msmarco-v2-doc, autoevaluate/autoeval-staging-eval-project-ea06fa04-9805305, cheptsov/test-dataset, CloverSearch/data_size, CloverSearch/data_article_count, autoevaluate/autoeval-staging-eval-project-f0d30a26-9815306, autoevaluate/autoeval-staging-eval-project-f0d30a26-9815307, autoevaluate/autoeval-staging-eval-project-f0d30a26-9815308, Arachnid/loc_building_test, mesolitica/ms-en, mesolitica/en-ms, conan1024hao/cjk_glyph, ksramalakshmi/VertebraSegmentation, autoevaluate/autoeval-staging-eval-project-76ff9fed-9825309, autoevaluate/autoeval-staging-eval-project-cd058e2b-9835310, autoevaluate/autoeval-staging-eval-project-d7e89585-9845311, autoevaluate/autoeval-staging-eval-project-emotion-a3dd4649-9855312, wangshasha3575/ceshi, Mrousset/test, autoevaluate/autoeval-staging-eval-project-acronym_identification-0f48b3fe-9865313, autoevaluate/autoeval-staging-eval-project-acronym_identification-3d345916-9875314, autoevaluate/autoeval-staging-eval-project-acronym_identification-29a60787-9885315, autoevaluate/autoeval-staging-eval-project-emotion-f650c475-9895316, autoevaluate/autoeval-staging-eval-project-emotion-b9c02377-9905317, autoevaluate/autoeval-staging-eval-project-emotion-4742109c-9915318, wiselinjayajos/cvdataset_train_t5_qg_v1, carlosejimenez/flickr30k_images_SimCLRv2, moro23/hausa_ng, etar/HuggingFace_API.txt, autoevaluate/autoeval-staging-eval-project-acronym_identification-00a33844-9925319, codeparrot/github-jupyter-parsed, autoevaluate/autoeval-staging-eval-project-acronym_identification-08f8aff8-9935320, rongzhangibm/NaturalQuestionsV2, Pawone1/my-test-dataset, ashwinperti/my-test-dataset, sunil2cs/my-test-dataset, msalazark/my-test-dataset, autoevaluate/autoeval-staging-eval-project-xtreme-36be1abe-9945321, loubnabnl/github-small-near-dedup, hita/marsrover, hyper88/autotrain-data-numai, OGB/ogbg-molhiv, msalazark/amazon-shoe-reviews, sasha/real_toxicity_continuations, hyper88/autotrain-data-numai2, abhishek/hagrid, abhishek/pizza_not_pizza, abhishek/rice-image-dataset, davanstrien/biglamdemo, OGB/ogbg-molpcba, autoevaluate/autoeval-staging-eval-project-imdb-121fef16-9965322, pinecone/image-set, andreagasparini/librispeech_test_only, erickdp/newdataset, MicPie/unpredictable_5k, loulely/data_for_retraining, autoevaluate/autoeval-staging-eval-project-acronym_identification-19938de6-9975323, autoevaluate/autoeval-staging-eval-project-acronym_identification-86e9328d-9985324, autoevaluate/autoeval-staging-eval-project-acronym_identification-dfa86358-9995325, autoevaluate/autoeval-staging-eval-project-acronym_identification-4907e2d6-10005326, autoevaluate/autoeval-staging-eval-project-acronym_identification-9d9a55f0-10015327, autoevaluate/autoeval-staging-eval-project-emotion-cf2fbf5c-10035328, autoevaluate/autoeval-staging-eval-project-emotion-cf2fbf5c-10035329, autoevaluate/autoeval-staging-eval-project-emotion-cf2fbf5c-10035330, autoevaluate/autoeval-staging-eval-project-emotion-cf2fbf5c-10035331, autoevaluate/autoeval-staging-eval-project-emotion-cf2fbf5c-10035332, ignatius/welsh_summarization, Cheltone/Reddit_Twitter_C19_Jan2020_Feb2022, Cris1907/tesis_vf, autoevaluate/autoeval-staging-eval-project-acronym_identification-628cf3d1-10045333, ScarlettSun9/autotrain-data-ZuoZhuan, autoevaluate/autoeval-staging-eval-project-xsum-8dee0102-10055334, vasugoel/K-12Corpus, osanseviero/test_st, autoevaluate/autoeval-staging-eval-project-acronym_identification-f9206e98-10065335, osanseviero/test_st2, CShorten/Last-Week-on-ML-ArXiv, OGB/ogbg-ppa, polinaeterna/test-imagefolder-zip, kmkarakaya/turkishReviews-ds-mini, OGB/ogbg-code2, autoevaluate/autoeval-staging-eval-project-samsum-43d00dce-10075336, autoevaluate/autoeval-staging-eval-project-xsum-f209b76e-10085337, autoevaluate/autoeval-staging-eval-project-xsum-7db0303b-10095338, autoevaluate/autoeval-staging-eval-project-acronym_identification-cce36002-10105339, autoevaluate/autoeval-staging-eval-project-xsum-9cdb3b8b-10115340, autoevaluate/autoeval-staging-eval-project-acronym_identification-22111e2c-10125341, biglam/cultural_heritage_metadata_accuracy, autoevaluate/autoeval-staging-eval-project-acronym_identification-8f0a2b8e-10135342, autoevaluate/autoeval-staging-eval-project-emotion-3894863d-10145343, autoevaluate/autoeval-staging-eval-project-xsum-4914ae41-10155344, autoevaluate/autoeval-staging-eval-project-xsum-dd4009eb-10165345, autoevaluate/autoeval-staging-eval-project-samsum-d3f993bf-10175346, userGagan/ResizedSample, SocialGrep/one-year-of-tsla-on-reddit, imadd/water_dataset, autoevaluate/autoeval-staging-eval-project-xsum-ad8ac8a3-10195347, autoevaluate/autoeval-staging-eval-project-xsum-ad8ac8a3-10195348, autoevaluate/autoeval-staging-eval-project-xsum-ad8ac8a3-10195349, autoevaluate/autoeval-staging-eval-project-xsum-ad8ac8a3-10195350, autoevaluate/autoeval-staging-eval-project-ag_news-67dc732a-10205351, inStryde/inStrydeSegmentationFoot, mbyanfei/my-test-dataset, mbyanfei/amazon-shoe-reviews, chrisjay/ratman-stopword-lists-for-african-languages, autoevaluate/autoeval-staging-eval-project-acronym_identification-65cc62ad-10215353, nateraw/airbnb-stock-price-new, gagan3012/PATS01, erickdp/myds, nateraw/pizza_not_pizza, erickdp/mndt, erickdp/dt22, erickdp/ds23, erickdp/ds4545, erickdp/ds999, erickdp/ds0410, autoevaluate/autoeval-staging-eval-project-acronym_identification-319ea49e-10225354, nateraw/test-upload-folder-bug-git-lfs, embedding-data/simple-wiki, embedding-data/sentence-compression, embedding-data/altlex, embedding-data/flickr30k_captions_quintets, embedding-data/coco_captions_quintets, juancopi81/mutopia_guitar_dataset, codecrafters/github-avatars, gagan3012/alexuw, ddegenaro/random_wikipedia, autoevaluate/autoeval-staging-eval-project-xsum-bac77b7b-10245355, embedding-data/SPECTER, autoevaluate/autoeval-staging-eval-project-xsum-e02a2fb8-10255356, autoevaluate/autoeval-staging-eval-project-xsum-e02a2fb8-10255357, autoevaluate/autoeval-staging-eval-project-xsum-e02a2fb8-10255358, autoevaluate/autoeval-staging-eval-project-xsum-e02a2fb8-10255359, autoevaluate/autoeval-staging-eval-project-xsum-e02a2fb8-10255360, embedding-data/QQP_triplets, autoevaluate/autoeval-staging-eval-project-samsum-0c672345-10275361, autoevaluate/autoeval-staging-eval-project-samsum-0c672345-10275362, autoevaluate/autoeval-staging-eval-project-samsum-0c672345-10275363, autoevaluate/autoeval-staging-eval-project-samsum-0c672345-10275364, autoevaluate/autoeval-staging-eval-project-samsum-0c672345-10275365, autoevaluate/autoeval-staging-eval-project-samsum-0c672345-10275366, autoevaluate/autoeval-staging-eval-project-samsum-0c672345-10275367, chengan/tedlium_small, autoevaluate/autoeval-staging-eval-project-xsum-3c39b441-10285368, adarsh0803/nberta-list-ref, autoevaluate/autoeval-staging-eval-project-ag_news-023412e9-10305369, autoevaluate/autoeval-staging-eval-project-acronym_identification-80f485e9-10315370, beurkinger/autotrain-data-human-action-recognition, Sampson2022/test, autoevaluate/autoeval-staging-eval-project-acronym_identification-271a7086-10375371, autoevaluate/autoeval-staging-eval-project-xsum-a94d90d8-10385372, arampacha/vctk_22kHz, GEM-submissions/lewtun__this-is-a-test-submission-3__1657282248, autoevaluate/autoeval-staging-eval-project-acronym_identification-df5ad5c0-10405398, autoevaluate/autoeval-staging-eval-project-acronym_identification-ffdade13-10415399, MicPie/unpredictable_unique, openclimatefix/dgmr-mrms-256, embedding-data/Amazon-QA, embedding-data/PAQ_pairs, MicPie/unpredictable_cluster-noise, MicPie/unpredictable_cluster00, MicPie/unpredictable_cluster01, MicPie/unpredictable_cluster10, MicPie/unpredictable_cluster11, MicPie/unpredictable_cluster12, MicPie/unpredictable_cluster13, MicPie/unpredictable_cluster14, MicPie/unpredictable_cluster15, MicPie/unpredictable_cluster16, MicPie/unpredictable_cluster17, MicPie/unpredictable_cluster18, MicPie/unpredictable_cluster19, MicPie/unpredictable_cluster02, MicPie/unpredictable_cluster20, MicPie/unpredictable_cluster21, MicPie/unpredictable_cluster22, MicPie/unpredictable_cluster23, MicPie/unpredictable_cluster24, MicPie/unpredictable_cluster25, MicPie/unpredictable_cluster26, MicPie/unpredictable_cluster27, MicPie/unpredictable_cluster28, MicPie/unpredictable_cluster29, MicPie/unpredictable_cluster03, MicPie/unpredictable_cluster04, MicPie/unpredictable_cluster05, MicPie/unpredictable_cluster06, MicPie/unpredictable_cluster07, MicPie/unpredictable_cluster08, MicPie/unpredictable_cluster09, gdj-pinecone/test, nferruz/dataset_alphafold, merve/student_scores, embedding-data/WikiAnswers, autoevaluate/autoeval-staging-eval-project-acronym_identification-8093b1e1-10425400, changxin/test_pq, MicPie/unpredictable_rated-low, MicPie/unpredictable_rated-medium, MicPie/unpredictable_rated-high, Heriot-WattUniversity/dialog_babi, autoevaluate/autoeval-staging-eval-project-acronym_identification-a307010e-10435401, sheikh/SLR, Sreyan88/libri, skorkmaz88/dydra_test1, Sreyan88/librispeech_asr, saadob12/Autochart, saadob12/chart-to-text, autoevaluate/autoeval-staging-eval-project-acronym_identification-87fb51b7-10445402, autoevaluate/autoeval-staging-eval-project-acronym_identification-48c324a1-10455403, autoevaluate/autoeval-staging-eval-project-acronym_identification-8d87ede9-10465404, Cris1907/marIA-UG, Cris1907/autotrain-data-marIA-UG, hungnm/multilingual-amazon-review-sentiment-processed, AlejandroSoumah/cancer_images_soumah, kasumi222/busy, kasumi222/busy2, jorge-henao/historias_conflicto_colombia, autoevaluate/autoeval-staging-eval-project-acronym_identification-63c2e329-10475405, sonicpierre/Rick-bot-flags, etan18/SampleMCDataset, azuur/en_corpora_parliament_processed, Corran/RedditGifs, thebfbdfiobsesser/Idkeaither, autoevaluate/autoeval-staging-eval-project-pn_summary-5464695d-10495406, autoevaluate/autoeval-staging-eval-project-xsum-02414083-10505407, zzySJ/sv_corpora_parliament_processed, RainerBaraka/People_of_Germany, yaqingwang90/LiST_CLUE, readerbench/ro-fb-offense, acul3/Oscar_Indo_May_2022, autoevaluate/autoeval-staging-eval-project-acronym_identification-06d49ad4-10535408, BirdL/SimulacraUnsupervised, jonaskoenig/Questions-vs-Statements-Classification, autoevaluate/autoeval-staging-eval-project-acronym_identification-9f909533-10545409, carted-ml/emotion-dataset-sampled, carted-ml/emotion-dataset-sampled-non-chunked, carted-ml/emotion-dataset-sampled-incorrect-naming, carted-ml/emotion-dataset-sampled-non-chunked-naming, zhpp/test, chenz16/curriculum_benchmark, autoevaluate/autoeval-staging-eval-project-cnn_dailymail-73d015e6-10555410, autoevaluate/autoeval-staging-eval-project-cnn_dailymail-73d015e6-10555411, jonaskoenig/future-time-references, syabusyabu0141/aboveafter, jonaskoenig/reddit-blogspot-twitter, Li-Tang/cn_text, s3prl/voxceleb1_too_short_utts, autoevaluate/autoeval-staging-eval-project-imdb-9ea92eb9-10585427, autoevaluate/autoeval-staging-eval-project-acronym_identification-14c75227-10595428, autoevaluate/autoeval-staging-eval-project-dane-2d14d683-10645434, autoevaluate/autoeval-staging-eval-project-cnn_dailymail-da2ad07e-10655435, biglam/brill_iconclass, postbot/aeslc_kw, bhadresh-savani/image-to-style, autoevaluate/autoeval-staging-eval-project-conll2003-e2bfcc2b-10665436, freddyaboulton/callback-test, freddyaboulton/callback-test-2, freddyaboulton/callback-test-3, autoevaluate/autoeval-staging-eval-project-imdb-bb79d3ef-10685437, spacemanidol/wikipedia-trivia-query-variation, erickdp/desp, spacemanidol/msmarco-passage-query-variation, erickdp/definalsp, loubnabnl/github-code-small-filtering, biglam/spanish_golden_age_sonnets, biglam/atypical_animacy, abidlabs/callback-test, TheNoob3131/mosquito-data, erikacardenas300/MNLI-Processed, alexma900807/xiaomuchong, huggingartists/ciggy-blacc, openclimatefix/gfs-surface-pressure-2deg, chamisfum/brain_tumor_3_classes, BomboMaster/unl_tesis_linea_investigacion, nschantz21/booksum-randomized, Ahmed007/car_detection_in_Egypt, JasonXu/multimodel_train_dataset, JasonXu/multimodel_test_dataset, Walden/CoCa, avacaondata/raro, autoevaluate/autoeval-staging-eval-project-kmfoda__booksum-8a7bed92-10705438, autoevaluate/autoeval-staging-eval-project-d62327aa-a465-45e8-9544-06dd61948311-5852, Khedesh/DeepSentiPers, autoevaluate/autoeval-staging-eval-project-xsum-8981bd77-10715439, Khedesh/MirasOpinion, 04-07-22/wep-probes, autoevaluate/autoeval-staging-eval-project-f3d1367c-ba9d-4e95-b091-9efd5c99ff60-5953, mbarnig/lb-de-fr-en-pt-12800-TTS-CORPUS, autoevaluate/autoeval-staging-eval-project-c230b859-684d-4c33-ba1d-1f5cafa82377-327627, nguyenvulebinh/spoken_norm_pattern, VietAI/spoken_norm_assignment, Sa-m/cropsVSweed, moonzi/huggingface-datasets-issues, autoevaluate/autoeval-staging-eval-project-82ed7a65-1f2d-4491-965c-a8a330523337-6054, KalElofKrypton/Trial_Full_GNN, Lancelot53/wav2vec2base_vocabs, arbml/ashaar, autoevaluate/autoeval-staging-eval-project-10ed116c-31d4-4ba0-bd5f-bb1e5d10e5a1-6155, userGagan/ResizedSample2, autoevaluate/autoeval-staging-eval-project-388f1166-9f5f-4c1d-a42d-92331cc9725d-6256, autoevaluate/autoeval-staging-eval-project-24bcd429-a201-4647-88bc-0d256d7ce2ba-6357, tomekkorbak/codeparrot-clean-train-v2-pep8-rebalanced, ilmariky/SQuAD_v2_fi, mesolitica/noisy-en-ms-augmentation, tomekkorbak/codeparrot-clean-train-v2-pep8-rebalanced2, HamdiJr/Egyptian_hieroglyphs, ilmariky/WikiQA-100-fi, fusing/geodiff-example-data, espejelomar/example, Siyong/speech_timit, gongyug/DADoc1, zhifei/autotrain-data-chinese-title-summarization-9.4, Evelyn18/becasv3, Bingsu/KcBERT_Pre-Training_Corpus, autoevaluate/autoeval-staging-eval-project-22d4f209-4087-42ac-a9a4-6d47e201055d-6458, autoevaluate/autoeval-staging-eval-project-amazon_polarity-cff5f71a-10735440, Li-Tang/demo, thelou1s/AudioSet, dasago78/tweets, pancake/few_shot_datasets, merve/test_123, Amro-Kamal/ObjectPose, JeunesseAfricaine/my_tweets, pancake/TransVLAD_pretrain_models, autoevaluate/autoeval-staging-eval-project-6e6ed30f-40d7-4939-99af-0ba4041a05ee-6559, autoevaluate/autoeval-staging-eval-project-516fe874-79cb-42fc-b851-f98848ce24df-6660, autoevaluate/autoeval-staging-eval-project-5968bffe-3bbc-4366-a1a8-9d11b19abcf7-6862, autoevaluate/autoeval-staging-eval-project-amazon_polarity-80882a08-10755446, autoevaluate/autoeval-staging-eval-project-9e17c416-43f7-4fe8-b337-f391ae065c4a-6963, autoevaluate/autoeval-staging-eval-project-5cf6dc10-95bf-44e5-9ff2-42dca08d711a-7064, codeparrot/github-jupyter-text-code-pairs, elisabethvonoswald/wav2vec2-large-xls-r-300m-750-100-onelabel, autoevaluate/autoeval-staging-eval-project-emotion-41e4622b-10765447, autoevaluate/autoeval-staging-eval-project-emotion-41e4622b-10765448, TheoMrc/Zebrafish-AChE-Orientation-Classification, autoevaluate/autoeval-staging-eval-project-conll2003-70dc316d-10775449, nreimers/reddit_question_best_answers, autoevaluate/autoeval-staging-eval-project-conll2003-8cabc0e2-10785450, autoevaluate/autoeval-staging-eval-project-conll2003-bcf9fae4-10795451, tiro-is/kennsluromur, autoevaluate/autoeval-staging-eval-project-conll2003-6fdc3173-10805452, codeparrot/xlcost-text-to-code, autoevaluate/autoeval-staging-eval-project-kmfoda__booksum-5c1566d2-10815453, autoevaluate/autoeval-staging-eval-project-kmfoda__booksum-d9df6ac3-10825454, autoevaluate/autoeval-staging-eval-project-kmfoda__booksum-d9df6ac3-10825455, autoevaluate/autoeval-staging-eval-project-kmfoda__booksum-d9df6ac3-10825456, simecek/Human_DNA_v0_BPEtokenized_vocab30k, simecek/Human_DNA_v0_BPEtokenized_vocab10k, arize-ai/fashion_mnist_label_drift, Ahmed007/deep_fake, facebook/flores, catasaurus/paraphrase-dataset2, autoevaluate/autoeval-staging-eval-project-emotion-700553d6-10835457, Bingsu/namuwiki_20210301_filtered, RedBaron/Naturetreasures, oserikov/tsacorpora, oserikov/igt_hack, prasoonskrishnan/movie, prasoonskrishnan/movie_recomendation, autoevaluate/autoeval-staging-eval-project-emotion-48491e5e-10845458, autoevaluate/autoeval-staging-eval-project-emotion-872f08fa-10855459, autoevaluate/autoeval-staging-eval-project-emotion-c4654930-10865460, crystina-z/mrtydi-mContriever-mmarco-HN, SFRPL/fashiongen, erturkerdagi/turkishExtractiveSummarization, Sreyan88/tweet_sentiment_extraction, Unso/test, autoevaluate/autoeval-staging-eval-project-xsum-c7d88063-10885461, Zaib/java-vulnerability, autoevaluate/autoeval-staging-eval-project-xsum-ac684a2d-10895462, elihoole/asrs-aviation-reports, elisabethvonoswald/750ms_data, demelin/moral_stories, hita/social-behavior-emotions, demelin/wino_x, nickcpk/handcrafted_en_fr_data, autoevaluate/autoeval-staging-eval-project-kmfoda__booksum-79c1c0d8-10905463, autoevaluate/autoeval-staging-eval-project-kmfoda__booksum-79c1c0d8-10905464, naver-clova-ix/cord-v1, nreimers/reddit_question_best_answers_langs, carlosejimenez/flickr30k_clip-SimCLRv2-caption_pairs, Ciara/nlsn, sileod/wikimedqa, autoevaluate/autoeval-staging-eval-project-kmfoda__booksum-79c1c0d8-10905465, demelin/understanding_fables, ArthurBaia/squad_v1_pt_br, cannlytics/aggregated-cannabis-test-results, colbertv2/lotte, colbertv2/lotte_passages, tarteel-ai/EA-DI, wjddmlfud/sample_dataaset, tarteel-ai/EA-UD, Raagul04/DocVQA_train, autoevaluate/autoeval-staging-eval-project-samsum-f90fd7b5-10915466, jonaskoenig/future-time-references-static-filter-D1, carlosejimenez/flickr30k_CLIP_ViT-B-32_subset_pairs_SimCSE_similarity, autoevaluate/autoeval-staging-eval-project-samsum-f4288f9c-10925467, autoevaluate/autoeval-staging-eval-project-cnn_dailymail-899c0b5b-10935468, autoevaluate/autoeval-staging-eval-project-cnn_dailymail-899c0b5b-10935469, MariaIsabel/FR_NFR_Spanish_requirements_classification, DaliaSmirnov/HIMYM, yongjian/music-clips-50, autoevaluate/autoeval-staging-eval-project-cnn_dailymail-b5ccd808-10945470, autoevaluate/autoeval-staging-eval-project-cnn_dailymail-b5ccd808-10945471, autoevaluate/autoeval-staging-eval-project-emotion-d66bcc95-10955472, autoevaluate/autoeval-staging-eval-project-kmfoda__booksum-5034faac-10965473, autoevaluate/autoeval-staging-eval-project-kmfoda__booksum-e703e34d-10975474, autoevaluate/autoeval-staging-eval-project-kmfoda__booksum-39317f76-10985475, autoevaluate/autoeval-staging-eval-project-kmfoda__booksum-111b8468-10995476, autoevaluate/autoeval-staging-eval-project-cnn_dailymail-fdd36cc0-11005477, autoevaluate/autoeval-staging-eval-project-cnn_dailymail-0cca7ada-11015478, autoevaluate/autoeval-staging-eval-project-cnn_dailymail-e5ab4b07-11025479, autoevaluate/autoeval-staging-eval-project-emotion-21f117d5-11035480, autoevaluate/autoeval-staging-eval-project-cnn_dailymail-f8e8ca08-11045481, Rodekool/ornl26, nprime496/building_floor_classification, rajistics/indian_food_images, KalElofKrypton/GNN_test_data, Ankhitan/300Samples, autoevaluate/autoeval-staging-eval-project-samsum-22cb3f56-11055482, autoevaluate/autoeval-staging-eval-project-samsum-07954c9f-11065483, openclimatefix/nimrod-uk-1km-validation, jonaskoenig/future-time-referenzes-faulty, autoevaluate/autoeval-staging-eval-project-kmfoda__booksum-636bebc2-11085484, autoevaluate/autoeval-staging-eval-project-kmfoda__booksum-f6c9ed7c-11095485, Pogpotatofarmer/memes, nbroad/mediasum, erickdp/mydspan, hevia/scp-embeddings, erickdp/mydspan2, erickdp/mydspan22, erickdp/mydspantrunc, ivv101/test_dataset, oyk100/ChaSES-data, yongzx/wikiann, m9810223/ds, IRVLUTD/few-sol, Tristan/dadc-data, tner/conll2003, tner/ontonotes5, tner/wnut2017, tner/fin, tner/bionlp2004, tner/bc5cdr, tner/mit_movie_trivia, tner/mit_restaurant, spy24/Lie_Detection, jens-simon/sv_corpora_parliament_processed, Chamroush/Exclusive, Blaise-g/SumPubmed, fabiochiu/medium-articles, pnr-svc/Turkish-Multiclass-Dataset, jvanz/portuguese_sentiment_analysis, LHF/escorpius-m, biglam/old_bailey_proceedings, ceyda/fashion-products-small, Ericwang/ASAP, zolars/fcepublic, diwank/lld, Muennighoff/flores200, jonaskoenig/future-time-refernces-static-filter-D2, Maxmioti/GDRP-fines, Johny201/gdpr-articles, sudo-s/herbier_mesuem4, sudo-s/herbier_mesuem5, erikanesse/great_books, Ankhitan/1000Samples, noob123/imdb10000, Muennighoff/xwinograd, pyronear/openfire, noob123/imdb_train, noob123/imdb_test, biglam/clmet_3_1, jordanparker6/publaynet, frgfm/imagenette, SemiNeural/MVdiffusion, codie28/able, clapika2010/infotab, s3prl/wav2vec2_ckpts, autoevaluate/autoeval-staging-eval-project-imdb-a67e37bc-11105486, autoevaluate/autoeval-staging-eval-project-imdb-a67e37bc-11105487, autoevaluate/autoeval-staging-eval-project-imdb-a67e37bc-11105488, autoevaluate/autoeval-staging-eval-project-imdb-a67e37bc-11105489, autoevaluate/autoeval-staging-eval-project-imdb-a67e37bc-11105490, Lancelot53/commonVoice_bn_validation_preprocessed, Lancelot53/commonVoice_bn_train_preprocessed_trimmed, clapika2010/totto, Lancelot53/commonVoice_bn_test_preprocessed, beurkinger/autotrain-data-dot-cat, benmansour/amazon-shoe-reviews, tner/btc, tner/tweebank_ner, tner/tweetner7, beurkinger/autotrain-data-dog-cat-zip, bdura/swann, meghana/adult_income_dataset, Blaise-g/PubMed_summ, fshllaku/test, Doohae/marcopolo-v2-passage, neongeckocom/cv-tts-clean, s3prl/fairseq_cfgs, allenai/mslr2022, erickdp/data-gsemodel, yaakov/wikipedia-de-splits, jonaskoenig/topic_classification, research-backup/semeval2012_relational_similarity, relbert/analogy_questions, noob123/imdb_augment_train, noob123/imdb_augment_test, teymur/art_schools, chrisjay/test-mnist, Muennighoff/mbpp, RaphaelOlivier/librispeech_asr_adversarial, acul3/CC_12M_Indonesia, autoevaluate/autoeval-staging-eval-project-rajistics__indian_food_images-7f4d71b4-11165495, autoevaluate/autoeval-staging-eval-project-kmfoda__booksum-7d55fc88-11175496, nateraw/documentation-images, biglam/lampeter_corpus, breakend/nllb-multi-domain, autoevaluate/autoeval-staging-eval-project-samsum-e4148a42-11205497, autoevaluate/autoeval-staging-eval-project-samsum-e4148a42-11205498, Siyong/taskmaster, autoevaluate/autoeval-staging-eval-project-cnn_dailymail-5bba49ea-11215499, autoevaluate/autoeval-staging-eval-project-cnn_dailymail-5bba49ea-11215500, autoevaluate/autoeval-staging-eval-project-cnn_dailymail-5bba49ea-11215501, autoevaluate/autoeval-staging-eval-project-cnn_dailymail-5bba49ea-11215502, gary109/onset-singing3_corpora_parliament_processed_MIR-ST500, gorkemozkaya/blended_en_tr, gorkemozkaya/blended_en_tr_processed, gusevski/products_embeddings, gorkaartola/ZS-train_SDG_Descriptions_S1-sentence_S2-SDGtitle_Negative_Sample_Filter-All, gorkaartola/ZS-train_SDG_Descriptions_S1-sentence_S2-SDGtitle_Negative_Sample_Filter-None, gorkaartola/ZS-train_SDG_Descriptions_S1-sentence_S2-SDGtitle_Negative_Sample_Filter-Only_Headlines, gorkaartola/ZS-train_SDG_Descriptions_S1-sentence_S2-SDGtitle_Negative_Sample_Filter-Only_Title, PierreMeester/TestBloom, gorkaartola/SC-train-valid-test_AURORA-Gold-SDG-True-Positives, autoevaluate/autoeval-staging-eval-project-f9efad07-2209-4d77-9230-9fd08f3882ea-41, albertvillanova/dummy_tags, liyangbing/water, gorkaartola/ZS-train_SDG_Descriptions_S1-sentence_S2-SDGtitle_Negative_Sample_Filter-Only_Targets, gorkaartola/ZS-train_SDG_Descriptions_S1-sentence_S2-SDGtitle_Negative_Sample_Filter-Only_Indicators, LawalAfeez/englishreview-ds-mini, gorkaartola/SC-train-valid-test_SDG-Descriptions, LawalAfeez/englishreview-ds, codeparrot/github-jupyter-code-to-text, s3prl/sample_hidden_states, albertvillanova/dummy_fleurs, zluvolyote/DreamNLP, deepmind/code_contests, ufukhaman/uspto_balanced_filtered_200k_ipc_patents, ufukhaman/uspto_balanced_filtered_20k_ipc_patents, research-backup/conceptnet_high_confidence, research-backup/conceptnet, biglam/lancaster_newsbooks, autoevaluate/autoeval-staging-eval-project-samsum-7328461a-11225503, autoevaluate/autoeval-staging-eval-project-cnn_dailymail-73f27c66-11235504, nateraw/examples, naver-clova-ix/cord-v2, naver-clova-ix/synthdog-zh, naver-clova-ix/synthdog-ja, naver-clova-ix/synthdog-ko, miyoung/datasetTest, Willaim/H, nschantz21/cnn_dailymail-parsed, sadrasabouri/ShahNegar, naver-clova-ix/synthdog-en, TheNoob3131/test-data, hassan4830/urdu-binary-classification-data, SakaiJun/github-issues, arize-ai/fashion_mnist_quality_drift, autoevaluate/autoeval-staging-eval-project-xsum-6cd6bf3a-11245505, voidful/DRCD, LanceaKing/asvspoof2019, autoevaluate/autoeval-staging-eval-project-emotion-5a29f55d-11295506, autoevaluate/autoeval-staging-eval-project-cnn_dailymail-6d6de32b-11305507, legotin/movielens-1m-ratings-standardized, joelito/mapa, becurrio/advABSA, benmansour/sentiment_analysis, RishiGupta/my-test-dataset, autoevaluate/autoeval-staging-eval-project-xsum-8015d52c-11325509, acul3/Laion_Indo, lmcguire/train, adamnik/event_detection_dataset, autoevaluate/autoeval-staging-eval-project-pnr-svc__Turkish-Multiclass-Dataset-e6effb88-11345510, relbert/lexical_relation_classification, relbert/relation_mapping, conceptofmind/test, poison-texts/imdb-poisoned-50-bddr-word-deletion-defense, poison-texts/imdb-poisoned-25-bddr-word-deletion-defense, poison-texts/imdb-poisoned-75-bddr-word-deletion-defense, poison-texts/imdb-clean-bddr-word-deletion-defense, richartruddie/richartruddie, autoevaluate/autoeval-staging-eval-project-xsum-8bc70ef8-11355511, kietzmannlab/ecoset, lohani/small-wiki-embeddings, autoevaluate/autoeval-staging-eval-project-xtreme-affdb872-11365512, autoevaluate/autoeval-staging-eval-project-banking77-f9299960-11375513, volkanaltintas/turkishTradeReviews-ds-mini-4000, autoevaluate/autoeval-staging-eval-project-cestwc__cnn_dailymail-test50-b9fb5faf-11395515, autoevaluate/autoeval-staging-eval-project-cestwc__cnn_dailymail-test50-b9fb5faf-11395514, autoevaluate/autoeval-staging-eval-project-banking77-10fe815c-11415521, autoevaluate/autoeval-staging-eval-project-banking77-34727576-11425522, autoevaluate/autoeval-staging-eval-project-banking77-9cb960fa-11435523, PhilSad/standfordsentiment, nishita/webnlg-data2text, autoevaluate/autoeval-staging-eval-project-cnn_dailymail-82ea4996-11445524, Heecheol/dataset, acul3/pmd_indonesia, autoevaluate/autoeval-staging-eval-project-976d13e6-0b05-475e-9b4e-e8fbc174cfae-346, autoevaluate/autoeval-staging-eval-project-d3ec9b9a-b64a-40a0-baff-3af478f604df-367, autoevaluate/autoeval-staging-eval-project-f2158b57-4f5f-457d-9656-edbe0fb0d311-398, autoevaluate/autoeval-staging-eval-project-e81e3618-f3e1-472b-97e0-2794cda0adb2-409, autoevaluate/autoeval-staging-eval-project-df92c53c-2bfd-442d-8572-7541578e7feb-4110, calbert/hinglish-large, autoevaluate/autoeval-staging-eval-project-9ec0b53a-81c5-4d01-88f6-bf53413cd1a8-4611, autoevaluate/autoeval-staging-eval-project-9ec0b53a-81c5-4d01-88f6-bf53413cd1a8-4612, rjac/all-the-news-2-1-Component-ones-cluster-labels, autoevaluate/autoeval-staging-eval-project-squad_v2-7c1a5e5f-11505530, autoevaluate/autoeval-staging-eval-project-squad-87c559e7-11495529, iuihgisgsd/KHGKJHKGH, FinanceInc/auditor_sentiment, autoevaluate/autoeval-staging-eval-project-squad-7a0da4d5-11455525, autoevaluate/autoeval-staging-eval-project-acronym_identification-ba1c8b6b-11475526, nbsullivan/song_lyrics, erikacardenas300/Self-Supervised-MNLI, succinctly/midjourney-prompts, Artificio/WikiArt, arize-ai/cifar10_quality_drift, erickdp/es_corpus_twt210722, Gpaiva/NERDE, ASCCCCCCCC/mix_info, dk-crazydiv/test, autoevaluate/autoeval-staging-eval-project-sst2-ee5c821a-11545531, CloverSearch/globalvoices_pairs, QuoQA-NLP/KoCC3M, autoevaluate/autoeval-staging-eval-project-cnn_dailymail-7c900a64-11555532, autoevaluate/autoeval-staging-eval-project-squad-81564f9f-11565533, autoevaluate/autoeval-staging-eval-project-squad-81564f9f-11565534, autoevaluate/autoeval-staging-eval-project-squad_v2-6f87823c-11575537, deepklarity/huggingface-spaces-dataset, autoevaluate/autoeval-staging-eval-project-squad_v2-6f87823c-11575535, ccpp/test1, autoevaluate/autoeval-staging-eval-project-squad-7ad816c0-11585539, autoevaluate/autoeval-staging-eval-project-squad-7ad816c0-11585538, autoevaluate/autoeval-staging-eval-project-squad-7ad816c0-11585540, autoevaluate/autoeval-staging-eval-project-squad_v2-94d8b010-11595541, autoevaluate/autoeval-staging-eval-project-squad_v2-94d8b010-11595542, autoevaluate/autoeval-staging-eval-project-squad_v2-94d8b010-11595543, Vipitis/Shadertoys-fine, autoevaluate/autoeval-staging-eval-project-ag_news-22fb867e-11605544, autoevaluate/autoeval-staging-eval-project-squad_v2-b21ddcda-11615545, ameerazam08/autotrain-data-imdb, Muennighoff/xstory_cloze, autoevaluate/autoeval-staging-eval-project-squad_v2-a4dd4efe-11635551, autoevaluate/autoeval-staging-eval-project-squad_v2-a5d9cc45-11645552, autoevaluate/autoeval-staging-eval-project-squad-056210f3-11655553, mozilla-foundation/common_voice_10_0, autoevaluate/autoeval-staging-eval-project-squad_v2-4938eeea-11665554, autoevaluate/autoeval-staging-eval-project-squad_v2-b7567fd1-11675555, sudo-s/herbier_mesuem6, tmgondal/GEFCom, AbdouBel/Amastig, biglam/hansard_speech, Ericwang/promptCoherence, Ericwang/promptGrammar, Ericwang/promptProficiency, Ericwang/promptSpoke, Ericwang/promptNLI, Ericwang/promptSentiment, testname/TestCard, testname/ddwewd, dsadasdad/tesfd.html, dsadasdad/tesfdjh, ydmeira/segment-pokemon, i-am-holmes/conll2003, sudo-s/herbier_mesuem7, sudo-s/herbier_mesuem8, ydmeira/random-backgrounds, cakiki/humaneval-codeparrot-small-eval_corrected, schnell/kuci_juman, openclimatefix/era5-land, zluvolyote/DREAM_SAMPLE_600K, biglam/nls_chapbook_illustrations, lonestar108/qd50, lonestar108/qd100, Gpaiva/NERDE_sentences, Pligabue/BLAB_KG, schnell/neko, Janez/github-issues, n6L3/emotion, n6L3/tweet_disaster, apoulos/Fork-test, apoulos/GFPGAN-fork, n6L3/takeout_10k, n6L3/online_shopping_10_cats, autoevaluate/autoeval-staging-eval-project-squad_v2-2eb94bfa-11695556, autoevaluate/autoeval-staging-eval-project-squad_v2-2eb94bfa-11695557, autoevaluate/autoeval-staging-eval-project-squad_v2-2eb94bfa-11695558, dia2diab/hackme_dataset, rony/climate-change-MRC, ntmkhanh/food, Vipitis/Shadertoys, nateraw/sqllitetest, nateraw/snowflaketest, devmehta787/wav2vec2-xlsr-hindi, Yehor/uk-stresses, jack66931/ClassTest, nlp-esg-scoring/bert-base-finetuned-esg-snpcsr-clean, openclimatefix/nimrod-uk-1km-test, ywchoi/biomed_textbooks_jul22, MrSemyon12/data_frame, ben-yu/ms2_combined, ben-yu/ms2_combined_val, emilylearning/cond_ft_none_on_reddit__prcnt_na__test_run_True__bert-base-uncased, bongsoo/kowiki20220620, emilylearning/cond_ft_subreddit_on_reddit__prcnt_na__test_run_True__bert-base-uncased, actdan2016/dandna, bongsoo/bongeval, bongsoo/bongevalsmall, emilylearning/cond_ft_none_on_reddit__prcnt_100__test_run_False__bert-base-uncased, autoevaluate/autoeval-staging-eval-project-squad_v2-fdec2e9c-11705559, autoevaluate/autoeval-staging-eval-project-squad_v2-8b8e12f7-11715560, richardblythman/hello, autoevaluate/autoeval-staging-eval-project-squad-810261fd-11725561, n6L3/weibo_4_moods, naem1023/augmented-namuwiki, naem1023/augmented-kowiki, autoevaluate/autoeval-staging-eval-project-squad_v2-ebf1ec50-11735562, autoevaluate/autoeval-staging-eval-project-squad_v2-e85023ec-11745564, autoevaluate/autoeval-staging-eval-project-squad_v2-e85023ec-11745565, autoevaluate/autoeval-staging-eval-project-squad_v2-e85023ec-11745563, autoevaluate/autoeval-staging-eval-project-squad_v2-26568076-11755566, autoevaluate/autoeval-staging-eval-project-squad_v2-df3d9ae8-11765567, alfassy/FETA_IKEA, davanstrien/hf_model_metadata, mesolitica/azure-tts-osman, Qiaozhi/code_small_py, autoevaluate/autoeval-staging-eval-project-acronym_identification-0fb5b29e-11775568, naem1023/augmented-concat-100000, onon214/mongolian-ner-demo, autoevaluate/autoeval-staging-eval-project-amazon_reviews_multi-d9b79dcc-11785569, autoevaluate/autoeval-staging-eval-project-conll2003-2dc2f6d8-11805572, autoevaluate/autoeval-staging-eval-project-amazon_reviews_multi-927fcdd4-11795570, autoevaluate/autoeval-staging-eval-project-conll2003-2dc2f6d8-11805571, hdamghanian/Stock-QA-fa, mesolitica/azure-tts-yasmin, cakiki/ASE_runs, gorkaartola/SC-ZS-test_AURORA-Gold-SDG_True-Positives-and-False-Positives, SocialGrep/reddit-r-bitcoin-data-for-jun-2022, anzorq/kbd_lat-835k_ru-3M, chrisjay/test-mnist-2, emilylearning/cond_ft_subreddit_on_reddit__prcnt_100__test_run_False__bert-base-uncased, autoevaluate/autoeval-staging-eval-project-squad-005aa7e2-11815573, autoevaluate/autoeval-staging-eval-project-adversarial_qa-58460439-11825575, autoevaluate/autoeval-staging-eval-project-adversarial_qa-58460439-11825576, autoevaluate/autoeval-staging-eval-project-adversarial_qa-58460439-11825574, autoevaluate/autoeval-staging-eval-project-squad-95d5e1fd-11835577, autoevaluate/autoeval-staging-eval-project-squad-95d5e1fd-11835578, autoevaluate/autoeval-staging-eval-project-squad-95d5e1fd-11835579, autoevaluate/autoeval-staging-eval-project-squad-95d5e1fd-11835580, autoevaluate/autoeval-staging-eval-project-adversarial_qa-8ac5f360-11845582, autoevaluate/autoeval-staging-eval-project-adversarial_qa-8ac5f360-11845581, ghazalehk/propara, nateraw/snares, tianxing1994/nltk_data, betterme/goldendata, Kamrani/en-fa-translation, nateraw/fsd50k, BirdL/SimulaPrompts, muibk/wmt19_metrics_task, Nagin/sst-5, Achen/large-test, autoevaluate/autoeval-staging-eval-project-squad_v2-e06b4410-11855583, autoevaluate/autoeval-staging-eval-project-squad_v2-e06b4410-11855584, autoevaluate/autoeval-staging-eval-project-squad_v2-e06b4410-11855585, autoevaluate/autoeval-staging-eval-project-squad_v2-e06b4410-11855586, autoevaluate/autoeval-staging-eval-project-squad_v2-e06b4410-11855587, jordane95/msmarco-passage-with-query, jordane95/msmarco-passage-corpus-with-query, mingz/demo, asparius/demirtas-movie, chinglohsiu/github-issues, autoevaluate/autoeval-staging-eval-project-xtreme-6c3ca3ab-11865588, frogvre/lgo1, autoevaluate/autoeval-staging-eval-project-deepset__germanquad-7176bd7d-11875589, autoevaluate/autoeval-staging-eval-project-deepset__germanquad-7176bd7d-11875590, Achen/voc-test, frgfm/imagewoof, mesolitica/synthetic-azure-tts, spacemanidol/ESCI-product-dataset-corpus-es, spacemanidol/ESCI-product-dataset-corpus-us, spacemanidol/ESCI-product-dataset-corpus-jp, robertmyers/convo_base, Kessel/bbcnews, autoevaluate/autoeval-staging-eval-project-squad-47db8743-11885591, naem1023/final_aug_2000, autoevaluate/autoeval-staging-eval-project-cnn_dailymail-8f63e3f3-11895592, autoevaluate/autoeval-staging-eval-project-cnn_dailymail-8f63e3f3-11895594, autoevaluate/autoeval-staging-eval-project-cnn_dailymail-8f63e3f3-11895593, autoevaluate/autoeval-staging-eval-project-squad_v2-f7109022-11905595, danielhou13/cogs402datafake, biglam/berlin_state_library_ocr, tarteel-ai/quranqa, BirdL/DallData, spacemanidol/ESCI-product-dataset-jp, spacemanidol/ESCI-product-dataset-es, wiselinjayajos/cvdatasetqualtrics_t5_qg_v1, biglam/contentious_contexts, nschantz21/cnn_dailymail-parsed-processed, simecek/KnottedProteinsDemo, autoevaluate/autoeval-staging-eval-project-kmfoda__booksum-9ce97676-11915596, autoevaluate/autoeval-staging-eval-project-kmfoda__booksum-3fbf83bf-11925597, autoevaluate/autoeval-staging-eval-project-cnn_dailymail-5c70c9c5-11935598, autoevaluate/autoeval-staging-eval-project-cnn_dailymail-a69d1865-11945599, anzorq/kbd-ru, anzorq/kbd_lat-ru, autoevaluate/autoeval-staging-eval-project-billsum-18299d18-11955600, autoevaluate/autoeval-staging-eval-project-billsum-a6bd4aa5-11965601, hong/FLO, phamvanlinh143/github-issues, jordane95/trec-dl-2020-query, jordane95/trec-dl-2019-query, ziwenyd/AVATAR, zluvolyote/Dream_Train, srivatsavaasista/textgenerator, autoevaluate/autoeval-staging-eval-project-squad_v2-96a02c9c-11975602, autoevaluate/autoeval-staging-eval-project-squad-ef91144d-11985603, chintagunta85/bc2gm_test, kiddothe2b/contract-nli, chintagunta85/bc4chemd, prubach/knotprotSequences, srivatsavaasista/textgenerator-ds-mini, chintagunta85/BC5CDR, chintagunta85/ncbi_disease, chintagunta85/linnaeus, chintagunta85/species_800, ai4bharat/indicwav2vec_noa_hf, Aniemore/resd_ctc16000, moyix/debian_csrc, jonathanli/legal-advice-reddit, rungalileo/snli, benfoley/test-dataset, oisinoh/tomatos, miyoung/testa, xueh2/tokenized-codeparrot-train, srivatsavaasista/textgenerator-ds-mini-1, commanderstrife/jnlpba, hong/zoosdataset, srivatsavaasista/textgenerator-ds-mini-2, truongpdd/vietnamese-10classes-clf, Slepp/train, chintagunta85/bionlp2, Slepp/validation, actdan2016/sample1, psyche/ko_synonyms, gigant/oldbookillustrations, voidful/DRCDC, okite97/news-data, srivatsavaasista/en-auto-complete-ds, prubach/knotprotSequencesClustered, prubach/knotprotSequencesUnique, Toygar/turkish-offensive-language-detection, autoevaluate/autoeval-staging-eval-project-acronym_identification-3384d01d-12015604, biglam/archives_parlementaires_revolution_francaise, DFKI-SLT/sciarg, hf-internal-testing/example-documents, vincentclaes/emoji-predictor, Vlasta/Human_DNA_v0_SentencepieceTokenized_vocab10k, Vlasta/Human_DNA_v0_SentencepieceTokenized_vocab30k, ErickP/cameoQuad, anneliesemm/ehr_records, ChristophSchuhmann/LAION-5B-EN-Aesthetics-Subset_above_5.0, ChristophSchuhmann/LAION-5B-EN-Aesthetics-Subset_above_6, ArneBinder/sciarg, ArneBinder/pie-sciarg, ArneBinder/test, tsr6065/RI, chintagunta85/pv_dataset, autoevaluate/autoeval-staging-eval-project-Blaise-g__SumPubmed-ce219d86-12025605, autoevaluate/autoeval-staging-eval-project-cnn_dailymail-ca1f103f-12035606, autoevaluate/autoeval-staging-eval-project-xsum-20a28003-12045607, gorkaartola/SDG_queries, alkzar90/croupier-mtg-dataset, OATML-Markslab/ProteinGym, ICML2022/ProteinGym, truongpdd/vietnamese_10classes_train_test_split, Santarabantoosoo/italian_long_covid_tweets, truongpdd/vietnamese_10classes_train_valid_split, autoevaluate/autoeval-staging-eval-project-imdb-63a86046-12055608, truongpdd/vietnamses-10classes-all, gagan3012/OnlineKhattv2, voidful/yueqie, biglam/yalta_ai_tabular_dataset, crazyofapple/CME-Chinese, timothepearce/embeddings_test, dquisi/cuentosES, PaddlePaddle/duconv, Epidot/twitchlolcorpus, Epidot/fuetal2017_highlights_preprocessed, awacke1/DNA-Aaron-C-Wacker-Open-Source-Genome-Project, bambeusz/umie-xs, mikkyssssss/2, pinecone/dl-doc-search, ErickP/ace1, LiptaphX/deneme, ErickP/maven, Epidot/twitch_lol_corpus_for_mlm_training, carbon225/lichess-elite, Okyx/github-issues, Aimlab/Sentiment-Analysis-Roman-Urdu, Santarabantoosoo/italian-stopwords, thocheat/vlsp, fragom/full, davanstrien/pytorchmodelmetadata, Santarabantoosoo/Long_Covid_word_frequency_TFIDF_21_Jul_Oct, mesolitica/azure-tts-yasmin-wikipedia, mesolitica/azure-tts-osman-wikipedia, davanstrien/pytorchmodelmetadata_with_embeddings, Yehor/voa-uk-transcriptions, Santarabantoosoo/Long_Covid_word_frequency_TFIDF_22_Feb_Apr, Santarabantoosoo/Long_Covid_word_frequency_TFIDF_22_May_Jul, Santarabantoosoo/Long_Covid_word_frequency_TFIDF_21_Nov_22_Jan, JetsonEarth/jet_funsd, JetsonEarth/jetson_funsd, zluvolyote/Dream_NLP_FineTune, jordiae/exebench, Santarabantoosoo/whole_text_TF_21_Jul_Oct, Santarabantoosoo/whole_text_TF_22_Feb_Apr, Santarabantoosoo/whole_text_TF_22_May_Jul, Santarabantoosoo/whole_text_TF_21_Nov_22_Jan, bigscience/xP3all, snoop2head/common_crawl, alvations/greg-eval, mansiksohn/opendict-korean-proverb, beiergo/test, zluvolyote/Dream_NLP_Validation, ahadda5/cve150k, wmt/wmt21, Blaise-g/scitldr, kumapo/coco_dataset_script, okg/turkish-poems, LTress/libriadapt_hubert, truongpdd/vietnamese_clf_10classes_all_tokenized, autoevaluate/autoeval-staging-eval-project-kmfoda__booksum-a84cddd6-12085614, truongpdd/vietnamese_clf_10classes_train_test_tokenized, succinctly/medium-titles-and-images, VSPuzzler/SemevalClickbaitSpoilingTrainingData, gsganden/lpz_2016_2017_processed, AI-Growth-Lab/patents_claims_1.5m_traim_test, AI-Growth-Lab/patents_claims_1.5m_traim_test_embeddings, pinecone/movie-posters, gsganden/lpz_2016_017, gsganden/lpz_2012-2014, gsganden/lpz_2018, autoevaluate/autoeval-staging-eval-project-cnn_dailymail-766fa594-12105615, autoevaluate/autoeval-staging-eval-project-samsum-0c52930e-12115616, notmaineyy/country_ner, BirdL/DALL-E-Dogs, viks66/torgo_speech, viks66/ravdess_speech, srivatsavaasista/textgenerator-ds-mini-3, Jang-Hyun/EfficientDatasetCondensation, ICML2022/EfficientDatasetCondensation, joelito/lextreme, srivatsavaasista/textgenerator-ds-mini-4, autoevaluate/autoeval-staging-eval-project-samsum-db063b78-12135617, autoevaluate/autoeval-staging-eval-project-xsum-4118bb33-12145618, ziwenyd/transcoder-geeksforgeeks, autoevaluate/autoeval-staging-eval-project-cnn_dailymail-b454c496-12155619, Laeyoung/cat-nft, jxw/ssa, vesteinn/sosialurin-faroese-ner, autoevaluate/autoeval-staging-eval-project-ml6team__cnn_dailymail_nl-a771a5f9-12165620, yongzx/few-clue, ErickP/wiki, daekeun-ml/naver-news-summarization-ko, KaranChand/atcosim_split, graphs-datasets/ZINC, KaranChand/atcosim_input, graphs-datasets/PROTEINS, graphs-datasets/MUTAG, nielsr/rvl_cdip_10_examples_per_class, graphs-datasets/IMDB-BINARY, ErickP/glocon, nielsr/rvl_cdip_10_examples_per_class_donut, Anas2000/testo, bigscience/evaluation-results, mesolitica/substring-language-detection, Enutrof/English-NigerianPidgin-Result-Validation, BirdL/DALL-E-Cats, cansen88/turkishReviews_5_topic, spacemanidol/ESCI-product-search, nyoorspace/toh_fanfic, Corran/pexelvideos, Kadarxwoody/artistic-2.0, NX2411/AIhub-korean-speech-data, ShreySavaliya/TextSummarisation, aspis/car_background_removal_v2, autoevaluate/autoeval-staging-eval-project-ml6team__cnn_dailymail_nl-612d6c13-12185622, autoevaluate/autoeval-staging-eval-project-ml6team__cnn_dailymail_nl-612d6c13-12185623, autoevaluate/autoeval-staging-eval-project-adversarial_qa-1cd241d3-12195624, autoevaluate/autoeval-staging-eval-project-adversarial_qa-e34332b7-12205625, autoevaluate/autoeval-staging-eval-project-adversarial_qa-e34332b7-12205626, autoevaluate/autoeval-staging-eval-project-adversarial_qa-e34332b7-12205627, autoevaluate/autoeval-staging-eval-project-adversarial_qa-e34332b7-12205628, autoevaluate/autoeval-staging-eval-project-adversarial_qa-e34332b7-12205629, autoevaluate/autoeval-staging-eval-project-sms_spam-216c1ded-12215630, autoevaluate/autoeval-staging-eval-project-sms_spam-216c1ded-12215631, autoevaluate/autoeval-staging-eval-project-sms_spam-216c1ded-12215632, autoevaluate/autoeval-staging-eval-project-sms_spam-216c1ded-12215633, autoevaluate/autoeval-staging-eval-project-Blaise-g__SumPubmed-09a50a05-12225634, autoevaluate/autoeval-staging-eval-project-Blaise-g__SumPubmed-54a73f7a-12235635, autoevaluate/autoeval-staging-eval-project-Blaise-g__SumPubmed-54a73f7a-12235636, autoevaluate/autoeval-staging-eval-project-Blaise-g__SumPubmed-54a73f7a-12235637, autoevaluate/autoeval-staging-eval-project-Blaise-g__SumPubmed-93d67e8f-12255638, autoevaluate/autoeval-staging-eval-project-Blaise-g__SumPubmed-93d67e8f-12255639, autoevaluate/autoeval-staging-eval-project-Blaise-g__SumPubmed-3c512f6e-12265641, autoevaluate/autoeval-staging-eval-project-Blaise-g__SumPubmed-3c512f6e-12265640, autoevaluate/autoeval-staging-eval-project-cuad-e5412c0a-12275642, razhan/code-train, razhan/code-valid, momilla/labeled_smar_contracts, NitishKarra/invoice-bills, ErickP/IndiaPoliceEvents, Scaevitas/Red-flags-cards, sepidmnorozy/Arabic_sentiment, dangne/processed-wikipedia-20220301.simple, erickdp/dataset_limpio, autoevaluate/autoeval-staging-eval-project-Blaise-g__SumPubmed-c8bf564e-12335643, autoevaluate/autoeval-staging-eval-project-Blaise-g__SumPubmed-c8bf564e-12335644, autoevaluate/autoeval-staging-eval-project-Blaise-g__SumPubmed-c8bf564e-12335645, foyez/pake, KaranChand/atcosim_pruned, autoevaluate/autoeval-staging-eval-project-kmfoda__booksum-07d54673-12345646, autoevaluate/autoeval-staging-eval-project-xsum-19ae30f1-12355647, KaranChand/atcosim_base_pruned_input_split, autoevaluate/autoeval-staging-eval-project-big_patent-e61c4fbc-12365648, autoevaluate/autoeval-staging-eval-project-big_patent-06668a6c-12375649, autoevaluate/autoeval-staging-eval-project-big_patent-8ceaf62e-12385650, autoevaluate/autoeval-staging-eval-project-big_patent-b1cc9f2b-12395651, autoevaluate/autoeval-staging-eval-project-cnn_dailymail-92ea8d52-12405652, owaiskha9654/PubMed_MultiLabel_Text_Classification_Dataset_MeSH, autoevaluate/autoeval-staging-eval-project-Blaise-g__SumPubmed-f53a4404-12415653, RKocielnik/bias_repo, Danitg95/feedback, sheganinans/BTCUSD, autoevaluate/autoeval-staging-eval-project-emotion-eb3c65cb-3119, aspis/car_background_removal_coco_panoptic, aspis/car_background_removal_coco_panoptic_test, autoevaluate/autoeval-staging-eval-project-emotion-5e9ffb56-3523, spacemanidol/ESCI-product-search-us, spacemanidol/ESCI-product-search-jp, spacemanidol/ESCI-product-search-es, autoevaluate/autoeval-staging-eval-project-emotion-e91e45df-3725, snoop2head/commoncrawl_sampled_gpt2-xl, autoevaluate/autoeval-staging-eval-project-emotion-89b38d76-3826, NitishKarra/dMART_BILL, Bingsu/laion2B-multi-korean-subset, NitishKarra/mayds, NitishKarra/mydsssss, autoevaluate/autoeval-staging-eval-project-imdb-17316918-12425654, autoevaluate/autoeval-staging-eval-project-imdb-f49f2e4f-12435655, autoevaluate/autoeval-staging-eval-project-imdb-ed2a920e-12445656, its5Q/panorama, NitishKarra/Dmart_ds, NitishKarra/billings, NitishKarra/mydata, KaranChand/atcosim_pruned_xlsr, Noutz/test, ijunc2/nnnnnn, Danitg95/feedback-kaggle-sentiment, Rifky/indonesian-hoax-news, NitishKarra/Nitishh, autoevaluate/autoeval-staging-eval-project-squad-6abc415f-12465657, NitishKarra/invoioc, mn367/radio-dataset-test, ziwenyd/avatar-raw, allenai/multi_lexsum, autoevaluate/autoeval-staging-eval-project-acronym_identification-9f5e49b1-12475658, alex-apostolo/filtered-cuad, autoevaluate/autoeval-staging-eval-project-acronym_identification-e18dcf3d-12485659, Plashkar/diabetes-predict-db, autoevaluate/autoeval-staging-eval-project-ml6team__cnn_dailymail_nl-bfaf23ee-12505670, falabrasil/lapsbm, autoevaluate/autoeval-staging-eval-project-ben-yu__ms2_combined-823f066f-12515671, autoevaluate/autoeval-staging-eval-project-ben-yu__ms2_combined-823f066f-12515672, autoevaluate/autoeval-staging-eval-project-samsum-99725515-12535673, autoevaluate/autoeval-staging-eval-project-xsum-d2b9e56c-12525674, rungalileo/trec6, rungalileo/agnews, rungalileo/amazon_polarity_30k, rungalileo/banking_intent, rungalileo/conv_intent, rungalileo/emotion, rungalileo/medical_transcription_4, rungalileo/medical_transcription_40, rungalileo/newsgroups, rungalileo/sst2, rungalileo/amazon_polarity, ianbaek/sv_corpora_parliament_processed, kfuangsung/AmazonFineFoodReviews, Auriga/rules3, autoevaluate/autoeval-staging-eval-project-Blaise-g__SumPubmed-d94a9931-12545675, Epidot/fuetal2017_TwitchLeagueBert_highlights_preprocessed_oversampled, merkalo-ziri/trans_dataset, Silvia/WITS, sepidmnorozy/Hindi_sentiment, DingZhaohai/emotion, MayaGalvez/multilingual_wikiann, MayaGalvez/multilingual_xglue_pos, conceptofmind/wikitext-2-v1-clean, conceptofmind/wikitext-103-v1-clean, ZhiyuanQiu/DD_avec_symbole, snoop2head/enron_aeslc_emails, ZhiyuanQiu/DD_sans_symbole, ZhiyuanQiu/DD_mixte_symbole, NX2411/AIhub-korean-speech-data-large, Qilex/EN-ME, KaranChand/atcosim_pruned_hubert, autoevaluate/autoeval-staging-eval-project-emotion-8fb299f7-4028, autoevaluate/autoeval-staging-eval-project-emotion-6db08bcf-4331, autoevaluate/autoeval-staging-eval-project-emotion-79eb9737-4432, autoevaluate/autoeval-staging-eval-project-emotion-7e303478-4533, Sunny5555/My_First_Dataset, sacculifer/dimbat_disaster_detection, Tristan/zero_shot_classification_test, sacculifer/dimbat_disaster_type_detection, autoevaluate/autoeval-staging-eval-project-wmt16-d9e39a12-12565676, ben-yu/cochrane_combined, ij5/ace, hubert0527/InfinityGANFlickrLandscape, sagar122/sample, vector/test_demo, lingophilonaut/dummy_json, maja601/EuroCrops, jeremy2599/stripai, arize-ai/human_actions_quality_drift, tau/sled, rony/VANiLLa, yogiyulianto/twitter-sentiment-dataset-en, evs/hipe2020-fr, LauraRuis/do_pigs_fly, nielsr/docvqa_1200_examples, gere/Dataset, nielsr/docvqa_1200_examples_donut, simonduerr/inversefolding, quantity/mydataset1, quantity/model7, eliwill/krishnamurti_discussions, salim-ingram/philosophy_quotes, jakartaresearch/google-play-review, xnik/test-dataset, autoevaluate/autoeval-staging-eval-project-Blaise-g__SumPubmed-24db4c9a-12575677, autoevaluate/autoeval-staging-eval-project-Blaise-g__SumPubmed-24db4c9a-12575678, autoevaluate/autoeval-staging-eval-project-Blaise-g__SumPubmed-24db4c9a-12575679, autoevaluate/autoeval-staging-eval-project-Blaise-g__SumPubmed-c887ce73-12585680, Epidot/fuetal2017_highlights_temporal_preprocessed_roberta-base_oversampled, andreagasparini/librispeech_train_clean_only, andreagasparini/librispeech_train_other_only, dali-does/clevr-math, Rattana/Supported_by, chinoll/ACGVoice, pcuenq/oxford-pets, sepidmnorozy/Welsh_sentiment, Qilex/EN-MEspecialChars, VanessaSchenkel/handmade-dataset, Shayanvsf/US_Airline_Sentiment, VanessaSchenkel/opus_books_en_pt, jakartaresearch/indonews, jakartaresearch/poem-tweets, Heatz/github-issues, n6L3/tabular, acul3/KoPI-CC, biglam/bnl_ground_truth_newspapers_before_1878, luigisaetta/atco2, autoevaluate/autoeval-staging-eval-project-imdb-713fcedb-12605681, mesolitica/wiktionary-bahasa, mesolitica/malaysian-twitter-by-topics, excode/my-test-dataset, excode/amazon-shoe-reviews, dangne/gcc_caption_only, Truthful/autotrain-data-provision_classification, TheLitttleThings/ArchDaily, Epidot/fuetal2017_highlights_temporal_preprocessed_TwitchLeagueBert_oversampled, DeveloperOats/DBPedia_Classes, DeveloperOats/Million_News_Headlines, jakartaresearch/cerpen-corpus, lslattery/wafer-defect-detection, scikit-learn/churn-prediction, asaxena1990/Dummy_dataset, Chr0my/public_flickr_photos_license_1, hoskinson-center/proof-pile, DevonK3/GHI, juliaturc/medium-abstract2concrete, Sunny5555/Arsenal_2021_Goals, arunreddy/Invictus, Sunny5555/Seattle_Rain_By_Hour_2021, yuhung94/C3, ahadda5/sanad, Abhishekq10/sanad-full, deepklarity/top-flutter-packages, deepklarity/top-npm-packages, deepklarity/indian-premier-league, sepidmnorozy/Polish_sentiment, NitishKarra/Extractoin, Amo/FimFic_Omega_V3, giulio98/stripedoc, zchflyer/testData, autoevaluate/autoeval-staging-eval-project-Blaise-g__scitldr-89735e41-12705693, autoevaluate/autoeval-staging-eval-project-Blaise-g__scitldr-89735e41-12705694, autoevaluate/autoeval-staging-eval-project-cnn_dailymail-1bafd1c4-12715695, valadhi/agrivision, NX2411/AIhub-korean-speech-data-large-no-lm, autoevaluate/autoeval-staging-eval-project-acronym_identification-293fbb3b-12725698, BlueAquilae/agro, cansen88/PromptGenerator_5_topic, pvbhanuteja/funsd_dataset, bartekci/hello-embeddings, benjaminaw93/test, Qilex/EN-MEstandardized, truongpdd/mlm_dataset_for_text_clf, nateraw/soundcamp-snares, SLPL/syntran-fa, UCL-DARK/ludwig, MelikeDulkadir/coronaTweets, intfloat/simlm-msmarco, yuan1729/YuAN-001, valurank/News_headlines, ChristophSchuhmann/test-files, ChristophSchuhmann/processed_demo, lyan62/bookcorpus_tiny, ChristophSchuhmann/processed_demo2, ChristophSchuhmann/improved_aesthetics_6plus, ChristophSchuhmann/improved_aesthetics_6.25plus, ChristophSchuhmann/improved_aesthetics_6.5plus, excode/my-test-dataset-ubuntu, USC-MOLA-Lab/MFRC, CShorten/CORD-19-prototype, ksabeh/electronics-category-specific, ksabeh/electronics-dataset, yuan1729/YuAN-lawthone-CL, autoevaluate/autoeval-staging-eval-project-multi_news-416d7689-12805701, Meowren/CapBot, rodabhari/alternative_treatments, aheskandani/db, autoevaluate/autoeval-staging-eval-project-multi_news-472bde0d-12815702, skorkmaz88/iris, cansen88/PromptGenerator_32_topic, google/cvss, autoevaluate/autoeval-staging-eval-project-cnn_dailymail-00961196-12825703, autoevaluate/autoeval-staging-eval-project-cnn_dailymail-2bf8ffdd-12835704, autoevaluate/autoeval-staging-eval-project-cnn_dailymail-2bf8ffdd-12835705, autoevaluate/autoeval-staging-eval-project-cnn_dailymail-2bf8ffdd-12835706, autoevaluate/autoeval-staging-eval-project-cnn_dailymail-2bf8ffdd-12835707, autoevaluate/autoeval-staging-eval-project-xsum-d7ddcd7b-12845708, autoevaluate/autoeval-staging-eval-project-xsum-d7ddcd7b-12845709, autoevaluate/autoeval-staging-eval-project-xsum-d7ddcd7b-12845710, planhanasan/github-issues, autoevaluate/autoeval-staging-eval-project-cnn_dailymail-3ca4a8a7-12855711, autoevaluate/autoeval-staging-eval-project-cnn_dailymail-3ca4a8a7-12855712, autoevaluate/autoeval-staging-eval-project-cnn_dailymail-3ca4a8a7-12855713, autoevaluate/autoeval-staging-eval-project-cnn_dailymail-3ca4a8a7-12855714, BigBang/rosetta_old, chrisjay/test-mnist-3, autoevaluate/autoeval-staging-eval-project-cnn_dailymail-c1b20bff-12875715, autoevaluate/autoeval-staging-eval-project-cnn_dailymail-c1b20bff-12875716, autoevaluate/autoeval-staging-eval-project-cnn_dailymail-c1b20bff-12875717, ChristophSchuhmann/improved_aesthetics_5plus, hf-internal-testing/spaghetti-video-8-frames, autoevaluate/autoeval-staging-eval-project-xsum-471985e7-12885718, autoevaluate/autoeval-staging-eval-project-xsum-471985e7-12885719, autoevaluate/autoeval-staging-eval-project-xsum-5cb1ece5-12895721, autoevaluate/autoeval-staging-eval-project-xsum-4ce7da77-12905722, flyswot/iiif_snorkel_labels, autoevaluate/autoeval-staging-eval-project-xsum-f0ba0c18-12915723, autoevaluate/autoeval-staging-eval-project-xsum-f0ba0c18-12915724, autoevaluate/autoeval-staging-eval-project-xsum-f0ba0c18-12915725, autoevaluate/autoeval-staging-eval-project-xsum-f0ba0c18-12915726, juletxara/visual-spatial-reasoning, autoevaluate/autoeval-staging-eval-project-xsum-f0ba0c18-12915727, autoevaluate/autoeval-staging-eval-project-xsum-f0ba0c18-12915728, autoevaluate/autoeval-staging-eval-project-xsum-f0ba0c18-12915729, autoevaluate/autoeval-staging-eval-project-xsum-8dc1621c-12925730, autoevaluate/autoeval-staging-eval-project-xsum-8dc1621c-12925731, autoevaluate/autoeval-staging-eval-project-xsum-8dc1621c-12925732, autoevaluate/autoeval-staging-eval-project-xsum-8dc1621c-12925733, ChristophSchuhmann/improved_aesthetics_4.75plus, autoevaluate/autoeval-staging-eval-project-xsum-8dc1621c-12925734, autoevaluate/autoeval-staging-eval-project-xsum-8dc1621c-12925735, autoevaluate/autoeval-staging-eval-project-xsum-8dc1621c-12925736, autoevaluate/autoeval-staging-eval-project-xsum-69daf1dd-12935737, autoevaluate/autoeval-staging-eval-project-xsum-69daf1dd-12935738, autoevaluate/autoeval-staging-eval-project-xsum-69daf1dd-12935739, autoevaluate/autoeval-staging-eval-project-xsum-69daf1dd-12935740, autoevaluate/autoeval-staging-eval-project-xsum-69daf1dd-12935741, autoevaluate/autoeval-staging-eval-project-xsum-69daf1dd-12935742, chrisjay/test-mnist-4, autoevaluate/autoeval-staging-eval-project-xsum-69daf1dd-12935743, autoevaluate/autoeval-staging-eval-project-cnn_dailymail-240290d7-12945744, autoevaluate/autoeval-staging-eval-project-cnn_dailymail-240290d7-12945745, autoevaluate/autoeval-staging-eval-project-cnn_dailymail-7451b66c-12955746, autoevaluate/autoeval-staging-eval-project-cnn_dailymail-7451b66c-12955747, autoevaluate/autoeval-staging-eval-project-xsum-9818ea4b-12975766, autoevaluate/autoeval-staging-eval-project-xsum-9818ea4b-12975767, autoevaluate/autoeval-staging-eval-project-xsum-9818ea4b-12975768, autoevaluate/autoeval-staging-eval-project-xsum-9818ea4b-12975769, biglam/yalta_ai_segmonto_manuscript_dataset, autoevaluate/autoeval-staging-eval-project-cnn_dailymail-d1c2a643-13015770, autoevaluate/autoeval-staging-eval-project-cnn_dailymail-d1c2a643-13015771, autoevaluate/autoeval-staging-eval-project-cnn_dailymail-d1c2a643-13015772, pustozerov/crema_d_diarization, MekaBytes/billboards-signs-and-branding, juanpasanper/tigo_question_answer, chrisjay/test-mnist-5, nsarker/plantspecies-demo, darragh/ChiSig, gere/Visual_speetch, darragh/demo_data_raw3, darragh/demo_data_raw4, darragh/demo__ds1, maximedb/massive, tner/label2id, Alex06/test1, cakiki/test, juanpasanper/data.csv, autoevaluate/autoeval-staging-eval-project-Tristan__zero_shot_classification_test-fb99e6e4-4634, signal-k/planets, maykcaldas/dbSelfiesWL, conner23434/test, Meowren/Melopoly, freddyaboulton/gradio-builds, jakartaresearch/news-title-gen, RUCAIBox/Summarization, RUCAIBox/Chinese-Generation, RUCAIBox/Commonsense-Generation, RUCAIBox/Data-to-text-Generation, RUCAIBox/Open-Dialogue, RUCAIBox/Question-Answering, RUCAIBox/Question-Generation, RUCAIBox/Simplification, RUCAIBox/Story-Generation, RUCAIBox/Task-Dialogue, RUCAIBox/Translation, imodels/compas-recidivism, abdulhade/ckb, prerona/new_dataset, Gabriel/cnn_daily_swe, galatolo/TeTIm-Eval, truongpdd/luc-bat, Gabriel/xsum_swe, sepidmnorozy/Bambara_sentiment, RUCAIBox/Style-Transfer, RUCAIBox/Paraphrase, Gabriel/gigaword_swe, Gabriel/wiki_lingua_swe, Gabriel/citesum_swe, huggingface/transformers-stats-space-data, AhmedSSoliman/DJANGO, Adapting/2022-GLOBAL-AI-CHALLENGE, anandu/eurostat_demo, SophieTr/reddit_clean_v2, m3/multi_domain_document_classification, jakartaresearch/id-paraphrase-detection, allenai/nllb, MapleWish/LUNA16_subsets, jakartaresearch/semeval-absa, thocheat/sv_corpora_parliament_processed, philschmid/processed_bert_dataset, Bingsu/zeroth-korean, thientran/test_dataset_s_v_a_f, thientran/autotrain-data-favs_bot, iohadrubin/wikitext-103-raw-v1, chou/test_name, Gabriel/pubmed_swe, darkproger/librispeech_asr, imodels/diabetes-readmission, Yaxin/SemEval2016Task5NLTK, Yaxin/SemEval2015Task12NLTK, imodels/credit-card, AhmedSSoliman/CodeXGLUE-CONCODE, AhmedSSoliman/CodeXGLUE-CodeTans, AhmedSSoliman/CoNaLa-Large, hugginglearners/data-science-job-salaries, espejelomar/data-science-job-salaries, jonathanli/echr, kasumi222/busygt, kasumi222/busigt, Hobson/surname-nationality, Pocky/chinese_glue, Yaxin/SemEval2014Task4NLTK, Pocky/afqmc_public, speech-seq2seq/ami-ihm-kaldi-processed, cjvt/sentinews, jokerak/imagenet100, GateNLP/broad_twitter_corpus, fdecollibus/fdec_test, jamescalam/oscar-en-minilm-2m, Corran/Pubmed-OpenAccess-Commercial-Use, dms2ect/wikipedia_character_abstracts, unicamp-dl/beir-runs, sepidmnorozy/Uyghur_sentiment, pbwt/public-data-tokenizer, kejian/codeparrot-clean-train-v2-pep8-debug, sepidmnorozy/Basque_sentiment, sepidmnorozy/Bulgarian_sentiment, sepidmnorozy/Cantonese_sentiment, sepidmnorozy/Chinese_sentiment, sepidmnorozy/Croatian_sentiment, residentalien/test, nbroad/squad_v2-adversarial_qa-duorc-quoref, shwetha729/quantum-machine-learning, rdruce/leftovers, pauwdanny/indonesian_hoax_news_dataset, pauwdanny/indonesian_hoax_news_ori, sepidmnorozy/English_sentiment, sepidmnorozy/Finnish_sentiment, sepidmnorozy/German_sentiment, sepidmnorozy/Greek_sentiment, sepidmnorozy/Hebrew_sentiment, sepidmnorozy/Indonesian_sentiment, sepidmnorozy/Japanese_sentiment, sepidmnorozy/Korean_sentiment, sepidmnorozy/Maltese_sentiment, sepidmnorozy/Norwegian_sentiment, sepidmnorozy/Russian_sentiment, sepidmnorozy/Slovak_sentiment, sepidmnorozy/Spanish_sentiment, sepidmnorozy/Thai_sentiment, sepidmnorozy/Turkish_sentiment, EmnaBou/TD_dataset, copenlu/answerable_tydiqa, copenlu/tydiqa_copenlu, sepidmnorozy/Vietnamese_sentiment, sepidmnorozy/Algerian_sentiment, jakartaresearch/indo-movie-subtitle, AlexaAI/bold, Norod78/EmojiFFHQAlignedFaces, SalehAhmad/Spam-Ham, MLCommons/peoples_speech, m3/m3_edit_inputs, vblagoje/haystack-pipelines, biglam/us_national_archives_flickr, thientran/favs_bot, ring/test, rubrix/wildfire_tweets, cjvt/komet, cakiki/roots_tokens, research-backup/semeval2012_relational_similarity_v2, yhavinga/cnn_dailymail_dutch, cakiki/roots_tokens_full_matrix, spacemanidol/cc-stories, tner/ttc_dummy, StephennFernandes/ciil_mega_corpus_dogri, vector/structuretest, thientran/Favs_demo, sheikh/layoutlmv3, dhiaKh/berlingaD, autoevaluate/autoeval-eval-project-emotion-2fbf3953-1266148530, autoevaluate/autoeval-eval-project-emotion-7ecdf61d-1266348546, autoevaluate/autoeval-eval-project-emotion-d1b053b7-1266448547, LawalAfeez/science-dataset, jc42/segm, thebooort/spanish_golden_age_sonnets, copenlu/citeworth, autoevaluate/autoeval-eval-project-banking77-77f5d7e6-1267748583, copenlu/scientific-exaggeration-detection, Luka-Wang/COCO, autoevaluate/autoeval-eval-project-conll2003-d3bff323-1268448604, Splend1dchan/text-corpus-sampa2, ChristophSchuhmann/test, breadlicker45/yahoo_answers, ChristophSchuhmann/improved_aesthetics_4.5plus, acul3/KoPI-CC_News, MoritzLaurer/multilingual-NLI-26lang-2mil7, cakiki/lda_2000, davanstrien/testen, privacy-tech-lab/ppCityTrain, privacy-tech-lab/ppCityVal, allenai/real-toxicity-prompts, edinburghcstr/ami, allenai/multinews_sparse_oracle, hugginglearners/marriage-and-divorce-dataset, hugginglearners/nike-adidas-and-converse-imaged, hugginglearners/netflix-shows, tensorcat/wikipedia-japanese, hugginglearners/anime-quotes, hugginglearners/reddit-depression-cleaned, hugginglearners/amazon-all-categories-best-sellers-reviews, hugginglearners/russia-ukraine-conflict-articles, hugginglearners/amazon-reviews-sentiment-analysis, hugginglearners/twitter-dataset-tesla, asaxena1990/NSME-COM, lhoestq/nllb, cakiki/arxiv_taxonomy, sepidmnorozy/Urdu_sentiment, simana/textclassificationMNLI, DiptiM/OLID, sfurkan/Kanun-Yonetmelik-Tuzuk, SLPL/naab, SLPL/naab-raw, projecte-aina/WikiCAT_ca, narad/ravdess, winvoker/lvis, moro23/Hausa-ASR-flags, jonglees/test1_bb, alvations/stash, autoevaluate/autoeval-eval-project-jnlpba-3af3e90f-1276248800, autoevaluate/autoeval-eval-project-jnlpba-37dc127e-1276948841, autoevaluate/autoeval-eval-project-jnlpba-1d37a9e6-1277248842, bccnf/MeLiDC-shuffled-completo, allenai/multixscience_sparse_oracle, ASCCCCCCCC/bill, AllenGeng/NATEdataset, AllenGeng/ocamlgithub, shreyas-singh/autotrain-data-MedicalTokenClassification, PlanTL-GOB-ES/WikiCAT_en, pbwt/t1, IDEA-CCNL/PretrainCorpusDemo, vblagoje/haystack-pipelines-v2, brandenchan/haystack-pipelines-no-params, vayn3/pipli, autoevaluate/autoeval-eval-project-emotion-a34266d3-1280948985, autoevaluate/autoeval-staging-eval-project-ab91b8a3-a09c-4edf-887b-f855e1291d6c-7266, NX2411/mydataset-only-test, autoevaluate/autoeval-staging-eval-project-07c07057-797e-4d34-8fcb-023957860774-7467, autoevaluate/autoeval-staging-eval-project-6e415fa8-612b-4f91-8605-a10cd0c88147-7568, Adapting/Dialogue_Entity_Classification, vblagoje/haystack-pipelines-v3, autoevaluate/autoeval-staging-eval-project-dd7fa31c-e9a7-4d4e-81bc-102bff5d38c4-3721, autoevaluate/autoeval-staging-eval-project-f698e860-3773-46c5-b05b-ac6e9fd5ef15-3822, autoevaluate/autoeval-staging-eval-project-6258c8ab-61ff-4bb1-984c-d291ce97e844-3923, autoevaluate/autoeval-staging-eval-project-emotion-a028aeb5-13405851, autoevaluate/autoeval-staging-eval-project-samsum-ede55545-13415852, gotchab/Spa-Eng-Finetuning, nsarker/flower-detection, tartuNLP/finno-ugric-benchmark, Adapting/Knowledge-Driven-Dialogues, jakartaresearch/inglish, spacemanidol/esci-noising, spacemanidol/nq-noising, BigBang/galaxyzoo-decals, evaluate/imdb-ci, evaluate/squad-ci, evaluate/conll2003-ci, npc-engine/light-batch-summarize-dialogue, tartuNLP/EstCOPA, autoevaluate/autoeval-eval-project-squad-4b228794-1283349088, autoevaluate/autoeval-eval-project-squad-4b228794-1283349089, djaym7/wiki_dialog, SamuelYang/wikipedia_20200501.en, autoevaluate/autoeval-eval-project-acronym_identification-95bed98e-1284549221, autoevaluate/autoeval-eval-project-yhavinga__cnn_dailymail_dutch-88133136-1284849222, VanHoan/github-issues, fidsinn/future-statements, autoevaluate/autoeval-eval-project-ml6team__cnn_dailymail_nl-7b67cb71-1286049228, nishita/webnlg_tokens, abid/indonesia-bioner-dataset, gzinzi/miles, OlegKit/RND, SamuelYang/bookcorpus, ariesutiono/entailment-bank-v3, kumapo/stair_captions_dataset_script, jayantsingh72/github-issues-datasets, tyqiangz/multilingual-sentiments, ziwenyd/avatar-functions, bigscience/tokenizer-probing-ud2.10, ayberk/ayberksdatasett, nehalelkaref/classical_arabic_poetry, csebuetnlp/BanglaNMT, autoevaluate/autoeval-eval-project-acronym_identification-73247bc7-1291449451, fourteenBDr/toutiao, cakiki/bloom-tokenizer-langdetect, pootow/suo-xie-zhai-yao, notaphoenix/iesta_liberal_effective, yhavinga/xsum_dutch, clips/20Q, nishita/ade20k-sample, nishita/dataset, nishita/data, neuralspace/NSME-COM, Unso/mmarco-3000, merkalo-ziri/qa_main, ssharma2020/Plant-Seedlings-Dataset, harshitkaran/Hindi, masakhane/mafand, autoevaluate/autoeval-eval-project-jnlpba-c103d433-1295449602, harshitkaran/HindiTraining, victor/autotrain-data-image-classification-test-18, autoevaluate/autoeval-staging-eval-project-09cba8dc-757f-4f7a-8194-174e4439eb99-91, autoevaluate/autoeval-staging-eval-project-80c2643d-2334-4a14-9912-449e234f13a2-102, autoevaluate/conll2003-sample, autoevaluate/autoeval-staging-eval-project-66155224-f2a7-4c5e-94b3-a3683a04175e-2314, autoevaluate/wmt16-ro-en-sample, autoevaluate/autoeval-staging-eval-project-2dc683ab-6695-42ab-9eff-11dad91952e1-2415, autoevaluate/autoeval-staging-eval-project-8a305641-aedc-4d3a-9609-7f9f9c99c489-2616, autoevaluate/autoeval-staging-eval-project-0c5b3473-b8bd-4084-ad01-6ee894dddf29-2917, gigant/oldbookillustrations2, jamescalam/movielens-25m-ratings, pinecone/movielens-recent-ratings, makenoiz/my-test-dataset, gradio/transformers-stats-space-data, autoevaluate/autoeval-eval-project-emotion-19320cfe-1299349773, autoevaluate/autoeval-eval-project-emotion-19320cfe-1299349774, autoevaluate/autoeval-eval-project-emotion-19320cfe-1299349776, cat-state/laion2B-en, mrgiraffe/pages_large, keijohn/test, truongpdd/text_clf_fold_0, truongpdd/text_clf_fold_1, truongpdd/text_clf_fold_2, truongpdd/text_clf_fold_3, truongpdd/text_clf_fold_4, truongpdd/text_clf_fold_5, truongpdd/text_clf_fold_6, truongpdd/text_clf_fold_7, truongpdd/text_clf_fold_8, truongpdd/text_clf_fold_9, giulio98/nl_pl_stripedoc, Yomyom52/sb1, ebrigham/audio-addresses-nl, mehdidn/ner, UKPLab/TexPrax, amm/sv_corpora_parliament_processed, sil-ai/audio-keyword-spotting, and111/bert_pretrain_phase1, RCC-MSU/collection3, and111/bert_pretrain_phase2, autoevaluate/autoeval-eval-project-squad-3b1fb479-1302649847, autoevaluate/autoeval-eval-project-sepidmnorozy__Urdu_sentiment-559fc5f8-1302749848, 6weiyu/1, autoevaluate/autoeval-eval-project-squad_v2-7b0e814c-1303349869, autoevaluate/autoeval-eval-project-adversarial_qa-92a1abad-1303449870, autoevaluate/autoeval-eval-project-adversarial_qa-0243fffc-1303549871, autoevaluate/autoeval-eval-project-squad-1eddc82e-1303649872, rungalileo/demo_hf_integration, cakiki/abc, autoevaluate/autoeval-eval-project-squad_v2-4a3c5c8d-1305249893, autoevaluate/autoeval-eval-project-squad_v2-4a3c5c8d-1305249894, autoevaluate/autoeval-eval-project-adversarial_qa-7ab9b963-1305349895, autoevaluate/autoeval-eval-project-adversarial_qa-7ab9b963-1305349896, autoevaluate/autoeval-eval-project-quoref-bbfe943f-1305449897, autoevaluate/autoeval-eval-project-quoref-bbfe943f-1305449898, autoevaluate/autoeval-eval-project-squad_v2-1e2c143e-1305549899, autoevaluate/autoeval-eval-project-adversarial_qa-b21f20c3-1305649900, autoevaluate/autoeval-eval-project-quoref-9c01ff03-1305849901, datameasurements/adversarial_qa_adversarialQA_test_question, djaym7/wiki_dialog_mlm, farleyknight/roman_numerals, datameasurements/hate_speech18_default_train_text, Suyogyart/newa-corpus, Sidd2899/MyspeechASR, Lvxue/wmt16_en-ro, victorj42/hf_datasetv4.0, TeDriCS/tedrics-data, thepurpleowl/codequeries, Raccourci/ALL, hoangtnm/vlsp2020_asr_t1, simulate-explorer/Example, noob123/AppReviewTrain, noob123/AppReviewTest, savithri/layoutmv3, albertvillanova/tmp-10, Jaren/T5-dialogue-pretrain-data, TunesRX/Swe, Lvxue/wmt16_pseudo-labeling, Lvxue/wmt16, kdwm/weather-sentences, noob123/AppReviewDataSet, dyhsup/CPR, dyhsup/ChemProt_CPR, BigBang/rosetta_new, jonathanli/eurlex, mbarnig/Tatoeba-en-lb, SuperQ/showmethefeed, teven/code_docstring_corpus, SamuelYang/Share, Sunny5555/Earnings.Week, teven/code_contests, gondolas/test, autoevaluate/zero-shot-classification-sample, autoevaluate/autoeval-eval-project-squad-54745b0c-1311450106, autoevaluate/autoeval-eval-project-squad-54745b0c-1311450107, autoevaluate/autoeval-eval-project-squad-54745b0c-1311450108, autoevaluate/autoeval-eval-project-rotten_tomatoes-c34f0918-1313150144, Raspijabi/sdafsd, britneymuller/cnbc_newsfeed, teven/webnlg_2017_human_eval, privacy-tech-lab/cityUnlTrain, privacy-tech-lab/cityUnlVal, ZhangYuanhan/OmniBenchmark, hsuya/sidewalk-imagery, sberbank-ai/Peter, ZhiyuanQiu/RAW15_Train, hsuya/droneSample1, gishnum/worldpopulation_neo4j_graph_dump, mboth/klassifizierung_gewerke_fewshot, olimov/NewSegmentDS4, OxAISH-AL-LLM/wiki_toxic, wushan/vehicle_qa, jokerak/camvid, db88/Enhanced_ESRGAN, ZhiyuanQiu/RAW20_Train, kakaobrain/coyo-700m, teticio/audio-diffusion-256, spacemanidol/nq-query-noising, Maaly/bgc-gene, allenai/multixscience_sparse_mean, allenai/multixscience_sparse_max, angelolab/ark_example, iejMac/CLIP-WebVid, sasha/test-gradio-flagging, merkalo-ziri/qa_shreded, truongpdd/small_data_test_pretrained_model, justahandsomeboy/recipedia_1, autoevaluate/autoeval-eval-project-acronym_identification-53ffb3b3-1318750350, Zaid/tatoeba_mt, Bingsu/Gameplay_Images, autoevaluate/autoeval-eval-project-samsum-61336320-1319050351, jhk/opus-mt-tc-big-wiki-en-ko, nbtpj/bionlp2021MAS, Lo/clip-bert-data, Lo/adapt-pre-trained-VL-models-to-text-data-Wikipedia, iohadrubin/wikitext_neighbors_t5__bert-uncase, autoevaluate/autoeval-staging-eval-project-emotion-2d469b4f-13675887, autoevaluate/autoeval-staging-eval-project-emotion-ed9fef1a-13685888, autoevaluate/autoeval-staging-eval-project-emotion-a7ced70d-13715889, NareshIT/javatraining, autoevaluate/autoeval-staging-eval-project-emotion-1d3a2bc7-13735890, autoevaluate/autoeval-eval-project-LeoCordoba__CC-NEWS-ES-titles-0e1ed2c7-1320150402, autoevaluate/autoeval-eval-project-LeoCordoba__CC-NEWS-ES-titles-0e1ed2c7-1320150403, autoevaluate/autoeval-eval-project-LeoCordoba__CC-NEWS-ES-titles-0e1ed2c7-1320150404, RAYZ/Mixed-Dia, autoevaluate/autoeval-staging-eval-project-squad-b541c518-13705892, autoevaluate/autoeval-staging-eval-project-squad-30a8951e-13725893, autoevaluate/autoeval-staging-eval-project-squad-08ca88d1-13695891, autoevaluate/autoeval-staging-eval-project-conll2003-90a08c43-13745894, autoevaluate/autoeval-staging-eval-project-squad-884b60f3-13755895, Shagun5/sandhi, stevent9t/steven, autoevaluate/autoeval-staging-eval-project-emotion-878a1038-13765896, autoevaluate/autoeval-staging-eval-project-sasha__dog-food-8a6c4abe-13775897, autoevaluate/autoeval-staging-eval-project-sasha__dog-food-8a6c4abe-13775898, autoevaluate/autoeval-staging-eval-project-sasha__dog-food-8a6c4abe-13775899, autoevaluate/autoeval-staging-eval-project-sasha__dog-food-8a6c4abe-13775900, autoevaluate/autoeval-staging-eval-project-emotion-8f618256-13785901, autoevaluate/autoeval-staging-eval-project-emotion-8f618256-13785902, autoevaluate/autoeval-staging-eval-project-emotion-8f618256-13785903, autoevaluate/autoeval-staging-eval-project-emotion-04ae905d-13795904, asaxena1990/dummyset2, autoevaluate/autoeval-staging-eval-project-squad_v2-bddd30a5-13805905, iohadrubin/wikitext_neighbors_t5__bert-uncase_w_tensors, autoevaluate/autoeval-staging-eval-project-emotion-8089e803-13815906, autoevaluate/autoeval-staging-eval-project-glue-fa8727be-13825907, autoevaluate/autoeval-staging-eval-project-acronym_identification-ed6d73a2-13835908, mrgiraffe/pagesOcrStructsQA, karneyli/my_first_dataset, autoevaluate/autoeval-staging-eval-project-autoevaluate__zero-shot-classification-sample-c8bb9099-11, NimaBoscarino/test-gradio-flagging, BDas/ArabicNLPDataset, allenai/ms2_sparse_max, allenai/multinews_sparse_max, allenai/ms2_sparse_mean, allenai/ms2_sparse_oracle, allenai/multinews_sparse_mean, yusufani/trclip-vitl14-e10-trcap-image-embeddings, yuntian-deng/im2latex-100k, autoevaluate/autoeval-staging-eval-project-autoevaluate__zero-shot-classification-sample-18ef74e8-21, ij5/vrm, GabrielDGC/tesis, BDas/EnglishNLPDataset, autoevaluate/autoeval-staging-eval-project-squad-d38f255e-13865909, silviacamplani/CrossNER_music_dataset_labeled, silviacamplani/CrossNER_music_dataset_unlabeled, sazibc/flowers, priyank-m/SROIE_2019_text_recognition, jamescalam/unsplash-25k-photos, teticio/audio-diffusion-breaks-256, jamescalam/unsplash-25k-images, chaoyan/processed_bert_dataset, saeedmaroof/fr_corpora_parliament_processed, davidlowjw/stable-diffusion-flagging, QuoQA-NLP/KoCC12M, AnnasBlackHat/bib-weight, autoevaluate/autoeval-staging-eval-project-squad_v2-c78baf7d-13885910, autoevaluate/autoeval-staging-eval-project-squad-4690f1f9-13895911, nickmuchi/netflix-shows-mpnet-embeddings, kokhayas/english-debate-motions-utds, unpredictable/unpredictable_full, unpredictable/unpredictable_5k, unpredictable/unpredictable_support-google-com, unpredictable/unpredictable_unique, autoevaluate/autoeval-staging-eval-project-acronym_identification-b7693c49-13905912, abdulmatinomotoso/github-issues, fffhyyhh666/fffhyyhh666DaftPunk-128, williamlee/test2, ComG/aa, truongpdd/vslp_2020_ReIntel, RAYZ/Mixed-Dia-Processed, truongpdd/NER-covid-vietnamese, truongpdd/NER-covid-vietnamese-syllable, truongpdd/NER-covid-vietnamese-word, Lo/adapt-pre-trained-VL-models-to-text-data-Wikipedia-finetune, Lo/adapt-pre-trained-VL-models-to-text-data-LXMERT, Lo/adapt-pre-trained-VL-models-to-text-data-LXMERT-finetune, ashwinperti/yelpnew, autoevaluate/autoeval-staging-eval-project-glue-f7900ebf-13965913, autoevaluate/autoeval-staging-eval-project-glue-e9a4b61a-13985914, autoevaluate/autoeval-staging-eval-project-glue-4805e982-13995915, autoevaluate/autoeval-staging-eval-project-autoevaluate__squad-sample-11b52eb1-14005916, autoevaluate/autoeval-staging-eval-project-glue-f16e6c43-14015917, autoevaluate/autoeval-staging-eval-project-emotion-af6a16fe-14025918, BasStein/250000-randomfunctions-2d, transfer-test-target/test-dataset, autoevaluate/autoeval-staging-eval-project-samsum-afdf25d0-14035919, autoevaluate/autoeval-staging-eval-project-samsum-afdf25d0-14035920, autoevaluate/autoeval-staging-eval-project-samsum-afdf25d0-14035921, autoevaluate/autoeval-staging-eval-project-squad_v2-82949658-14045922, autoevaluate/autoeval-staging-eval-project-squad_v2-82949658-14045923, autoevaluate/autoeval-staging-eval-project-wmt16-a5e2262a-14055924, autoevaluate/autoeval-staging-eval-project-wmt16-a5e2262a-14055927, autoevaluate/autoeval-staging-eval-project-glue-c88eb4d4-14065928, autoevaluate/autoeval-staging-eval-project-wmt16-a5e2262a-14055926, autoevaluate/autoeval-staging-eval-project-wmt16-a5e2262a-14055925, autoevaluate/autoeval-staging-eval-project-glue-ca80bfc9-14105932, autoevaluate/autoeval-staging-eval-project-glue-91d4fe29-14115933, autoevaluate/autoeval-staging-eval-project-glue-f56b6c46-14085930, autoevaluate/autoeval-staging-eval-project-glue-f1585abe-14095931, autoevaluate/autoeval-staging-eval-project-glue-f6cacc01-14075929, autoevaluate/autoeval-staging-eval-project-glue-cf152f5e-14135934, autoevaluate/autoeval-staging-eval-project-glue-67467c9c-14145936, autoevaluate/autoeval-staging-eval-project-glue-67467c9c-14145935, autoevaluate/autoeval-staging-eval-ag_news-default-684001-14155937, autoevaluate/autoeval-staging-eval-ag_news-default-684001-14155938, autoevaluate/autoeval-staging-eval-ag_news-default-684001-14155939, yusufani/TrCaption-trclip-vitl14-e10, autoevaluate/autoeval-staging-eval-glue-wnli-671be8-14185940, autoevaluate/autoeval-staging-eval-glue-wnli-671be8-14185941, autoevaluate/autoeval-staging-eval-glue-wnli-671be8-14185942, autoevaluate/autoeval-staging-eval-boolq-default-049b58-14205948, autoevaluate/autoeval-staging-eval-boolq-default-049b58-14205949, autoevaluate/autoeval-staging-eval-boolq-default-049b58-14205950, spacemanidol/wikipedia-nq-augmented, fffhyyhh666/Mouth-64, hf-internal-testing/diffusers-images, jugonan202/deteccion_emociones, jugonan202/deteccion_emociones_tuned, autoevaluate/autoeval-staging-eval-emotion-default-63bd40-14245951, acul3/KoPI, pcuenq/stable-diffusion-flagging, jonaskoenig/future_time_references, sasha/stable-diffusion-flagging-private, mschi/blogspot_raw, iohadrubin/wikitext_neighbors_tokenized, akida/smile, autoevaluate/autoeval-staging-eval-anli-plain_text-c507f2-14355972, autoevaluate/autoeval-staging-eval-anli-plain_text-1f482c-14395973, autoevaluate/autoeval-staging-eval-anli-plain_text-dfb10f-14405974, autoevaluate/autoeval-staging-eval-multi_nli-default-68c6a6-14415975, autoevaluate/autoeval-staging-eval-multi_nli-default-4a02ee-14425976, kevin0515/kevDemo, autoevaluate/autoeval-staging-eval-glue-mrpc-4a87ed-14445977, autoevaluate/autoeval-staging-eval-glue-mrpc-71a11b-14455978, Bingsu/national_library_of_korea_book_info, mesolitica/dbp, Norod78/LaishaMagazineCovers, alexandrainst/scandi-qa, pokameswaran/ami-6h, roskoN/stereoset_german, Shushant/nepali_review_mini, jugonan202/pos_and_neg, autoevaluate/autoeval-staging-eval-acronym_identification-default-f1ddf5-14545979, demo-org/diabetes, autoevaluate/autoeval-staging-eval-cnn_dailymail-3.0.0-60dedc-14575980, autoevaluate/autoeval-staging-eval-billsum-default-dd3eba-14585981, autoevaluate/autoeval-staging-eval-big_patent-all-8dcf4c-14595982, autoevaluate/autoeval-staging-eval-big_patent-all-f74f64-14605983, autoevaluate/autoeval-staging-eval-billsum-default-3fec5f-14625986, autoevaluate/autoeval-staging-eval-billsum-default-3fec5f-14625985, autoevaluate/autoeval-staging-eval-xsum-default-6f5db0-14615984, autoevaluate/autoeval-staging-eval-cnn_dailymail-3.0.0-616d38-14635989, autoevaluate/autoeval-staging-eval-billsum-default-3fec5f-14625987, autoevaluate/autoeval-staging-eval-cnn_dailymail-3.0.0-616d38-14635988, autoevaluate/autoeval-staging-eval-cnn_dailymail-3.0.0-616d38-14635990, autoevaluate/autoeval-staging-eval-samsum-samsum-f593d1-14645991, autoevaluate/autoeval-staging-eval-samsum-samsum-f593d1-14645992, kgrewal/airline-intents, pixta-ai/Plane-images-in-multiple-scenes, iohadrubin/wikitext_retro_all, autoevaluate/autoeval-staging-eval-squad-plain_text-d52fee-14655993, savithri/savlayoutmv3, autoevaluate/autoeval-staging-eval-glue-mrpc-e15d1b-14665996, autoevaluate/autoeval-staging-eval-glue-mrpc-e15d1b-14665994, autoevaluate/autoeval-staging-eval-glue-mrpc-e15d1b-14665998, autoevaluate/autoeval-staging-eval-glue-mrpc-e15d1b-14665997, autoevaluate/autoeval-staging-eval-glue-mrpc-e15d1b-14665999, autoevaluate/autoeval-staging-eval-glue-mrpc-e15d1b-14666000, autoevaluate/autoeval-staging-eval-glue-mrpc-e15d1b-14665995, autoevaluate/autoeval-staging-eval-glue-mrpc-e15d1b-14666002, autoevaluate/autoeval-staging-eval-glue-mrpc-e15d1b-14666001, autoevaluate/autoeval-staging-eval-glue-qqp-c973af-14676003, autoevaluate/autoeval-staging-eval-glue-qqp-c973af-14676005, autoevaluate/autoeval-staging-eval-glue-qqp-c973af-14676004, autoevaluate/autoeval-staging-eval-glue-qqp-c973af-14676006, autoevaluate/autoeval-staging-eval-glue-qqp-c973af-14676007, autoevaluate/autoeval-staging-eval-glue-qqp-c973af-14676008, autoevaluate/autoeval-staging-eval-glue-qqp-c973af-14676009, autoevaluate/autoeval-staging-eval-glue-qqp-c973af-14676010, autoevaluate/autoeval-staging-eval-glue-qqp-c973af-14676011, autoevaluate/autoeval-staging-eval-glue-mnli-026a6e-14686012, autoevaluate/autoeval-staging-eval-glue-mnli-026a6e-14686013, autoevaluate/autoeval-staging-eval-glue-mnli-026a6e-14686015, autoevaluate/autoeval-staging-eval-glue-mnli-026a6e-14686014, autoevaluate/autoeval-staging-eval-glue-mnli-026a6e-14686017, iohadrubin/wikitext_retro_eval, autoevaluate/autoeval-staging-eval-glue-mnli-026a6e-14686019, autoevaluate/autoeval-staging-eval-glue-mnli-026a6e-14686020, autoevaluate/autoeval-staging-eval-glue-mnli-026a6e-14686016, autoevaluate/autoeval-staging-eval-glue-mnli-026a6e-14686018, autoevaluate/autoeval-staging-eval-glue-qnli-1747ab-14696022, autoevaluate/autoeval-staging-eval-glue-qnli-1747ab-14696024, autoevaluate/autoeval-staging-eval-glue-qnli-1747ab-14696025, autoevaluate/autoeval-staging-eval-glue-qnli-1747ab-14696026, autoevaluate/autoeval-staging-eval-glue-qnli-1747ab-14696027, autoevaluate/autoeval-staging-eval-glue-mnli-026a6e-14686021, autoevaluate/autoeval-staging-eval-glue-qnli-1747ab-14696028, autoevaluate/autoeval-staging-eval-glue-qnli-1747ab-14696023, autoevaluate/autoeval-staging-eval-glue-qnli-1747ab-14696029, autoevaluate/autoeval-staging-eval-glue-rte-0dc038-14706032, autoevaluate/autoeval-staging-eval-glue-rte-0dc038-14706034, autoevaluate/autoeval-staging-eval-glue-rte-0dc038-14706035, autoevaluate/autoeval-staging-eval-glue-rte-0dc038-14706033, autoevaluate/autoeval-staging-eval-project-a741994f-efcd-40c8-8652-be4f42ba26cd-31, autoevaluate/autoeval-staging-eval-glue-qnli-1747ab-14696030, autoevaluate/autoeval-staging-eval-glue-rte-0dc038-14706031, autoevaluate/autoeval-staging-eval-glue-rte-0dc038-14706036, autoevaluate/autoeval-staging-eval-glue-rte-0dc038-14706038, autoevaluate/autoeval-staging-eval-glue-wnli-792eb8-14716039, autoevaluate/autoeval-staging-eval-glue-wnli-792eb8-14716041, autoevaluate/autoeval-staging-eval-glue-wnli-792eb8-14716040, autoevaluate/autoeval-staging-eval-glue-wnli-792eb8-14716044, autoevaluate/autoeval-staging-eval-glue-rte-0dc038-14706037, autoevaluate/autoeval-staging-eval-glue-wnli-792eb8-14716045, autoevaluate/autoeval-staging-eval-glue-wnli-792eb8-14716042, autoevaluate/autoeval-staging-eval-glue-wnli-792eb8-14716043, autoevaluate/autoeval-staging-eval-glue-wnli-792eb8-14716047, autoevaluate/autoeval-staging-eval-glue-wnli-792eb8-14716048, autoevaluate/autoeval-staging-eval-glue-wnli-792eb8-14716046, mh53/asr_calls_1, lucifertrj/AnimeQuotes, cakiki/ORCAS, autoevaluate/autoeval-staging-eval-glue-cola-72ef90-14766059, autoevaluate/autoeval-staging-eval-glue-cola-b18575-14776060, Norod78/Vintage-Faces-FFHQAligned, mesolitica/stemming, khalidalt/SANAD, autoevaluate/autoeval-staging-eval-glue-cola-34569e-14786061, autoevaluate/autoeval-staging-eval-glue-cola-ad1c7e-14826062, autoevaluate/autoeval-staging-eval-glue-sst2-0dabc1-14846063, autoevaluate/autoeval-staging-eval-glue-cola-dd7d16-14896064, nurielw/indata1, Ramamurthi/yelp_reviews_encoded_hidden_outputs, autoevaluate/autoeval-staging-eval-squad_v2-squad_v2-76c05b-14906065, autoevaluate/autoeval-staging-eval-squad_v2-squad_v2-76c05b-14906066, autoevaluate/autoeval-staging-eval-squad_v2-squad_v2-76c05b-14906067, autoevaluate/autoeval-staging-eval-squad_v2-squad_v2-76c05b-14906068, autoevaluate/autoeval-staging-eval-squad_v2-squad_v2-76c05b-14906069, autoevaluate/autoeval-staging-eval-squad_v2-squad_v2-76c05b-14906070, autoevaluate/autoeval-staging-eval-squad_v2-squad_v2-76c05b-14906071, autoevaluate/autoeval-staging-eval-squad_v2-squad_v2-76c05b-14906072, autoevaluate/autoeval-staging-eval-squad_v2-squad_v2-38b250-14916074, autoevaluate/autoeval-staging-eval-squad_v2-squad_v2-76c05b-14906073, autoevaluate/autoeval-staging-eval-squad_v2-squad_v2-38b250-14916077, autoevaluate/autoeval-staging-eval-squad_v2-squad_v2-38b250-14916076, autoevaluate/autoeval-staging-eval-squad_v2-squad_v2-38b250-14916078, autoevaluate/autoeval-staging-eval-squad_v2-squad_v2-38b250-14916080, autoevaluate/autoeval-staging-eval-squad_v2-squad_v2-38b250-14916075, autoevaluate/autoeval-staging-eval-squad_v2-squad_v2-38b250-14916079, autoevaluate/autoeval-staging-eval-squad_v2-squad_v2-38b250-14916081, autoevaluate/autoeval-staging-eval-squad_v2-squad_v2-38b250-14916082, autoevaluate/autoeval-staging-eval-glue-cola-4f07eb-14926083, evaluate/glue-ci, EricPeter/comments, autoevaluate/autoeval-staging-eval-squad_v2-squad_v2-c9381c-14936084, fourteenBDr/playground, autoevaluate/autoeval-staging-eval-squad_v2-squad_v2-c9381c-14936085, autoevaluate/autoeval-staging-eval-cnn_dailymail-3.0.0-d7ce16-14946086, Chr0my/Epidemic_sounds, deu05232/msmarco_passage_corpus, carlosejimenez/mscoco_train_2014_openai_clip-vit-base-patch32, autoevaluate/autoeval-staging-eval-glue-cola-7f4192-14956087, ElKulako/cryptobert-posttrain, Jaren/Chinese-NLI-data, Yova/barcode-data, Exterus/Language, Ramamurthi/yelp_reviews_encoded_hidden_outputs_truncated, mteb/results, climatebert/environmental_claims, cardiffnlp/tweet_topic_multi, autoevaluate/autoeval-staging-eval-glue-cola-563e8e-14986088, autoevaluate/autoeval-staging-eval-emotion-default-139135-14996089, autoevaluate/autoeval-staging-eval-emotion-default-139135-14996090, autoevaluate/autoeval-staging-eval-emotion-default-139135-14996091, carlosejimenez/mscoco_2014_train_captions_openai_clip-vit-base-patch32, BAJIRAO/spam_data, zeroshot/twitter-financial-news-sentiment, carlosejimenez/mscoco_train_2014_openai_clip-vit-base-patch32_self_retrieval, carlosejimenez/mscoco_2014_captions_princeton-nlp_sup-simcse-roberta-large, carlosejimenez/mscoco_train_2014_openai_clip-vit-base-patch32_image_caption_retrieval_pairs, Anonymous1234/RNNDecomposition, Lubub/locutorxxinews, Lubub/testexxi, cardiffnlp/tweet_topic_single, xianbao/test, Chr0my/Epidemic_music, tobiaslee/FiCLS, carlosejimenez/mscoco_train_2014_openai_clip-vit-base-patch32_image_caption_retrieval_pairs_2022-09-01, nid989/EssayFroum-Dataset, simulate-explorer/public-test, tamamokitune/test, autoevaluate/autoeval-staging-eval-xsum-default-21f5cd-15036097, ArtInSat/fr_corpora_parliament_processed, BasStein/250000-randomfunctions-5d, speech-seq2seq/ami, BasStein/250000-randomfunctions-10d, graphs-datasets/AIDS, graphs-datasets/alchemy, graphs-datasets/MD17-aspirin, graphs-datasets/MD17-benzene, graphs-datasets/MD17-ethanol, graphs-datasets/MD17-malonaldehyde, clips/VaccinChatNL, graphs-datasets/MD17-naphthalene, graphs-datasets/MD17-salicylic_acid, graphs-datasets/MD17-toluene, graphs-datasets/MD17-uracil, openclimatefix/era5-reanalysis, patrickfrank1/chess-pgn-games, open-source-metrics/transformers-package-dependents, open-source-metrics/transformers-dependents, kordless/steve, lewtun/music_classification, Hemaxi/3DU-Vec, julien-c/autotrain-data-dog-classifiers, mrm8488/tass-2019, VSPuzzler/SemevalClickbaitSpolingTextClassification, jamescalam/unsplash-image-text, opus/liv4ever, wonscha/sv_corpora_parliament_processed, mrm8488/sst2-es-mt, mrm8488/go_emotions-es-mt, autoevaluate/autoeval-staging-eval-cnn_dailymail-3.0.0-334ecb-15396133, autoevaluate/autoeval-staging-eval-billsum-default-6d3727-15406134, Usamaejaz0/monday-model-updated-v2, sagawa/ord-uniq-canonicalized, sagawa/pubchem-10m-canonicalized, sagawa/ZINC-canonicalized, autoevaluate/autoeval-staging-eval-glue-cola-c52ade-15416135, PabloRR10/asr-dataset, autoevaluate/autoeval-staging-eval-glue-cola-42256f-15426136, mfumanelli/movies-small, elhawashib/demobc, ndrnks/indy, AmolSatsangi/abstractsummarizer, Kirili4ik/yandex_jobs, cryptexcode/MPST, mschellen/firstdata, marcus2000/twowaydata, fusing/wikiart_captions, Ofim2012/teste, indonesian-nlp/librivox-indonesia, autoevaluate/autoeval-staging-eval-cnn_dailymail-3.0.0-76e071-15436137, autoevaluate/autoeval-staging-eval-cnn_dailymail-3.0.0-fd18e2-15446138, autoevaluate/autoeval-staging-eval-cnn_dailymail-3.0.0-8aef96-15456139, autoevaluate/autoeval-staging-eval-cnn_dailymail-3.0.0-25032a-15466140, autoevaluate/autoeval-staging-eval-samsum-samsum-096051-15476141, ganchengguang/resume-5label-classification, autoevaluate/autoeval-staging-eval-xsum-default-a80438-15496142, autoevaluate/autoeval-staging-eval-cnn_dailymail-3.0.0-01441a-15506143, Colby/quotes, namban/ledgar_training, Laasya/civis-consultation-summaries, jamescalam/image-text-demo, cahya/test01, SamAct/medium_cleaned, Luciano/lener_br_text_to_lm, gaurikapse/civis-consultation-summaries, orhanxakarsu/turkishReviews-ds-mini, omervered0708/github-issues, haritzpuerto/MetaQA_Datasets, haritzpuerto/MetaQA_Agents_Predictions, autoevaluate/autoeval-staging-eval-samsum-samsum-0e4017-15526144, autoevaluate/autoeval-staging-eval-samsum-samsum-a4ff98-15536145, acul3/KoPI-NLLB, Pratha1m/euroSAT-convnext, autoevaluate/autoeval-staging-eval-samsum-samsum-70f55d-15546146, autoevaluate/autoeval-staging-eval-samsum-samsum-85416c-15556147, gaurikapse/civis-consultations-transposed-data, autoevaluate/autoeval-staging-eval-acronym_identification-default-c204c8-15566148, namban/ledgar, gandinaalikekeede/ledgar_cleaner, autoevaluate/autoeval-staging-eval-hate_speech18-default-6f1dd0-15576149, autoevaluate/autoeval-staging-eval-squad_v2-squad_v2-00af64-15586150, autoevaluate/autoeval-staging-eval-samsum-samsum-175281-15596151, autoevaluate/autoeval-staging-eval-samsum-samsum-41c5cd-15606152, autoevaluate/autoeval-staging-eval-samsum-samsum-cc5bdf-15616153, autoevaluate/autoeval-staging-eval-lener_br-lener_br-f0f34b-15626154, Osaleh/ArSAS, autoevaluate/autoeval-staging-eval-samsum-samsum-e82d51-15636155, Osaleh/ArSASL, mboth/klassifizierung_waermeVersorgen, victor/synthetic-donuts, victor/autotrain-data-satellite-image-classification, openclimatefix/eumetsat-rss, SetFit/ade_corpus_v2_classification, mboth/klassifizierung_waermeVersorgenOhneUebertragen, Osaleh/NE_ArSAS, mteb/mteb-example-submission, asaxena1990/datasetpreview, Sidd2899/github-issues, asaxena1990/datasetpreviewcsv, SetFit/tweet_eval_stance_abortion, g8a9/europarl_en-it, ziwenyd/leetcode-standalone, batterydata/battery-device-data-qa, open-source-metrics/diffusers-dependents, open-source-metrics/accelerate-dependents, open-source-metrics/evaluate-dependents, open-source-metrics/optimum-dependents, open-source-metrics/tokenizers-dependents, open-source-metrics/datasets-dependents, batterydata/pos_tagging, batterydata/abbreviation_detection, batterydata/cner, Mijavier/donut_custom_dataset, autoevaluate/autoeval-staging-eval-acronym_identification-default-137db2-15776175, daspartho/anime-or-not, Mijavier/4classes_custom_dataset_donut, timalsina/multilingual-concatenated-indic-ner, timalsina/multilingual-concatenated-indic-xlsum, poojaruhal/Code-comment-classification, autoevaluate/autoeval-staging-eval-big_patent-y-7d0862-15806176, autoevaluate/autoeval-staging-eval-big_patent-y-7d0862-15806177, autoevaluate/autoeval-staging-eval-big_patent-y-7d0862-15806178, bigbio/biosses, Mijavier/4_classes_custom_dataset_donut, autoevaluate/autoeval-staging-eval-samsum-samsum-fbc19a-15816179, truongpdd/new_categorical_dataset, schnell/kuci, UKPLab/UKP_ASPECT, nielsr/example-pdf, Gretel/deep_space_9_dataset, avacaondata/qaesiic_raro, autoevaluate/autoeval-staging-eval-cnn_dailymail-3.0.0-0b05dc-15886185, eraldoluis/faquad, schibsted/recsys-slates-dataset, shutan/fan_mlm, jaimin/paraphrase, Mijavier/3_classes_custom_dataset_donut, rahulmallah/autotrain-data-emotion-detection, autoevaluate/autoeval-staging-eval-glue-cola-31fb74-15916186, gorkaartola/ZS-train_SDG_Descriptions_S1-sentence_S2-SDGtitle_Negative_Sample_Filter-Only_Title_and_Headline, tartuNLP/finno-ugric-train, davanstrien/lf_test_upload, AlejandroSoumah/fondo-ojo, AlejandroSoumah/fondo-ojo2, Riilax/Dali-2, autoevaluate/autoeval-staging-eval-conll2003-conll2003-0054c2-15936187, affahrizain/jigsaw-toxic-comment, autoevaluate/autoeval-staging-eval-samsum-samsum-8f8e46-15946188, priyank-m/chinese_text_recognition, CShorten/1000-CORD19-Papers-Text, autoevaluate/autoeval-staging-eval-cnn_dailymail-3.0.0-ae0f2b-15956189, autoevaluate/autoeval-staging-eval-cnn_dailymail-3.0.0-fcbcd1-15976191, autoevaluate/autoeval-staging-eval-cnn_dailymail-3.0.0-5863f2-15966190, Nbardy/Wave-invert, KAKAKA0589/base, neuralspace/citizen_nlu, neuralspace/autotrain-data-citizen_nlu_bn, asaxena1990/citizen_nlu, Kesav/cannon, autoevaluate/autoeval-staging-eval-conll2003-conll2003-e22514-15996201, Nbardy/Fractal-photos, Leli1024/Race-processed, cjvt/solar3, Mijavier/11_classes_custom_dataset_donut, shankarparimi/captcha, julius-br/GARFAB, jamescalam/reddit-demo, priyank-m/IAM_words_text_recognition, open-source-metrics/test, helliun/mePics, simecek/Arabidopsis_thaliana_DNA_v0_tokenized_kmer6_stride1, Outside/prova, abcefgdfdsf/stablediff, spacemanidol/wikipedia-trivia-augmented, ppsingh/annotation_data, spacemanidol/msmarco-passage-augmented, spacemanidol/ESCI-product-search-us-augmented, nagyigergo/gyurcsany, Beryert/ai, zeroshot/twitter-financial-news-topic, Mijavier/10_classes_custom_dataset_donut_old, Davanagari/stable_diffusion, jonathanli/law-stack-exchange, Blueo/images, nateraw/us-accidents, dojo/jon_test, kasumi222/busigt10, kasumi222/busigt5, Mijavier/10_classes_custom_dataset_donut, nupurkmr9/tortoise, nbroad/basic_text_dataset, SetFit/onestop_english, davanstrien/encyclopedia_britannica, sberbank-ai/school_notebooks_EN, Anastasia1812/bunny, oserikov/test-dataset, sberbank-ai/school_notebooks_RU, autoevaluate/autoeval-staging-eval-emotion-default-39ecfd-16096202, autoevaluate/autoeval-staging-eval-emotion-default-39ecfd-16096203, autoevaluate/autoeval-staging-eval-emotion-default-39ecfd-16096204, autoevaluate/autoeval-staging-eval-emotion-default-39ecfd-16096205, autoevaluate/autoeval-staging-eval-emotion-default-6d5da3-16106206, autoevaluate/autoeval-staging-eval-emotion-default-6d5da3-16106207, autoevaluate/autoeval-staging-eval-emotion-default-6d5da3-16106208, jmacs/jmacsface, orhanxakarsu/turkishPoe-ds-mini, generalization/sst2_Full-p_05, generalization/sst2_Sampled-p_05, Mandi/CourtSegmentation, generalization/square_Full-p_05, generalization/square_Sampled-p_05, generalization/conv_intent_Full-p_05, generalization/conv_intent_Sampled-p_05, generalization/trec6_Full-p_05, generalization/trec6_Sampled-p_05, orhanxakarsu/turkishPoe-ds-mini1, orhanxakarsu/turkishPoe-ds-mini2, merve/supersoaker-failures, ziwenyd/leetcode-standalone-words, readerbench/ro-postal-addresses, Aitrepreneur/testing, MayaGalvez/multilingual_xnli, generalization/newsgroups_Full-p_05, generalization/newsgroups_Sampled-p_05, generalization/banking_intent_Full-p_05, generalization/banking_intent_Sampled-p_05, generalization/conv_intent_Full-p_1, generalization/conv_intent_Sampled-p_1, generalization/square_Full-p_1, generalization/square_Sampled-p_1, generalization/banking_intent_Full-p_1, generalization/banking_intent_Sampled-p_1, SocialGrep/the-reddit-climate-change-dataset, NikaA/testd, fret423/stylez, nateraw/airbnb-stock-price-new-new, generalization/newsgroups_Full-p_1, generalization/newsgroups_Sampled-p_1, generalization/sst2_Full-p_1, generalization/sst2_Sampled-p_1, nateraw/airbnb-stock-price-new-new-new, nateraw/espeni-3, Anastasia1812/bunnies, nateraw/avocado-prices, nateraw/midjourney-texttoimage, pysentimiento/spanish-tweets, simecek/Worm_DNA_v0_tokenized_kmer6_stride1, nateraw/midjourney-texttoimage-new, simecek/Fruitfly_DNA_v0_tokenized_kmer6_stride1, nateraw/prescriptionbasedprediction, nateraw/world-happiness, simecek/Zebrafish_DNA_v0_tokenized_kmer6_stride1, truongpdd/Covid19-NER-Vietnamese, Chuckbets47/CarmE, bartman081523/stable-diffusion-discord-prompts, generalization/trec6_Full-p_1, generalization/trec6_Sampled-p_1, autoevaluate/autoeval-staging-eval-launch__gov_report-plain_text-cd8e90-16116209, autoevaluate/autoeval-staging-eval-launch__gov_report-plain_text-cd8e90-16116210, autoevaluate/autoeval-staging-eval-launch__gov_report-plain_text-cd8e90-16116211, autoevaluate/autoeval-staging-eval-launch__gov_report-plain_text-cd8e90-16116212, autoevaluate/autoeval-staging-eval-launch__gov_report-plain_text-cd8e90-16116213, autoevaluate/autoeval-staging-eval-launch__gov_report-plain_text-cd8e90-16116214, autoevaluate/autoeval-staging-eval-launch__gov_report-plain_text-cd8e90-16116215, autoevaluate/autoeval-staging-eval-launch__gov_report-plain_text-cd8e90-16116216, autoevaluate/autoeval-staging-eval-launch__gov_report-plain_text-cd8e90-16116217, generalization/test, generalization/test_issue, truongpdd/vietnews-dataset, autoevaluate/autoeval-staging-eval-launch__gov_report-plain_text-7b7f8a-16126218, autoevaluate/autoeval-staging-eval-launch__gov_report-plain_text-7b7f8a-16126219, autoevaluate/autoeval-staging-eval-launch__gov_report-plain_text-7b7f8a-16126220, autoevaluate/autoeval-staging-eval-launch__gov_report-plain_text-7b7f8a-16126221, autoevaluate/autoeval-staging-eval-launch__gov_report-plain_text-7b7f8a-16126222, generalization/testing, nateraw/100-richest-people-in-world, truongpdd/Covid19-NER-Vietnamese-word, oserikov/test_datasets, autoevaluate/autoeval-staging-eval-launch__gov_report-plain_text-2fa37c-16136223, autoevaluate/autoeval-staging-eval-launch__gov_report-plain_text-2fa37c-16136224, autoevaluate/autoeval-staging-eval-launch__gov_report-plain_text-2fa37c-16136225, autoevaluate/autoeval-staging-eval-launch__gov_report-plain_text-2fa37c-16136226, autoevaluate/autoeval-staging-eval-launch__gov_report-plain_text-2fa37c-16136227, autoevaluate/autoeval-staging-eval-launch__gov_report-plain_text-2fa37c-16136228, autoevaluate/autoeval-staging-eval-launch__gov_report-plain_text-2fa37c-16136229, autoevaluate/autoeval-staging-eval-launch__gov_report-plain_text-2fa37c-16136230, autoevaluate/autoeval-staging-eval-launch__gov_report-plain_text-1abd3a-16146231, darnels30/skeld, autoevaluate/autoeval-staging-eval-launch__gov_report-plain_text-1abd3a-16146232, autoevaluate/autoeval-staging-eval-launch__gov_report-plain_text-1abd3a-16146233, oserikov/asr-train, autoevaluate/autoeval-staging-eval-launch__gov_report-plain_text-1abd3a-16146234, autoevaluate/autoeval-staging-eval-launch__gov_report-plain_text-1abd3a-16146235, bigscience/xP3megds, oserikov/asr-test-2, cnrcastroli/adasd, McClain/Cnn-Article-QA, 000hen/captchaCode, orhanxakarsu/turkishPoe-generation, CShorten/CORD19-Chunk-1, autoevaluate/autoeval-staging-eval-glue-cola-3174a8-16156236, aumnikov/my-test-dataset, dkim110/my-test-dataset, lisaz/my-test-dataset, shujackson/my-test-dataset, cholling/my-test-dataset, jmoy2309/my-test-dataset, venetis/my-test-dataset, dabuliuqiu/my-test-dataset, celinehhwang/my-test-dataset, zunyanxiong/my-test-dataset, jquinley/my-test-dataset, shahadalkhalifa/Crypto_Whitepaper_Labeled, venetis/amazon-shoe-reviews, cholling/amazon-shoe-reviews, shujackson/amazon-shoe-reviews, dabuliuqiu/amazon-shoe-reviews, jquinley/amazon-shoe-reviews, chandbla/amazon-shoe-reviews, celinehhwang/amazon-shoe-reviews, aumnikov/amazon-shoe-reviews, lxtsweet/my-test-dataset, Christinair/my-test-dataset, osanseviero/covid_news, CShorten/CORD19-Chunk-2, moonlit78/MoebStyle, cahya/librivox-indonesia, Christinair/amazon-shoe-reviews, CShorten/CORD19-init-160k, autoevaluate/autoeval-staging-eval-autoevaluate__zero-shot-classification-sample-autoevalu-a8cade-61, ju-resplande/rebel-pt, monkseal555/autotrain-data-hurricane, julien-c/label-studio-my-dogs, autoevaluate/autoeval-staging-eval-autoevaluate__zero-shot-classification-sample-autoevalu-40d85c-155, orhanxakarsu/turkishPoe-generation-1, gacosta/contractbr-bert-base-portuguese, victor/autotrain-data-donut-vs-croissant, CCP6/davematthews, CCP6/carlson, rajistics/sroie, rajistics/sroie_processed, StankyDanko/testing-kp, carlosejimenez/cc12m_openai-clip-vit-patch32, Altarbeast/opart, ankitkupadhyay/mnli_hindi, StankyDanko/testing-kp2, GantaGoodsAI/Test, davanstrien/encyclopedia_britannica_loaded, prakhars/instagram_captions, simecek/human_nontata_promoters, Kirallas/enina, ywchoi/mdpi_sept10, orhanxakarsu/turkish-poem-generation, cannlytics/cannabis_tests, carlosejimenez/cc12m_openai-clip-vit-patch32_image_retrieval_top4_start1000000_end3000000_DEBUG, Testingthisai/testdataset, CCP6/green, opentargets/clinical_trial_reason_to_stop, ashraq/WikiTitles-500K, jags/floral, ptr6695/images, Shurius/Public_TRAIN, Nesboen/Style-Marc-Allante, hkadxqq/spooky-author-identification, ankitkupadhyay/xnli_hindi, paveen88/test888, lmiro/testing, carlosejimenez/cc12m_openai-clip-vit-patch32_image_retrieval_top15_start1000000_end3500000, nickclyde/rupert, mazharsaif/sv_corpora_parliament_processed, CCP6/kurt, CCP6/Kurt-Face, jmpaz/txt-inv, obooo/Aiplay, gabrielaltay/wiki-test, sjyhne/mapai_training_data, CaoHaiNam/vi-oscar, bendito999/garfield-plush-pizza-pics, biu-nlp/Controlled-Text-Reduction-dataset, HadiPourmousa/TextSummarization, onurkoc83/reviews-turkce-text-generation, kapilchauhan/processed_bert_dataset_free_speech, blacknightbV1/test, 0xZoki/daedaland-test, CShorten/CDC-COVID-FAQ, omar47/urdu_cv10_processed, ashraq/WikiTitles-200K, hyphaltip/mushtest, remyremy/glasssherlock, Rmichael00/huis-face, NimaBoscarino/butterflies, sz4qwe/1, abhishars/artic-dataset, prathap-reddy/autotrain-data-climate-text-classification, amarjeet-op/mybase, ManalElak/NulisSurVolka-NS, BAJIRAO/dataset, Pakulski/ELI5-test, edc505/pokemon, ronanki/sentiment-banking, wdjjxhw/li, Osolon/pl_corpora_parliament_processed, Veldrovive/split-webdataset-naturalscenes, biglam/encyclopaedia_britannica_illustrated, pmmucsd/stella, yuntian-deng/im2latex-100k-raw, generalization/text_upload, osbm/chembl25, dclure/laion-aesthetics-12m-umap, CCP6/kurt-sept12, CCP6/marj, bmillerdev/demo, ywchoi/pubmed_abstract_0, ywchoi/pubmed_abstract_1, ywchoi/pubmed_abstract_2, ywchoi/pubmed_abstract_3, ywchoi/pubmed_abstract_4, George6584/newTest, ywchoi/pubmed_abstract_5, ywchoi/pubmed_abstract_6, ywchoi/pubmed_abstract_7, ywchoi/pubmed_abstract_8, ywchoi/pubmed_abstract_9, justinbischoff/test, George6584/testing, Mokello/samelin, yuntian-deng/im2latex-animals-200k, jonghyuk/text-data, pbwt/all-thai, hans120791/hk1, ruaultadrien/this-is-a-test, BrendaniSpeech/text-classification-demo-flags, chizhikchi/CARES_random, ostello/KaluSarai, sgavela/sample_imdb, noob123/imdb_review_3000, BAJIRAO/imdb_sentiment_3000, viola77data/recycling-dataset, ashgorithm/movie_review_prediction_3000, Kipol/textual_inversion_test, mrmoor/cti-corpus-raw, kenthug/kusakanmuri, huynguyen208/test_data, helliun/robertNava, momilla/eth_debug, mwong/faces, autoevaluate/autoeval-eval-emotion-default-42ff1e-1454153801, autoevaluate/autoeval-eval-emotion-default-42ff1e-1454153802, autoevaluate/autoeval-eval-emotion-default-42ff1e-1454153803, autoevaluate/autoeval-eval-emotion-default-1b9d7f-63ea876-1453553799, autoevaluate/autoeval-eval-emotion-default-054fd7-1453453796, autoevaluate/autoeval-eval-emotion-default-054fd7-1453453797, autoevaluate/autoeval-eval-emotion-default-1b9d7f-63ea876-1453553800, autoevaluate/autoeval-eval-emotion-default-1b9d7f-63ea876-1453553798, autoevaluate/autoeval-eval-emotion-default-054fd7-1453453795, conradmuan/testing-inversion-training, jasonTheNorris/mj, vedi/Images, Nbardy/fireworks-inversion, hsia/onkawara, effiejia/plants-inversion, stargaret/noir, matt-facet/green-tent-small, zachhurst/tiki-mug-1, carlosejimenez/cc12m_princeton-nlp_sup-simcse-roberta-large_DEBUG, priyank-m/balanced_SROIE_CHINESE_IAM_text_recognition, chenghao/cuad_qa, RaySolomon/huggingface-dataset, chenghao/ledgar_qa, carlosejimenez/cc12m_openai_clip-vit-base-patch32_image_image_retrieval_pairs_2022-09-13, carlosejimenez/mscoco_train_2014_openai_clip-vit-base-patch32_image_image_retrieval_pairs_2022-09-13, clearlyzero/nk, ntcuong777/ubuntu_dialogue_corpus_train, mlynch/test, teletubbee/bees, ntcuong777/ubuntu_dialogue_corpus_devtest, yuntian-deng/im2latex-animals-concat, Fhrozen/CABankSakura, Fhrozen/CABankSakuraCHJP, simeneide/recsys_slates_dataset, mishagrin/shitty_salt, ryanxingql/MFQEv2, autoevaluate/autoeval-eval-emotion-default-2feb36-1456053836, autoevaluate/autoeval-eval-emotion-default-2feb36-1456053837, autoevaluate/autoeval-eval-emotion-default-2feb36-1456053838, autoevaluate/autoeval-eval-cnn_dailymail-3.0.0-8ddaed-1457553860, autoevaluate/autoeval-eval-squad-plain_text-1a801d-1453753859, Yu73/ys, chou/test_name2, lambdalabs/pokemon-blip-captions, SpectaclesLLC/legal-definitions, allenai/cochrane_sparse_max, allenai/cochrane_sparse_mean, allenai/cochrane_sparse_oracle, n1ghtf4l1/vigilant-fortnight, hf-internal-testing/diffusers-images-numpy, dwisaji/indonesia-telecomunication-sentiment-dataset, autoevaluate/autoeval-eval-HadiPourmousa__TextSummarization-HadiPourmousa__TextSum-31dfb4-1463253931, autoevaluate/autoeval-eval-HadiPourmousa__TextSummarization-HadiPourmousa__TextSum-31dfb4-1463253932, collectivat/salom-ladino-articles, collectivat/una-fraza-al-diya, carlosejimenez/flickr30k_openai_clip-vit-base-patch32_DEBUG, carlosejimenez/flickr30k_princeton-nlp_sup-simcse-roberta-large_DEBUG, carlosejimenez/flickr30k_princeton-nlp_sup-simcse-roberta-large, carlosejimenez/flickr30k_openai_clip-vit-base-patch32, carlosejimenez/flickr30k_openai_clip-vit-base-patch32_self_retrieval_top33_start0_end31783, carlosejimenez/flickr30k_openai_clip-vit-base-patch32_image_image_retrieval_pairs_2022-09-14, neulab/conala, sparanoid/images, drcostco/hmn-race, carlosejimenez/cc12m_princeton-nlp_sup-simcse-roberta-large, mrmoor/cyber-threat-intelligence, allenai/wcep_sparse_max, allenai/wcep_sparse_mean, allenai/wcep_sparse_oracle, daspartho/subreddit-posts, autoevaluate/autoeval-eval-samsum-samsum-5abc44-1464853958, MikroKat/Tech, Euclid/testing, autoevaluate/autoeval-eval-cnn_dailymail-3.0.0-fb0535-1465153964, autoevaluate/autoeval-eval-big_patent-y-3c6f0a-1465253965, Euclid/chammuu, autoevaluate/autoeval-eval-billsum-default-a34c3f-1465353966, autoevaluate/autoeval-eval-samsum-samsum-89ef9c-1465453967, autoevaluate/autoeval-eval-launch__gov_report-plain_text-c8c9c8-1465553968, autoevaluate/autoeval-eval-Blaise-g__PubMed_summ-Blaise-g__PubMed_summ-0234b8-1465653969, autoevaluate/autoeval-eval-ccdv__arxiv-summarization-document-47d12e-1465753970, autoevaluate/autoeval-eval-kmfoda__booksum-kmfoda__booksum-228ea1-1466053986, autoevaluate/autoeval-eval-kmfoda__booksum-kmfoda__booksum-1006ec-1466153987, autoevaluate/autoeval-eval-kmfoda__booksum-kmfoda__booksum-1006ec-1466153988, AnachronicRodent/MikwaTest, olm/olm-wikipedia-20220820, ai4bharat/IndicQA, bitext/customer-support-intent-dataset, CauchyFan/repo_name, pbwt/small-thai, vialibre/splittedspanish3bwc, autoevaluate/autoeval-staging-eval-squad_v2-squad_v2-c76793-16626245, autoevaluate/autoeval-staging-eval-squad_v2-squad_v2-c76793-16626243, autoevaluate/autoeval-staging-eval-squad_v2-squad_v2-c76793-16626246, autoevaluate/autoeval-staging-eval-squad_v2-squad_v2-c76793-16626244, autoevaluate/autoeval-staging-eval-autoevaluate__zero-shot-classification-sample-autoevalu-ef9f85-16606242, autoevaluate/autoeval-staging-eval-squad_v2-squad_v2-c76793-16626247, autoevaluate/autoeval-staging-eval-squad_v2-squad_v2-c76793-16626248, autoevaluate/autoeval-staging-eval-squad_v2-squad_v2-07bda3-16636249, autoevaluate/autoeval-staging-eval-squad-plain_text-c456fd-16656251, autoevaluate/autoeval-staging-eval-acronym_identification-default-a07ade-16646250, autoevaluate/autoeval-staging-eval-squad_v2-squad_v2-972433-16666252, CCP6/Corgan, nelsano77/nelsano0077, graphmodel/ogbn_papers100M, muhtasham/india-r-1-year-posts, CCP6/mtg, OddBunny/fox_femboy, mboth/klassifizierung_erzeugen, mboth/klassifizierung_verteilen, Timofey/Genes_Proteins_Fine-Tuning_Dataset, Timofey/Diseases_Side-Effects_Fine-Tuning_Dataset, Timofey/Pathways_Fine-Tuning_Dataset, autoevaluate/autoeval-staging-eval-autoevaluate__zero-shot-classification-sample-autoevalu-1a41e5-16746268, Timofey/Cell_Components_Fine-Tuning_Dataset, Timofey/Drugs_Metabolites_Fine-Tuning_Dataset, numercial/arithmetic-pretrain-data, taspecustu/Nanachi, bryanlee/ds2, andrek/NorHand, ImageIN/IA_unlabelled, carlosejimenez/mscoco_train_2014_openai_clip-vit-base-patch32_image_image_retrieval_pairs_2022-09-15, Kipol/vs_art, spiccolo/gene_expression_omnibus_nlp, hemangjoshi37a/autotrain-data-ratnakar_1000_sample_curated, carlosejimenez/cc12m_openai-clip-vit-patch32_image_retrieval_top15_start1000000_end3500000_SHORT500K, autoevaluate/autoeval-staging-eval-autoevaluate__zero-shot-classification-sample-autoevalu-acab52-16766274, autoevaluate/autoeval-staging-eval-Tristan__zero_shot_classification_test-Tristan__zero_sh-3c39f7-16776275, Stablepranav/the_object, autoevaluate/autoeval-staging-eval-Tristan__zero_shot_classification_test-Tristan__zero_sh-997db8-16786276, mrm8488/rotowire-sbnation, polinaeterna/earn, polinaeterna/earnings22, CCP6/ron, darcksky/Ringsofsaturnlugalkien, g0d/BroadcastingCommission_Patois_Dataset, carlosejimenez/cc12m_openai_clip-vit-base-patch32_image_image_retrieval_pairs_2022-09-15, Coalth/Centaurs, Bingsu/openwebtext_20p, codesue/kelly, darcksky/teste, carlosejimenez/cc12m_openai_clip-vit-base-patch32_image_image_retrieval_pairs_2022-09-15_SHORT, autoevaluate/autoeval-eval-rotten_tomatoes-default-2a8e03-1477454164, beki/privy, shamr9/dhivehinews, darcksky/teste1, nielsr/coco-panoptic-categories, Datatang/Mandarin_Spontaneous_Speech_Data_by_Mobile_Phone, Datatang/Korean_Conversational_Speech_Data_by_Mobile_Phone, Datatang/Japanese_Conversational_Speech_by_Mobile_Phone, Datatang/Italian_Conversational_Speech_Data_by_Mobile_Phone, opticalmaterials/OpticalTableQA, opticalmaterials/test_datasets, psyche/korean_idioms, psyche/bool_sentence, chamuditha/4ew, autoevaluate/autoeval-eval-kmfoda__booksum-kmfoda__booksum-86c29f-1482354240, jelber2/RustBioGPT, wjm123/wjm123, cakiki/token-graph, PlanTL-GOB-ES/wnli-es, shamr9/dhivehinewscorpus, OxAISH-AL-LLM/pubmed_20k_rct, autoevaluate/autoeval-eval-squad_v2-squad_v2-e15d25-1483654271, autoevaluate/autoeval-eval-squad_v2-squad_v2-e15d25-1483654272, autoevaluate/autoeval-eval-acronym_identification-default-455d56-1483754273, Tristan/zero-shot-classification-large-test, autoevaluate/autoeval-eval-billsum-default-50c259-1483954274, autoevaluate/autoeval-eval-cnn_dailymail-3.0.0-04af89-1484054275, autoevaluate/autoeval-eval-samsum-samsum-879d27-1484154276, autoevaluate/autoeval-eval-big_patent-y-00ce1f-1484254277, Violence/Cloud, autoevaluate/autoeval-eval-autoevaluate__zero-shot-classification-sample-autoevalu-912bbb-1484454284, autoevaluate/autoeval-eval-autoevaluate__zero-shot-classification-sample-autoevalu-c3526e-1484354283, spacemanidol/query-rewriting-dense-retrieval, jemale/test, hqasmei/collaborative-filtering-dataset, autoevaluate/autoeval-eval-conll2003-conll2003-bc26c9-1485554290, autoevaluate/autoeval-eval-conll2003-conll2003-bc26c9-1485554291, autoevaluate/autoeval-eval-conll2003-conll2003-bc26c9-1485554292, autoevaluate/autoeval-eval-conll2003-conll2003-bc26c9-1485554293, autoevaluate/autoeval-eval-conll2003-conll2003-bc26c9-1485554294, autoevaluate/autoeval-eval-conll2003-conll2003-bc26c9-1485554295, autoevaluate/autoeval-eval-conll2003-conll2003-bc26c9-1485554296, autoevaluate/autoeval-eval-conll2003-conll2003-bc26c9-1485554297, autoevaluate/autoeval-eval-emotion-default-fe1aa0-1485654298, autoevaluate/autoeval-eval-emotion-default-fe1aa0-1485654299, autoevaluate/autoeval-eval-emotion-default-fe1aa0-1485654300, autoevaluate/autoeval-eval-emotion-default-fe1aa0-1485654301, autoevaluate/autoeval-eval-emotion-default-fe1aa0-1485654302, autoevaluate/autoeval-eval-emotion-default-fe1aa0-1485654303, autoevaluate/autoeval-eval-emotion-default-fe1aa0-1485654304, autoevaluate/autoeval-eval-emotion-default-fe1aa0-1485654305, autoevaluate/autoeval-eval-emotion-default-fe1aa0-1485654306, autoevaluate/autoeval-eval-emotion-default-fe1aa0-1485654307, Chemsseddine/autotrain-data-consbert, BakhtUllah123/en_timit_asr, autoevaluate/autoeval-eval-Tristan__zero-shot-classification-large-test-Tristan__z-7873ce-1486054319, autoevaluate/autoeval-eval-Tristan__zero-shot-classification-large-test-Tristan__z-7873ce-1486054318, nyoorspace/utaunotetuning, autoevaluate/autoeval-eval-samsum-samsum-7cb0ac-1486354325, autoevaluate/autoeval-eval-samsum-samsum-2c3c14-1486454326, autoevaluate/autoeval-eval-samsum-samsum-1bb2ba-1486554327, CCP6/corganold, mesolitica/syllable, readerbench/ro-text-summarization, darcy01/autotrain-data-opus-mt-en-zh_hanz, darcy01/hanz_en-zh, Tritkoman/autotrain-data-qaaaa, slone/myv_ru_2022, teticio/audio-diffusion-instrumental-hiphop-256, anton-l/earnings22_baseline_5_gram, Shushant/CovidNepaliTweets, utsav2000/sv_corpora_parliament_processed, autoevaluate/autoeval-eval-rotten_tomatoes-default-434634-1494154472, autoevaluate/autoeval-eval-Tristan__zero-shot-classification-large-test-Tristan__z-1e0954-1493654471, BakhtUllah123/ur_Common_voice_8_0, igorknez/clth_dset, dadtheimpaler/test, speech-seq2seq/datasets_stats, bzh-dataset/Korpus-frazennou-brezhonek, klimbat85/AnthonyEdwards, autoevaluate/autoeval-eval-Tristan__zero_shot_classification_test-Tristan__zero_sh-141cd3-1497954622, lapix/UFSC_OCPap, elhawashib/Dataset_Rand, skytnt/fbanimehq, open-source-metrics/text-to-speech-checkpoint-downloads, open-source-metrics/visual-question-answering-checkpoint-downloads, open-source-metrics/text-to-image-checkpoint-downloads, open-source-metrics/reinforcement-learning-checkpoint-downloads, open-source-metrics/sentence-similarity-checkpoint-downloads, open-source-metrics/unconditional-image-generation-checkpoint-downloads, open-source-metrics/document-question-answering-checkpoint-downloads, open-source-metrics/image-to-text-checkpoint-downloads, open-source-metrics/table-question-answering-checkpoint-downloads, open-source-metrics/zero-shot-image-classification-checkpoint-downloads, open-source-metrics/object-detection-checkpoint-downloads, open-source-metrics/zero-shot-classification-checkpoint-downloads, open-source-metrics/image-segmentation-checkpoint-downloads, open-source-metrics/multiple-choice-checkpoint-downloads, open-source-metrics/audio-classification-checkpoint-downloads, open-source-metrics/tabular-regression-checkpoint-downloads, open-source-metrics/image-classification-checkpoint-downloads, open-source-metrics/summarization-checkpoint-downloads, taskmasterpeace/taskmasterpeace, open-source-metrics/conversational-checkpoint-downloads, open-source-metrics/feature-extraction-checkpoint-downloads, open-source-metrics/translation-checkpoint-downloads, open-source-metrics/tabular-classification-checkpoint-downloads, open-source-metrics/question-answering-checkpoint-downloads, open-source-metrics/automatic-speech-recognition-checkpoint-downloads, open-source-metrics/fill-mask-checkpoint-downloads, open-source-metrics/text-generation-checkpoint-downloads, autoevaluate/autoeval-eval-kmfoda__booksum-kmfoda__booksum-fbf81c-1498854643, autoevaluate/autoeval-eval-Tristan__zero-shot-classification-large-test-Tristan__z-6f6330-1498754642, open-source-metrics/token-classification-checkpoint-downloads, open-source-metrics/text2text-generation-checkpoint-downloads, gngpostalsrvc/BERiT_vocalized, taskmasterpeace/andrea, taskmasterpeace/andrea1, mediabiasgroup/BABE, open-source-metrics/text-classification-checkpoint-downloads, roupenminassian/StripAI, Gonsoo/processed_bert_dataset, jamescalam/reddit-topics-targz, RUC-DataLab/MatchBench-Dataset, emma7033/repo_name, premhuggingface/prem, emma7033/test, acaciaca/VR1, acaciaca/test, Gustavosta/Stable-Diffusion-Prompts, agemagician/uniref30, din0s/ccmatrix_en-ro, BramD/TextInversionTest, OxAISH-AL-LLM/trec6, Hasanmurad/github-issues, J236/sample, Norod78/HebrewLyricsDataet, rajistics/electricity_demand, emekdahl/corise_comp_viz_face_id, TheGreatRambler/mm2_level, TheGreatRambler/mm2_level_comments, TheGreatRambler/mm2_level_played, TheGreatRambler/mm2_level_deaths, TheGreatRambler/mm2_user, TheGreatRambler/mm2_user_badges, TheGreatRambler/mm2_user_played, TheGreatRambler/mm2_user_liked, TheGreatRambler/mm2_user_posted, TheGreatRambler/mm2_user_first_cleared, TheGreatRambler/mm2_user_world_record, TheGreatRambler/mm2_world, TheGreatRambler/mm2_world_levels, TheGreatRambler/mm2_ninji, TheGreatRambler/mm2_ninji_level, teven/webnlg_2020_human_eval, emekdahl/corise_comp_viz_face_id_v2, yerevann/coco-karpathy, J236/testing, kejian/hfcourse-github-issues, gondimjoaom/flickr30k-trainready, J236/test, jamil/soap_notes, yuntian-deng/im2latex-animals-concat-moremix, 1959mark/1959mark, crystina-z/xor-tydi-corpus, hieule/news_corpus_v1_p1, truongpdd/VSLP_2016_ASC, bdotloh/empathetic-dialogues-contexts, hieule/news_corpus_v1_p2, kejian/codesearchnet-python-raw, kejian/codesearchnet-python-pep8-v1, hkgkjg111/ai_image_test, balabis/invoices, autoevaluate/autoeval-eval-xsum-default-ca7304-1504954794, fatdennis/photos, loubnabnl/github_jupyter_parsed_2, hkgkjg111/ai_paint_2, prashantgrao/my-test-dataset, j0hngou/ccmatrix_de-en, biglam/gallica_literary_fictions, autoevaluate/autoeval-eval-xsum-default-d5c7a7-1507154810, autoevaluate/autoeval-eval-squad_v2-squad_v2-552ce2-1507654811, ShakeryGO/imagery, autoevaluate/autoeval-eval-emotion-default-2be497-1508254837, autoevaluate/autoeval-eval-emotion-default-f266e6-1508354838, autoevaluate/autoeval-eval-glue-rte-157f21-1508454839, autoevaluate/autoeval-eval-glue-qqp-b620ce-1508754840, autoevaluate/autoeval-eval-glue-mnli_matched-c9e0cb-1508854841, autoevaluate/autoeval-eval-glue-mnli_matched-c9e0cb-1508854842, autoevaluate/autoeval-eval-glue-cola-b911f0-1508954843, autoevaluate/autoeval-eval-glue-cola-b911f0-1508954844, autoevaluate/autoeval-eval-glue-mrpc-9038ab-1509054845, autoevaluate/autoeval-eval-glue-mrpc-9038ab-1509054846, hf-internal-testing/dummy-flac-single-example, crystina-z/xor-tydi, autoevaluate/autoeval-eval-samsum-samsum-bfdcc1-1509654852, j0hngou/ccmatrix_en-it, WillHeld/coqa, Depshad/ood_mnist_c, svyas23/GAMa, Impe/Stuff, cjvt/gkomet, hemangjoshi37a/token_classification_ratnakar_1300, asapp/slue, ImageIN/ImageIn_annotations, roa7n/Mouse_DNA_v0_tokenized_kmer6_stride1, SALT-NLP/value, smkerr/lorca, darcksky/All-Rings, wgarstka/test, autoevaluate/autoeval-eval-autoevaluate__zero-shot-classification-sample-autoevalu-1f3143-1511754885, spacemanidol/identify-noisy-queries, spacemanidol/rewrite-noisy-queries, yuntian-deng/im2html-100k, mertcobanov/mozart-diff-small-256, farleyknight/big_patent_5_percent, farleyknight/big_patent_10_percent, din0s/asqa, autoevaluate/autoeval-eval-Tristan__zero-shot-classification-large-test-Tristan__z-8b146c-1511954902, autoevaluate/autoeval-eval-Tristan__zero-shot-classification-large-test-Tristan__z-8b146c-1511954901, autoevaluate/autoeval-eval-autoevaluate__zero-shot-classification-sample-autoevalu-f73a27-1512054903, autoevaluate/autoeval-eval-autoevaluate__zero-shot-classification-sample-autoevalu-30f5ae-1512154904, nithiroj/github-issues, KrasniyDoshik/wjcs, mdc202002/audio-diffusion-128-DP, kejian/codesearchnet-python-raw-457k, kejian/codesearchnet-python-pep8-full, vincentchai/b52092000, Natmat/Test, bongsoo/social_science_en_ko, bongsoo/news_talk_en_ko, hkgkjg111/ai_paint_mywork, kejian/codesearchnet-python-rebalanced, prashantgrao/amazon-shoe-reviews, ai4bharat/IndicCOPA, hieule/youtobe_comment_vie, NaturalTeam/KoBART_TEST, Shushant/NepaliCovidTweets, severo/empty_public, autoevaluate/autoeval-eval-kmfoda__booksum-kmfoda__booksum-373400-1514054915, autoevaluate/autoeval-eval-cnn_dailymail-3.0.0-ad96f7-1514254916, keshavG/bert-base-uncased-bert_mask_complete_word, dinesh123/model, BakhtUllah123/ur_timit_asr, vuksan314/Lavko, varun-d/demo-data, ksang/TwitchStreams, autoevaluate/autoeval-eval-acronym_identification-default-47d03a-1515054952, neurae/coqa-preprocessed, racheltong/sv_corpora_parliament_processed, niallashley/regenerate, lhoestq/empty, cjvt/rsdo4_en_sl, nonnon/test, THUDM/humaneval-x, nlp-guild/medical-data, open-source-metrics/pytorch-image-models-dependents, gorkaartola/ZS-train_SDG_Descriptions_S1-sentence_S2-subject_Negative_Sample_Filter-None, fcossio/synthetic-fibers-medium, huggingface-projects/color-palettes-sd, yuntian-deng/im2ly, gexai/inquisitiveqg, yuntian-deng/im2ly-35k, j0hngou/ccmatrix_en-fr, D3xter1922/proofwriter-dataset, autoevaluate/autoeval-eval-samsum-samsum-431a89-1518654983, autoevaluate/autoeval-eval-samsum-samsum-7e8d42-1518754984, autoevaluate/autoeval-eval-kmfoda__booksum-kmfoda__booksum-61a81c-1518854985, autoevaluate/autoeval-eval-billsum-default-4428b0-1518954986, autoevaluate/autoeval-eval-samsum-samsum-b534aa-1519254997, hossein20s/enrun-sig-sample, Moussab/ORKG-training-evaluation-set, slartibartfast/emojis2, Moussab/evaluation-vanilla-models, Moussab/evaluation-results-fine-tuned-models, autoevaluate/autoeval-eval-billsum-default-dd03f7-1519455003, autoevaluate/autoeval-eval-launch__gov_report-plain_text-4ad6c8-1519755004, autoevaluate/autoeval-eval-big_patent-y-b4cccf-1519855005, autoevaluate/autoeval-eval-samsum-samsum-a5c306-1520055006, autoevaluate/autoeval-eval-samsum-samsum-bf100b-1520255007, autoevaluate/autoeval-eval-Tristan__zero-shot-classification-large-test-Tristan__z-3320aa-1520455009, autoevaluate/autoeval-eval-Tristan__zero_shot_classification_test-Tristan__zero_sh-c10c5c-1520355008, PossiblyJohn/Randomphotos, autoevaluate/autoeval-eval-squad_v2-squad_v2-e4ddf6-1520555010, lialbose/result, schnell/sample_text, OccultMC/AndrewTate, HighSodium/inflation, Harrietofthesea/public_test, sdhj/wwww, BakhtUllah123/ur_common_voice, Corianas/VPT7.0, sanchit-gandhi/earnings22_split, QyQy/assignment-1, autoevaluate/autoeval-eval-kmfoda__booksum-kmfoda__booksum-e42237-1523455078, AIRI-Institute/I4TALK_DATA, Adapting/chinese_biomedical_NER_dataset, myt517/GID_benchmark, ArneBinder/xfund, autoevaluate/autoeval-eval-cnn_dailymail-3.0.0-bf74a8-1524255094, autoevaluate/autoeval-eval-spencer__software_slacks-spencer__software_slacks-47fc1e-1524355095, mathemakitten/winobias_antistereotype_dev, StonyBrookNLP/tellmewhy, melismeric/spotify_song_album_covers, truongpdd/Covid-19-ner-lowercased, autoevaluate/autoeval-eval-mathemakitten__winobias_antistereotype_dev-mathemakitte-169e67-1524755111, MvsSrs/quistest, PotatoGod/testing, zpn/pubchem_selfies, mehr4n-m/parsinlu-en-fa-structrual-edit, carlosejimenez/wikitext-103-raw-v1_sents_min_len10_max_len30_DEBUG, XiaofangJiang/tsp, autoevaluate/autoeval-eval-mathemakitten__winobias_antistereotype_dev-mathemakitte-f407ed-1527355152, carlosejimenez/wikitext-103-raw-v1_sents_min_len10_max_len30, phaticusthiccy/avatar, autoevaluate/autoeval-staging-eval-autoevaluate__zero-shot-classification-sample-autoevalu-4ec74d-2110, NathanGavenski/How-Resilient-are-Imitation-Learning-Methods-to-Sub-Optimal-Experts, cjdam/stormtrooper, mafzal/SOAP-notes, yvesfogel/yves, autoevaluate/autoeval-staging-eval-Tristan__zero-shot-classification-large-test-Tristan__z-2f6135-2211, dataDRVN/dog-wesley, autoevaluate/autoeval-staging-eval-Tristan__zero-shot-classification-large-test-Tristan__z-237ac0-11, autoevaluate/autoeval-eval-scan-simple-0b9bd3-1528755178, carlosejimenez/wikitext-103-raw-v1_sents_min_len10_max_len30_openai_clip-vit-base-patch32_DEBUG, mehr4n-m/autotrain-data-nllb_600_ft, carlosejimenez/wikitext-103-raw-v1_sents_min_len10_max_len30_openai_clip-vit-base-patch32, cjvt/ssj500k, dwisaji/twitter-minggu-sentiment-dataset, christianwbsn/indotacos, biomegix/soap-notes, DrMacabre/disco, rubrix/transformer_interpret_example_sst, Nadav/runaway_scans, carlosejimenez/wikitext-103-raw-v1_sents_min_len10_max_len30_princeton-nlp_sup-simcse-roberta-large, BakhtUllah123/Cv_8_processed, severo/test_private_datasets, Sania67/urdu_cv10_processed, detection-datasets/fashionpedia, jchenyu/t5_large_supervised_proportional_1M, readerbench/squad_qgen, japhba/pubmed_abstract_country, merve/coffee-beans, merve/coffee-bean-dataset, bdotloh/empathetic-dialogues-labelled-with-empathy-and-emotion-scores, thesofakillers/SemCor, EMBO/sd-character-level-ner, detection-datasets/fashionpedia_4_categories, autoevaluate/autoeval-eval-cnn_dailymail-3.0.0-6f9c29-1531855204, benlipkin/braincode-neurips2022, QyQy/VietAI-Assignment2, MadhuLokanath/New_Data, autoevaluate/autoeval-eval-samsum-samsum-61187c-1532155205, japhba/pubmed_simple, GGWON/jnstyle, nlp-guild/intent-recognition-biomedical, Azarthehulk/hand_written_dataset, adamcole-studio/kiss_hd_2, aseem007/sd, Theo89/teracotta, kksukk/broadCast_dataset_1, Monosis1995/KoiSam, open-source-metrics/gradio-dependents, autoevaluate/autoeval-staging-eval-autoevaluate__zero-shot-classification-sample-autoevalu-ded028-2312, autoevaluate/autoeval-staging-eval-autoevaluate__zero-shot-classification-sample-autoevalu-ab10d5-2413, autoevaluate/autoeval-staging-eval-Tristan__zero-shot-classification-large-test-Tristan__z-914f2c-2514, neeva/query2query_evaluation, autoevaluate/autoeval-eval-emotion-default-98e72c-1536755281, priyank-m/iam_sroie_text_recognition, apapiu/test_npy, privacy-tech-lab/ppRegionTrain, privacy-tech-lab/ppRegionVal, autoevaluate/autoeval-staging-eval-Tristan__zero-shot-classification-large-test-Tristan__z-eb4ad9-22, privacy-tech-lab/ppZipVal, privacy-tech-lab/ppZipTrain, Oragani/BoneworksFord, Kagermanov/american_dog_species, yuntian-deng/im2ly-35k-syn, cjsojulz01/cjsojulz, cjsojulz01/canaryjulzy, cjsojulz01/cjsoojulzy, truongpdd/vietnamese_poetry, truongpdd/vietnamese_poetry_story, truongpdd/vietnamese_story, ourjames/Linda-Chase-Head-20170720, taskmasterpeace/d, Kris5/test, SQexplorer/SQ, varun-d/asdfasdfa, autoevaluate/autoeval-eval-Gabriel__xsum_swe-Gabriel__xsum_swe-3f3168-1541855407, j0hngou/ccmatrix_en-it_subsampled, aleroy/test_flyview_instance, jinyan438/hh, bccnf/NER-portugues-shuffled, merve/coffee, merve/coffee-dataset, merve/kaggle-beans, osanseviero/super-beans, osanseviero/super-beans2, merve/coffee-been-resized, merve/test-dataset, merve/test-dataset-2, merve/test-dataset-3, merve/test-dataset-4, merve/coffee-bean-dataset-resized, davanstrien/ImageIn_annotations, freddyaboulton/gradio-subapp, cjsojulz01/canaryjulzy1, autoevaluate/autoeval-staging-eval-Tristan__zero-shot-classification-large-test-Tristan__z-d81307-16956302, open-source-metrics/issues, kksukk/broadCast_dataset_2, nlphuji/winogavil, claudio4525/testt, tednc/images, HuggingFaceM4/cm4-synthetic-testing, n1ghtf4l1/Ariel-Data-Challenge-NeurIPS-2022, BumblingOrange/Hanks_Embeddings, TKKG/inferno, japhba/pubmed_3k, Skelebor/celeba-eyeglasses, MHCK/AI, hkgkjg111/repeat, zishuod/pokemon-icons, amir7d0/laion20M-fa, privacy-tech-lab/ppLngVal, privacy-tech-lab/ppLngTrain, Sania67/Cv_8_processed, privacy-tech-lab/ppLatVal, privacy-tech-lab/ppLatTrain, Nbardy/filtered-laion-wave-data, dbal0503/Bundesliga, Sonrin/Thorneworks, ashraq/test_audio, Naimul/testingmyown, kksukk/broadCast_dataset_3, quecopiones/twitter_extract_suicide_keywords, ashraq/esc50, Lubub/teste_sharp, sanchit-gandhi/earnings22_split_resampled, pkhtjim/berdly, Miron/Science_Articles, GeneralAwareness/Various, gabrielaltay/hacdc-wikipedia, m1guelpf/nouns, Sania67/Common_voice_8, waifu-research-department/embeddings, davanstrien/euroepanatest, perara/pelophylax_lessonae, Miron/Text_Science_Articles, jayeff9399/zombies, huynguyen208/assignment2, Thedon97/AI2, kksukk/broadCast_dataset_4, shkim11/webnovel-ko-en, Miron/NLP_1, wertyworld/taser_1_00, privacy-tech-lab/ppAllVal, privacy-tech-lab/ppAllTrain, eliwill/Stoic-dataset, Frustartis1234/alejandro-portugal, emekdahl/corise_comp_viz_face_id_v3, SIGMitch/KDroid, gorkaartola/ZS-train_SDG_Descriptions_S1-sentence_S2-subject_Negative_Sample_Filter-Only_Title_and_Headline, carlosejimenez/flickr30k_wikitext-103-raw-clip_img_cap_ret_top15_sii0_eii31783_sci0_eci2000000, jhguighukjghkj/test, pane2k/pane\n"
          ]
        }
      ],
      "source": [
        "from nlp import list_datasets\n",
        "datasets_list = list_datasets()\n",
        "print(', '.join(dataset.id for dataset in datasets_list))"
      ]
    },
    {
      "cell_type": "markdown",
      "metadata": {
        "id": "p6z1gl_PStWX"
      },
      "source": [
        "### Select Arxiv-Summarization dataset\n"
      ]
    },
    {
      "cell_type": "code",
      "execution_count": 13,
      "metadata": {
        "ExecuteTime": {
          "end_time": "2020-09-02T18:48:48.253885Z",
          "start_time": "2020-09-02T18:48:47.868015Z"
        },
        "id": "TQLdzUVsStWX",
        "colab": {
          "base_uri": "https://localhost:8080/",
          "height": 315,
          "referenced_widgets": [
            "aa5abe5df3314e0e95495abe76d4966a",
            "25702fb982704cb8b51b91996688057b",
            "f784307cac4f4afa88a3bd0c11bfca15",
            "612cd6e86ca84323873a837c18c40884",
            "a4c284a2da7d48b28536a66f5d7599df",
            "573fa38975be4f39b4b814a707ed08c8",
            "fe8252c70473487195702e25d4b4c283",
            "8747b6b4520a4ca184191fe6d2417882",
            "0e5453cb01b44235bc984475ea697aa2",
            "2eae983ae15e4868b33094bb61174124",
            "80fc1b5060b74261943936e7e5471cb1",
            "a1f656e3693849b3bf69b11bfc7e0300",
            "dc0faa61fbc644769eb5d2fff41668fb",
            "c6653276b3ff43438cc1301d066efc5a",
            "4ddd710ef72345de9ea68b400173a63d",
            "2d8577ed0ce7471997e41006d8127788",
            "2ec5970f9eaf4489b500e76c68f16542",
            "156637dc19764c3f9cc96e266fc9d00a",
            "0e714c6b415341358978707cc31602b1",
            "cb0a1bcfa2f34d36a3d3e712ffb9a485",
            "75825ffcbd554b97950af756e813e943",
            "a194c27b7f1f4639b875f63545665945",
            "0eb6e4e5aa0749c7a58381e989b98de0",
            "662f248ad9ed429cb572b05c2cc8daf1",
            "1b4fdae6379f493d81b5645128d90496",
            "43690a66a3794f829d04a5cdc4d0f118",
            "565f935720e543e982664d0025071228",
            "8d12ebf4abca423e935773be37f6bce7",
            "ffc0b0f9578e41d2ab5479422803f832",
            "a14c63f2e18548a5871c5e35d5e02f65",
            "610ee74e21314cb3b56c71c1d708b077",
            "2ba9cec1df27461e93a86112f8a5c61c",
            "55760ee6cca34c1f9e2e872b5da4bb81",
            "f3ad78e2bece4e1b959132a2dcc7044e",
            "b38d2319aa3240c19d7c49068c2b1116",
            "540ce7f7fd6040378e15b49921b54151",
            "ac46e36201be4ab099d916b968bce049",
            "d1dd4451f4e640a8bd192392d5f7db3e",
            "f39b08c302f24701bbca4458856e8ad0",
            "a0598c16ae4f47a9b6c37c969b5e9f1f",
            "be17fcf32edf49c9aec83f82cab6a891",
            "06236a5af9254b7288d6143f32927a51",
            "83e433b43021409db6063b514cf26145",
            "fc03639ab9f54b03802d4dab0f77f70d",
            "e4ec726ae8ff4521b24d958022897e8b",
            "884d08dfa4984d1399b4d00ffe3c149b",
            "38f5c78f6767462e8303576873a54ef0",
            "29435b808089463683caa0f50a8cdd1f",
            "fb29e12c1ee645bcb7357ad875315d3c",
            "d1f1db239e3c46fc80f76d9811f649dc",
            "e6dbe448183d47e4a34ececb379cb431",
            "b665915176f048ca9ac33a5d401c3792",
            "aafe67e66ca14fa58c4a5cb0419d3f16",
            "701adc055f244ce6867f8cee51f60a88",
            "b63cb78ca8944a559312744f091d6325",
            "23c36f59f93147418573c169ff08482d",
            "96bf649687504fbb8559f6ef11cf1cb8",
            "c15a0344b78c483fa25dd7633c1a0f41",
            "ab85da29874d4e74b7fabcd8ad057739",
            "4e722717bc454a4aa6d673c0728e2d26",
            "085488738a6c4ad98ee45d2146a02966",
            "9f6647e2039148289fae8e5cb9ed59ca",
            "a96c7a6c2f1641a497ef0fe0f66345e7",
            "216044ee557849a4ae075db1e5718a03",
            "64bb679cb95248a18bbf7623d1a5366e",
            "45150e12d9804736ab761bb0f0ed2631",
            "cd1b39a9ac784f818f8b4f7422544938",
            "ed2c45f1aef9469797e6cb23970b038a",
            "f4df01155bdb4365999eb6017a41c236",
            "bcb5887543d14b80b41481342eeab9e8",
            "7e7b44b879f04122b03212461f13660c",
            "86a29420696147be93128dbd8824de5a",
            "e8904f7ea94049c98f5e95e1f30a5b53",
            "bcfd6d0b6d7748a5bf3335149706e772",
            "aeca138fd197428bb9a8cb5d37fe86d6",
            "5776a183f29d46f3a62e5c5f078d9a47",
            "efdd502e66e240e9a2c0f3699701fe1e",
            "f631d58532564222b333c366cfe02e19",
            "0589498c5bac4d1eaf92c4e45ae14f9b",
            "a2a4e4a359fe47ab8685aee9b77f41dc",
            "fc754e80e8ed49ffadaa4e710b9562ec",
            "27976f01b32049409e1158e498da1ffd",
            "2087fe81f9af4e02af054eafb6fee5b4",
            "8089dcc064854ff6a8583aa5d8ce21e6",
            "3b48d329459943ccb9737e6dbe8b0ef5",
            "9d180a064cc649a8862082ef910c8014",
            "b7f088f4e19c4ab7936dca8cb909395e",
            "429cebd299604191a8ed2ffc3bb434d2",
            "fac1fd8b21ef40bfb256bfa02dca478f",
            "ab4ff9455f2840c18946ec4d194f9efd",
            "8084c32e565346d0b594a985bb85829c",
            "3b578860bd8a4445ac54dc1428e3e798",
            "95bcc7a02b98499da1849d10d0c625d8",
            "dc2d25b39b68492fad0189049652cd65",
            "81a6c463a85d4191af4363ed0d4ff4d8",
            "c75dac90ac8c445d83cf763356adcc9f",
            "ef8c7b64d19e4046a13d6a2d77368553",
            "767ed60883f74b108a5b77efdf6e1a1f",
            "7f0eb01d87ad41d6bb7f1002b0921ee5"
          ]
        },
        "outputId": "a87e6440-2fc3-47a2-e0f6-99909a26e2c6"
      },
      "outputs": [
        {
          "output_type": "display_data",
          "data": {
            "text/plain": [
              "Downloading builder script:   0%|          | 0.00/5.14k [00:00<?, ?B/s]"
            ],
            "application/vnd.jupyter.widget-view+json": {
              "version_major": 2,
              "version_minor": 0,
              "model_id": "aa5abe5df3314e0e95495abe76d4966a"
            }
          },
          "metadata": {}
        },
        {
          "output_type": "display_data",
          "data": {
            "text/plain": [
              "Downloading readme:   0%|          | 0.00/2.83k [00:00<?, ?B/s]"
            ],
            "application/vnd.jupyter.widget-view+json": {
              "version_major": 2,
              "version_minor": 0,
              "model_id": "a1f656e3693849b3bf69b11bfc7e0300"
            }
          },
          "metadata": {}
        },
        {
          "output_type": "stream",
          "name": "stderr",
          "text": [
            "WARNING:datasets.builder:No config specified, defaulting to: arxiv-summarization/section\n"
          ]
        },
        {
          "output_type": "stream",
          "name": "stdout",
          "text": [
            "Downloading and preparing dataset arxiv-summarization/section to /root/.cache/huggingface/datasets/ccdv___arxiv-summarization/section/1.0.0/fa2c9abf4312afb8660ef8e041d576b8e3943ea96ae771bd3cd091b5798e7cc3...\n"
          ]
        },
        {
          "output_type": "display_data",
          "data": {
            "text/plain": [
              "Downloading data:   0%|          | 0.00/3.36G [00:00<?, ?B/s]"
            ],
            "application/vnd.jupyter.widget-view+json": {
              "version_major": 2,
              "version_minor": 0,
              "model_id": "0eb6e4e5aa0749c7a58381e989b98de0"
            }
          },
          "metadata": {}
        },
        {
          "output_type": "display_data",
          "data": {
            "text/plain": [
              "Downloading data:   0%|          | 0.00/102M [00:00<?, ?B/s]"
            ],
            "application/vnd.jupyter.widget-view+json": {
              "version_major": 2,
              "version_minor": 0,
              "model_id": "f3ad78e2bece4e1b959132a2dcc7044e"
            }
          },
          "metadata": {}
        },
        {
          "output_type": "display_data",
          "data": {
            "text/plain": [
              "Downloading data:   0%|          | 0.00/102M [00:00<?, ?B/s]"
            ],
            "application/vnd.jupyter.widget-view+json": {
              "version_major": 2,
              "version_minor": 0,
              "model_id": "e4ec726ae8ff4521b24d958022897e8b"
            }
          },
          "metadata": {}
        },
        {
          "output_type": "display_data",
          "data": {
            "text/plain": [
              "Generating train split: 0 examples [00:00, ? examples/s]"
            ],
            "application/vnd.jupyter.widget-view+json": {
              "version_major": 2,
              "version_minor": 0,
              "model_id": "23c36f59f93147418573c169ff08482d"
            }
          },
          "metadata": {}
        },
        {
          "output_type": "display_data",
          "data": {
            "text/plain": [
              "Generating validation split: 0 examples [00:00, ? examples/s]"
            ],
            "application/vnd.jupyter.widget-view+json": {
              "version_major": 2,
              "version_minor": 0,
              "model_id": "cd1b39a9ac784f818f8b4f7422544938"
            }
          },
          "metadata": {}
        },
        {
          "output_type": "display_data",
          "data": {
            "text/plain": [
              "Generating test split: 0 examples [00:00, ? examples/s]"
            ],
            "application/vnd.jupyter.widget-view+json": {
              "version_major": 2,
              "version_minor": 0,
              "model_id": "f631d58532564222b333c366cfe02e19"
            }
          },
          "metadata": {}
        },
        {
          "output_type": "stream",
          "name": "stdout",
          "text": [
            "Dataset arxiv-summarization downloaded and prepared to /root/.cache/huggingface/datasets/ccdv___arxiv-summarization/section/1.0.0/fa2c9abf4312afb8660ef8e041d576b8e3943ea96ae771bd3cd091b5798e7cc3. Subsequent calls will reuse this data.\n"
          ]
        },
        {
          "output_type": "display_data",
          "data": {
            "text/plain": [
              "  0%|          | 0/3 [00:00<?, ?it/s]"
            ],
            "application/vnd.jupyter.widget-view+json": {
              "version_major": 2,
              "version_minor": 0,
              "model_id": "fac1fd8b21ef40bfb256bfa02dca478f"
            }
          },
          "metadata": {}
        }
      ],
      "source": [
        "from datasets import load_dataset\n",
        "dataset = load_dataset('ccdv/arxiv-summarization')\n"
      ]
    },
    {
      "cell_type": "code",
      "execution_count": 14,
      "metadata": {
        "ExecuteTime": {
          "end_time": "2020-09-02T18:48:48.257189Z",
          "start_time": "2020-09-02T18:48:48.255049Z"
        },
        "id": "dsyhSgvyStWY",
        "colab": {
          "base_uri": "https://localhost:8080/"
        },
        "outputId": "c99de855-27f3-40c0-d3bf-fe8df08f637b"
      },
      "outputs": [
        {
          "output_type": "stream",
          "name": "stdout",
          "text": [
            "dict_keys(['train', 'validation', 'test'])\n"
          ]
        }
      ],
      "source": [
        "print(dataset.keys())"
      ]
    },
    {
      "cell_type": "code",
      "execution_count": 15,
      "metadata": {
        "ExecuteTime": {
          "end_time": "2020-09-02T18:48:48.263225Z",
          "start_time": "2020-09-02T18:48:48.258232Z"
        },
        "id": "DOzqeQpJStWY",
        "colab": {
          "base_uri": "https://localhost:8080/"
        },
        "outputId": "f35552b3-fe32-4768-aa99-038f118bd1f7"
      },
      "outputs": [
        {
          "output_type": "stream",
          "name": "stdout",
          "text": [
            "Size of train dataset:  (203037, 2)\n"
          ]
        }
      ],
      "source": [
        "print(\"Size of train dataset: \", dataset['train'].shape)"
      ]
    },
    {
      "cell_type": "code",
      "execution_count": 16,
      "metadata": {
        "ExecuteTime": {
          "end_time": "2020-09-02T18:48:48.269900Z",
          "start_time": "2020-09-02T18:48:48.264319Z"
        },
        "id": "Q4nbWN47StWZ",
        "colab": {
          "base_uri": "https://localhost:8080/"
        },
        "outputId": "289409e3-5303-4869-c629-6d1a069e8455"
      },
      "outputs": [
        {
          "output_type": "stream",
          "name": "stdout",
          "text": [
            "Size of Validation dataset:  (6436, 2)\n"
          ]
        }
      ],
      "source": [
        "print(\"Size of Validation dataset: \", dataset['validation'].shape)"
      ]
    },
    {
      "cell_type": "markdown",
      "metadata": {
        "id": "Q8NyI8qmStWZ"
      },
      "source": [
        "We can use the test data set for validation"
      ]
    },
    {
      "cell_type": "code",
      "execution_count": 17,
      "metadata": {
        "ExecuteTime": {
          "end_time": "2020-09-02T18:48:48.274748Z",
          "start_time": "2020-09-02T18:48:48.271169Z"
        },
        "id": "Vh5r6EsQStWZ",
        "colab": {
          "base_uri": "https://localhost:8080/"
        },
        "outputId": "9de42f44-350d-4fb3-f402-2d03b9bc5aa8"
      },
      "outputs": [
        {
          "output_type": "stream",
          "name": "stdout",
          "text": [
            "Size of ca test dataset:  (6440, 2)\n"
          ]
        }
      ],
      "source": [
        "print(\"Size of ca test dataset: \", dataset['test'].shape)"
      ]
    },
    {
      "cell_type": "markdown",
      "metadata": {
        "id": "L7kiOJ8WStWa"
      },
      "source": [
        "### Look at Examples in this data set"
      ]
    },
    {
      "cell_type": "code",
      "execution_count": 18,
      "metadata": {
        "ExecuteTime": {
          "end_time": "2020-09-02T18:48:48.279408Z",
          "start_time": "2020-09-02T18:48:48.275717Z"
        },
        "id": "hDOA5dfMStWa",
        "colab": {
          "base_uri": "https://localhost:8080/"
        },
        "outputId": "755a871b-d66e-4d68-a53c-f43565d1fca9"
      },
      "outputs": [
        {
          "output_type": "stream",
          "name": "stdout",
          "text": [
            "dict_keys(['article', 'abstract'])\n"
          ]
        }
      ],
      "source": [
        "print(dataset['train'][0].keys())"
      ]
    },
    {
      "cell_type": "markdown",
      "metadata": {
        "id": "HmDYu4ljStWb"
      },
      "source": [
        "### Estimate average length of Text and Summary"
      ]
    },
    {
      "cell_type": "code",
      "execution_count": 19,
      "metadata": {
        "ExecuteTime": {
          "end_time": "2020-09-01T13:44:38.785557Z",
          "start_time": "2020-09-01T13:44:38.781468Z"
        },
        "id": "Wnj9pEj3StWb"
      },
      "outputs": [],
      "source": [
        "tiny_dataset = dataset['train'].select(list(range(0, 100)))\n",
        "text_len = []\n",
        "summary_len=[]"
      ]
    },
    {
      "cell_type": "code",
      "execution_count": 20,
      "metadata": {
        "ExecuteTime": {
          "end_time": "2020-09-01T13:44:38.801235Z",
          "start_time": "2020-09-01T13:44:38.786503Z"
        },
        "id": "6l8OY-TSStWc"
      },
      "outputs": [],
      "source": [
        "for i in range(len(tiny_dataset)):\n",
        "    example = tiny_dataset[i]\n",
        "    text_example = example['article']\n",
        "    text_example = text_example.replace('\\n','')\n",
        "    text_words = text_example.split()\n",
        "    text_len.append(len(text_words))\n",
        "    summary_example = example['abstract']\n",
        "    summary_example = summary_example.replace('\\n','')\n",
        "    summary_words = summary_example.split()\n",
        "    summary_len.append(len(summary_words))"
      ]
    },
    {
      "cell_type": "code",
      "execution_count": 21,
      "metadata": {
        "ExecuteTime": {
          "end_time": "2020-09-02T18:46:50.185114Z",
          "start_time": "2020-09-02T18:46:50.047191Z"
        },
        "id": "DbBDHaYqStWc",
        "colab": {
          "base_uri": "https://localhost:8080/",
          "height": 281
        },
        "outputId": "e6269149-15b4-4d46-a8de-04236ea6d628"
      },
      "outputs": [
        {
          "output_type": "display_data",
          "data": {
            "text/plain": [
              "<Figure size 432x288 with 1 Axes>"
            ],
            "image/png": "[encoded data removed]"
          },
          "metadata": {
            "needs_background": "light"
          }
        }
      ],
      "source": [
        "import matplotlib.pyplot as plt\n",
        "%matplotlib inline\n",
        "plt.hist(text_len)\n",
        "plt.title('Text Length Distribution - First 100 examples')\n",
        "plt.show()"
      ]
    },
    {
      "cell_type": "code",
      "execution_count": 22,
      "metadata": {
        "ExecuteTime": {
          "end_time": "2020-09-02T18:47:08.641831Z",
          "start_time": "2020-09-02T18:47:08.524395Z"
        },
        "id": "9vbnmhnnStWc",
        "colab": {
          "base_uri": "https://localhost:8080/",
          "height": 281
        },
        "outputId": "db89ec68-2343-4694-db10-8d181acf3b7d"
      },
      "outputs": [
        {
          "output_type": "display_data",
          "data": {
            "text/plain": [
              "<Figure size 432x288 with 1 Axes>"
            ],
            "image/png": "[encoded data removed]"
          },
          "metadata": {
            "needs_background": "light"
          }
        }
      ],
      "source": [
        "plt.hist(summary_len)\n",
        "plt.title('Summary Length Distribution - First 100 examples')\n",
        "plt.show()"
      ]
    },
    {
      "cell_type": "code",
      "execution_count": 23,
      "metadata": {
        "ExecuteTime": {
          "end_time": "2020-09-01T13:44:39.138817Z",
          "start_time": "2020-09-01T13:44:39.136486Z"
        },
        "id": "ulMRh0_2StWd",
        "colab": {
          "base_uri": "https://localhost:8080/"
        },
        "outputId": "83d7cfa4-99be-469f-853c-ef97cf2b9f3e"
      },
      "outputs": [
        {
          "output_type": "stream",
          "name": "stdout",
          "text": [
            "Average Length of text:  6516.53\n"
          ]
        }
      ],
      "source": [
        "print(\"Average Length of text: \", sum(text_len)/len(text_len))"
      ]
    },
    {
      "cell_type": "code",
      "execution_count": 24,
      "metadata": {
        "ExecuteTime": {
          "end_time": "2020-09-01T13:44:39.143573Z",
          "start_time": "2020-09-01T13:44:39.139797Z"
        },
        "id": "W5O4yQLcStWd",
        "colab": {
          "base_uri": "https://localhost:8080/"
        },
        "outputId": "774f79e8-cb70-481f-ac5c-fe3d7b85af37"
      },
      "outputs": [
        {
          "output_type": "stream",
          "name": "stdout",
          "text": [
            "Average Length of Summary:  249.73\n"
          ]
        }
      ],
      "source": [
        "print(\"Average Length of Summary: \", sum(summary_len)/len(summary_len))"
      ]
    },
    {
      "cell_type": "markdown",
      "metadata": {
        "id": "RfTPnPRXStWe"
      },
      "source": [
        "## Define Model"
      ]
    },
    {
      "cell_type": "code",
      "execution_count": 25,
      "metadata": {
        "ExecuteTime": {
          "end_time": "2020-09-01T13:44:39.162456Z",
          "start_time": "2020-09-01T13:44:39.144570Z"
        },
        "id": "2aIZOcK5StWe"
      },
      "outputs": [],
      "source": [
        "def set_seed(seed):\n",
        "    random.seed(seed)\n",
        "    np.random.seed(seed)\n",
        "    torch.manual_seed(seed)\n",
        "    if torch.cuda.is_available():\n",
        "        torch.cuda.manual_seed_all(seed)\n",
        "\n",
        "set_seed(42)"
      ]
    },
    {
      "cell_type": "code",
      "execution_count": 26,
      "metadata": {
        "ExecuteTime": {
          "end_time": "2020-09-01T13:44:39.185299Z",
          "start_time": "2020-09-01T13:44:39.163413Z"
        },
        "id": "Vb_pMcsMStWe"
      },
      "outputs": [],
      "source": [
        "class T5FineTuner(pl.LightningModule):\n",
        "    def __init__(self, hparams):\n",
        "        super(T5FineTuner, self).__init__()\n",
        "\n",
        "        #MANUAL OPTIMIZATION\n",
        "        self.automatic_optimization = False\n",
        "\n",
        "        self.save_hyperparameters(hparams)    \n",
        "        self.model = T5ForConditionalGeneration.from_pretrained(hparams.model_name_or_path)\n",
        "        self.tokenizer = T5Tokenizer.from_pretrained(hparams.tokenizer_name_or_path)\n",
        "        self.rouge_metric = load_metric('rouge') \n",
        "\n",
        "        #dobavila\n",
        "        self.training_step_outputs = []\n",
        "        self.validation_step_outputs = []\n",
        "        \n",
        "        if self.hparams.freeze_embeds:\n",
        "            self.freeze_embeds()\n",
        "        if self.hparams.freeze_encoder:\n",
        "            self.freeze_params(self.model.get_encoder())\n",
        "            assert_all_frozen(self.model.get_encoder())\n",
        "            \n",
        "            \n",
        "        n_observations_per_split = {\n",
        "            \"train\": self.hparams.n_train,\n",
        "            \"validation\": self.hparams.n_val,\n",
        "            \"test\": self.hparams.n_test,\n",
        "        }\n",
        "        self.n_obs = {k: v if v >= 0 else None for k, v in n_observations_per_split.items()}\n",
        "        \n",
        "    \n",
        "    def freeze_params(self, model):\n",
        "        for par in model.parameters():\n",
        "            par.requires_grad = False\n",
        "            \n",
        "            \n",
        "    def freeze_embeds(self):\n",
        "        \"\"\"Freeze token embeddings and positional embeddings for bart, just token embeddings for t5.\"\"\"\n",
        "        try:\n",
        "            self.freeze_params(self.model.model.shared)\n",
        "            for d in [self.model.model.encoder, self.model.model.decoder]:\n",
        "                freeze_params(d.embed_positions)\n",
        "                freeze_params(d.embed_tokens)\n",
        "        except AttributeError:\n",
        "            self.freeze_params(self.model.shared)\n",
        "            for d in [self.model.encoder, self.model.decoder]:\n",
        "                self.freeze_params(d.embed_tokens)\n",
        "    \n",
        "    def lmap(self, f, x):\n",
        "        \"\"\"list(map(f, x))\"\"\"\n",
        "        return list(map(f, x))\n",
        "    \n",
        "\n",
        "    #def is_logger(self):\n",
        "    #    return self.trainer.proc_rank <= 0\n",
        "    def is_logger(self):\n",
        "        return True\n",
        "    \n",
        "    \n",
        "    def parse_score(self, result):\n",
        "        return {k: round(v.mid.fmeasure * 100, 4) for k, v in result.items()}\n",
        "        \n",
        "    def forward(\n",
        "      self, input_ids, attention_mask=None, decoder_input_ids=None, decoder_attention_mask=None, labels=None\n",
        "  ):\n",
        "        return self.model(\n",
        "            input_ids,\n",
        "            attention_mask=attention_mask,\n",
        "            decoder_input_ids=decoder_input_ids,\n",
        "            decoder_attention_mask=decoder_attention_mask,\n",
        "            labels=labels,\n",
        "    )\n",
        "\n",
        "    def _step(self, batch):\n",
        "        labels = batch[\"target_ids\"]\n",
        "        labels[labels[:, :] == self.tokenizer.pad_token_id] = -100\n",
        "\n",
        "        outputs = self(\n",
        "            input_ids=batch[\"source_ids\"],\n",
        "            attention_mask=batch[\"source_mask\"],\n",
        "            labels=labels,\n",
        "            decoder_attention_mask=batch['target_mask']\n",
        "        )\n",
        "\n",
        "        loss = outputs[0]\n",
        "\n",
        "        return loss\n",
        "    \n",
        "    \n",
        "    def ids_to_clean_text(self, generated_ids):\n",
        "        gen_text = self.tokenizer.batch_decode(\n",
        "            generated_ids, skip_special_tokens=True, clean_up_tokenization_spaces=True\n",
        "        )\n",
        "        return self.lmap(str.strip, gen_text)\n",
        "    \n",
        "    \n",
        "    def _generative_step(self, batch) :\n",
        "        \n",
        "        t0 = time.time()\n",
        "        \n",
        "        generated_ids = self.model.generate(\n",
        "            batch[\"source_ids\"],\n",
        "            attention_mask=batch[\"source_mask\"],\n",
        "            use_cache=True,\n",
        "            decoder_attention_mask=batch['target_mask'],\n",
        "            max_length=150, \n",
        "            num_beams=2,\n",
        "            repetition_penalty=2.5, \n",
        "            length_penalty=1.0, \n",
        "            early_stopping=True\n",
        "        )\n",
        "        preds = self.ids_to_clean_text(generated_ids)\n",
        "        target = self.ids_to_clean_text(batch[\"target_ids\"])\n",
        "            \n",
        "        gen_time = (time.time() - t0) / batch[\"source_ids\"].shape[0]  \n",
        "    \n",
        "        loss = self._step(batch)\n",
        "        base_metrics = {'val_loss': loss}\n",
        "#         rouge: Dict = self.calc_generative_metrics(preds, target)\n",
        "        summ_len = np.mean(self.lmap(len, generated_ids))\n",
        "        base_metrics.update(gen_time=gen_time, gen_len=summ_len, preds=preds, target=target)\n",
        "        self.rouge_metric.add_batch(preds, target)\n",
        "        \n",
        "#         rouge_results = self.rouge_metric.compute() \n",
        "#         rouge_dict = self.parse_score(rouge_results)\n",
        "#         base_metrics.update(rouge1=rouge_dict['rouge1'], rougeL=rouge_dict['rougeL'])\n",
        "        \n",
        "        return base_metrics\n",
        "    \n",
        "\n",
        "    def training_step(self, batch, batch_idx):\n",
        "        #MANUAL OPT.\n",
        "        opt = self.optimizers()\n",
        "\n",
        "        loss = self._step(batch)\n",
        "\n",
        "\n",
        "        opt.zero_grad()\n",
        "        self.manual_backward(loss)\n",
        "\n",
        "        # clip gradients\n",
        "        self.clip_gradients(opt, gradient_clip_val=0.5, gradient_clip_algorithm=\"norm\")\n",
        "\n",
        "        opt.step()\n",
        "\n",
        "        #dobavila\n",
        "        self.training_step_outputs.append(loss)\n",
        "\n",
        "        tensorboard_logs = {\"train_loss\": loss}\n",
        "\n",
        "\n",
        "\n",
        "        return {\"loss\": loss, \"log\": tensorboard_logs}\n",
        "    \n",
        "    #def training_epoch_end(self, outputs):\n",
        "    #    avg_train_loss = torch.stack([x[\"loss\"] for x in outputs]).mean()\n",
        "    def on_train_epoch_end(self):\n",
        "        avg_train_loss = torch.stack(self.training_step_outputs).mean()\n",
        "        tensorboard_logs = {\"avg_train_loss\": avg_train_loss}\n",
        "        self.training_step_outputs.clear()  # free memory\n",
        "        return {\"avg_train_loss\": avg_train_loss, \"log\": tensorboard_logs, 'progress_bar': tensorboard_logs}\n",
        "\n",
        "    def validation_step(self, batch, batch_idx):\n",
        "        loss = self._step(batch) #верно ли - самостоятельно добавила?\n",
        "        self.validation_step_outputs.append(loss)\n",
        "        return self._generative_step(batch)\n",
        "    \n",
        "  \n",
        "    #def validation_epoch_end(self, outputs):\n",
        "    def on_validation_epoch_end(self):\n",
        "        \n",
        "        #avg_loss = torch.stack([x[\"val_loss\"] for x in outputs]).mean()\n",
        "        avg_loss = torch.stack(self.validation_step_outputs).mean()\n",
        "        tensorboard_logs = {\"val_loss\": avg_loss}\n",
        "        \n",
        "        rouge_results = self.rouge_metric.compute() \n",
        "        rouge_dict = self.parse_score(rouge_results)\n",
        "    \n",
        "        tensorboard_logs.update(rouge1=rouge_dict['rouge1'], rougeL=rouge_dict['rougeL'])\n",
        "        \n",
        "        ## Clear out the lists for next epoch\n",
        "        self.target_gen= []\n",
        "        self.prediction_gen=[]\n",
        "        self.validation_step_outputs.clear()  # free memory\n",
        "        return {\"avg_val_loss\": avg_loss, \n",
        "                \"rouge1\" : rouge_results['rouge1'],\n",
        "                \"rougeL\" : rouge_results['rougeL'],\n",
        "                \"log\": tensorboard_logs, 'progress_bar': tensorboard_logs}\n",
        "\n",
        "    def configure_optimizers(self):\n",
        "        \"Prepare optimizer and schedule (linear warmup and decay)\"\n",
        "\n",
        "        model = self.model\n",
        "        no_decay = [\"bias\", \"LayerNorm.weight\"]\n",
        "        optimizer_grouped_parameters = [\n",
        "            {\n",
        "                \"params\": [p for n, p in model.named_parameters() if not any(nd in n for nd in no_decay)],\n",
        "                \"weight_decay\": self.hparams.weight_decay,\n",
        "            },\n",
        "            {\n",
        "                \"params\": [p for n, p in model.named_parameters() if any(nd in n for nd in no_decay)],\n",
        "                \"weight_decay\": 0.0,\n",
        "            },\n",
        "        ]\n",
        "        optimizer = AdamW(optimizer_grouped_parameters, lr=self.hparams.learning_rate, eps=self.hparams.adam_epsilon)\n",
        "        self.opt = optimizer\n",
        "        return [optimizer]\n",
        "  \n",
        "    #def optimizer_step(self, epoch, batch_idx, optimizer, optimizer_idx, second_order_closure=None, using_native_amp=False):\n",
        "    #    if self.trainer.use_tpu:\n",
        "    #        xm.optimizer_step(optimizer)\n",
        "    #    else:\n",
        "    #        optimizer.step()\n",
        "    #    optimizer.zero_grad()\n",
        "    #    self.lr_scheduler.step()\n",
        "    def optimizer_step(self,\n",
        "                     epoch=None,\n",
        "                     batch_idx=None,\n",
        "                     optimizer=None,\n",
        "                     optimizer_idx=None,\n",
        "                     optimizer_closure=None,\n",
        "                     on_tpu=None,\n",
        "                     using_native_amp=None,\n",
        "                     using_lbfgs=None):\n",
        "        optimizer.step(closure=optimizer_closure)\n",
        "        optimizer.zero_grad()\n",
        "        self.lr_scheduler.step()\n",
        "  \n",
        "    def get_tqdm_dict(self):\n",
        "        tqdm_dict = {\"loss\": \"{:.3f}\".format(self.trainer.avg_loss), \"lr\": self.lr_scheduler.get_last_lr()[-1]}\n",
        "\n",
        "        return tqdm_dict\n",
        "    \n",
        "\n",
        "    def train_dataloader(self):   \n",
        "        n_samples = self.n_obs['train']\n",
        "        train_dataset = get_dataset(tokenizer=self.tokenizer, type_path=\"train\", num_samples=n_samples, args=self.hparams)\n",
        "        dataloader = DataLoader(train_dataset, batch_size=self.hparams.train_batch_size, drop_last=True, shuffle=True, num_workers=4)\n",
        "        t_total = (\n",
        "            (len(dataloader.dataset) // (self.hparams.train_batch_size * max(1, self.hparams.n_gpu)))\n",
        "            // self.hparams.gradient_accumulation_steps\n",
        "            * float(self.hparams.num_train_epochs)\n",
        "        )\n",
        "        scheduler = get_linear_schedule_with_warmup(\n",
        "            self.opt, num_warmup_steps=self.hparams.warmup_steps, num_training_steps=t_total\n",
        "        )\n",
        "        self.lr_scheduler = scheduler\n",
        "        return dataloader\n",
        "\n",
        "    def val_dataloader(self):\n",
        "        n_samples = self.n_obs['validation']\n",
        "        validation_dataset = get_dataset(tokenizer=self.tokenizer, type_path=\"validation\", num_samples=n_samples, args=self.hparams)\n",
        "        \n",
        "        return DataLoader(validation_dataset, batch_size=self.hparams.eval_batch_size, num_workers=4)\n",
        "    \n",
        "    \n",
        "    def test_dataloader(self):\n",
        "        n_samples = self.n_obs['test']\n",
        "        test_dataset = get_dataset(tokenizer=self.tokenizer, type_path=\"test\", num_samples=n_samples, args=self.hparams)\n",
        "        \n",
        "        return DataLoader(test_dataset, batch_size=self.hparams.eval_batch_size, num_workers=4)"
      ]
    },
    {
      "cell_type": "code",
      "execution_count": 27,
      "metadata": {
        "ExecuteTime": {
          "end_time": "2020-09-01T13:44:39.192404Z",
          "start_time": "2020-09-01T13:44:39.186281Z"
        },
        "id": "lhRyntHbStWg"
      },
      "outputs": [],
      "source": [
        "logger = logging.getLogger(__name__)\n",
        "\n",
        "class LoggingCallback(pl.Callback):\n",
        "    def on_validation_end(self, trainer, pl_module):\n",
        "        logger.info(\"***** Validation results *****\")\n",
        "        if pl_module.is_logger():\n",
        "            metrics = trainer.callback_metrics\n",
        "            # Log results\n",
        "            for key in sorted(metrics):\n",
        "                if key not in [\"log\", \"progress_bar\"]:\n",
        "                    logger.info(\"{} = {}\\n\".format(key, str(metrics[key])))\n",
        "\n",
        "    def on_test_end(self, trainer, pl_module):\n",
        "        logger.info(\"***** Test results *****\")\n",
        "\n",
        "        if pl_module.is_logger():\n",
        "            metrics = trainer.callback_metrics\n",
        "\n",
        "            # Log and save results to file\n",
        "            output_test_results_file = os.path.join(pl_module.hparams.output_dir, \"test_results.txt\")\n",
        "            with open(output_test_results_file, \"w\") as writer:\n",
        "                for key in sorted(metrics):\n",
        "                    if key not in [\"log\", \"progress_bar\"]:\n",
        "                        logger.info(\"{} = {}\\n\".format(key, str(metrics[key])))\n",
        "                        writer.write(\"{} = {}\\n\".format(key, str(metrics[key])))"
      ]
    },
    {
      "cell_type": "markdown",
      "metadata": {
        "id": "Jg3juvQoStWg"
      },
      "source": [
        "## Define a DataSet class for the loader"
      ]
    },
    {
      "cell_type": "code",
      "execution_count": 28,
      "metadata": {
        "ExecuteTime": {
          "end_time": "2020-09-01T13:44:39.203467Z",
          "start_time": "2020-09-01T13:44:39.193447Z"
        },
        "id": "glnt-Ya1StWg"
      },
      "outputs": [],
      "source": [
        "class wikihow(Dataset):\n",
        "    def __init__(self, tokenizer, type_path, num_samples, input_length, output_length, print_text=False):         \n",
        "        #self.dataset =  load_dataset('wikihow', 'all', data_dir='data/', split=type_path)\n",
        "        self.dataset = load_dataset('ccdv/arxiv-summarization', split = type_path)\n",
        "        if num_samples:\n",
        "            self.dataset = self.dataset.select(list(range(0, num_samples)))\n",
        "        self.input_length = input_length\n",
        "        self.tokenizer = tokenizer\n",
        "        self.output_length = output_length\n",
        "        self.print_text = print_text\n",
        "  \n",
        "    def __len__(self):\n",
        "        return self.dataset.shape[0]\n",
        "    \n",
        "    def clean_text(self, text):\n",
        "        text = text.replace('Example of text:', '')\n",
        "        text = text.replace('Example of Summary:', '')\n",
        "        text = text.replace('\\n','')\n",
        "        text = text.replace('``', '')\n",
        "        text = text.replace('\"', '')\n",
        "        \n",
        "        return text\n",
        "    \n",
        "    \n",
        "    def convert_to_features(self, example_batch):\n",
        "        # Tokenize contexts and questions (as pairs of inputs)\n",
        "        \n",
        "        if self.print_text:\n",
        "            print(\"Input Text: \", self.clean_text(example_batch['article']))\n",
        "#         input_ = self.clean_text(example_batch['text']) + \" </s>\"\n",
        "#         target_ = self.clean_text(example_batch['headline']) + \" </s>\"\n",
        "        \n",
        "        input_ = self.clean_text(example_batch['article'])\n",
        "        target_ = self.clean_text(example_batch['abstract'])\n",
        "        \n",
        "        source = self.tokenizer.batch_encode_plus([input_], max_length=self.input_length, \n",
        "                                                     padding='max_length', truncation=True, return_tensors=\"pt\")\n",
        "        \n",
        "        targets = self.tokenizer.batch_encode_plus([target_], max_length=self.output_length, \n",
        "                                                     padding='max_length', truncation=True, return_tensors=\"pt\")\n",
        "    \n",
        "       \n",
        "        return source, targets\n",
        "  \n",
        "    def __getitem__(self, index):\n",
        "        source, targets = self.convert_to_features(self.dataset[index])\n",
        "        \n",
        "        source_ids = source[\"input_ids\"].squeeze()\n",
        "        target_ids = targets[\"input_ids\"].squeeze()\n",
        "\n",
        "        src_mask    = source[\"attention_mask\"].squeeze()\n",
        "        target_mask = targets[\"attention_mask\"].squeeze()\n",
        "\n",
        "        return {\"source_ids\": source_ids, \"source_mask\": src_mask, \"target_ids\": target_ids, \"target_mask\": target_mask}\n",
        "        \n",
        "  "
      ]
    },
    {
      "cell_type": "markdown",
      "metadata": {
        "id": "gUvGnca6StWh"
      },
      "source": [
        "### Test the dataset function"
      ]
    },
    {
      "cell_type": "code",
      "execution_count": 29,
      "metadata": {
        "ExecuteTime": {
          "end_time": "2020-09-02T18:55:41.647100Z",
          "start_time": "2020-09-02T18:55:41.023703Z"
        },
        "id": "mXgnhSnjStWh",
        "outputId": "0775b374-8169-4c90-8a48-d768ab8718f0",
        "colab": {
          "base_uri": "https://localhost:8080/",
          "height": 264,
          "referenced_widgets": [
            "d4e9b71f36be41ee8f8bbbb095a98e92",
            "3a5c60deab864de597e2f4a5f558a5c2",
            "cf3885baafb54f6facbe1c42ef253d2e",
            "3c134ae8f7a747b6a9a6c20bb50f4621",
            "5d58345379b64f22b12dba38b9d19762",
            "e31f10efc87743ecb7e41fc35ae6dfcf",
            "16567897f4d74d88bf791cd57b804803",
            "115b0b7bd5ac4d47b3e6151d8b99561e",
            "6595cdf1ab5347cda8eba0dadc18a6d2",
            "1d105d955db94aabbed39dd540a1b5fb",
            "7d5d29e3a68e47ce85cbb5d510a7f786",
            "cf76d32d09e9442fa48a5cac79cc0341",
            "6b1e7699db924c869fe3b2106ac61f1d",
            "42858ded7b254653aecfbd234d0f6c35",
            "df33702f7bb94a95b46f13d8da2ba525",
            "651a989f33594b79a3f1854961896058",
            "b4cef53287a3430daed68334b558a402",
            "3fd2a5e23da8447f9b41004659107333",
            "48dcfe41deaf48ee9b131795dcd8f965",
            "399f996d811d42b587df0940fe775178",
            "310ccc22e5fc4b7da9abc0ac45ec5bc6",
            "aa5a33b5a6334201a70f915763687894"
          ]
        }
      },
      "outputs": [
        {
          "output_type": "display_data",
          "data": {
            "text/plain": [
              "Downloading (…)ve/main/spiece.model:   0%|          | 0.00/792k [00:00<?, ?B/s]"
            ],
            "application/vnd.jupyter.widget-view+json": {
              "version_major": 2,
              "version_minor": 0,
              "model_id": "d4e9b71f36be41ee8f8bbbb095a98e92"
            }
          },
          "metadata": {}
        },
        {
          "output_type": "display_data",
          "data": {
            "text/plain": [
              "Downloading (…)lve/main/config.json:   0%|          | 0.00/1.21k [00:00<?, ?B/s]"
            ],
            "application/vnd.jupyter.widget-view+json": {
              "version_major": 2,
              "version_minor": 0,
              "model_id": "cf76d32d09e9442fa48a5cac79cc0341"
            }
          },
          "metadata": {}
        },
        {
          "output_type": "stream",
          "name": "stderr",
          "text": [
            "/usr/local/lib/python3.9/dist-packages/transformers/models/t5/tokenization_t5.py:163: FutureWarning: This tokenizer was incorrectly instantiated with a model max length of 512 which will be corrected in Transformers v5.\n",
            "For now, this behavior is kept to avoid breaking backwards compatibility when padding/encoding with `truncation is True`.\n",
            "- Be aware that you SHOULD NOT rely on t5-small automatically truncating your input to 512 when padding/encoding.\n",
            "- If you want to encode/pad to sequences longer than 512 you can either instantiate this tokenizer with `model_max_length` or pass `max_length` when encoding/padding.\n",
            "- To avoid this warning, please instantiate this tokenizer with `model_max_length` set to your preferred value.\n",
            "  warnings.warn(\n",
            "WARNING:datasets.builder:No config specified, defaulting to: arxiv-summarization/section\n",
            "WARNING:datasets.builder:Found cached dataset arxiv-summarization (/root/.cache/huggingface/datasets/ccdv___arxiv-summarization/section/1.0.0/fa2c9abf4312afb8660ef8e041d576b8e3943ea96ae771bd3cd091b5798e7cc3)\n"
          ]
        },
        {
          "output_type": "execute_result",
          "data": {
            "text/plain": [
              "6436"
            ]
          },
          "metadata": {},
          "execution_count": 29
        }
      ],
      "source": [
        "tokenizer = T5Tokenizer.from_pretrained('t5-small')\n",
        "dataset = wikihow(tokenizer, 'validation', None, 512, 150, True)\n",
        "len(dataset)"
      ]
    },
    {
      "cell_type": "markdown",
      "metadata": {
        "id": "y29Pte5ZStWh"
      },
      "source": [
        "## Define Arguments"
      ]
    },
    {
      "cell_type": "code",
      "execution_count": 30,
      "metadata": {
        "ExecuteTime": {
          "end_time": "2020-09-01T13:44:39.830252Z",
          "start_time": "2020-09-01T13:44:39.824446Z"
        },
        "id": "WyXsi0DEStWi"
      },
      "outputs": [],
      "source": [
        "args_dict = dict(\n",
        "    output_dir=\"t5_output\", # path to save the checkpoints\n",
        "    model_name_or_path='t5-small',\n",
        "    tokenizer_name_or_path='t5-small',\n",
        "    max_input_length=512,\n",
        "    max_output_length=150,\n",
        "    freeze_encoder=False,\n",
        "    freeze_embeds=False,\n",
        "    learning_rate=3e-4,\n",
        "    weight_decay=0.0,\n",
        "    adam_epsilon=1e-8,\n",
        "    warmup_steps=0,\n",
        "    train_batch_size=4,\n",
        "    eval_batch_size=4,\n",
        "    num_train_epochs=2,\n",
        "    gradient_accumulation_steps=8,\n",
        "    n_gpu=1,\n",
        "    resume_from_checkpoint=None, \n",
        "    val_check_interval = 0.05, \n",
        "    n_val=1000,\n",
        "    n_train=-1,\n",
        "    n_test=-1,\n",
        "    early_stop_callback=False,\n",
        "    fp_16=False, # if you want to enable 16-bit training then install apex and set this to true\n",
        "    opt_level='O1', # you can find out more on optimisation levels here https://nvidia.github.io/apex/amp.html#opt-levels-and-properties\n",
        "    max_grad_norm=1.0, # if you enable 16-bit training then set this to a sensible value, 0.5 is a good default\n",
        "    seed=42,\n",
        ")"
      ]
    },
    {
      "cell_type": "code",
      "source": [],
      "metadata": {
        "id": "KYFbjZHCh38W"
      },
      "execution_count": 30,
      "outputs": []
    },
    {
      "cell_type": "code",
      "source": [
        "!mkdir -p t5_output"
      ],
      "metadata": {
        "id": "633bSP5Ab-O5"
      },
      "execution_count": 31,
      "outputs": []
    },
    {
      "cell_type": "code",
      "execution_count": 32,
      "metadata": {
        "ExecuteTime": {
          "end_time": "2020-09-01T13:44:39.836856Z",
          "start_time": "2020-09-01T13:44:39.831154Z"
        },
        "id": "4-coFdhJStWi",
        "outputId": "29b9fced-17be-470a-8af3-58d77ddce820",
        "colab": {
          "base_uri": "https://localhost:8080/"
        }
      },
      "outputs": [
        {
          "output_type": "stream",
          "name": "stdout",
          "text": [
            "{'output_dir': 't5_output', 'model_name_or_path': 't5-small', 'tokenizer_name_or_path': 't5-small', 'max_input_length': 512, 'max_output_length': 150, 'freeze_encoder': False, 'freeze_embeds': False, 'learning_rate': 0.0003, 'weight_decay': 0.0, 'adam_epsilon': 1e-08, 'warmup_steps': 0, 'train_batch_size': 4, 'eval_batch_size': 4, 'num_train_epochs': 2, 'gradient_accumulation_steps': 8, 'n_gpu': 1, 'resume_from_checkpoint': None, 'val_check_interval': 0.05, 'n_val': 1000, 'n_train': -1, 'n_test': -1, 'early_stop_callback': False, 'fp_16': False, 'opt_level': 'O1', 'max_grad_norm': 1.0, 'seed': 42}\n"
          ]
        }
      ],
      "source": [
        "args_dict.update({'output_dir': 't5_output', 'num_train_epochs':2,\n",
        "                 'train_batch_size': 4, 'eval_batch_size': 4})\n",
        "args = argparse.Namespace(**args_dict)\n",
        "print(args_dict)"
      ]
    },
    {
      "cell_type": "code",
      "execution_count": 39,
      "metadata": {
        "ExecuteTime": {
          "end_time": "2020-09-01T13:44:39.843602Z",
          "start_time": "2020-09-01T13:44:39.837733Z"
        },
        "id": "YtUjgrngStWi"
      },
      "outputs": [],
      "source": [
        "## Define Checkpoint function\n",
        "checkpoint_callback = pl.callbacks.ModelCheckpoint( monitor=\"val_loss\", mode=\"min\", save_top_k=3\n",
        ")\n",
        "\n",
        "## If resuming from checkpoint, add an arg resume_from_checkpoint\n",
        "train_params = dict(\n",
        "    #закомментировала все gradient, т.к. manual optimization не совместима\n",
        "    #accumulate_grad_batches=args.gradient_accumulation_steps,\n",
        "    accelerator = \"gpu\",\n",
        "    #gpus = args.n_gpu,\n",
        "    max_epochs=args.num_train_epochs,\n",
        "    #early_stop_callback=False,\n",
        "    precision= 16 if args.fp_16 else 32,\n",
        "    #amp_level=args.opt_level,\n",
        "    #resume_from_checkpoint=args.resume_from_checkpoint,\n",
        "    #gradient_clip_val=args.max_grad_norm,\n",
        "    val_check_interval=args.val_check_interval,\n",
        "    logger=wandb_logger,\n",
        "    callbacks=[LoggingCallback(), checkpoint_callback],\n",
        ")"
      ]
    },
    {
      "cell_type": "code",
      "execution_count": 40,
      "metadata": {
        "ExecuteTime": {
          "end_time": "2020-09-01T13:44:39.853037Z",
          "start_time": "2020-09-01T13:44:39.844578Z"
        },
        "id": "eBywNLreStWj"
      },
      "outputs": [],
      "source": [
        "def get_dataset(tokenizer, type_path, num_samples, args):\n",
        "      return wikihow(tokenizer=tokenizer, type_path=type_path, num_samples=num_samples,  input_length=args.max_input_length, \n",
        "                        output_length=args.max_output_length)"
      ]
    },
    {
      "cell_type": "markdown",
      "metadata": {
        "id": "-1_TJ18NStWj"
      },
      "source": [
        "## Train Model"
      ]
    },
    {
      "cell_type": "code",
      "source": [
        "!pip install -U darts"
      ],
      "metadata": {
        "colab": {
          "base_uri": "https://localhost:8080/"
        },
        "id": "yVgVF6iunfLW",
        "outputId": "2a236909-6689-4fc3-a742-4e06a4854208"
      },
      "execution_count": 41,
      "outputs": [
        {
          "output_type": "stream",
          "name": "stdout",
          "text": [
            "Looking in indexes: https://pypi.org/simple, https://us-python.pkg.dev/colab-wheels/public/simple/\n",
            "Requirement already satisfied: darts in /usr/local/lib/python3.9/dist-packages (0.23.1)\n",
            "Requirement already satisfied: requests>=2.22.0 in /usr/local/lib/python3.9/dist-packages (from darts) (2.27.1)\n",
            "Requirement already satisfied: pyod>=0.9.5 in /usr/local/lib/python3.9/dist-packages (from darts) (1.0.9)\n",
            "Requirement already satisfied: holidays>=0.11.1 in /usr/local/lib/python3.9/dist-packages (from darts) (0.21.13)\n",
            "Requirement already satisfied: torch>=1.8.0 in /usr/local/lib/python3.9/dist-packages (from darts) (1.13.1+cu116)\n",
            "Requirement already satisfied: joblib>=0.16.0 in /usr/local/lib/python3.9/dist-packages (from darts) (1.1.1)\n",
            "Requirement already satisfied: prophet>=1.1.1 in /usr/local/lib/python3.9/dist-packages (from darts) (1.1.2)\n",
            "Requirement already satisfied: pandas>=1.0.5 in /usr/local/lib/python3.9/dist-packages (from darts) (1.4.4)\n",
            "Requirement already satisfied: xarray>=0.17.0 in /usr/local/lib/python3.9/dist-packages (from darts) (2022.12.0)\n",
            "Requirement already satisfied: statsforecast>=1.0.0 in /usr/local/lib/python3.9/dist-packages (from darts) (1.5.0)\n",
            "Requirement already satisfied: xgboost>=1.6.0 in /usr/local/lib/python3.9/dist-packages (from darts) (1.7.4)\n",
            "Requirement already satisfied: tqdm>=4.60.0 in /usr/local/lib/python3.9/dist-packages (from darts) (4.65.0)\n",
            "Requirement already satisfied: nfoursid>=1.0.0 in /usr/local/lib/python3.9/dist-packages (from darts) (1.0.1)\n",
            "Requirement already satisfied: tbats>=1.1.0 in /usr/local/lib/python3.9/dist-packages (from darts) (1.1.2)\n",
            "Requirement already satisfied: lightgbm>=3.2.0 in /usr/local/lib/python3.9/dist-packages (from darts) (3.3.5)\n",
            "Requirement already satisfied: shap>=0.40.0 in /usr/local/lib/python3.9/dist-packages (from darts) (0.41.0)\n",
            "Requirement already satisfied: catboost>=1.0.6 in /usr/local/lib/python3.9/dist-packages (from darts) (1.1.1)\n",
            "Requirement already satisfied: statsmodels>=0.13.0 in /usr/local/lib/python3.9/dist-packages (from darts) (0.13.5)\n",
            "Requirement already satisfied: scipy>=1.3.2 in /usr/local/lib/python3.9/dist-packages (from darts) (1.10.1)\n",
            "Requirement already satisfied: matplotlib>=3.3.0 in /usr/local/lib/python3.9/dist-packages (from darts) (3.7.1)\n",
            "Requirement already satisfied: pytorch-lightning>=1.5.0 in /usr/local/lib/python3.9/dist-packages (from darts) (2.0.0)\n",
            "Requirement already satisfied: pmdarima>=1.8.0 in /usr/local/lib/python3.9/dist-packages (from darts) (2.0.3)\n",
            "Requirement already satisfied: numpy>=1.19.0 in /usr/local/lib/python3.9/dist-packages (from darts) (1.22.4)\n",
            "Requirement already satisfied: scikit-learn>=1.0.1 in /usr/local/lib/python3.9/dist-packages (from darts) (1.2.2)\n",
            "Requirement already satisfied: graphviz in /usr/local/lib/python3.9/dist-packages (from catboost>=1.0.6->darts) (0.20.1)\n",
            "Requirement already satisfied: plotly in /usr/local/lib/python3.9/dist-packages (from catboost>=1.0.6->darts) (5.13.1)\n",
            "Requirement already satisfied: six in /usr/local/lib/python3.9/dist-packages (from catboost>=1.0.6->darts) (1.16.0)\n",
            "Requirement already satisfied: hijri-converter in /usr/local/lib/python3.9/dist-packages (from holidays>=0.11.1->darts) (2.2.4)\n",
            "Requirement already satisfied: PyMeeus in /usr/local/lib/python3.9/dist-packages (from holidays>=0.11.1->darts) (0.5.12)\n",
            "Requirement already satisfied: python-dateutil in /usr/local/lib/python3.9/dist-packages (from holidays>=0.11.1->darts) (2.8.2)\n",
            "Requirement already satisfied: korean-lunar-calendar in /usr/local/lib/python3.9/dist-packages (from holidays>=0.11.1->darts) (0.3.1)\n",
            "Requirement already satisfied: convertdate>=2.3.0 in /usr/local/lib/python3.9/dist-packages (from holidays>=0.11.1->darts) (2.4.0)\n",
            "Requirement already satisfied: wheel in /usr/local/lib/python3.9/dist-packages (from lightgbm>=3.2.0->darts) (0.40.0)\n",
            "Requirement already satisfied: contourpy>=1.0.1 in /usr/local/lib/python3.9/dist-packages (from matplotlib>=3.3.0->darts) (1.0.7)\n",
            "Requirement already satisfied: pyparsing>=2.3.1 in /usr/local/lib/python3.9/dist-packages (from matplotlib>=3.3.0->darts) (3.0.9)\n",
            "Requirement already satisfied: importlib-resources>=3.2.0 in /usr/local/lib/python3.9/dist-packages (from matplotlib>=3.3.0->darts) (5.12.0)\n",
            "Requirement already satisfied: pillow>=6.2.0 in /usr/local/lib/python3.9/dist-packages (from matplotlib>=3.3.0->darts) (8.4.0)\n",
            "Requirement already satisfied: cycler>=0.10 in /usr/local/lib/python3.9/dist-packages (from matplotlib>=3.3.0->darts) (0.11.0)\n",
            "Requirement already satisfied: packaging>=20.0 in /usr/local/lib/python3.9/dist-packages (from matplotlib>=3.3.0->darts) (23.0)\n",
            "Requirement already satisfied: fonttools>=4.22.0 in /usr/local/lib/python3.9/dist-packages (from matplotlib>=3.3.0->darts) (4.39.2)\n",
            "Requirement already satisfied: kiwisolver>=1.0.1 in /usr/local/lib/python3.9/dist-packages (from matplotlib>=3.3.0->darts) (1.4.4)\n",
            "Requirement already satisfied: pytz>=2020.1 in /usr/local/lib/python3.9/dist-packages (from pandas>=1.0.5->darts) (2022.7.1)\n",
            "Requirement already satisfied: setuptools!=50.0.0,>=38.6.0 in /usr/local/lib/python3.9/dist-packages (from pmdarima>=1.8.0->darts) (67.6.0)\n",
            "Requirement already satisfied: Cython!=0.29.18,!=0.29.31,>=0.29 in /usr/local/lib/python3.9/dist-packages (from pmdarima>=1.8.0->darts) (0.29.33)\n",
            "Requirement already satisfied: urllib3 in /usr/local/lib/python3.9/dist-packages (from pmdarima>=1.8.0->darts) (1.26.15)\n",
            "Requirement already satisfied: cmdstanpy>=1.0.4 in /usr/local/lib/python3.9/dist-packages (from prophet>=1.1.1->darts) (1.1.0)\n",
            "Requirement already satisfied: LunarCalendar>=0.0.9 in /usr/local/lib/python3.9/dist-packages (from prophet>=1.1.1->darts) (0.0.9)\n",
            "Requirement already satisfied: numba>=0.51 in /usr/local/lib/python3.9/dist-packages (from pyod>=0.9.5->darts) (0.56.4)\n",
            "Requirement already satisfied: typing-extensions>=4.0.0 in /usr/local/lib/python3.9/dist-packages (from pytorch-lightning>=1.5.0->darts) (4.5.0)\n",
            "Requirement already satisfied: PyYAML>=5.4 in /usr/local/lib/python3.9/dist-packages (from pytorch-lightning>=1.5.0->darts) (6.0)\n",
            "Requirement already satisfied: fsspec[http]>2021.06.0 in /usr/local/lib/python3.9/dist-packages (from pytorch-lightning>=1.5.0->darts) (2023.3.0)\n",
            "Requirement already satisfied: torchmetrics>=0.7.0 in /usr/local/lib/python3.9/dist-packages (from pytorch-lightning>=1.5.0->darts) (0.11.4)\n",
            "Requirement already satisfied: lightning-utilities>=0.7.0 in /usr/local/lib/python3.9/dist-packages (from pytorch-lightning>=1.5.0->darts) (0.8.0)\n",
            "Requirement already satisfied: idna<4,>=2.5 in /usr/local/lib/python3.9/dist-packages (from requests>=2.22.0->darts) (3.4)\n",
            "Requirement already satisfied: charset-normalizer~=2.0.0 in /usr/local/lib/python3.9/dist-packages (from requests>=2.22.0->darts) (2.0.12)\n",
            "Requirement already satisfied: certifi>=2017.4.17 in /usr/local/lib/python3.9/dist-packages (from requests>=2.22.0->darts) (2022.12.7)\n",
            "Requirement already satisfied: threadpoolctl>=2.0.0 in /usr/local/lib/python3.9/dist-packages (from scikit-learn>=1.0.1->darts) (3.1.0)\n",
            "Requirement already satisfied: cloudpickle in /usr/local/lib/python3.9/dist-packages (from shap>=0.40.0->darts) (2.2.1)\n",
            "Requirement already satisfied: slicer==0.0.7 in /usr/local/lib/python3.9/dist-packages (from shap>=0.40.0->darts) (0.0.7)\n",
            "Requirement already satisfied: plotly-resampler in /usr/local/lib/python3.9/dist-packages (from statsforecast>=1.0.0->darts) (0.8.3.2)\n",
            "Requirement already satisfied: fugue>=0.8.1 in /usr/local/lib/python3.9/dist-packages (from statsforecast>=1.0.0->darts) (0.8.2)\n",
            "Requirement already satisfied: patsy>=0.5.2 in /usr/local/lib/python3.9/dist-packages (from statsmodels>=0.13.0->darts) (0.5.3)\n",
            "Requirement already satisfied: aiohttp!=4.0.0a0,!=4.0.0a1 in /usr/local/lib/python3.9/dist-packages (from fsspec[http]>2021.06.0->pytorch-lightning>=1.5.0->darts) (3.8.4)\n",
            "Requirement already satisfied: pyarrow>=0.15.1 in /usr/local/lib/python3.9/dist-packages (from fugue>=0.8.1->statsforecast>=1.0.0->darts) (9.0.0)\n",
            "Requirement already satisfied: fugue-sql-antlr>=0.1.5 in /usr/local/lib/python3.9/dist-packages (from fugue>=0.8.1->statsforecast>=1.0.0->darts) (0.1.5)\n",
            "Requirement already satisfied: jinja2 in /usr/local/lib/python3.9/dist-packages (from fugue>=0.8.1->statsforecast>=1.0.0->darts) (3.1.2)\n",
            "Requirement already satisfied: triad>=0.8.4 in /usr/local/lib/python3.9/dist-packages (from fugue>=0.8.1->statsforecast>=1.0.0->darts) (0.8.4)\n",
            "Requirement already satisfied: qpd>=0.4.0 in /usr/local/lib/python3.9/dist-packages (from fugue>=0.8.1->statsforecast>=1.0.0->darts) (0.4.0)\n",
            "Requirement already satisfied: sqlglot in /usr/local/lib/python3.9/dist-packages (from fugue>=0.8.1->statsforecast>=1.0.0->darts) (11.4.3)\n",
            "Requirement already satisfied: adagio>=0.2.4 in /usr/local/lib/python3.9/dist-packages (from fugue>=0.8.1->statsforecast>=1.0.0->darts) (0.2.4)\n",
            "Requirement already satisfied: zipp>=3.1.0 in /usr/local/lib/python3.9/dist-packages (from importlib-resources>=3.2.0->matplotlib>=3.3.0->darts) (3.15.0)\n",
            "Requirement already satisfied: ephem>=3.7.5.3 in /usr/local/lib/python3.9/dist-packages (from LunarCalendar>=0.0.9->prophet>=1.1.1->darts) (4.1.4)\n",
            "Requirement already satisfied: llvmlite<0.40,>=0.39.0dev0 in /usr/local/lib/python3.9/dist-packages (from numba>=0.51->pyod>=0.9.5->darts) (0.39.1)\n",
            "Requirement already satisfied: tenacity>=6.2.0 in /usr/local/lib/python3.9/dist-packages (from plotly->catboost>=1.0.6->darts) (8.2.2)\n",
            "Requirement already satisfied: dash<3.0.0,>=2.2.0 in /usr/local/lib/python3.9/dist-packages (from plotly-resampler->statsforecast>=1.0.0->darts) (2.9.1)\n",
            "Requirement already satisfied: orjson<4.0.0,>=3.8.0 in /usr/local/lib/python3.9/dist-packages (from plotly-resampler->statsforecast>=1.0.0->darts) (3.8.8)\n",
            "Requirement already satisfied: jupyter-dash>=0.4.2 in /usr/local/lib/python3.9/dist-packages (from plotly-resampler->statsforecast>=1.0.0->darts) (0.4.2)\n",
            "Requirement already satisfied: trace-updater>=0.0.8 in /usr/local/lib/python3.9/dist-packages (from plotly-resampler->statsforecast>=1.0.0->darts) (0.0.9)\n",
            "Requirement already satisfied: async-timeout<5.0,>=4.0.0a3 in /usr/local/lib/python3.9/dist-packages (from aiohttp!=4.0.0a0,!=4.0.0a1->fsspec[http]>2021.06.0->pytorch-lightning>=1.5.0->darts) (4.0.2)\n",
            "Requirement already satisfied: aiosignal>=1.1.2 in /usr/local/lib/python3.9/dist-packages (from aiohttp!=4.0.0a0,!=4.0.0a1->fsspec[http]>2021.06.0->pytorch-lightning>=1.5.0->darts) (1.3.1)\n",
            "Requirement already satisfied: frozenlist>=1.1.1 in /usr/local/lib/python3.9/dist-packages (from aiohttp!=4.0.0a0,!=4.0.0a1->fsspec[http]>2021.06.0->pytorch-lightning>=1.5.0->darts) (1.3.3)\n",
            "Requirement already satisfied: yarl<2.0,>=1.0 in /usr/local/lib/python3.9/dist-packages (from aiohttp!=4.0.0a0,!=4.0.0a1->fsspec[http]>2021.06.0->pytorch-lightning>=1.5.0->darts) (1.8.2)\n",
            "Requirement already satisfied: multidict<7.0,>=4.5 in /usr/local/lib/python3.9/dist-packages (from aiohttp!=4.0.0a0,!=4.0.0a1->fsspec[http]>2021.06.0->pytorch-lightning>=1.5.0->darts) (6.0.4)\n",
            "Requirement already satisfied: attrs>=17.3.0 in /usr/local/lib/python3.9/dist-packages (from aiohttp!=4.0.0a0,!=4.0.0a1->fsspec[http]>2021.06.0->pytorch-lightning>=1.5.0->darts) (22.2.0)\n",
            "Requirement already satisfied: Flask>=1.0.4 in /usr/local/lib/python3.9/dist-packages (from dash<3.0.0,>=2.2.0->plotly-resampler->statsforecast>=1.0.0->darts) (2.2.3)\n",
            "Requirement already satisfied: dash-table==5.0.0 in /usr/local/lib/python3.9/dist-packages (from dash<3.0.0,>=2.2.0->plotly-resampler->statsforecast>=1.0.0->darts) (5.0.0)\n",
            "Requirement already satisfied: dash-html-components==2.0.0 in /usr/local/lib/python3.9/dist-packages (from dash<3.0.0,>=2.2.0->plotly-resampler->statsforecast>=1.0.0->darts) (2.0.0)\n",
            "Requirement already satisfied: dash-core-components==2.0.0 in /usr/local/lib/python3.9/dist-packages (from dash<3.0.0,>=2.2.0->plotly-resampler->statsforecast>=1.0.0->darts) (2.0.0)\n",
            "Requirement already satisfied: antlr4-python3-runtime<4.12,>=4.11.1 in /usr/local/lib/python3.9/dist-packages (from fugue-sql-antlr>=0.1.5->fugue>=0.8.1->statsforecast>=1.0.0->darts) (4.11.1)\n",
            "Requirement already satisfied: retrying in /usr/local/lib/python3.9/dist-packages (from jupyter-dash>=0.4.2->plotly-resampler->statsforecast>=1.0.0->darts) (1.3.4)\n",
            "Requirement already satisfied: nest-asyncio in /usr/local/lib/python3.9/dist-packages (from jupyter-dash>=0.4.2->plotly-resampler->statsforecast>=1.0.0->darts) (1.5.6)\n",
            "Requirement already satisfied: ipython in /usr/local/lib/python3.9/dist-packages (from jupyter-dash>=0.4.2->plotly-resampler->statsforecast>=1.0.0->darts) (7.9.0)\n",
            "Requirement already satisfied: ipykernel in /usr/local/lib/python3.9/dist-packages (from jupyter-dash>=0.4.2->plotly-resampler->statsforecast>=1.0.0->darts) (5.3.4)\n",
            "Requirement already satisfied: ansi2html in /usr/local/lib/python3.9/dist-packages (from jupyter-dash>=0.4.2->plotly-resampler->statsforecast>=1.0.0->darts) (1.8.0)\n",
            "Requirement already satisfied: fs in /usr/local/lib/python3.9/dist-packages (from triad>=0.8.4->fugue>=0.8.1->statsforecast>=1.0.0->darts) (2.4.16)\n",
            "Requirement already satisfied: MarkupSafe>=2.0 in /usr/local/lib/python3.9/dist-packages (from jinja2->fugue>=0.8.1->statsforecast>=1.0.0->darts) (2.1.2)\n",
            "Requirement already satisfied: click>=8.0 in /usr/local/lib/python3.9/dist-packages (from Flask>=1.0.4->dash<3.0.0,>=2.2.0->plotly-resampler->statsforecast>=1.0.0->darts) (8.1.3)\n",
            "Requirement already satisfied: itsdangerous>=2.0 in /usr/local/lib/python3.9/dist-packages (from Flask>=1.0.4->dash<3.0.0,>=2.2.0->plotly-resampler->statsforecast>=1.0.0->darts) (2.1.2)\n",
            "Requirement already satisfied: importlib-metadata>=3.6.0 in /usr/local/lib/python3.9/dist-packages (from Flask>=1.0.4->dash<3.0.0,>=2.2.0->plotly-resampler->statsforecast>=1.0.0->darts) (6.1.0)\n",
            "Requirement already satisfied: Werkzeug>=2.2.2 in /usr/local/lib/python3.9/dist-packages (from Flask>=1.0.4->dash<3.0.0,>=2.2.0->plotly-resampler->statsforecast>=1.0.0->darts) (2.2.3)\n",
            "Requirement already satisfied: appdirs~=1.4.3 in /usr/local/lib/python3.9/dist-packages (from fs->triad>=0.8.4->fugue>=0.8.1->statsforecast>=1.0.0->darts) (1.4.4)\n",
            "Requirement already satisfied: jupyter-client in /usr/local/lib/python3.9/dist-packages (from ipykernel->jupyter-dash>=0.4.2->plotly-resampler->statsforecast>=1.0.0->darts) (6.1.12)\n",
            "Requirement already satisfied: traitlets>=4.1.0 in /usr/local/lib/python3.9/dist-packages (from ipykernel->jupyter-dash>=0.4.2->plotly-resampler->statsforecast>=1.0.0->darts) (5.7.1)\n",
            "Requirement already satisfied: tornado>=4.2 in /usr/local/lib/python3.9/dist-packages (from ipykernel->jupyter-dash>=0.4.2->plotly-resampler->statsforecast>=1.0.0->darts) (6.2)\n",
            "Requirement already satisfied: pickleshare in /usr/local/lib/python3.9/dist-packages (from ipython->jupyter-dash>=0.4.2->plotly-resampler->statsforecast>=1.0.0->darts) (0.7.5)\n",
            "Requirement already satisfied: pygments in /usr/local/lib/python3.9/dist-packages (from ipython->jupyter-dash>=0.4.2->plotly-resampler->statsforecast>=1.0.0->darts) (2.14.0)\n",
            "Requirement already satisfied: prompt-toolkit<2.1.0,>=2.0.0 in /usr/local/lib/python3.9/dist-packages (from ipython->jupyter-dash>=0.4.2->plotly-resampler->statsforecast>=1.0.0->darts) (2.0.10)\n",
            "Requirement already satisfied: pexpect in /usr/local/lib/python3.9/dist-packages (from ipython->jupyter-dash>=0.4.2->plotly-resampler->statsforecast>=1.0.0->darts) (4.8.0)\n",
            "Requirement already satisfied: jedi>=0.10 in /usr/local/lib/python3.9/dist-packages (from ipython->jupyter-dash>=0.4.2->plotly-resampler->statsforecast>=1.0.0->darts) (0.18.2)\n",
            "Requirement already satisfied: backcall in /usr/local/lib/python3.9/dist-packages (from ipython->jupyter-dash>=0.4.2->plotly-resampler->statsforecast>=1.0.0->darts) (0.2.0)\n",
            "Requirement already satisfied: decorator in /usr/local/lib/python3.9/dist-packages (from ipython->jupyter-dash>=0.4.2->plotly-resampler->statsforecast>=1.0.0->darts) (4.4.2)\n",
            "Requirement already satisfied: parso<0.9.0,>=0.8.0 in /usr/local/lib/python3.9/dist-packages (from jedi>=0.10->ipython->jupyter-dash>=0.4.2->plotly-resampler->statsforecast>=1.0.0->darts) (0.8.3)\n",
            "Requirement already satisfied: wcwidth in /usr/local/lib/python3.9/dist-packages (from prompt-toolkit<2.1.0,>=2.0.0->ipython->jupyter-dash>=0.4.2->plotly-resampler->statsforecast>=1.0.0->darts) (0.2.6)\n",
            "Traceback (most recent call last):\n",
            "  File \"/usr/local/lib/python3.9/dist-packages/pip/_internal/cli/base_command.py\", line 167, in exc_logging_wrapper\n",
            "    status = run_func(*args)\n",
            "  File \"/usr/local/lib/python3.9/dist-packages/pip/_internal/cli/req_command.py\", line 199, in wrapper\n",
            "    return func(self, options, args)\n",
            "  File \"/usr/local/lib/python3.9/dist-packages/pip/_internal/commands/install.py\", line 339, in run\n",
            "    requirement_set = resolver.resolve(\n",
            "  File \"/usr/local/lib/python3.9/dist-packages/pip/_internal/resolution/resolvelib/resolver.py\", line 94, in resolve\n",
            "    result = self._result = resolver.resolve(\n",
            "  File \"/usr/local/lib/python3.9/dist-packages/pip/_vendor/resolvelib/resolvers.py\", line 481, in resolve\n",
            "    state = resolution.resolve(requirements, max_rounds=max_rounds)\n",
            "  File \"/usr/local/lib/python3.9/dist-packages/pip/_vendor/resolvelib/resolvers.py\", line 360, in resolve\n",
            "    unsatisfied_names = [\n",
            "  File \"/usr/local/lib/python3.9/dist-packages/pip/_vendor/resolvelib/resolvers.py\", line 363, in <listcomp>\n",
            "    if not self._is_current_pin_satisfying(key, criterion)\n",
            "  File \"/usr/local/lib/python3.9/dist-packages/pip/_vendor/resolvelib/resolvers.py\", line 196, in _is_current_pin_satisfying\n",
            "    return all(\n",
            "  File \"/usr/local/lib/python3.9/dist-packages/pip/_vendor/resolvelib/resolvers.py\", line 197, in <genexpr>\n",
            "    self._p.is_satisfied_by(requirement=r, candidate=current_pin)\n",
            "  File \"/usr/local/lib/python3.9/dist-packages/pip/_internal/resolution/resolvelib/provider.py\", line 233, in is_satisfied_by\n",
            "    return requirement.is_satisfied_by(candidate)\n",
            "  File \"/usr/local/lib/python3.9/dist-packages/pip/_internal/resolution/resolvelib/requirements.py\", line 93, in is_satisfied_by\n",
            "    return spec.contains(candidate.version, prereleases=True)\n",
            "  File \"/usr/local/lib/python3.9/dist-packages/pip/_vendor/packaging/specifiers.py\", line 749, in contains\n",
            "    return all(s.contains(item, prereleases=prereleases) for s in self._specs)\n",
            "  File \"/usr/local/lib/python3.9/dist-packages/pip/_vendor/packaging/specifiers.py\", line 749, in <genexpr>\n",
            "    return all(s.contains(item, prereleases=prereleases) for s in self._specs)\n",
            "  File \"/usr/local/lib/python3.9/dist-packages/pip/_vendor/packaging/specifiers.py\", line 189, in contains\n",
            "    return operator_callable(normalized_item, self.version)\n",
            "  File \"/usr/local/lib/python3.9/dist-packages/pip/_vendor/packaging/specifiers.py\", line 294, in wrapped\n",
            "    return fn(self, prospective, spec)\n",
            "  File \"/usr/local/lib/python3.9/dist-packages/pip/_vendor/packaging/specifiers.py\", line 489, in _compare_greater_than_equal\n",
            "    return Version(prospective.public) >= Version(spec)\n",
            "  File \"/usr/local/lib/python3.9/dist-packages/pip/_vendor/packaging/version.py\", line 276, in __init__\n",
            "    dev=_parse_letter_version(match.group(\"dev_l\"), match.group(\"dev_n\")),\n",
            "KeyboardInterrupt\n",
            "\n",
            "During handling of the above exception, another exception occurred:\n",
            "\n",
            "Traceback (most recent call last):\n",
            "  File \"/usr/local/bin/pip3\", line 8, in <module>\n",
            "    sys.exit(main())\n",
            "  File \"/usr/local/lib/python3.9/dist-packages/pip/_internal/cli/main.py\", line 70, in main\n",
            "    return command.main(cmd_args)\n",
            "  File \"/usr/local/lib/python3.9/dist-packages/pip/_internal/cli/base_command.py\", line 101, in main\n",
            "    return self._main(args)\n",
            "  File \"/usr/local/lib/python3.9/dist-packages/pip/_internal/cli/base_command.py\", line 221, in _main\n",
            "    return run(options, args)\n",
            "  File \"/usr/local/lib/python3.9/dist-packages/pip/_internal/cli/base_command.py\", line 204, in exc_logging_wrapper\n",
            "    logger.critical(\"Operation cancelled by user\")\n",
            "  File \"/usr/lib/python3.9/logging/__init__.py\", line 1493, in critical\n",
            "    self._log(CRITICAL, msg, args, **kwargs)\n",
            "  File \"/usr/lib/python3.9/logging/__init__.py\", line 1577, in _log\n",
            "    fn, lno, func, sinfo = self.findCaller(stack_info, stacklevel)\n",
            "  File \"/usr/lib/python3.9/logging/__init__.py\", line 1531, in findCaller\n",
            "    while hasattr(f, \"f_code\"):\n",
            "KeyboardInterrupt\n",
            "^C\n"
          ]
        }
      ]
    },
    {
      "cell_type": "code",
      "execution_count": 42,
      "metadata": {
        "ExecuteTime": {
          "end_time": "2020-09-01T13:44:42.048444Z",
          "start_time": "2020-09-01T13:44:39.854009Z"
        },
        "id": "XCsbjZc6StWj",
        "colab": {
          "base_uri": "https://localhost:8080/",
          "height": 320
        },
        "outputId": "45a8a24e-954d-46c5-dda9-bdc85a82441c"
      },
      "outputs": [
        {
          "output_type": "error",
          "ename": "KeyboardInterrupt",
          "evalue": "ignored",
          "traceback": [
            "\u001b[0;31m---------------------------------------------------------------------------\u001b[0m",
            "\u001b[0;31mKeyboardInterrupt\u001b[0m                         Traceback (most recent call last)",
            "\u001b[0;32m<ipython-input-42-10e7c6aa1f29>\u001b[0m in \u001b[0;36m<module>\u001b[0;34m\u001b[0m\n\u001b[0;32m----> 1\u001b[0;31m \u001b[0mmodel\u001b[0m \u001b[0;34m=\u001b[0m \u001b[0mT5FineTuner\u001b[0m\u001b[0;34m(\u001b[0m\u001b[0margs\u001b[0m\u001b[0;34m)\u001b[0m\u001b[0;34m\u001b[0m\u001b[0;34m\u001b[0m\u001b[0m\n\u001b[0m",
            "\u001b[0;32m<ipython-input-26-d3a619874b43>\u001b[0m in \u001b[0;36m__init__\u001b[0;34m(self, hparams)\u001b[0m\n\u001b[1;32m      7\u001b[0m \u001b[0;34m\u001b[0m\u001b[0m\n\u001b[1;32m      8\u001b[0m         \u001b[0mself\u001b[0m\u001b[0;34m.\u001b[0m\u001b[0msave_hyperparameters\u001b[0m\u001b[0;34m(\u001b[0m\u001b[0mhparams\u001b[0m\u001b[0;34m)\u001b[0m\u001b[0;34m\u001b[0m\u001b[0;34m\u001b[0m\u001b[0m\n\u001b[0;32m----> 9\u001b[0;31m         \u001b[0mself\u001b[0m\u001b[0;34m.\u001b[0m\u001b[0mmodel\u001b[0m \u001b[0;34m=\u001b[0m \u001b[0mT5ForConditionalGeneration\u001b[0m\u001b[0;34m.\u001b[0m\u001b[0mfrom_pretrained\u001b[0m\u001b[0;34m(\u001b[0m\u001b[0mhparams\u001b[0m\u001b[0;34m.\u001b[0m\u001b[0mmodel_name_or_path\u001b[0m\u001b[0;34m)\u001b[0m\u001b[0;34m\u001b[0m\u001b[0;34m\u001b[0m\u001b[0m\n\u001b[0m\u001b[1;32m     10\u001b[0m         \u001b[0mself\u001b[0m\u001b[0;34m.\u001b[0m\u001b[0mtokenizer\u001b[0m \u001b[0;34m=\u001b[0m \u001b[0mT5Tokenizer\u001b[0m\u001b[0;34m.\u001b[0m\u001b[0mfrom_pretrained\u001b[0m\u001b[0;34m(\u001b[0m\u001b[0mhparams\u001b[0m\u001b[0;34m.\u001b[0m\u001b[0mtokenizer_name_or_path\u001b[0m\u001b[0;34m)\u001b[0m\u001b[0;34m\u001b[0m\u001b[0;34m\u001b[0m\u001b[0m\n\u001b[1;32m     11\u001b[0m         \u001b[0mself\u001b[0m\u001b[0;34m.\u001b[0m\u001b[0mrouge_metric\u001b[0m \u001b[0;34m=\u001b[0m \u001b[0mload_metric\u001b[0m\u001b[0;34m(\u001b[0m\u001b[0;34m'rouge'\u001b[0m\u001b[0;34m)\u001b[0m\u001b[0;34m\u001b[0m\u001b[0;34m\u001b[0m\u001b[0m\n",
            "\u001b[0;32m/usr/local/lib/python3.9/dist-packages/transformers/modeling_utils.py\u001b[0m in \u001b[0;36mfrom_pretrained\u001b[0;34m(cls, pretrained_model_name_or_path, *model_args, **kwargs)\u001b[0m\n\u001b[1;32m   2675\u001b[0m         \u001b[0;32mif\u001b[0m \u001b[0mmodel\u001b[0m\u001b[0;34m.\u001b[0m\u001b[0mcan_generate\u001b[0m\u001b[0;34m(\u001b[0m\u001b[0;34m)\u001b[0m\u001b[0;34m:\u001b[0m\u001b[0;34m\u001b[0m\u001b[0;34m\u001b[0m\u001b[0m\n\u001b[1;32m   2676\u001b[0m             \u001b[0;32mtry\u001b[0m\u001b[0;34m:\u001b[0m\u001b[0;34m\u001b[0m\u001b[0;34m\u001b[0m\u001b[0m\n\u001b[0;32m-> 2677\u001b[0;31m                 model.generation_config = GenerationConfig.from_pretrained(\n\u001b[0m\u001b[1;32m   2678\u001b[0m                     \u001b[0mpretrained_model_name_or_path\u001b[0m\u001b[0;34m,\u001b[0m\u001b[0;34m\u001b[0m\u001b[0;34m\u001b[0m\u001b[0m\n\u001b[1;32m   2679\u001b[0m                     \u001b[0mcache_dir\u001b[0m\u001b[0;34m=\u001b[0m\u001b[0mcache_dir\u001b[0m\u001b[0;34m,\u001b[0m\u001b[0;34m\u001b[0m\u001b[0;34m\u001b[0m\u001b[0m\n",
            "\u001b[0;32m/usr/local/lib/python3.9/dist-packages/transformers/generation/configuration_utils.py\u001b[0m in \u001b[0;36mfrom_pretrained\u001b[0;34m(cls, pretrained_model_name, config_file_name, **kwargs)\u001b[0m\n\u001b[1;32m    495\u001b[0m             \u001b[0;32mtry\u001b[0m\u001b[0;34m:\u001b[0m\u001b[0;34m\u001b[0m\u001b[0;34m\u001b[0m\u001b[0m\n\u001b[1;32m    496\u001b[0m                 \u001b[0;31m# Load from local folder or from cache or download from model Hub and cache\u001b[0m\u001b[0;34m\u001b[0m\u001b[0;34m\u001b[0m\u001b[0m\n\u001b[0;32m--> 497\u001b[0;31m                 resolved_config_file = cached_file(\n\u001b[0m\u001b[1;32m    498\u001b[0m                     \u001b[0mpretrained_model_name\u001b[0m\u001b[0;34m,\u001b[0m\u001b[0;34m\u001b[0m\u001b[0;34m\u001b[0m\u001b[0m\n\u001b[1;32m    499\u001b[0m                     \u001b[0mconfiguration_file\u001b[0m\u001b[0;34m,\u001b[0m\u001b[0;34m\u001b[0m\u001b[0;34m\u001b[0m\u001b[0m\n",
            "\u001b[0;32m/usr/local/lib/python3.9/dist-packages/transformers/utils/hub.py\u001b[0m in \u001b[0;36mcached_file\u001b[0;34m(path_or_repo_id, filename, cache_dir, force_download, resume_download, proxies, use_auth_token, revision, local_files_only, subfolder, user_agent, _raise_exceptions_for_missing_entries, _raise_exceptions_for_connection_errors, _commit_hash)\u001b[0m\n\u001b[1;32m    407\u001b[0m     \u001b[0;32mtry\u001b[0m\u001b[0;34m:\u001b[0m\u001b[0;34m\u001b[0m\u001b[0;34m\u001b[0m\u001b[0m\n\u001b[1;32m    408\u001b[0m         \u001b[0;31m# Load from URL or cache if already cached\u001b[0m\u001b[0;34m\u001b[0m\u001b[0;34m\u001b[0m\u001b[0m\n\u001b[0;32m--> 409\u001b[0;31m         resolved_file = hf_hub_download(\n\u001b[0m\u001b[1;32m    410\u001b[0m             \u001b[0mpath_or_repo_id\u001b[0m\u001b[0;34m,\u001b[0m\u001b[0;34m\u001b[0m\u001b[0;34m\u001b[0m\u001b[0m\n\u001b[1;32m    411\u001b[0m             \u001b[0mfilename\u001b[0m\u001b[0;34m,\u001b[0m\u001b[0;34m\u001b[0m\u001b[0;34m\u001b[0m\u001b[0m\n",
            "\u001b[0;32m/usr/local/lib/python3.9/dist-packages/huggingface_hub/utils/_validators.py\u001b[0m in \u001b[0;36m_inner_fn\u001b[0;34m(*args, **kwargs)\u001b[0m\n\u001b[1;32m    118\u001b[0m             \u001b[0mkwargs\u001b[0m \u001b[0;34m=\u001b[0m \u001b[0msmoothly_deprecate_use_auth_token\u001b[0m\u001b[0;34m(\u001b[0m\u001b[0mfn_name\u001b[0m\u001b[0;34m=\u001b[0m\u001b[0mfn\u001b[0m\u001b[0;34m.\u001b[0m\u001b[0m__name__\u001b[0m\u001b[0;34m,\u001b[0m \u001b[0mhas_token\u001b[0m\u001b[0;34m=\u001b[0m\u001b[0mhas_token\u001b[0m\u001b[0;34m,\u001b[0m \u001b[0mkwargs\u001b[0m\u001b[0;34m=\u001b[0m\u001b[0mkwargs\u001b[0m\u001b[0;34m)\u001b[0m\u001b[0;34m\u001b[0m\u001b[0;34m\u001b[0m\u001b[0m\n\u001b[1;32m    119\u001b[0m \u001b[0;34m\u001b[0m\u001b[0m\n\u001b[0;32m--> 120\u001b[0;31m         \u001b[0;32mreturn\u001b[0m \u001b[0mfn\u001b[0m\u001b[0;34m(\u001b[0m\u001b[0;34m*\u001b[0m\u001b[0margs\u001b[0m\u001b[0;34m,\u001b[0m \u001b[0;34m**\u001b[0m\u001b[0mkwargs\u001b[0m\u001b[0;34m)\u001b[0m\u001b[0;34m\u001b[0m\u001b[0;34m\u001b[0m\u001b[0m\n\u001b[0m\u001b[1;32m    121\u001b[0m \u001b[0;34m\u001b[0m\u001b[0m\n\u001b[1;32m    122\u001b[0m     \u001b[0;32mreturn\u001b[0m \u001b[0m_inner_fn\u001b[0m  \u001b[0;31m# type: ignore\u001b[0m\u001b[0;34m\u001b[0m\u001b[0;34m\u001b[0m\u001b[0m\n",
            "\u001b[0;32m/usr/local/lib/python3.9/dist-packages/huggingface_hub/file_download.py\u001b[0m in \u001b[0;36mhf_hub_download\u001b[0;34m(repo_id, filename, subfolder, repo_type, revision, library_name, library_version, cache_dir, local_dir, local_dir_use_symlinks, user_agent, force_download, force_filename, proxies, etag_timeout, resume_download, token, local_files_only, legacy_cache_layout)\u001b[0m\n\u001b[1;32m   1158\u001b[0m         \u001b[0;32mtry\u001b[0m\u001b[0;34m:\u001b[0m\u001b[0;34m\u001b[0m\u001b[0;34m\u001b[0m\u001b[0m\n\u001b[1;32m   1159\u001b[0m             \u001b[0;32mtry\u001b[0m\u001b[0;34m:\u001b[0m\u001b[0;34m\u001b[0m\u001b[0;34m\u001b[0m\u001b[0m\n\u001b[0;32m-> 1160\u001b[0;31m                 metadata = get_hf_file_metadata(\n\u001b[0m\u001b[1;32m   1161\u001b[0m                     \u001b[0murl\u001b[0m\u001b[0;34m=\u001b[0m\u001b[0murl\u001b[0m\u001b[0;34m,\u001b[0m\u001b[0;34m\u001b[0m\u001b[0;34m\u001b[0m\u001b[0m\n\u001b[1;32m   1162\u001b[0m                     \u001b[0mtoken\u001b[0m\u001b[0;34m=\u001b[0m\u001b[0mtoken\u001b[0m\u001b[0;34m,\u001b[0m\u001b[0;34m\u001b[0m\u001b[0;34m\u001b[0m\u001b[0m\n",
            "\u001b[0;32m/usr/local/lib/python3.9/dist-packages/huggingface_hub/utils/_validators.py\u001b[0m in \u001b[0;36m_inner_fn\u001b[0;34m(*args, **kwargs)\u001b[0m\n\u001b[1;32m    118\u001b[0m             \u001b[0mkwargs\u001b[0m \u001b[0;34m=\u001b[0m \u001b[0msmoothly_deprecate_use_auth_token\u001b[0m\u001b[0;34m(\u001b[0m\u001b[0mfn_name\u001b[0m\u001b[0;34m=\u001b[0m\u001b[0mfn\u001b[0m\u001b[0;34m.\u001b[0m\u001b[0m__name__\u001b[0m\u001b[0;34m,\u001b[0m \u001b[0mhas_token\u001b[0m\u001b[0;34m=\u001b[0m\u001b[0mhas_token\u001b[0m\u001b[0;34m,\u001b[0m \u001b[0mkwargs\u001b[0m\u001b[0;34m=\u001b[0m\u001b[0mkwargs\u001b[0m\u001b[0;34m)\u001b[0m\u001b[0;34m\u001b[0m\u001b[0;34m\u001b[0m\u001b[0m\n\u001b[1;32m    119\u001b[0m \u001b[0;34m\u001b[0m\u001b[0m\n\u001b[0;32m--> 120\u001b[0;31m         \u001b[0;32mreturn\u001b[0m \u001b[0mfn\u001b[0m\u001b[0;34m(\u001b[0m\u001b[0;34m*\u001b[0m\u001b[0margs\u001b[0m\u001b[0;34m,\u001b[0m \u001b[0;34m**\u001b[0m\u001b[0mkwargs\u001b[0m\u001b[0;34m)\u001b[0m\u001b[0;34m\u001b[0m\u001b[0;34m\u001b[0m\u001b[0m\n\u001b[0m\u001b[1;32m    121\u001b[0m \u001b[0;34m\u001b[0m\u001b[0m\n\u001b[1;32m    122\u001b[0m     \u001b[0;32mreturn\u001b[0m \u001b[0m_inner_fn\u001b[0m  \u001b[0;31m# type: ignore\u001b[0m\u001b[0;34m\u001b[0m\u001b[0;34m\u001b[0m\u001b[0m\n",
            "\u001b[0;32m/usr/local/lib/python3.9/dist-packages/huggingface_hub/file_download.py\u001b[0m in \u001b[0;36mget_hf_file_metadata\u001b[0;34m(url, token, proxies, timeout)\u001b[0m\n\u001b[1;32m   1490\u001b[0m \u001b[0;34m\u001b[0m\u001b[0m\n\u001b[1;32m   1491\u001b[0m     \u001b[0;31m# Retrieve metadata\u001b[0m\u001b[0;34m\u001b[0m\u001b[0;34m\u001b[0m\u001b[0m\n\u001b[0;32m-> 1492\u001b[0;31m     r = _request_wrapper(\n\u001b[0m\u001b[1;32m   1493\u001b[0m         \u001b[0mmethod\u001b[0m\u001b[0;34m=\u001b[0m\u001b[0;34m\"HEAD\"\u001b[0m\u001b[0;34m,\u001b[0m\u001b[0;34m\u001b[0m\u001b[0;34m\u001b[0m\u001b[0m\n\u001b[1;32m   1494\u001b[0m         \u001b[0murl\u001b[0m\u001b[0;34m=\u001b[0m\u001b[0murl\u001b[0m\u001b[0;34m,\u001b[0m\u001b[0;34m\u001b[0m\u001b[0;34m\u001b[0m\u001b[0m\n",
            "\u001b[0;32m/usr/local/lib/python3.9/dist-packages/huggingface_hub/file_download.py\u001b[0m in \u001b[0;36m_request_wrapper\u001b[0;34m(method, url, max_retries, base_wait_time, max_wait_time, timeout, follow_relative_redirects, **params)\u001b[0m\n\u001b[1;32m    405\u001b[0m     \u001b[0;31m# 2. Force relative redirection\u001b[0m\u001b[0;34m\u001b[0m\u001b[0;34m\u001b[0m\u001b[0m\n\u001b[1;32m    406\u001b[0m     \u001b[0;32mif\u001b[0m \u001b[0mfollow_relative_redirects\u001b[0m\u001b[0;34m:\u001b[0m\u001b[0;34m\u001b[0m\u001b[0;34m\u001b[0m\u001b[0m\n\u001b[0;32m--> 407\u001b[0;31m         response = _request_wrapper(\n\u001b[0m\u001b[1;32m    408\u001b[0m             \u001b[0mmethod\u001b[0m\u001b[0;34m=\u001b[0m\u001b[0mmethod\u001b[0m\u001b[0;34m,\u001b[0m\u001b[0;34m\u001b[0m\u001b[0;34m\u001b[0m\u001b[0m\n\u001b[1;32m    409\u001b[0m             \u001b[0murl\u001b[0m\u001b[0;34m=\u001b[0m\u001b[0murl\u001b[0m\u001b[0;34m,\u001b[0m\u001b[0;34m\u001b[0m\u001b[0;34m\u001b[0m\u001b[0m\n",
            "\u001b[0;32m/usr/local/lib/python3.9/dist-packages/huggingface_hub/file_download.py\u001b[0m in \u001b[0;36m_request_wrapper\u001b[0;34m(method, url, max_retries, base_wait_time, max_wait_time, timeout, follow_relative_redirects, **params)\u001b[0m\n\u001b[1;32m    440\u001b[0m \u001b[0;34m\u001b[0m\u001b[0m\n\u001b[1;32m    441\u001b[0m     \u001b[0;31m# 3. Exponential backoff\u001b[0m\u001b[0;34m\u001b[0m\u001b[0;34m\u001b[0m\u001b[0m\n\u001b[0;32m--> 442\u001b[0;31m     return http_backoff(\n\u001b[0m\u001b[1;32m    443\u001b[0m         \u001b[0mmethod\u001b[0m\u001b[0;34m=\u001b[0m\u001b[0mmethod\u001b[0m\u001b[0;34m,\u001b[0m\u001b[0;34m\u001b[0m\u001b[0;34m\u001b[0m\u001b[0m\n\u001b[1;32m    444\u001b[0m         \u001b[0murl\u001b[0m\u001b[0;34m=\u001b[0m\u001b[0murl\u001b[0m\u001b[0;34m,\u001b[0m\u001b[0;34m\u001b[0m\u001b[0;34m\u001b[0m\u001b[0m\n",
            "\u001b[0;32m/usr/local/lib/python3.9/dist-packages/huggingface_hub/utils/_http.py\u001b[0m in \u001b[0;36mhttp_backoff\u001b[0;34m(method, url, max_retries, base_wait_time, max_wait_time, retry_on_exceptions, retry_on_status_codes, **kwargs)\u001b[0m\n\u001b[1;32m    127\u001b[0m \u001b[0;34m\u001b[0m\u001b[0m\n\u001b[1;32m    128\u001b[0m             \u001b[0;31m# Perform request and return if status_code is not in the retry list.\u001b[0m\u001b[0;34m\u001b[0m\u001b[0;34m\u001b[0m\u001b[0m\n\u001b[0;32m--> 129\u001b[0;31m             \u001b[0mresponse\u001b[0m \u001b[0;34m=\u001b[0m \u001b[0mrequests\u001b[0m\u001b[0;34m.\u001b[0m\u001b[0mrequest\u001b[0m\u001b[0;34m(\u001b[0m\u001b[0mmethod\u001b[0m\u001b[0;34m=\u001b[0m\u001b[0mmethod\u001b[0m\u001b[0;34m,\u001b[0m \u001b[0murl\u001b[0m\u001b[0;34m=\u001b[0m\u001b[0murl\u001b[0m\u001b[0;34m,\u001b[0m \u001b[0;34m**\u001b[0m\u001b[0mkwargs\u001b[0m\u001b[0;34m)\u001b[0m\u001b[0;34m\u001b[0m\u001b[0;34m\u001b[0m\u001b[0m\n\u001b[0m\u001b[1;32m    130\u001b[0m             \u001b[0;32mif\u001b[0m \u001b[0mresponse\u001b[0m\u001b[0;34m.\u001b[0m\u001b[0mstatus_code\u001b[0m \u001b[0;32mnot\u001b[0m \u001b[0;32min\u001b[0m \u001b[0mretry_on_status_codes\u001b[0m\u001b[0;34m:\u001b[0m\u001b[0;34m\u001b[0m\u001b[0;34m\u001b[0m\u001b[0m\n\u001b[1;32m    131\u001b[0m                 \u001b[0;32mreturn\u001b[0m \u001b[0mresponse\u001b[0m\u001b[0;34m\u001b[0m\u001b[0;34m\u001b[0m\u001b[0m\n",
            "\u001b[0;32m/usr/local/lib/python3.9/dist-packages/requests/api.py\u001b[0m in \u001b[0;36mrequest\u001b[0;34m(method, url, **kwargs)\u001b[0m\n\u001b[1;32m     59\u001b[0m     \u001b[0;31m# cases, and look like a memory leak in others.\u001b[0m\u001b[0;34m\u001b[0m\u001b[0;34m\u001b[0m\u001b[0m\n\u001b[1;32m     60\u001b[0m     \u001b[0;32mwith\u001b[0m \u001b[0msessions\u001b[0m\u001b[0;34m.\u001b[0m\u001b[0mSession\u001b[0m\u001b[0;34m(\u001b[0m\u001b[0;34m)\u001b[0m \u001b[0;32mas\u001b[0m \u001b[0msession\u001b[0m\u001b[0;34m:\u001b[0m\u001b[0;34m\u001b[0m\u001b[0;34m\u001b[0m\u001b[0m\n\u001b[0;32m---> 61\u001b[0;31m         \u001b[0;32mreturn\u001b[0m \u001b[0msession\u001b[0m\u001b[0;34m.\u001b[0m\u001b[0mrequest\u001b[0m\u001b[0;34m(\u001b[0m\u001b[0mmethod\u001b[0m\u001b[0;34m=\u001b[0m\u001b[0mmethod\u001b[0m\u001b[0;34m,\u001b[0m \u001b[0murl\u001b[0m\u001b[0;34m=\u001b[0m\u001b[0murl\u001b[0m\u001b[0;34m,\u001b[0m \u001b[0;34m**\u001b[0m\u001b[0mkwargs\u001b[0m\u001b[0;34m)\u001b[0m\u001b[0;34m\u001b[0m\u001b[0;34m\u001b[0m\u001b[0m\n\u001b[0m\u001b[1;32m     62\u001b[0m \u001b[0;34m\u001b[0m\u001b[0m\n\u001b[1;32m     63\u001b[0m \u001b[0;34m\u001b[0m\u001b[0m\n",
            "\u001b[0;32m/usr/local/lib/python3.9/dist-packages/requests/sessions.py\u001b[0m in \u001b[0;36mrequest\u001b[0;34m(self, method, url, params, data, headers, cookies, files, auth, timeout, allow_redirects, proxies, hooks, stream, verify, cert, json)\u001b[0m\n\u001b[1;32m    527\u001b[0m         }\n\u001b[1;32m    528\u001b[0m         \u001b[0msend_kwargs\u001b[0m\u001b[0;34m.\u001b[0m\u001b[0mupdate\u001b[0m\u001b[0;34m(\u001b[0m\u001b[0msettings\u001b[0m\u001b[0;34m)\u001b[0m\u001b[0;34m\u001b[0m\u001b[0;34m\u001b[0m\u001b[0m\n\u001b[0;32m--> 529\u001b[0;31m         \u001b[0mresp\u001b[0m \u001b[0;34m=\u001b[0m \u001b[0mself\u001b[0m\u001b[0;34m.\u001b[0m\u001b[0msend\u001b[0m\u001b[0;34m(\u001b[0m\u001b[0mprep\u001b[0m\u001b[0;34m,\u001b[0m \u001b[0;34m**\u001b[0m\u001b[0msend_kwargs\u001b[0m\u001b[0;34m)\u001b[0m\u001b[0;34m\u001b[0m\u001b[0;34m\u001b[0m\u001b[0m\n\u001b[0m\u001b[1;32m    530\u001b[0m \u001b[0;34m\u001b[0m\u001b[0m\n\u001b[1;32m    531\u001b[0m         \u001b[0;32mreturn\u001b[0m \u001b[0mresp\u001b[0m\u001b[0;34m\u001b[0m\u001b[0;34m\u001b[0m\u001b[0m\n",
            "\u001b[0;32m/usr/local/lib/python3.9/dist-packages/requests/sessions.py\u001b[0m in \u001b[0;36msend\u001b[0;34m(self, request, **kwargs)\u001b[0m\n\u001b[1;32m    643\u001b[0m \u001b[0;34m\u001b[0m\u001b[0m\n\u001b[1;32m    644\u001b[0m         \u001b[0;31m# Send the request\u001b[0m\u001b[0;34m\u001b[0m\u001b[0;34m\u001b[0m\u001b[0m\n\u001b[0;32m--> 645\u001b[0;31m         \u001b[0mr\u001b[0m \u001b[0;34m=\u001b[0m \u001b[0madapter\u001b[0m\u001b[0;34m.\u001b[0m\u001b[0msend\u001b[0m\u001b[0;34m(\u001b[0m\u001b[0mrequest\u001b[0m\u001b[0;34m,\u001b[0m \u001b[0;34m**\u001b[0m\u001b[0mkwargs\u001b[0m\u001b[0;34m)\u001b[0m\u001b[0;34m\u001b[0m\u001b[0;34m\u001b[0m\u001b[0m\n\u001b[0m\u001b[1;32m    646\u001b[0m \u001b[0;34m\u001b[0m\u001b[0m\n\u001b[1;32m    647\u001b[0m         \u001b[0;31m# Total elapsed time of the request (approximately)\u001b[0m\u001b[0;34m\u001b[0m\u001b[0;34m\u001b[0m\u001b[0m\n",
            "\u001b[0;32m/usr/local/lib/python3.9/dist-packages/requests/adapters.py\u001b[0m in \u001b[0;36msend\u001b[0;34m(self, request, stream, timeout, verify, cert, proxies)\u001b[0m\n\u001b[1;32m    438\u001b[0m         \u001b[0;32mtry\u001b[0m\u001b[0;34m:\u001b[0m\u001b[0;34m\u001b[0m\u001b[0;34m\u001b[0m\u001b[0m\n\u001b[1;32m    439\u001b[0m             \u001b[0;32mif\u001b[0m \u001b[0;32mnot\u001b[0m \u001b[0mchunked\u001b[0m\u001b[0;34m:\u001b[0m\u001b[0;34m\u001b[0m\u001b[0;34m\u001b[0m\u001b[0m\n\u001b[0;32m--> 440\u001b[0;31m                 resp = conn.urlopen(\n\u001b[0m\u001b[1;32m    441\u001b[0m                     \u001b[0mmethod\u001b[0m\u001b[0;34m=\u001b[0m\u001b[0mrequest\u001b[0m\u001b[0;34m.\u001b[0m\u001b[0mmethod\u001b[0m\u001b[0;34m,\u001b[0m\u001b[0;34m\u001b[0m\u001b[0;34m\u001b[0m\u001b[0m\n\u001b[1;32m    442\u001b[0m                     \u001b[0murl\u001b[0m\u001b[0;34m=\u001b[0m\u001b[0murl\u001b[0m\u001b[0;34m,\u001b[0m\u001b[0;34m\u001b[0m\u001b[0;34m\u001b[0m\u001b[0m\n",
            "\u001b[0;32m/usr/local/lib/python3.9/dist-packages/urllib3/connectionpool.py\u001b[0m in \u001b[0;36murlopen\u001b[0;34m(self, method, url, body, headers, retries, redirect, assert_same_host, timeout, pool_timeout, release_conn, chunked, body_pos, **response_kw)\u001b[0m\n\u001b[1;32m    701\u001b[0m \u001b[0;34m\u001b[0m\u001b[0m\n\u001b[1;32m    702\u001b[0m             \u001b[0;31m# Make the request on the httplib connection object.\u001b[0m\u001b[0;34m\u001b[0m\u001b[0;34m\u001b[0m\u001b[0m\n\u001b[0;32m--> 703\u001b[0;31m             httplib_response = self._make_request(\n\u001b[0m\u001b[1;32m    704\u001b[0m                 \u001b[0mconn\u001b[0m\u001b[0;34m,\u001b[0m\u001b[0;34m\u001b[0m\u001b[0;34m\u001b[0m\u001b[0m\n\u001b[1;32m    705\u001b[0m                 \u001b[0mmethod\u001b[0m\u001b[0;34m,\u001b[0m\u001b[0;34m\u001b[0m\u001b[0;34m\u001b[0m\u001b[0m\n",
            "\u001b[0;32m/usr/local/lib/python3.9/dist-packages/urllib3/connectionpool.py\u001b[0m in \u001b[0;36m_make_request\u001b[0;34m(self, conn, method, url, timeout, chunked, **httplib_request_kw)\u001b[0m\n\u001b[1;32m    447\u001b[0m                     \u001b[0;31m# Python 3 (including for exceptions like SystemExit).\u001b[0m\u001b[0;34m\u001b[0m\u001b[0;34m\u001b[0m\u001b[0m\n\u001b[1;32m    448\u001b[0m                     \u001b[0;31m# Otherwise it looks like a bug in the code.\u001b[0m\u001b[0;34m\u001b[0m\u001b[0;34m\u001b[0m\u001b[0m\n\u001b[0;32m--> 449\u001b[0;31m                     \u001b[0msix\u001b[0m\u001b[0;34m.\u001b[0m\u001b[0mraise_from\u001b[0m\u001b[0;34m(\u001b[0m\u001b[0me\u001b[0m\u001b[0;34m,\u001b[0m \u001b[0;32mNone\u001b[0m\u001b[0;34m)\u001b[0m\u001b[0;34m\u001b[0m\u001b[0;34m\u001b[0m\u001b[0m\n\u001b[0m\u001b[1;32m    450\u001b[0m         \u001b[0;32mexcept\u001b[0m \u001b[0;34m(\u001b[0m\u001b[0mSocketTimeout\u001b[0m\u001b[0;34m,\u001b[0m \u001b[0mBaseSSLError\u001b[0m\u001b[0;34m,\u001b[0m \u001b[0mSocketError\u001b[0m\u001b[0;34m)\u001b[0m \u001b[0;32mas\u001b[0m \u001b[0me\u001b[0m\u001b[0;34m:\u001b[0m\u001b[0;34m\u001b[0m\u001b[0;34m\u001b[0m\u001b[0m\n\u001b[1;32m    451\u001b[0m             \u001b[0mself\u001b[0m\u001b[0;34m.\u001b[0m\u001b[0m_raise_timeout\u001b[0m\u001b[0;34m(\u001b[0m\u001b[0merr\u001b[0m\u001b[0;34m=\u001b[0m\u001b[0me\u001b[0m\u001b[0;34m,\u001b[0m \u001b[0murl\u001b[0m\u001b[0;34m=\u001b[0m\u001b[0murl\u001b[0m\u001b[0;34m,\u001b[0m \u001b[0mtimeout_value\u001b[0m\u001b[0;34m=\u001b[0m\u001b[0mread_timeout\u001b[0m\u001b[0;34m)\u001b[0m\u001b[0;34m\u001b[0m\u001b[0;34m\u001b[0m\u001b[0m\n",
            "\u001b[0;32m/usr/local/lib/python3.9/dist-packages/urllib3/packages/six.py\u001b[0m in \u001b[0;36mraise_from\u001b[0;34m(value, from_value)\u001b[0m\n",
            "\u001b[0;32m/usr/local/lib/python3.9/dist-packages/urllib3/connectionpool.py\u001b[0m in \u001b[0;36m_make_request\u001b[0;34m(self, conn, method, url, timeout, chunked, **httplib_request_kw)\u001b[0m\n\u001b[1;32m    442\u001b[0m                 \u001b[0;31m# Python 3\u001b[0m\u001b[0;34m\u001b[0m\u001b[0;34m\u001b[0m\u001b[0m\n\u001b[1;32m    443\u001b[0m                 \u001b[0;32mtry\u001b[0m\u001b[0;34m:\u001b[0m\u001b[0;34m\u001b[0m\u001b[0;34m\u001b[0m\u001b[0m\n\u001b[0;32m--> 444\u001b[0;31m                     \u001b[0mhttplib_response\u001b[0m \u001b[0;34m=\u001b[0m \u001b[0mconn\u001b[0m\u001b[0;34m.\u001b[0m\u001b[0mgetresponse\u001b[0m\u001b[0;34m(\u001b[0m\u001b[0;34m)\u001b[0m\u001b[0;34m\u001b[0m\u001b[0;34m\u001b[0m\u001b[0m\n\u001b[0m\u001b[1;32m    445\u001b[0m                 \u001b[0;32mexcept\u001b[0m \u001b[0mBaseException\u001b[0m \u001b[0;32mas\u001b[0m \u001b[0me\u001b[0m\u001b[0;34m:\u001b[0m\u001b[0;34m\u001b[0m\u001b[0;34m\u001b[0m\u001b[0m\n\u001b[1;32m    446\u001b[0m                     \u001b[0;31m# Remove the TypeError from the exception chain in\u001b[0m\u001b[0;34m\u001b[0m\u001b[0;34m\u001b[0m\u001b[0m\n",
            "\u001b[0;32m/usr/lib/python3.9/http/client.py\u001b[0m in \u001b[0;36mgetresponse\u001b[0;34m(self)\u001b[0m\n\u001b[1;32m   1375\u001b[0m         \u001b[0;32mtry\u001b[0m\u001b[0;34m:\u001b[0m\u001b[0;34m\u001b[0m\u001b[0;34m\u001b[0m\u001b[0m\n\u001b[1;32m   1376\u001b[0m             \u001b[0;32mtry\u001b[0m\u001b[0;34m:\u001b[0m\u001b[0;34m\u001b[0m\u001b[0;34m\u001b[0m\u001b[0m\n\u001b[0;32m-> 1377\u001b[0;31m                 \u001b[0mresponse\u001b[0m\u001b[0;34m.\u001b[0m\u001b[0mbegin\u001b[0m\u001b[0;34m(\u001b[0m\u001b[0;34m)\u001b[0m\u001b[0;34m\u001b[0m\u001b[0;34m\u001b[0m\u001b[0m\n\u001b[0m\u001b[1;32m   1378\u001b[0m             \u001b[0;32mexcept\u001b[0m \u001b[0mConnectionError\u001b[0m\u001b[0;34m:\u001b[0m\u001b[0;34m\u001b[0m\u001b[0;34m\u001b[0m\u001b[0m\n\u001b[1;32m   1379\u001b[0m                 \u001b[0mself\u001b[0m\u001b[0;34m.\u001b[0m\u001b[0mclose\u001b[0m\u001b[0;34m(\u001b[0m\u001b[0;34m)\u001b[0m\u001b[0;34m\u001b[0m\u001b[0;34m\u001b[0m\u001b[0m\n",
            "\u001b[0;32m/usr/lib/python3.9/http/client.py\u001b[0m in \u001b[0;36mbegin\u001b[0;34m(self)\u001b[0m\n\u001b[1;32m    318\u001b[0m         \u001b[0;31m# read until we get a non-100 response\u001b[0m\u001b[0;34m\u001b[0m\u001b[0;34m\u001b[0m\u001b[0m\n\u001b[1;32m    319\u001b[0m         \u001b[0;32mwhile\u001b[0m \u001b[0;32mTrue\u001b[0m\u001b[0;34m:\u001b[0m\u001b[0;34m\u001b[0m\u001b[0;34m\u001b[0m\u001b[0m\n\u001b[0;32m--> 320\u001b[0;31m             \u001b[0mversion\u001b[0m\u001b[0;34m,\u001b[0m \u001b[0mstatus\u001b[0m\u001b[0;34m,\u001b[0m \u001b[0mreason\u001b[0m \u001b[0;34m=\u001b[0m \u001b[0mself\u001b[0m\u001b[0;34m.\u001b[0m\u001b[0m_read_status\u001b[0m\u001b[0;34m(\u001b[0m\u001b[0;34m)\u001b[0m\u001b[0;34m\u001b[0m\u001b[0;34m\u001b[0m\u001b[0m\n\u001b[0m\u001b[1;32m    321\u001b[0m             \u001b[0;32mif\u001b[0m \u001b[0mstatus\u001b[0m \u001b[0;34m!=\u001b[0m \u001b[0mCONTINUE\u001b[0m\u001b[0;34m:\u001b[0m\u001b[0;34m\u001b[0m\u001b[0;34m\u001b[0m\u001b[0m\n\u001b[1;32m    322\u001b[0m                 \u001b[0;32mbreak\u001b[0m\u001b[0;34m\u001b[0m\u001b[0;34m\u001b[0m\u001b[0m\n",
            "\u001b[0;32m/usr/lib/python3.9/http/client.py\u001b[0m in \u001b[0;36m_read_status\u001b[0;34m(self)\u001b[0m\n\u001b[1;32m    279\u001b[0m \u001b[0;34m\u001b[0m\u001b[0m\n\u001b[1;32m    280\u001b[0m     \u001b[0;32mdef\u001b[0m \u001b[0m_read_status\u001b[0m\u001b[0;34m(\u001b[0m\u001b[0mself\u001b[0m\u001b[0;34m)\u001b[0m\u001b[0;34m:\u001b[0m\u001b[0;34m\u001b[0m\u001b[0;34m\u001b[0m\u001b[0m\n\u001b[0;32m--> 281\u001b[0;31m         \u001b[0mline\u001b[0m \u001b[0;34m=\u001b[0m \u001b[0mstr\u001b[0m\u001b[0;34m(\u001b[0m\u001b[0mself\u001b[0m\u001b[0;34m.\u001b[0m\u001b[0mfp\u001b[0m\u001b[0;34m.\u001b[0m\u001b[0mreadline\u001b[0m\u001b[0;34m(\u001b[0m\u001b[0m_MAXLINE\u001b[0m \u001b[0;34m+\u001b[0m \u001b[0;36m1\u001b[0m\u001b[0;34m)\u001b[0m\u001b[0;34m,\u001b[0m \u001b[0;34m\"iso-8859-1\"\u001b[0m\u001b[0;34m)\u001b[0m\u001b[0;34m\u001b[0m\u001b[0;34m\u001b[0m\u001b[0m\n\u001b[0m\u001b[1;32m    282\u001b[0m         \u001b[0;32mif\u001b[0m \u001b[0mlen\u001b[0m\u001b[0;34m(\u001b[0m\u001b[0mline\u001b[0m\u001b[0;34m)\u001b[0m \u001b[0;34m>\u001b[0m \u001b[0m_MAXLINE\u001b[0m\u001b[0;34m:\u001b[0m\u001b[0;34m\u001b[0m\u001b[0;34m\u001b[0m\u001b[0m\n\u001b[1;32m    283\u001b[0m             \u001b[0;32mraise\u001b[0m \u001b[0mLineTooLong\u001b[0m\u001b[0;34m(\u001b[0m\u001b[0;34m\"status line\"\u001b[0m\u001b[0;34m)\u001b[0m\u001b[0;34m\u001b[0m\u001b[0;34m\u001b[0m\u001b[0m\n",
            "\u001b[0;32m/usr/lib/python3.9/socket.py\u001b[0m in \u001b[0;36mreadinto\u001b[0;34m(self, b)\u001b[0m\n\u001b[1;32m    702\u001b[0m         \u001b[0;32mwhile\u001b[0m \u001b[0;32mTrue\u001b[0m\u001b[0;34m:\u001b[0m\u001b[0;34m\u001b[0m\u001b[0;34m\u001b[0m\u001b[0m\n\u001b[1;32m    703\u001b[0m             \u001b[0;32mtry\u001b[0m\u001b[0;34m:\u001b[0m\u001b[0;34m\u001b[0m\u001b[0;34m\u001b[0m\u001b[0m\n\u001b[0;32m--> 704\u001b[0;31m                 \u001b[0;32mreturn\u001b[0m \u001b[0mself\u001b[0m\u001b[0;34m.\u001b[0m\u001b[0m_sock\u001b[0m\u001b[0;34m.\u001b[0m\u001b[0mrecv_into\u001b[0m\u001b[0;34m(\u001b[0m\u001b[0mb\u001b[0m\u001b[0;34m)\u001b[0m\u001b[0;34m\u001b[0m\u001b[0;34m\u001b[0m\u001b[0m\n\u001b[0m\u001b[1;32m    705\u001b[0m             \u001b[0;32mexcept\u001b[0m \u001b[0mtimeout\u001b[0m\u001b[0;34m:\u001b[0m\u001b[0;34m\u001b[0m\u001b[0;34m\u001b[0m\u001b[0m\n\u001b[1;32m    706\u001b[0m                 \u001b[0mself\u001b[0m\u001b[0;34m.\u001b[0m\u001b[0m_timeout_occurred\u001b[0m \u001b[0;34m=\u001b[0m \u001b[0;32mTrue\u001b[0m\u001b[0;34m\u001b[0m\u001b[0;34m\u001b[0m\u001b[0m\n",
            "\u001b[0;32m/usr/lib/python3.9/ssl.py\u001b[0m in \u001b[0;36mrecv_into\u001b[0;34m(self, buffer, nbytes, flags)\u001b[0m\n\u001b[1;32m   1240\u001b[0m                   \u001b[0;34m\"non-zero flags not allowed in calls to recv_into() on %s\"\u001b[0m \u001b[0;34m%\u001b[0m\u001b[0;34m\u001b[0m\u001b[0;34m\u001b[0m\u001b[0m\n\u001b[1;32m   1241\u001b[0m                   self.__class__)\n\u001b[0;32m-> 1242\u001b[0;31m             \u001b[0;32mreturn\u001b[0m \u001b[0mself\u001b[0m\u001b[0;34m.\u001b[0m\u001b[0mread\u001b[0m\u001b[0;34m(\u001b[0m\u001b[0mnbytes\u001b[0m\u001b[0;34m,\u001b[0m \u001b[0mbuffer\u001b[0m\u001b[0;34m)\u001b[0m\u001b[0;34m\u001b[0m\u001b[0;34m\u001b[0m\u001b[0m\n\u001b[0m\u001b[1;32m   1243\u001b[0m         \u001b[0;32melse\u001b[0m\u001b[0;34m:\u001b[0m\u001b[0;34m\u001b[0m\u001b[0;34m\u001b[0m\u001b[0m\n\u001b[1;32m   1244\u001b[0m             \u001b[0;32mreturn\u001b[0m \u001b[0msuper\u001b[0m\u001b[0;34m(\u001b[0m\u001b[0;34m)\u001b[0m\u001b[0;34m.\u001b[0m\u001b[0mrecv_into\u001b[0m\u001b[0;34m(\u001b[0m\u001b[0mbuffer\u001b[0m\u001b[0;34m,\u001b[0m \u001b[0mnbytes\u001b[0m\u001b[0;34m,\u001b[0m \u001b[0mflags\u001b[0m\u001b[0;34m)\u001b[0m\u001b[0;34m\u001b[0m\u001b[0;34m\u001b[0m\u001b[0m\n",
            "\u001b[0;32m/usr/lib/python3.9/ssl.py\u001b[0m in \u001b[0;36mread\u001b[0;34m(self, len, buffer)\u001b[0m\n\u001b[1;32m   1098\u001b[0m         \u001b[0;32mtry\u001b[0m\u001b[0;34m:\u001b[0m\u001b[0;34m\u001b[0m\u001b[0;34m\u001b[0m\u001b[0m\n\u001b[1;32m   1099\u001b[0m             \u001b[0;32mif\u001b[0m \u001b[0mbuffer\u001b[0m \u001b[0;32mis\u001b[0m \u001b[0;32mnot\u001b[0m \u001b[0;32mNone\u001b[0m\u001b[0;34m:\u001b[0m\u001b[0;34m\u001b[0m\u001b[0;34m\u001b[0m\u001b[0m\n\u001b[0;32m-> 1100\u001b[0;31m                 \u001b[0;32mreturn\u001b[0m \u001b[0mself\u001b[0m\u001b[0;34m.\u001b[0m\u001b[0m_sslobj\u001b[0m\u001b[0;34m.\u001b[0m\u001b[0mread\u001b[0m\u001b[0;34m(\u001b[0m\u001b[0mlen\u001b[0m\u001b[0;34m,\u001b[0m \u001b[0mbuffer\u001b[0m\u001b[0;34m)\u001b[0m\u001b[0;34m\u001b[0m\u001b[0;34m\u001b[0m\u001b[0m\n\u001b[0m\u001b[1;32m   1101\u001b[0m             \u001b[0;32melse\u001b[0m\u001b[0;34m:\u001b[0m\u001b[0;34m\u001b[0m\u001b[0;34m\u001b[0m\u001b[0m\n\u001b[1;32m   1102\u001b[0m                 \u001b[0;32mreturn\u001b[0m \u001b[0mself\u001b[0m\u001b[0;34m.\u001b[0m\u001b[0m_sslobj\u001b[0m\u001b[0;34m.\u001b[0m\u001b[0mread\u001b[0m\u001b[0;34m(\u001b[0m\u001b[0mlen\u001b[0m\u001b[0;34m)\u001b[0m\u001b[0;34m\u001b[0m\u001b[0;34m\u001b[0m\u001b[0m\n",
            "\u001b[0;31mKeyboardInterrupt\u001b[0m: "
          ]
        }
      ],
      "source": [
        "model = T5FineTuner(args)"
      ]
    },
    {
      "cell_type": "code",
      "execution_count": 43,
      "metadata": {
        "ExecuteTime": {
          "end_time": "2020-09-01T13:44:42.072260Z",
          "start_time": "2020-09-01T13:44:42.053193Z"
        },
        "id": "nyMxch9HStWj",
        "outputId": "ed33ad22-8e55-4643-8a0d-ceb0f250938b",
        "colab": {
          "base_uri": "https://localhost:8080/",
          "height": 89
        }
      },
      "outputs": [
        {
          "output_type": "stream",
          "name": "stderr",
          "text": [
            "INFO:pytorch_lightning.utilities.rank_zero:GPU available: True (cuda), used: True\n",
            "INFO:pytorch_lightning.utilities.rank_zero:TPU available: False, using: 0 TPU cores\n",
            "INFO:pytorch_lightning.utilities.rank_zero:IPU available: False, using: 0 IPUs\n",
            "INFO:pytorch_lightning.utilities.rank_zero:HPU available: False, using: 0 HPUs\n"
          ]
        }
      ],
      "source": [
        "trainer = pl.Trainer(**train_params)\n",
        "\n"
      ]
    },
    {
      "cell_type": "code",
      "source": [],
      "metadata": {
        "id": "bNLugJqb18Bj"
      },
      "execution_count": 43,
      "outputs": []
    },
    {
      "cell_type": "code",
      "execution_count": null,
      "metadata": {
        "ExecuteTime": {
          "end_time": "2020-09-01T20:25:25.960117Z",
          "start_time": "2020-09-01T13:44:42.076449Z"
        },
        "id": "CkBjh_-0StWj",
        "colab": {
          "base_uri": "https://localhost:8080/",
          "height": 395,
          "referenced_widgets": [
            "dc186149de184760a5e90edcb1198d4d",
            "6349c2c0804844b993cb9c10c57b26b1",
            "6b242429e9554f0c968783a073dd43e9",
            "51b992ee11eb4123aa16e48f6c997f5a",
            "5cd8129508ee4341b8a45a7c617b0af0",
            "691f60ccfd054167a1e45557a60cd73e",
            "aabbba6c185d44059a3d4b86de89ee47",
            "9720c92eacc2451f8708ddd51c4c529a",
            "29d105653907427b93a113c7df92088b",
            "f427780d5cae4d4bb2b82f4de8da2b42",
            "a50e6cfc8b664ccfb9fd91e758f2c756",
            "127994e9baec424a988d4cf3bdddfc9a",
            "feed7d54222f41fc9cde456e9ec49848",
            "9d1cdb4c4ce54003beef9e2d22b6ee55",
            "1d49a5ef12be46f3bc650d58244b9b16",
            "4c535362cd6c4793904710c22b26d096",
            "62c56a99d127409489e89d63d98e6d33",
            "1e68291fb86b4a78954c685e81cc941d",
            "cbc4a02b2af74148b6362d58170632eb",
            "a34d65bb8a1740d3b0fa1e7c8039831b",
            "4847fed8e03a49c082aa75fb5b329f8d",
            "8138c3a55ffb4572ba82afd76243a0aa"
          ]
        },
        "outputId": "c4513bb3-27d4-47eb-ac4b-10d37e41b595"
      },
      "outputs": [
        {
          "output_type": "stream",
          "name": "stderr",
          "text": [
            "INFO:pytorch_lightning.accelerators.cuda:LOCAL_RANK: 0 - CUDA_VISIBLE_DEVICES: [0]\n",
            "/usr/local/lib/python3.9/dist-packages/transformers/optimization.py:391: FutureWarning: This implementation of AdamW is deprecated and will be removed in a future version. Use the PyTorch implementation torch.optim.AdamW instead, or set `no_deprecation_warning=True` to disable this warning\n",
            "  warnings.warn(\n",
            "INFO:pytorch_lightning.callbacks.model_summary:\n",
            "  | Name  | Type                       | Params\n",
            "-----------------------------------------------------\n",
            "0 | model | T5ForConditionalGeneration | 60.5 M\n",
            "-----------------------------------------------------\n",
            "60.5 M    Trainable params\n",
            "0         Non-trainable params\n",
            "60.5 M    Total params\n",
            "242.026   Total estimated model params size (MB)\n"
          ]
        },
        {
          "output_type": "display_data",
          "data": {
            "text/plain": [
              "Sanity Checking: 0it [00:00, ?it/s]"
            ],
            "application/vnd.jupyter.widget-view+json": {
              "version_major": 2,
              "version_minor": 0,
              "model_id": "dc186149de184760a5e90edcb1198d4d"
            }
          },
          "metadata": {}
        },
        {
          "output_type": "stream",
          "name": "stderr",
          "text": [
            "WARNING:datasets.builder:No config specified, defaulting to: arxiv-summarization/section\n",
            "WARNING:datasets.builder:Found cached dataset arxiv-summarization (/root/.cache/huggingface/datasets/ccdv___arxiv-summarization/section/1.0.0/fa2c9abf4312afb8660ef8e041d576b8e3943ea96ae771bd3cd091b5798e7cc3)\n",
            "/usr/local/lib/python3.9/dist-packages/torch/utils/data/dataloader.py:554: UserWarning: This DataLoader will create 4 worker processes in total. Our suggested max number of worker in current system is 2, which is smaller than what this DataLoader is going to create. Please be aware that excessive worker creation might get DataLoader running slow or even freeze, lower the worker number to avoid potential slowness/freeze if necessary.\n",
            "  warnings.warn(_create_warning_msg(\n",
            "WARNING:datasets.builder:No config specified, defaulting to: arxiv-summarization/section\n",
            "WARNING:datasets.builder:Found cached dataset arxiv-summarization (/root/.cache/huggingface/datasets/ccdv___arxiv-summarization/section/1.0.0/fa2c9abf4312afb8660ef8e041d576b8e3943ea96ae771bd3cd091b5798e7cc3)\n"
          ]
        },
        {
          "output_type": "display_data",
          "data": {
            "text/plain": [
              "Training: 0it [00:00, ?it/s]"
            ],
            "application/vnd.jupyter.widget-view+json": {
              "version_major": 2,
              "version_minor": 0,
              "model_id": "127994e9baec424a988d4cf3bdddfc9a"
            }
          },
          "metadata": {}
        }
      ],
      "source": [
        "trainer.fit(model)"
      ]
    },
    {
      "cell_type": "markdown",
      "metadata": {
        "id": "Nv9v6k3RStWk"
      },
      "source": [
        "## Check Model Predictions"
      ]
    },
    {
      "cell_type": "code",
      "execution_count": null,
      "metadata": {
        "ExecuteTime": {
          "end_time": "2020-09-02T00:59:41.863404Z",
          "start_time": "2020-09-02T00:59:41.859895Z"
        },
        "id": "T13Y06TjStWk"
      },
      "outputs": [],
      "source": [
        "import textwrap\n",
        "from tqdm.auto import tqdm"
      ]
    },
    {
      "cell_type": "code",
      "execution_count": null,
      "metadata": {
        "ExecuteTime": {
          "end_time": "2020-09-02T01:00:09.047610Z",
          "start_time": "2020-09-02T01:00:08.417634Z"
        },
        "id": "YI5qldvuStWk"
      },
      "outputs": [],
      "source": [
        "tokenizer = T5Tokenizer.from_pretrained('t5-base')\n",
        "dataset = wikihow(tokenizer, 'test', None, 512, 150, False)"
      ]
    },
    {
      "cell_type": "code",
      "execution_count": null,
      "metadata": {
        "ExecuteTime": {
          "end_time": "2020-09-02T01:00:29.151446Z",
          "start_time": "2020-09-02T01:00:29.143943Z"
        },
        "id": "MGfLEgDpStWk"
      },
      "outputs": [],
      "source": [
        "loader = DataLoader(dataset, batch_size=32, shuffle=True)\n",
        "it = iter(loader)"
      ]
    },
    {
      "cell_type": "code",
      "execution_count": null,
      "metadata": {
        "ExecuteTime": {
          "end_time": "2020-09-02T01:00:34.602089Z",
          "start_time": "2020-09-02T01:00:34.443983Z"
        },
        "id": "JzKINm0PStWk"
      },
      "outputs": [],
      "source": [
        "batch = next(it)\n",
        "batch[\"source_ids\"].shape"
      ]
    },
    {
      "cell_type": "code",
      "execution_count": null,
      "metadata": {
        "ExecuteTime": {
          "end_time": "2020-09-02T01:02:59.809227Z",
          "start_time": "2020-09-02T01:02:51.326688Z"
        },
        "id": "2-eOrXfKStWl"
      },
      "outputs": [],
      "source": [
        "model.to('cuda')\n",
        "outs = model.model.generate(\n",
        "            batch[\"source_ids\"].cuda(),\n",
        "            attention_mask=batch[\"source_mask\"].cuda(),\n",
        "            use_cache=True,\n",
        "            decoder_attention_mask=batch['target_mask'].cuda(),\n",
        "            max_length=150, \n",
        "            num_beams=2,\n",
        "            repetition_penalty=2.5, \n",
        "            length_penalty=1.0, \n",
        "            early_stopping=True\n",
        "        )\n",
        "\n",
        "dec = [tokenizer.decode(ids) for ids in outs]\n",
        "\n",
        "texts = [tokenizer.decode(ids) for ids in batch['source_ids']]\n",
        "targets = [tokenizer.decode(ids) for ids in batch['target_ids']]"
      ]
    },
    {
      "cell_type": "code",
      "execution_count": null,
      "metadata": {
        "ExecuteTime": {
          "end_time": "2020-09-02T01:03:57.193269Z",
          "start_time": "2020-09-02T01:03:57.138546Z"
        },
        "id": "mXL75KhtStWl"
      },
      "outputs": [],
      "source": [
        "for i in range(32):\n",
        "    lines = textwrap.wrap(\"WikiHow Text:\\n%s\\n\" % texts[i], width=100)\n",
        "    print(\"\\n\".join(lines))\n",
        "    print(\"\\nActual Summary: %s\" % targets[i])\n",
        "    print(\"\\nPredicted Summary: %s\" % dec[i])\n",
        "    print(\"=====================================================================\\n\")"
      ]
    },
    {
      "cell_type": "markdown",
      "metadata": {
        "id": "d_qLoCf8StWl"
      },
      "source": [
        "## Testing using AutoModel loader"
      ]
    },
    {
      "cell_type": "code",
      "execution_count": null,
      "metadata": {
        "ExecuteTime": {
          "end_time": "2020-09-06T12:11:08.098275Z",
          "start_time": "2020-09-06T12:11:08.096343Z"
        },
        "id": "nTlyispUStWl"
      },
      "outputs": [],
      "source": [
        "from transformers import AutoTokenizer, AutoModelWithLMHead\n",
        "import torch"
      ]
    },
    {
      "cell_type": "code",
      "execution_count": null,
      "metadata": {
        "ExecuteTime": {
          "end_time": "2020-09-06T12:11:12.532641Z",
          "start_time": "2020-09-06T12:11:09.708535Z"
        },
        "id": "83-toaVOStWl"
      },
      "outputs": [],
      "source": [
        "tokenizer = AutoTokenizer.from_pretrained(\"deep-learning-analytics/wikihow-t5-small\")\n",
        "\n",
        "model = AutoModelWithLMHead.from_pretrained(\"deep-learning-analytics/wikihow-t5-small\")"
      ]
    },
    {
      "cell_type": "code",
      "execution_count": null,
      "metadata": {
        "ExecuteTime": {
          "end_time": "2020-09-06T12:11:14.162773Z",
          "start_time": "2020-09-06T12:11:12.533612Z"
        },
        "id": "P__JGR-3StWm"
      },
      "outputs": [],
      "source": [
        "## Move to CUDA\n",
        "device = torch.device(\"cuda:0\" if torch.cuda.is_available() else \"cpu\")\n",
        "model = model.to(device)"
      ]
    },
    {
      "cell_type": "code",
      "execution_count": null,
      "metadata": {
        "ExecuteTime": {
          "end_time": "2020-09-06T12:11:19.675892Z",
          "start_time": "2020-09-06T12:11:19.670482Z"
        },
        "id": "d1ZksY5sStWm"
      },
      "outputs": [],
      "source": [
        "text = \"\"\"\"\n",
        "Lack of fluids can lead to dry mouth, which is a leading cause of bad breath. Water\n",
        "can also dilute any chemicals in your mouth or gut that are causing bad breath., Studies show that\n",
        "eating 6 ounces of yogurt a day reduces the level of odor-causing compounds in the mouth. In\n",
        "particular, look for yogurt containing the active bacteria Streptococcus thermophilus or\n",
        "Lactobacillus bulgaricus., The abrasive nature of fibrous fruits and vegetables helps to clean\n",
        "teeth, while the vitamins, antioxidants, and acids they contain improve dental health.Foods that can\n",
        "be particularly helpful include:Apples — Apples contain vitamin C, which is necessary for health\n",
        "gums, as well as malic acid, which helps to whiten teeth.Carrots — Carrots are rich in vitamin A,\n",
        "which strengthens tooth enamel.Celery — Chewing celery produces a lot of saliva, which helps to\n",
        "neutralize bacteria that cause bad breath.Pineapples — Pineapples contain bromelain, an enzyme that\n",
        "cleans the mouth., These teas have been shown to kill the bacteria that cause bad breath and\n",
        "plaque., An upset stomach can lead to burping, which contributes to bad breath. Don’t eat foods that\n",
        "upset your stomach, or if you do, use antacids. If you are lactose intolerant, try lactase tablets.,\n",
        "They can all cause bad breath. If you do eat them, bring sugar-free gum or a toothbrush and\n",
        "toothpaste to freshen your mouth afterwards., Diets low in carbohydrates lead to ketosis — a state\n",
        "in which the body burns primarily fat instead of carbohydrates for energy. This may be good for your\n",
        "waistline, but it also produces chemicals called ketones, which contribute to bad breath.To stop the\n",
        "problem, you must change your diet. Or, you can combat the smell in one of these ways:Drink lots of\n",
        "water to dilute the ketones.Chew sugarless gum or suck on sugarless mints.Chew mint leaves.\n",
        "\"\"\""
      ]
    },
    {
      "cell_type": "code",
      "execution_count": null,
      "metadata": {
        "ExecuteTime": {
          "end_time": "2020-09-06T12:11:25.940815Z",
          "start_time": "2020-09-06T12:11:25.937188Z"
        },
        "id": "3MnCbxpDStWm"
      },
      "outputs": [],
      "source": [
        "preprocess_text = text.strip().replace(\"\\n\",\"\")\n",
        "tokenized_text = tokenizer.encode(preprocess_text, return_tensors=\"pt\").to(device)"
      ]
    },
    {
      "cell_type": "code",
      "execution_count": null,
      "metadata": {
        "ExecuteTime": {
          "end_time": "2020-09-06T12:11:32.501144Z",
          "start_time": "2020-09-06T12:11:31.917512Z"
        },
        "id": "1kfHWORHStWm"
      },
      "outputs": [],
      "source": [
        "summary_ids = model.generate(\n",
        "            tokenized_text,\n",
        "            max_length=150, \n",
        "            num_beams=2,\n",
        "            repetition_penalty=2.5, \n",
        "            length_penalty=1.0, \n",
        "            early_stopping=True\n",
        "        )"
      ]
    },
    {
      "cell_type": "code",
      "execution_count": null,
      "metadata": {
        "ExecuteTime": {
          "end_time": "2020-09-06T12:11:38.309701Z",
          "start_time": "2020-09-06T12:11:38.289453Z"
        },
        "id": "iXgw_BKPStWn"
      },
      "outputs": [],
      "source": [
        "output = tokenizer.decode(summary_ids[0], skip_special_tokens=True)\n",
        "\n",
        "print (\"\\n\\nSummarized text: \\n\",output)"
      ]
    },
    {
      "cell_type": "code",
      "execution_count": null,
      "metadata": {
        "id": "miAVUL1IStWn"
      },
      "outputs": [],
      "source": []
    }
  ],
  "metadata": {
    "kernelspec": {
      "display_name": "Python [conda env:huggingface] *",
      "language": "python",
      "name": "conda-env-huggingface-py"
    },
    "language_info": {
      "codemirror_mode": {
        "name": "ipython",
        "version": 3
      },
      "file_extension": ".py",
      "mimetype": "text/x-python",
      "name": "python",
      "nbconvert_exporter": "python",
      "pygments_lexer": "ipython3",
      "version": "3.6.10"
    },
    "toc": {
      "base_numbering": 1,
      "nav_menu": {},
      "number_sections": true,
      "sideBar": true,
      "skip_h1_title": false,
      "title_cell": "Table of Contents",
      "title_sidebar": "Contents",
      "toc_cell": false,
      "toc_position": {},
      "toc_section_display": true,
      "toc_window_display": true
    },
    "colab": {
      "provenance": [],
      "include_colab_link": true
    },
    "widgets": {
      "application/vnd.jupyter.widget-state+json": {
        "aa5abe5df3314e0e95495abe76d4966a": {
          "model_module": "@jupyter-widgets/controls",
          "model_name": "HBoxModel",
          "model_module_version": "1.5.0",
          "state": {
            "_dom_classes": [],
            "_model_module": "@jupyter-widgets/controls",
            "_model_module_version": "1.5.0",
            "_model_name": "HBoxModel",
            "_view_count": null,
            "_view_module": "@jupyter-widgets/controls",
            "_view_module_version": "1.5.0",
            "_view_name": "HBoxView",
            "box_style": "",
            "children": [
              "IPY_MODEL_25702fb982704cb8b51b91996688057b",
              "IPY_MODEL_f784307cac4f4afa88a3bd0c11bfca15",
              "IPY_MODEL_612cd6e86ca84323873a837c18c40884"
            ],
            "layout": "IPY_MODEL_a4c284a2da7d48b28536a66f5d7599df"
          }
        },
        "25702fb982704cb8b51b91996688057b": {
          "model_module": "@jupyter-widgets/controls",
          "model_name": "HTMLModel",
          "model_module_version": "1.5.0",
          "state": {
            "_dom_classes": [],
            "_model_module": "@jupyter-widgets/controls",
            "_model_module_version": "1.5.0",
            "_model_name": "HTMLModel",
            "_view_count": null,
            "_view_module": "@jupyter-widgets/controls",
            "_view_module_version": "1.5.0",
            "_view_name": "HTMLView",
            "description": "",
            "description_tooltip": null,
            "layout": "IPY_MODEL_573fa38975be4f39b4b814a707ed08c8",
            "placeholder": "​",
            "style": "IPY_MODEL_fe8252c70473487195702e25d4b4c283",
            "value": "Downloading builder script: 100%"
          }
        },
        "f784307cac4f4afa88a3bd0c11bfca15": {
          "model_module": "@jupyter-widgets/controls",
          "model_name": "FloatProgressModel",
          "model_module_version": "1.5.0",
          "state": {
            "_dom_classes": [],
            "_model_module": "@jupyter-widgets/controls",
            "_model_module_version": "1.5.0",
            "_model_name": "FloatProgressModel",
            "_view_count": null,
            "_view_module": "@jupyter-widgets/controls",
            "_view_module_version": "1.5.0",
            "_view_name": "ProgressView",
            "bar_style": "success",
            "description": "",
            "description_tooltip": null,
            "layout": "IPY_MODEL_8747b6b4520a4ca184191fe6d2417882",
            "max": 5140,
            "min": 0,
            "orientation": "horizontal",
            "style": "IPY_MODEL_0e5453cb01b44235bc984475ea697aa2",
            "value": 5140
          }
        },
        "612cd6e86ca84323873a837c18c40884": {
          "model_module": "@jupyter-widgets/controls",
          "model_name": "HTMLModel",
          "model_module_version": "1.5.0",
          "state": {
            "_dom_classes": [],
            "_model_module": "@jupyter-widgets/controls",
            "_model_module_version": "1.5.0",
            "_model_name": "HTMLModel",
            "_view_count": null,
            "_view_module": "@jupyter-widgets/controls",
            "_view_module_version": "1.5.0",
            "_view_name": "HTMLView",
            "description": "",
            "description_tooltip": null,
            "layout": "IPY_MODEL_2eae983ae15e4868b33094bb61174124",
            "placeholder": "​",
            "style": "IPY_MODEL_80fc1b5060b74261943936e7e5471cb1",
            "value": " 5.14k/5.14k [00:00&lt;00:00, 233kB/s]"
          }
        },
        "a4c284a2da7d48b28536a66f5d7599df": {
          "model_module": "@jupyter-widgets/base",
          "model_name": "LayoutModel",
          "model_module_version": "1.2.0",
          "state": {
            "_model_module": "@jupyter-widgets/base",
            "_model_module_version": "1.2.0",
            "_model_name": "LayoutModel",
            "_view_count": null,
            "_view_module": "@jupyter-widgets/base",
            "_view_module_version": "1.2.0",
            "_view_name": "LayoutView",
            "align_content": null,
            "align_items": null,
            "align_self": null,
            "border": null,
            "bottom": null,
            "display": null,
            "flex": null,
            "flex_flow": null,
            "grid_area": null,
            "grid_auto_columns": null,
            "grid_auto_flow": null,
            "grid_auto_rows": null,
            "grid_column": null,
            "grid_gap": null,
            "grid_row": null,
            "grid_template_areas": null,
            "grid_template_columns": null,
            "grid_template_rows": null,
            "height": null,
            "justify_content": null,
            "justify_items": null,
            "left": null,
            "margin": null,
            "max_height": null,
            "max_width": null,
            "min_height": null,
            "min_width": null,
            "object_fit": null,
            "object_position": null,
            "order": null,
            "overflow": null,
            "overflow_x": null,
            "overflow_y": null,
            "padding": null,
            "right": null,
            "top": null,
            "visibility": null,
            "width": null
          }
        },
        "573fa38975be4f39b4b814a707ed08c8": {
          "model_module": "@jupyter-widgets/base",
          "model_name": "LayoutModel",
          "model_module_version": "1.2.0",
          "state": {
            "_model_module": "@jupyter-widgets/base",
            "_model_module_version": "1.2.0",
            "_model_name": "LayoutModel",
            "_view_count": null,
            "_view_module": "@jupyter-widgets/base",
            "_view_module_version": "1.2.0",
            "_view_name": "LayoutView",
            "align_content": null,
            "align_items": null,
            "align_self": null,
            "border": null,
            "bottom": null,
            "display": null,
            "flex": null,
            "flex_flow": null,
            "grid_area": null,
            "grid_auto_columns": null,
            "grid_auto_flow": null,
            "grid_auto_rows": null,
            "grid_column": null,
            "grid_gap": null,
            "grid_row": null,
            "grid_template_areas": null,
            "grid_template_columns": null,
            "grid_template_rows": null,
            "height": null,
            "justify_content": null,
            "justify_items": null,
            "left": null,
            "margin": null,
            "max_height": null,
            "max_width": null,
            "min_height": null,
            "min_width": null,
            "object_fit": null,
            "object_position": null,
            "order": null,
            "overflow": null,
            "overflow_x": null,
            "overflow_y": null,
            "padding": null,
            "right": null,
            "top": null,
            "visibility": null,
            "width": null
          }
        },
        "fe8252c70473487195702e25d4b4c283": {
          "model_module": "@jupyter-widgets/controls",
          "model_name": "DescriptionStyleModel",
          "model_module_version": "1.5.0",
          "state": {
            "_model_module": "@jupyter-widgets/controls",
            "_model_module_version": "1.5.0",
            "_model_name": "DescriptionStyleModel",
            "_view_count": null,
            "_view_module": "@jupyter-widgets/base",
            "_view_module_version": "1.2.0",
            "_view_name": "StyleView",
            "description_width": ""
          }
        },
        "8747b6b4520a4ca184191fe6d2417882": {
          "model_module": "@jupyter-widgets/base",
          "model_name": "LayoutModel",
          "model_module_version": "1.2.0",
          "state": {
            "_model_module": "@jupyter-widgets/base",
            "_model_module_version": "1.2.0",
            "_model_name": "LayoutModel",
            "_view_count": null,
            "_view_module": "@jupyter-widgets/base",
            "_view_module_version": "1.2.0",
            "_view_name": "LayoutView",
            "align_content": null,
            "align_items": null,
            "align_self": null,
            "border": null,
            "bottom": null,
            "display": null,
            "flex": null,
            "flex_flow": null,
            "grid_area": null,
            "grid_auto_columns": null,
            "grid_auto_flow": null,
            "grid_auto_rows": null,
            "grid_column": null,
            "grid_gap": null,
            "grid_row": null,
            "grid_template_areas": null,
            "grid_template_columns": null,
            "grid_template_rows": null,
            "height": null,
            "justify_content": null,
            "justify_items": null,
            "left": null,
            "margin": null,
            "max_height": null,
            "max_width": null,
            "min_height": null,
            "min_width": null,
            "object_fit": null,
            "object_position": null,
            "order": null,
            "overflow": null,
            "overflow_x": null,
            "overflow_y": null,
            "padding": null,
            "right": null,
            "top": null,
            "visibility": null,
            "width": null
          }
        },
        "0e5453cb01b44235bc984475ea697aa2": {
          "model_module": "@jupyter-widgets/controls",
          "model_name": "ProgressStyleModel",
          "model_module_version": "1.5.0",
          "state": {
            "_model_module": "@jupyter-widgets/controls",
            "_model_module_version": "1.5.0",
            "_model_name": "ProgressStyleModel",
            "_view_count": null,
            "_view_module": "@jupyter-widgets/base",
            "_view_module_version": "1.2.0",
            "_view_name": "StyleView",
            "bar_color": null,
            "description_width": ""
          }
        },
        "2eae983ae15e4868b33094bb61174124": {
          "model_module": "@jupyter-widgets/base",
          "model_name": "LayoutModel",
          "model_module_version": "1.2.0",
          "state": {
            "_model_module": "@jupyter-widgets/base",
            "_model_module_version": "1.2.0",
            "_model_name": "LayoutModel",
            "_view_count": null,
            "_view_module": "@jupyter-widgets/base",
            "_view_module_version": "1.2.0",
            "_view_name": "LayoutView",
            "align_content": null,
            "align_items": null,
            "align_self": null,
            "border": null,
            "bottom": null,
            "display": null,
            "flex": null,
            "flex_flow": null,
            "grid_area": null,
            "grid_auto_columns": null,
            "grid_auto_flow": null,
            "grid_auto_rows": null,
            "grid_column": null,
            "grid_gap": null,
            "grid_row": null,
            "grid_template_areas": null,
            "grid_template_columns": null,
            "grid_template_rows": null,
            "height": null,
            "justify_content": null,
            "justify_items": null,
            "left": null,
            "margin": null,
            "max_height": null,
            "max_width": null,
            "min_height": null,
            "min_width": null,
            "object_fit": null,
            "object_position": null,
            "order": null,
            "overflow": null,
            "overflow_x": null,
            "overflow_y": null,
            "padding": null,
            "right": null,
            "top": null,
            "visibility": null,
            "width": null
          }
        },
        "80fc1b5060b74261943936e7e5471cb1": {
          "model_module": "@jupyter-widgets/controls",
          "model_name": "DescriptionStyleModel",
          "model_module_version": "1.5.0",
          "state": {
            "_model_module": "@jupyter-widgets/controls",
            "_model_module_version": "1.5.0",
            "_model_name": "DescriptionStyleModel",
            "_view_count": null,
            "_view_module": "@jupyter-widgets/base",
            "_view_module_version": "1.2.0",
            "_view_name": "StyleView",
            "description_width": ""
          }
        },
        "a1f656e3693849b3bf69b11bfc7e0300": {
          "model_module": "@jupyter-widgets/controls",
          "model_name": "HBoxModel",
          "model_module_version": "1.5.0",
          "state": {
            "_dom_classes": [],
            "_model_module": "@jupyter-widgets/controls",
            "_model_module_version": "1.5.0",
            "_model_name": "HBoxModel",
            "_view_count": null,
            "_view_module": "@jupyter-widgets/controls",
            "_view_module_version": "1.5.0",
            "_view_name": "HBoxView",
            "box_style": "",
            "children": [
              "IPY_MODEL_dc0faa61fbc644769eb5d2fff41668fb",
              "IPY_MODEL_c6653276b3ff43438cc1301d066efc5a",
              "IPY_MODEL_4ddd710ef72345de9ea68b400173a63d"
            ],
            "layout": "IPY_MODEL_2d8577ed0ce7471997e41006d8127788"
          }
        },
        "dc0faa61fbc644769eb5d2fff41668fb": {
          "model_module": "@jupyter-widgets/controls",
          "model_name": "HTMLModel",
          "model_module_version": "1.5.0",
          "state": {
            "_dom_classes": [],
            "_model_module": "@jupyter-widgets/controls",
            "_model_module_version": "1.5.0",
            "_model_name": "HTMLModel",
            "_view_count": null,
            "_view_module": "@jupyter-widgets/controls",
            "_view_module_version": "1.5.0",
            "_view_name": "HTMLView",
            "description": "",
            "description_tooltip": null,
            "layout": "IPY_MODEL_2ec5970f9eaf4489b500e76c68f16542",
            "placeholder": "​",
            "style": "IPY_MODEL_156637dc19764c3f9cc96e266fc9d00a",
            "value": "Downloading readme: 100%"
          }
        },
        "c6653276b3ff43438cc1301d066efc5a": {
          "model_module": "@jupyter-widgets/controls",
          "model_name": "FloatProgressModel",
          "model_module_version": "1.5.0",
          "state": {
            "_dom_classes": [],
            "_model_module": "@jupyter-widgets/controls",
            "_model_module_version": "1.5.0",
            "_model_name": "FloatProgressModel",
            "_view_count": null,
            "_view_module": "@jupyter-widgets/controls",
            "_view_module_version": "1.5.0",
            "_view_name": "ProgressView",
            "bar_style": "success",
            "description": "",
            "description_tooltip": null,
            "layout": "IPY_MODEL_0e714c6b415341358978707cc31602b1",
            "max": 2829,
            "min": 0,
            "orientation": "horizontal",
            "style": "IPY_MODEL_cb0a1bcfa2f34d36a3d3e712ffb9a485",
            "value": 2829
          }
        },
        "4ddd710ef72345de9ea68b400173a63d": {
          "model_module": "@jupyter-widgets/controls",
          "model_name": "HTMLModel",
          "model_module_version": "1.5.0",
          "state": {
            "_dom_classes": [],
            "_model_module": "@jupyter-widgets/controls",
            "_model_module_version": "1.5.0",
            "_model_name": "HTMLModel",
            "_view_count": null,
            "_view_module": "@jupyter-widgets/controls",
            "_view_module_version": "1.5.0",
            "_view_name": "HTMLView",
            "description": "",
            "description_tooltip": null,
            "layout": "IPY_MODEL_75825ffcbd554b97950af756e813e943",
            "placeholder": "​",
            "style": "IPY_MODEL_a194c27b7f1f4639b875f63545665945",
            "value": " 2.83k/2.83k [00:00&lt;00:00, 179kB/s]"
          }
        },
        "2d8577ed0ce7471997e41006d8127788": {
          "model_module": "@jupyter-widgets/base",
          "model_name": "LayoutModel",
          "model_module_version": "1.2.0",
          "state": {
            "_model_module": "@jupyter-widgets/base",
            "_model_module_version": "1.2.0",
            "_model_name": "LayoutModel",
            "_view_count": null,
            "_view_module": "@jupyter-widgets/base",
            "_view_module_version": "1.2.0",
            "_view_name": "LayoutView",
            "align_content": null,
            "align_items": null,
            "align_self": null,
            "border": null,
            "bottom": null,
            "display": null,
            "flex": null,
            "flex_flow": null,
            "grid_area": null,
            "grid_auto_columns": null,
            "grid_auto_flow": null,
            "grid_auto_rows": null,
            "grid_column": null,
            "grid_gap": null,
            "grid_row": null,
            "grid_template_areas": null,
            "grid_template_columns": null,
            "grid_template_rows": null,
            "height": null,
            "justify_content": null,
            "justify_items": null,
            "left": null,
            "margin": null,
            "max_height": null,
            "max_width": null,
            "min_height": null,
            "min_width": null,
            "object_fit": null,
            "object_position": null,
            "order": null,
            "overflow": null,
            "overflow_x": null,
            "overflow_y": null,
            "padding": null,
            "right": null,
            "top": null,
            "visibility": null,
            "width": null
          }
        },
        "2ec5970f9eaf4489b500e76c68f16542": {
          "model_module": "@jupyter-widgets/base",
          "model_name": "LayoutModel",
          "model_module_version": "1.2.0",
          "state": {
            "_model_module": "@jupyter-widgets/base",
            "_model_module_version": "1.2.0",
            "_model_name": "LayoutModel",
            "_view_count": null,
            "_view_module": "@jupyter-widgets/base",
            "_view_module_version": "1.2.0",
            "_view_name": "LayoutView",
            "align_content": null,
            "align_items": null,
            "align_self": null,
            "border": null,
            "bottom": null,
            "display": null,
            "flex": null,
            "flex_flow": null,
            "grid_area": null,
            "grid_auto_columns": null,
            "grid_auto_flow": null,
            "grid_auto_rows": null,
            "grid_column": null,
            "grid_gap": null,
            "grid_row": null,
            "grid_template_areas": null,
            "grid_template_columns": null,
            "grid_template_rows": null,
            "height": null,
            "justify_content": null,
            "justify_items": null,
            "left": null,
            "margin": null,
            "max_height": null,
            "max_width": null,
            "min_height": null,
            "min_width": null,
            "object_fit": null,
            "object_position": null,
            "order": null,
            "overflow": null,
            "overflow_x": null,
            "overflow_y": null,
            "padding": null,
            "right": null,
            "top": null,
            "visibility": null,
            "width": null
          }
        },
        "156637dc19764c3f9cc96e266fc9d00a": {
          "model_module": "@jupyter-widgets/controls",
          "model_name": "DescriptionStyleModel",
          "model_module_version": "1.5.0",
          "state": {
            "_model_module": "@jupyter-widgets/controls",
            "_model_module_version": "1.5.0",
            "_model_name": "DescriptionStyleModel",
            "_view_count": null,
            "_view_module": "@jupyter-widgets/base",
            "_view_module_version": "1.2.0",
            "_view_name": "StyleView",
            "description_width": ""
          }
        },
        "0e714c6b415341358978707cc31602b1": {
          "model_module": "@jupyter-widgets/base",
          "model_name": "LayoutModel",
          "model_module_version": "1.2.0",
          "state": {
            "_model_module": "@jupyter-widgets/base",
            "_model_module_version": "1.2.0",
            "_model_name": "LayoutModel",
            "_view_count": null,
            "_view_module": "@jupyter-widgets/base",
            "_view_module_version": "1.2.0",
            "_view_name": "LayoutView",
            "align_content": null,
            "align_items": null,
            "align_self": null,
            "border": null,
            "bottom": null,
            "display": null,
            "flex": null,
            "flex_flow": null,
            "grid_area": null,
            "grid_auto_columns": null,
            "grid_auto_flow": null,
            "grid_auto_rows": null,
            "grid_column": null,
            "grid_gap": null,
            "grid_row": null,
            "grid_template_areas": null,
            "grid_template_columns": null,
            "grid_template_rows": null,
            "height": null,
            "justify_content": null,
            "justify_items": null,
            "left": null,
            "margin": null,
            "max_height": null,
            "max_width": null,
            "min_height": null,
            "min_width": null,
            "object_fit": null,
            "object_position": null,
            "order": null,
            "overflow": null,
            "overflow_x": null,
            "overflow_y": null,
            "padding": null,
            "right": null,
            "top": null,
            "visibility": null,
            "width": null
          }
        },
        "cb0a1bcfa2f34d36a3d3e712ffb9a485": {
          "model_module": "@jupyter-widgets/controls",
          "model_name": "ProgressStyleModel",
          "model_module_version": "1.5.0",
          "state": {
            "_model_module": "@jupyter-widgets/controls",
            "_model_module_version": "1.5.0",
            "_model_name": "ProgressStyleModel",
            "_view_count": null,
            "_view_module": "@jupyter-widgets/base",
            "_view_module_version": "1.2.0",
            "_view_name": "StyleView",
            "bar_color": null,
            "description_width": ""
          }
        },
        "75825ffcbd554b97950af756e813e943": {
          "model_module": "@jupyter-widgets/base",
          "model_name": "LayoutModel",
          "model_module_version": "1.2.0",
          "state": {
            "_model_module": "@jupyter-widgets/base",
            "_model_module_version": "1.2.0",
            "_model_name": "LayoutModel",
            "_view_count": null,
            "_view_module": "@jupyter-widgets/base",
            "_view_module_version": "1.2.0",
            "_view_name": "LayoutView",
            "align_content": null,
            "align_items": null,
            "align_self": null,
            "border": null,
            "bottom": null,
            "display": null,
            "flex": null,
            "flex_flow": null,
            "grid_area": null,
            "grid_auto_columns": null,
            "grid_auto_flow": null,
            "grid_auto_rows": null,
            "grid_column": null,
            "grid_gap": null,
            "grid_row": null,
            "grid_template_areas": null,
            "grid_template_columns": null,
            "grid_template_rows": null,
            "height": null,
            "justify_content": null,
            "justify_items": null,
            "left": null,
            "margin": null,
            "max_height": null,
            "max_width": null,
            "min_height": null,
            "min_width": null,
            "object_fit": null,
            "object_position": null,
            "order": null,
            "overflow": null,
            "overflow_x": null,
            "overflow_y": null,
            "padding": null,
            "right": null,
            "top": null,
            "visibility": null,
            "width": null
          }
        },
        "a194c27b7f1f4639b875f63545665945": {
          "model_module": "@jupyter-widgets/controls",
          "model_name": "DescriptionStyleModel",
          "model_module_version": "1.5.0",
          "state": {
            "_model_module": "@jupyter-widgets/controls",
            "_model_module_version": "1.5.0",
            "_model_name": "DescriptionStyleModel",
            "_view_count": null,
            "_view_module": "@jupyter-widgets/base",
            "_view_module_version": "1.2.0",
            "_view_name": "StyleView",
            "description_width": ""
          }
        },
        "0eb6e4e5aa0749c7a58381e989b98de0": {
          "model_module": "@jupyter-widgets/controls",
          "model_name": "HBoxModel",
          "model_module_version": "1.5.0",
          "state": {
            "_dom_classes": [],
            "_model_module": "@jupyter-widgets/controls",
            "_model_module_version": "1.5.0",
            "_model_name": "HBoxModel",
            "_view_count": null,
            "_view_module": "@jupyter-widgets/controls",
            "_view_module_version": "1.5.0",
            "_view_name": "HBoxView",
            "box_style": "",
            "children": [
              "IPY_MODEL_662f248ad9ed429cb572b05c2cc8daf1",
              "IPY_MODEL_1b4fdae6379f493d81b5645128d90496",
              "IPY_MODEL_43690a66a3794f829d04a5cdc4d0f118"
            ],
            "layout": "IPY_MODEL_565f935720e543e982664d0025071228"
          }
        },
        "662f248ad9ed429cb572b05c2cc8daf1": {
          "model_module": "@jupyter-widgets/controls",
          "model_name": "HTMLModel",
          "model_module_version": "1.5.0",
          "state": {
            "_dom_classes": [],
            "_model_module": "@jupyter-widgets/controls",
            "_model_module_version": "1.5.0",
            "_model_name": "HTMLModel",
            "_view_count": null,
            "_view_module": "@jupyter-widgets/controls",
            "_view_module_version": "1.5.0",
            "_view_name": "HTMLView",
            "description": "",
            "description_tooltip": null,
            "layout": "IPY_MODEL_8d12ebf4abca423e935773be37f6bce7",
            "placeholder": "​",
            "style": "IPY_MODEL_ffc0b0f9578e41d2ab5479422803f832",
            "value": "Downloading data: 100%"
          }
        },
        "1b4fdae6379f493d81b5645128d90496": {
          "model_module": "@jupyter-widgets/controls",
          "model_name": "FloatProgressModel",
          "model_module_version": "1.5.0",
          "state": {
            "_dom_classes": [],
            "_model_module": "@jupyter-widgets/controls",
            "_model_module_version": "1.5.0",
            "_model_name": "FloatProgressModel",
            "_view_count": null,
            "_view_module": "@jupyter-widgets/controls",
            "_view_module_version": "1.5.0",
            "_view_name": "ProgressView",
            "bar_style": "success",
            "description": "",
            "description_tooltip": null,
            "layout": "IPY_MODEL_a14c63f2e18548a5871c5e35d5e02f65",
            "max": 3364100438,
            "min": 0,
            "orientation": "horizontal",
            "style": "IPY_MODEL_610ee74e21314cb3b56c71c1d708b077",
            "value": 3364100438
          }
        },
        "43690a66a3794f829d04a5cdc4d0f118": {
          "model_module": "@jupyter-widgets/controls",
          "model_name": "HTMLModel",
          "model_module_version": "1.5.0",
          "state": {
            "_dom_classes": [],
            "_model_module": "@jupyter-widgets/controls",
            "_model_module_version": "1.5.0",
            "_model_name": "HTMLModel",
            "_view_count": null,
            "_view_module": "@jupyter-widgets/controls",
            "_view_module_version": "1.5.0",
            "_view_name": "HTMLView",
            "description": "",
            "description_tooltip": null,
            "layout": "IPY_MODEL_2ba9cec1df27461e93a86112f8a5c61c",
            "placeholder": "​",
            "style": "IPY_MODEL_55760ee6cca34c1f9e2e872b5da4bb81",
            "value": " 3.36G/3.36G [05:51&lt;00:00, 15.0MB/s]"
          }
        },
        "565f935720e543e982664d0025071228": {
          "model_module": "@jupyter-widgets/base",
          "model_name": "LayoutModel",
          "model_module_version": "1.2.0",
          "state": {
            "_model_module": "@jupyter-widgets/base",
            "_model_module_version": "1.2.0",
            "_model_name": "LayoutModel",
            "_view_count": null,
            "_view_module": "@jupyter-widgets/base",
            "_view_module_version": "1.2.0",
            "_view_name": "LayoutView",
            "align_content": null,
            "align_items": null,
            "align_self": null,
            "border": null,
            "bottom": null,
            "display": null,
            "flex": null,
            "flex_flow": null,
            "grid_area": null,
            "grid_auto_columns": null,
            "grid_auto_flow": null,
            "grid_auto_rows": null,
            "grid_column": null,
            "grid_gap": null,
            "grid_row": null,
            "grid_template_areas": null,
            "grid_template_columns": null,
            "grid_template_rows": null,
            "height": null,
            "justify_content": null,
            "justify_items": null,
            "left": null,
            "margin": null,
            "max_height": null,
            "max_width": null,
            "min_height": null,
            "min_width": null,
            "object_fit": null,
            "object_position": null,
            "order": null,
            "overflow": null,
            "overflow_x": null,
            "overflow_y": null,
            "padding": null,
            "right": null,
            "top": null,
            "visibility": null,
            "width": null
          }
        },
        "8d12ebf4abca423e935773be37f6bce7": {
          "model_module": "@jupyter-widgets/base",
          "model_name": "LayoutModel",
          "model_module_version": "1.2.0",
          "state": {
            "_model_module": "@jupyter-widgets/base",
            "_model_module_version": "1.2.0",
            "_model_name": "LayoutModel",
            "_view_count": null,
            "_view_module": "@jupyter-widgets/base",
            "_view_module_version": "1.2.0",
            "_view_name": "LayoutView",
            "align_content": null,
            "align_items": null,
            "align_self": null,
            "border": null,
            "bottom": null,
            "display": null,
            "flex": null,
            "flex_flow": null,
            "grid_area": null,
            "grid_auto_columns": null,
            "grid_auto_flow": null,
            "grid_auto_rows": null,
            "grid_column": null,
            "grid_gap": null,
            "grid_row": null,
            "grid_template_areas": null,
            "grid_template_columns": null,
            "grid_template_rows": null,
            "height": null,
            "justify_content": null,
            "justify_items": null,
            "left": null,
            "margin": null,
            "max_height": null,
            "max_width": null,
            "min_height": null,
            "min_width": null,
            "object_fit": null,
            "object_position": null,
            "order": null,
            "overflow": null,
            "overflow_x": null,
            "overflow_y": null,
            "padding": null,
            "right": null,
            "top": null,
            "visibility": null,
            "width": null
          }
        },
        "ffc0b0f9578e41d2ab5479422803f832": {
          "model_module": "@jupyter-widgets/controls",
          "model_name": "DescriptionStyleModel",
          "model_module_version": "1.5.0",
          "state": {
            "_model_module": "@jupyter-widgets/controls",
            "_model_module_version": "1.5.0",
            "_model_name": "DescriptionStyleModel",
            "_view_count": null,
            "_view_module": "@jupyter-widgets/base",
            "_view_module_version": "1.2.0",
            "_view_name": "StyleView",
            "description_width": ""
          }
        },
        "a14c63f2e18548a5871c5e35d5e02f65": {
          "model_module": "@jupyter-widgets/base",
          "model_name": "LayoutModel",
          "model_module_version": "1.2.0",
          "state": {
            "_model_module": "@jupyter-widgets/base",
            "_model_module_version": "1.2.0",
            "_model_name": "LayoutModel",
            "_view_count": null,
            "_view_module": "@jupyter-widgets/base",
            "_view_module_version": "1.2.0",
            "_view_name": "LayoutView",
            "align_content": null,
            "align_items": null,
            "align_self": null,
            "border": null,
            "bottom": null,
            "display": null,
            "flex": null,
            "flex_flow": null,
            "grid_area": null,
            "grid_auto_columns": null,
            "grid_auto_flow": null,
            "grid_auto_rows": null,
            "grid_column": null,
            "grid_gap": null,
            "grid_row": null,
            "grid_template_areas": null,
            "grid_template_columns": null,
            "grid_template_rows": null,
            "height": null,
            "justify_content": null,
            "justify_items": null,
            "left": null,
            "margin": null,
            "max_height": null,
            "max_width": null,
            "min_height": null,
            "min_width": null,
            "object_fit": null,
            "object_position": null,
            "order": null,
            "overflow": null,
            "overflow_x": null,
            "overflow_y": null,
            "padding": null,
            "right": null,
            "top": null,
            "visibility": null,
            "width": null
          }
        },
        "610ee74e21314cb3b56c71c1d708b077": {
          "model_module": "@jupyter-widgets/controls",
          "model_name": "ProgressStyleModel",
          "model_module_version": "1.5.0",
          "state": {
            "_model_module": "@jupyter-widgets/controls",
            "_model_module_version": "1.5.0",
            "_model_name": "ProgressStyleModel",
            "_view_count": null,
            "_view_module": "@jupyter-widgets/base",
            "_view_module_version": "1.2.0",
            "_view_name": "StyleView",
            "bar_color": null,
            "description_width": ""
          }
        },
        "2ba9cec1df27461e93a86112f8a5c61c": {
          "model_module": "@jupyter-widgets/base",
          "model_name": "LayoutModel",
          "model_module_version": "1.2.0",
          "state": {
            "_model_module": "@jupyter-widgets/base",
            "_model_module_version": "1.2.0",
            "_model_name": "LayoutModel",
            "_view_count": null,
            "_view_module": "@jupyter-widgets/base",
            "_view_module_version": "1.2.0",
            "_view_name": "LayoutView",
            "align_content": null,
            "align_items": null,
            "align_self": null,
            "border": null,
            "bottom": null,
            "display": null,
            "flex": null,
            "flex_flow": null,
            "grid_area": null,
            "grid_auto_columns": null,
            "grid_auto_flow": null,
            "grid_auto_rows": null,
            "grid_column": null,
            "grid_gap": null,
            "grid_row": null,
            "grid_template_areas": null,
            "grid_template_columns": null,
            "grid_template_rows": null,
            "height": null,
            "justify_content": null,
            "justify_items": null,
            "left": null,
            "margin": null,
            "max_height": null,
            "max_width": null,
            "min_height": null,
            "min_width": null,
            "object_fit": null,
            "object_position": null,
            "order": null,
            "overflow": null,
            "overflow_x": null,
            "overflow_y": null,
            "padding": null,
            "right": null,
            "top": null,
            "visibility": null,
            "width": null
          }
        },
        "55760ee6cca34c1f9e2e872b5da4bb81": {
          "model_module": "@jupyter-widgets/controls",
          "model_name": "DescriptionStyleModel",
          "model_module_version": "1.5.0",
          "state": {
            "_model_module": "@jupyter-widgets/controls",
            "_model_module_version": "1.5.0",
            "_model_name": "DescriptionStyleModel",
            "_view_count": null,
            "_view_module": "@jupyter-widgets/base",
            "_view_module_version": "1.2.0",
            "_view_name": "StyleView",
            "description_width": ""
          }
        },
        "f3ad78e2bece4e1b959132a2dcc7044e": {
          "model_module": "@jupyter-widgets/controls",
          "model_name": "HBoxModel",
          "model_module_version": "1.5.0",
          "state": {
            "_dom_classes": [],
            "_model_module": "@jupyter-widgets/controls",
            "_model_module_version": "1.5.0",
            "_model_name": "HBoxModel",
            "_view_count": null,
            "_view_module": "@jupyter-widgets/controls",
            "_view_module_version": "1.5.0",
            "_view_name": "HBoxView",
            "box_style": "",
            "children": [
              "IPY_MODEL_b38d2319aa3240c19d7c49068c2b1116",
              "IPY_MODEL_540ce7f7fd6040378e15b49921b54151",
              "IPY_MODEL_ac46e36201be4ab099d916b968bce049"
            ],
            "layout": "IPY_MODEL_d1dd4451f4e640a8bd192392d5f7db3e"
          }
        },
        "b38d2319aa3240c19d7c49068c2b1116": {
          "model_module": "@jupyter-widgets/controls",
          "model_name": "HTMLModel",
          "model_module_version": "1.5.0",
          "state": {
            "_dom_classes": [],
            "_model_module": "@jupyter-widgets/controls",
            "_model_module_version": "1.5.0",
            "_model_name": "HTMLModel",
            "_view_count": null,
            "_view_module": "@jupyter-widgets/controls",
            "_view_module_version": "1.5.0",
            "_view_name": "HTMLView",
            "description": "",
            "description_tooltip": null,
            "layout": "IPY_MODEL_f39b08c302f24701bbca4458856e8ad0",
            "placeholder": "​",
            "style": "IPY_MODEL_a0598c16ae4f47a9b6c37c969b5e9f1f",
            "value": "Downloading data: 100%"
          }
        },
        "540ce7f7fd6040378e15b49921b54151": {
          "model_module": "@jupyter-widgets/controls",
          "model_name": "FloatProgressModel",
          "model_module_version": "1.5.0",
          "state": {
            "_dom_classes": [],
            "_model_module": "@jupyter-widgets/controls",
            "_model_module_version": "1.5.0",
            "_model_name": "FloatProgressModel",
            "_view_count": null,
            "_view_module": "@jupyter-widgets/controls",
            "_view_module_version": "1.5.0",
            "_view_name": "ProgressView",
            "bar_style": "success",
            "description": "",
            "description_tooltip": null,
            "layout": "IPY_MODEL_be17fcf32edf49c9aec83f82cab6a891",
            "max": 102038141,
            "min": 0,
            "orientation": "horizontal",
            "style": "IPY_MODEL_06236a5af9254b7288d6143f32927a51",
            "value": 102038141
          }
        },
        "ac46e36201be4ab099d916b968bce049": {
          "model_module": "@jupyter-widgets/controls",
          "model_name": "HTMLModel",
          "model_module_version": "1.5.0",
          "state": {
            "_dom_classes": [],
            "_model_module": "@jupyter-widgets/controls",
            "_model_module_version": "1.5.0",
            "_model_name": "HTMLModel",
            "_view_count": null,
            "_view_module": "@jupyter-widgets/controls",
            "_view_module_version": "1.5.0",
            "_view_name": "HTMLView",
            "description": "",
            "description_tooltip": null,
            "layout": "IPY_MODEL_83e433b43021409db6063b514cf26145",
            "placeholder": "​",
            "style": "IPY_MODEL_fc03639ab9f54b03802d4dab0f77f70d",
            "value": " 102M/102M [00:07&lt;00:00, 15.4MB/s]"
          }
        },
        "d1dd4451f4e640a8bd192392d5f7db3e": {
          "model_module": "@jupyter-widgets/base",
          "model_name": "LayoutModel",
          "model_module_version": "1.2.0",
          "state": {
            "_model_module": "@jupyter-widgets/base",
            "_model_module_version": "1.2.0",
            "_model_name": "LayoutModel",
            "_view_count": null,
            "_view_module": "@jupyter-widgets/base",
            "_view_module_version": "1.2.0",
            "_view_name": "LayoutView",
            "align_content": null,
            "align_items": null,
            "align_self": null,
            "border": null,
            "bottom": null,
            "display": null,
            "flex": null,
            "flex_flow": null,
            "grid_area": null,
            "grid_auto_columns": null,
            "grid_auto_flow": null,
            "grid_auto_rows": null,
            "grid_column": null,
            "grid_gap": null,
            "grid_row": null,
            "grid_template_areas": null,
            "grid_template_columns": null,
            "grid_template_rows": null,
            "height": null,
            "justify_content": null,
            "justify_items": null,
            "left": null,
            "margin": null,
            "max_height": null,
            "max_width": null,
            "min_height": null,
            "min_width": null,
            "object_fit": null,
            "object_position": null,
            "order": null,
            "overflow": null,
            "overflow_x": null,
            "overflow_y": null,
            "padding": null,
            "right": null,
            "top": null,
            "visibility": null,
            "width": null
          }
        },
        "f39b08c302f24701bbca4458856e8ad0": {
          "model_module": "@jupyter-widgets/base",
          "model_name": "LayoutModel",
          "model_module_version": "1.2.0",
          "state": {
            "_model_module": "@jupyter-widgets/base",
            "_model_module_version": "1.2.0",
            "_model_name": "LayoutModel",
            "_view_count": null,
            "_view_module": "@jupyter-widgets/base",
            "_view_module_version": "1.2.0",
            "_view_name": "LayoutView",
            "align_content": null,
            "align_items": null,
            "align_self": null,
            "border": null,
            "bottom": null,
            "display": null,
            "flex": null,
            "flex_flow": null,
            "grid_area": null,
            "grid_auto_columns": null,
            "grid_auto_flow": null,
            "grid_auto_rows": null,
            "grid_column": null,
            "grid_gap": null,
            "grid_row": null,
            "grid_template_areas": null,
            "grid_template_columns": null,
            "grid_template_rows": null,
            "height": null,
            "justify_content": null,
            "justify_items": null,
            "left": null,
            "margin": null,
            "max_height": null,
            "max_width": null,
            "min_height": null,
            "min_width": null,
            "object_fit": null,
            "object_position": null,
            "order": null,
            "overflow": null,
            "overflow_x": null,
            "overflow_y": null,
            "padding": null,
            "right": null,
            "top": null,
            "visibility": null,
            "width": null
          }
        },
        "a0598c16ae4f47a9b6c37c969b5e9f1f": {
          "model_module": "@jupyter-widgets/controls",
          "model_name": "DescriptionStyleModel",
          "model_module_version": "1.5.0",
          "state": {
            "_model_module": "@jupyter-widgets/controls",
            "_model_module_version": "1.5.0",
            "_model_name": "DescriptionStyleModel",
            "_view_count": null,
            "_view_module": "@jupyter-widgets/base",
            "_view_module_version": "1.2.0",
            "_view_name": "StyleView",
            "description_width": ""
          }
        },
        "be17fcf32edf49c9aec83f82cab6a891": {
          "model_module": "@jupyter-widgets/base",
          "model_name": "LayoutModel",
          "model_module_version": "1.2.0",
          "state": {
            "_model_module": "@jupyter-widgets/base",
            "_model_module_version": "1.2.0",
            "_model_name": "LayoutModel",
            "_view_count": null,
            "_view_module": "@jupyter-widgets/base",
            "_view_module_version": "1.2.0",
            "_view_name": "LayoutView",
            "align_content": null,
            "align_items": null,
            "align_self": null,
            "border": null,
            "bottom": null,
            "display": null,
            "flex": null,
            "flex_flow": null,
            "grid_area": null,
            "grid_auto_columns": null,
            "grid_auto_flow": null,
            "grid_auto_rows": null,
            "grid_column": null,
            "grid_gap": null,
            "grid_row": null,
            "grid_template_areas": null,
            "grid_template_columns": null,
            "grid_template_rows": null,
            "height": null,
            "justify_content": null,
            "justify_items": null,
            "left": null,
            "margin": null,
            "max_height": null,
            "max_width": null,
            "min_height": null,
            "min_width": null,
            "object_fit": null,
            "object_position": null,
            "order": null,
            "overflow": null,
            "overflow_x": null,
            "overflow_y": null,
            "padding": null,
            "right": null,
            "top": null,
            "visibility": null,
            "width": null
          }
        },
        "06236a5af9254b7288d6143f32927a51": {
          "model_module": "@jupyter-widgets/controls",
          "model_name": "ProgressStyleModel",
          "model_module_version": "1.5.0",
          "state": {
            "_model_module": "@jupyter-widgets/controls",
            "_model_module_version": "1.5.0",
            "_model_name": "ProgressStyleModel",
            "_view_count": null,
            "_view_module": "@jupyter-widgets/base",
            "_view_module_version": "1.2.0",
            "_view_name": "StyleView",
            "bar_color": null,
            "description_width": ""
          }
        },
        "83e433b43021409db6063b514cf26145": {
          "model_module": "@jupyter-widgets/base",
          "model_name": "LayoutModel",
          "model_module_version": "1.2.0",
          "state": {
            "_model_module": "@jupyter-widgets/base",
            "_model_module_version": "1.2.0",
            "_model_name": "LayoutModel",
            "_view_count": null,
            "_view_module": "@jupyter-widgets/base",
            "_view_module_version": "1.2.0",
            "_view_name": "LayoutView",
            "align_content": null,
            "align_items": null,
            "align_self": null,
            "border": null,
            "bottom": null,
            "display": null,
            "flex": null,
            "flex_flow": null,
            "grid_area": null,
            "grid_auto_columns": null,
            "grid_auto_flow": null,
            "grid_auto_rows": null,
            "grid_column": null,
            "grid_gap": null,
            "grid_row": null,
            "grid_template_areas": null,
            "grid_template_columns": null,
            "grid_template_rows": null,
            "height": null,
            "justify_content": null,
            "justify_items": null,
            "left": null,
            "margin": null,
            "max_height": null,
            "max_width": null,
            "min_height": null,
            "min_width": null,
            "object_fit": null,
            "object_position": null,
            "order": null,
            "overflow": null,
            "overflow_x": null,
            "overflow_y": null,
            "padding": null,
            "right": null,
            "top": null,
            "visibility": null,
            "width": null
          }
        },
        "fc03639ab9f54b03802d4dab0f77f70d": {
          "model_module": "@jupyter-widgets/controls",
          "model_name": "DescriptionStyleModel",
          "model_module_version": "1.5.0",
          "state": {
            "_model_module": "@jupyter-widgets/controls",
            "_model_module_version": "1.5.0",
            "_model_name": "DescriptionStyleModel",
            "_view_count": null,
            "_view_module": "@jupyter-widgets/base",
            "_view_module_version": "1.2.0",
            "_view_name": "StyleView",
            "description_width": ""
          }
        },
        "e4ec726ae8ff4521b24d958022897e8b": {
          "model_module": "@jupyter-widgets/controls",
          "model_name": "HBoxModel",
          "model_module_version": "1.5.0",
          "state": {
            "_dom_classes": [],
            "_model_module": "@jupyter-widgets/controls",
            "_model_module_version": "1.5.0",
            "_model_name": "HBoxModel",
            "_view_count": null,
            "_view_module": "@jupyter-widgets/controls",
            "_view_module_version": "1.5.0",
            "_view_name": "HBoxView",
            "box_style": "",
            "children": [
              "IPY_MODEL_884d08dfa4984d1399b4d00ffe3c149b",
              "IPY_MODEL_38f5c78f6767462e8303576873a54ef0",
              "IPY_MODEL_29435b808089463683caa0f50a8cdd1f"
            ],
            "layout": "IPY_MODEL_fb29e12c1ee645bcb7357ad875315d3c"
          }
        },
        "884d08dfa4984d1399b4d00ffe3c149b": {
          "model_module": "@jupyter-widgets/controls",
          "model_name": "HTMLModel",
          "model_module_version": "1.5.0",
          "state": {
            "_dom_classes": [],
            "_model_module": "@jupyter-widgets/controls",
            "_model_module_version": "1.5.0",
            "_model_name": "HTMLModel",
            "_view_count": null,
            "_view_module": "@jupyter-widgets/controls",
            "_view_module_version": "1.5.0",
            "_view_name": "HTMLView",
            "description": "",
            "description_tooltip": null,
            "layout": "IPY_MODEL_d1f1db239e3c46fc80f76d9811f649dc",
            "placeholder": "​",
            "style": "IPY_MODEL_e6dbe448183d47e4a34ececb379cb431",
            "value": "Downloading data: 100%"
          }
        },
        "38f5c78f6767462e8303576873a54ef0": {
          "model_module": "@jupyter-widgets/controls",
          "model_name": "FloatProgressModel",
          "model_module_version": "1.5.0",
          "state": {
            "_dom_classes": [],
            "_model_module": "@jupyter-widgets/controls",
            "_model_module_version": "1.5.0",
            "_model_name": "FloatProgressModel",
            "_view_count": null,
            "_view_module": "@jupyter-widgets/controls",
            "_view_module_version": "1.5.0",
            "_view_name": "ProgressView",
            "bar_style": "success",
            "description": "",
            "description_tooltip": null,
            "layout": "IPY_MODEL_b665915176f048ca9ac33a5d401c3792",
            "max": 102183593,
            "min": 0,
            "orientation": "horizontal",
            "style": "IPY_MODEL_aafe67e66ca14fa58c4a5cb0419d3f16",
            "value": 102183593
          }
        },
        "29435b808089463683caa0f50a8cdd1f": {
          "model_module": "@jupyter-widgets/controls",
          "model_name": "HTMLModel",
          "model_module_version": "1.5.0",
          "state": {
            "_dom_classes": [],
            "_model_module": "@jupyter-widgets/controls",
            "_model_module_version": "1.5.0",
            "_model_name": "HTMLModel",
            "_view_count": null,
            "_view_module": "@jupyter-widgets/controls",
            "_view_module_version": "1.5.0",
            "_view_name": "HTMLView",
            "description": "",
            "description_tooltip": null,
            "layout": "IPY_MODEL_701adc055f244ce6867f8cee51f60a88",
            "placeholder": "​",
            "style": "IPY_MODEL_b63cb78ca8944a559312744f091d6325",
            "value": " 102M/102M [00:07&lt;00:00, 18.8MB/s]"
          }
        },
        "fb29e12c1ee645bcb7357ad875315d3c": {
          "model_module": "@jupyter-widgets/base",
          "model_name": "LayoutModel",
          "model_module_version": "1.2.0",
          "state": {
            "_model_module": "@jupyter-widgets/base",
            "_model_module_version": "1.2.0",
            "_model_name": "LayoutModel",
            "_view_count": null,
            "_view_module": "@jupyter-widgets/base",
            "_view_module_version": "1.2.0",
            "_view_name": "LayoutView",
            "align_content": null,
            "align_items": null,
            "align_self": null,
            "border": null,
            "bottom": null,
            "display": null,
            "flex": null,
            "flex_flow": null,
            "grid_area": null,
            "grid_auto_columns": null,
            "grid_auto_flow": null,
            "grid_auto_rows": null,
            "grid_column": null,
            "grid_gap": null,
            "grid_row": null,
            "grid_template_areas": null,
            "grid_template_columns": null,
            "grid_template_rows": null,
            "height": null,
            "justify_content": null,
            "justify_items": null,
            "left": null,
            "margin": null,
            "max_height": null,
            "max_width": null,
            "min_height": null,
            "min_width": null,
            "object_fit": null,
            "object_position": null,
            "order": null,
            "overflow": null,
            "overflow_x": null,
            "overflow_y": null,
            "padding": null,
            "right": null,
            "top": null,
            "visibility": null,
            "width": null
          }
        },
        "d1f1db239e3c46fc80f76d9811f649dc": {
          "model_module": "@jupyter-widgets/base",
          "model_name": "LayoutModel",
          "model_module_version": "1.2.0",
          "state": {
            "_model_module": "@jupyter-widgets/base",
            "_model_module_version": "1.2.0",
            "_model_name": "LayoutModel",
            "_view_count": null,
            "_view_module": "@jupyter-widgets/base",
            "_view_module_version": "1.2.0",
            "_view_name": "LayoutView",
            "align_content": null,
            "align_items": null,
            "align_self": null,
            "border": null,
            "bottom": null,
            "display": null,
            "flex": null,
            "flex_flow": null,
            "grid_area": null,
            "grid_auto_columns": null,
            "grid_auto_flow": null,
            "grid_auto_rows": null,
            "grid_column": null,
            "grid_gap": null,
            "grid_row": null,
            "grid_template_areas": null,
            "grid_template_columns": null,
            "grid_template_rows": null,
            "height": null,
            "justify_content": null,
            "justify_items": null,
            "left": null,
            "margin": null,
            "max_height": null,
            "max_width": null,
            "min_height": null,
            "min_width": null,
            "object_fit": null,
            "object_position": null,
            "order": null,
            "overflow": null,
            "overflow_x": null,
            "overflow_y": null,
            "padding": null,
            "right": null,
            "top": null,
            "visibility": null,
            "width": null
          }
        },
        "e6dbe448183d47e4a34ececb379cb431": {
          "model_module": "@jupyter-widgets/controls",
          "model_name": "DescriptionStyleModel",
          "model_module_version": "1.5.0",
          "state": {
            "_model_module": "@jupyter-widgets/controls",
            "_model_module_version": "1.5.0",
            "_model_name": "DescriptionStyleModel",
            "_view_count": null,
            "_view_module": "@jupyter-widgets/base",
            "_view_module_version": "1.2.0",
            "_view_name": "StyleView",
            "description_width": ""
          }
        },
        "b665915176f048ca9ac33a5d401c3792": {
          "model_module": "@jupyter-widgets/base",
          "model_name": "LayoutModel",
          "model_module_version": "1.2.0",
          "state": {
            "_model_module": "@jupyter-widgets/base",
            "_model_module_version": "1.2.0",
            "_model_name": "LayoutModel",
            "_view_count": null,
            "_view_module": "@jupyter-widgets/base",
            "_view_module_version": "1.2.0",
            "_view_name": "LayoutView",
            "align_content": null,
            "align_items": null,
            "align_self": null,
            "border": null,
            "bottom": null,
            "display": null,
            "flex": null,
            "flex_flow": null,
            "grid_area": null,
            "grid_auto_columns": null,
            "grid_auto_flow": null,
            "grid_auto_rows": null,
            "grid_column": null,
            "grid_gap": null,
            "grid_row": null,
            "grid_template_areas": null,
            "grid_template_columns": null,
            "grid_template_rows": null,
            "height": null,
            "justify_content": null,
            "justify_items": null,
            "left": null,
            "margin": null,
            "max_height": null,
            "max_width": null,
            "min_height": null,
            "min_width": null,
            "object_fit": null,
            "object_position": null,
            "order": null,
            "overflow": null,
            "overflow_x": null,
            "overflow_y": null,
            "padding": null,
            "right": null,
            "top": null,
            "visibility": null,
            "width": null
          }
        },
        "aafe67e66ca14fa58c4a5cb0419d3f16": {
          "model_module": "@jupyter-widgets/controls",
          "model_name": "ProgressStyleModel",
          "model_module_version": "1.5.0",
          "state": {
            "_model_module": "@jupyter-widgets/controls",
            "_model_module_version": "1.5.0",
            "_model_name": "ProgressStyleModel",
            "_view_count": null,
            "_view_module": "@jupyter-widgets/base",
            "_view_module_version": "1.2.0",
            "_view_name": "StyleView",
            "bar_color": null,
            "description_width": ""
          }
        },
        "701adc055f244ce6867f8cee51f60a88": {
          "model_module": "@jupyter-widgets/base",
          "model_name": "LayoutModel",
          "model_module_version": "1.2.0",
          "state": {
            "_model_module": "@jupyter-widgets/base",
            "_model_module_version": "1.2.0",
            "_model_name": "LayoutModel",
            "_view_count": null,
            "_view_module": "@jupyter-widgets/base",
            "_view_module_version": "1.2.0",
            "_view_name": "LayoutView",
            "align_content": null,
            "align_items": null,
            "align_self": null,
            "border": null,
            "bottom": null,
            "display": null,
            "flex": null,
            "flex_flow": null,
            "grid_area": null,
            "grid_auto_columns": null,
            "grid_auto_flow": null,
            "grid_auto_rows": null,
            "grid_column": null,
            "grid_gap": null,
            "grid_row": null,
            "grid_template_areas": null,
            "grid_template_columns": null,
            "grid_template_rows": null,
            "height": null,
            "justify_content": null,
            "justify_items": null,
            "left": null,
            "margin": null,
            "max_height": null,
            "max_width": null,
            "min_height": null,
            "min_width": null,
            "object_fit": null,
            "object_position": null,
            "order": null,
            "overflow": null,
            "overflow_x": null,
            "overflow_y": null,
            "padding": null,
            "right": null,
            "top": null,
            "visibility": null,
            "width": null
          }
        },
        "b63cb78ca8944a559312744f091d6325": {
          "model_module": "@jupyter-widgets/controls",
          "model_name": "DescriptionStyleModel",
          "model_module_version": "1.5.0",
          "state": {
            "_model_module": "@jupyter-widgets/controls",
            "_model_module_version": "1.5.0",
            "_model_name": "DescriptionStyleModel",
            "_view_count": null,
            "_view_module": "@jupyter-widgets/base",
            "_view_module_version": "1.2.0",
            "_view_name": "StyleView",
            "description_width": ""
          }
        },
        "23c36f59f93147418573c169ff08482d": {
          "model_module": "@jupyter-widgets/controls",
          "model_name": "HBoxModel",
          "model_module_version": "1.5.0",
          "state": {
            "_dom_classes": [],
            "_model_module": "@jupyter-widgets/controls",
            "_model_module_version": "1.5.0",
            "_model_name": "HBoxModel",
            "_view_count": null,
            "_view_module": "@jupyter-widgets/controls",
            "_view_module_version": "1.5.0",
            "_view_name": "HBoxView",
            "box_style": "",
            "children": [
              "IPY_MODEL_96bf649687504fbb8559f6ef11cf1cb8",
              "IPY_MODEL_c15a0344b78c483fa25dd7633c1a0f41",
              "IPY_MODEL_ab85da29874d4e74b7fabcd8ad057739"
            ],
            "layout": "IPY_MODEL_4e722717bc454a4aa6d673c0728e2d26"
          }
        },
        "96bf649687504fbb8559f6ef11cf1cb8": {
          "model_module": "@jupyter-widgets/controls",
          "model_name": "HTMLModel",
          "model_module_version": "1.5.0",
          "state": {
            "_dom_classes": [],
            "_model_module": "@jupyter-widgets/controls",
            "_model_module_version": "1.5.0",
            "_model_name": "HTMLModel",
            "_view_count": null,
            "_view_module": "@jupyter-widgets/controls",
            "_view_module_version": "1.5.0",
            "_view_name": "HTMLView",
            "description": "",
            "description_tooltip": null,
            "layout": "IPY_MODEL_085488738a6c4ad98ee45d2146a02966",
            "placeholder": "​",
            "style": "IPY_MODEL_9f6647e2039148289fae8e5cb9ed59ca",
            "value": "Generating train split: "
          }
        },
        "c15a0344b78c483fa25dd7633c1a0f41": {
          "model_module": "@jupyter-widgets/controls",
          "model_name": "FloatProgressModel",
          "model_module_version": "1.5.0",
          "state": {
            "_dom_classes": [],
            "_model_module": "@jupyter-widgets/controls",
            "_model_module_version": "1.5.0",
            "_model_name": "FloatProgressModel",
            "_view_count": null,
            "_view_module": "@jupyter-widgets/controls",
            "_view_module_version": "1.5.0",
            "_view_name": "ProgressView",
            "bar_style": "info",
            "description": "",
            "description_tooltip": null,
            "layout": "IPY_MODEL_a96c7a6c2f1641a497ef0fe0f66345e7",
            "max": 1,
            "min": 0,
            "orientation": "horizontal",
            "style": "IPY_MODEL_216044ee557849a4ae075db1e5718a03",
            "value": 1
          }
        },
        "ab85da29874d4e74b7fabcd8ad057739": {
          "model_module": "@jupyter-widgets/controls",
          "model_name": "HTMLModel",
          "model_module_version": "1.5.0",
          "state": {
            "_dom_classes": [],
            "_model_module": "@jupyter-widgets/controls",
            "_model_module_version": "1.5.0",
            "_model_name": "HTMLModel",
            "_view_count": null,
            "_view_module": "@jupyter-widgets/controls",
            "_view_module_version": "1.5.0",
            "_view_name": "HTMLView",
            "description": "",
            "description_tooltip": null,
            "layout": "IPY_MODEL_64bb679cb95248a18bbf7623d1a5366e",
            "placeholder": "​",
            "style": "IPY_MODEL_45150e12d9804736ab761bb0f0ed2631",
            "value": " 203037/0 [02:18&lt;00:00, 1542.44 examples/s]"
          }
        },
        "4e722717bc454a4aa6d673c0728e2d26": {
          "model_module": "@jupyter-widgets/base",
          "model_name": "LayoutModel",
          "model_module_version": "1.2.0",
          "state": {
            "_model_module": "@jupyter-widgets/base",
            "_model_module_version": "1.2.0",
            "_model_name": "LayoutModel",
            "_view_count": null,
            "_view_module": "@jupyter-widgets/base",
            "_view_module_version": "1.2.0",
            "_view_name": "LayoutView",
            "align_content": null,
            "align_items": null,
            "align_self": null,
            "border": null,
            "bottom": null,
            "display": null,
            "flex": null,
            "flex_flow": null,
            "grid_area": null,
            "grid_auto_columns": null,
            "grid_auto_flow": null,
            "grid_auto_rows": null,
            "grid_column": null,
            "grid_gap": null,
            "grid_row": null,
            "grid_template_areas": null,
            "grid_template_columns": null,
            "grid_template_rows": null,
            "height": null,
            "justify_content": null,
            "justify_items": null,
            "left": null,
            "margin": null,
            "max_height": null,
            "max_width": null,
            "min_height": null,
            "min_width": null,
            "object_fit": null,
            "object_position": null,
            "order": null,
            "overflow": null,
            "overflow_x": null,
            "overflow_y": null,
            "padding": null,
            "right": null,
            "top": null,
            "visibility": "hidden",
            "width": null
          }
        },
        "085488738a6c4ad98ee45d2146a02966": {
          "model_module": "@jupyter-widgets/base",
          "model_name": "LayoutModel",
          "model_module_version": "1.2.0",
          "state": {
            "_model_module": "@jupyter-widgets/base",
            "_model_module_version": "1.2.0",
            "_model_name": "LayoutModel",
            "_view_count": null,
            "_view_module": "@jupyter-widgets/base",
            "_view_module_version": "1.2.0",
            "_view_name": "LayoutView",
            "align_content": null,
            "align_items": null,
            "align_self": null,
            "border": null,
            "bottom": null,
            "display": null,
            "flex": null,
            "flex_flow": null,
            "grid_area": null,
            "grid_auto_columns": null,
            "grid_auto_flow": null,
            "grid_auto_rows": null,
            "grid_column": null,
            "grid_gap": null,
            "grid_row": null,
            "grid_template_areas": null,
            "grid_template_columns": null,
            "grid_template_rows": null,
            "height": null,
            "justify_content": null,
            "justify_items": null,
            "left": null,
            "margin": null,
            "max_height": null,
            "max_width": null,
            "min_height": null,
            "min_width": null,
            "object_fit": null,
            "object_position": null,
            "order": null,
            "overflow": null,
            "overflow_x": null,
            "overflow_y": null,
            "padding": null,
            "right": null,
            "top": null,
            "visibility": null,
            "width": null
          }
        },
        "9f6647e2039148289fae8e5cb9ed59ca": {
          "model_module": "@jupyter-widgets/controls",
          "model_name": "DescriptionStyleModel",
          "model_module_version": "1.5.0",
          "state": {
            "_model_module": "@jupyter-widgets/controls",
            "_model_module_version": "1.5.0",
            "_model_name": "DescriptionStyleModel",
            "_view_count": null,
            "_view_module": "@jupyter-widgets/base",
            "_view_module_version": "1.2.0",
            "_view_name": "StyleView",
            "description_width": ""
          }
        },
        "a96c7a6c2f1641a497ef0fe0f66345e7": {
          "model_module": "@jupyter-widgets/base",
          "model_name": "LayoutModel",
          "model_module_version": "1.2.0",
          "state": {
            "_model_module": "@jupyter-widgets/base",
            "_model_module_version": "1.2.0",
            "_model_name": "LayoutModel",
            "_view_count": null,
            "_view_module": "@jupyter-widgets/base",
            "_view_module_version": "1.2.0",
            "_view_name": "LayoutView",
            "align_content": null,
            "align_items": null,
            "align_self": null,
            "border": null,
            "bottom": null,
            "display": null,
            "flex": null,
            "flex_flow": null,
            "grid_area": null,
            "grid_auto_columns": null,
            "grid_auto_flow": null,
            "grid_auto_rows": null,
            "grid_column": null,
            "grid_gap": null,
            "grid_row": null,
            "grid_template_areas": null,
            "grid_template_columns": null,
            "grid_template_rows": null,
            "height": null,
            "justify_content": null,
            "justify_items": null,
            "left": null,
            "margin": null,
            "max_height": null,
            "max_width": null,
            "min_height": null,
            "min_width": null,
            "object_fit": null,
            "object_position": null,
            "order": null,
            "overflow": null,
            "overflow_x": null,
            "overflow_y": null,
            "padding": null,
            "right": null,
            "top": null,
            "visibility": null,
            "width": "20px"
          }
        },
        "216044ee557849a4ae075db1e5718a03": {
          "model_module": "@jupyter-widgets/controls",
          "model_name": "ProgressStyleModel",
          "model_module_version": "1.5.0",
          "state": {
            "_model_module": "@jupyter-widgets/controls",
            "_model_module_version": "1.5.0",
            "_model_name": "ProgressStyleModel",
            "_view_count": null,
            "_view_module": "@jupyter-widgets/base",
            "_view_module_version": "1.2.0",
            "_view_name": "StyleView",
            "bar_color": null,
            "description_width": ""
          }
        },
        "64bb679cb95248a18bbf7623d1a5366e": {
          "model_module": "@jupyter-widgets/base",
          "model_name": "LayoutModel",
          "model_module_version": "1.2.0",
          "state": {
            "_model_module": "@jupyter-widgets/base",
            "_model_module_version": "1.2.0",
            "_model_name": "LayoutModel",
            "_view_count": null,
            "_view_module": "@jupyter-widgets/base",
            "_view_module_version": "1.2.0",
            "_view_name": "LayoutView",
            "align_content": null,
            "align_items": null,
            "align_self": null,
            "border": null,
            "bottom": null,
            "display": null,
            "flex": null,
            "flex_flow": null,
            "grid_area": null,
            "grid_auto_columns": null,
            "grid_auto_flow": null,
            "grid_auto_rows": null,
            "grid_column": null,
            "grid_gap": null,
            "grid_row": null,
            "grid_template_areas": null,
            "grid_template_columns": null,
            "grid_template_rows": null,
            "height": null,
            "justify_content": null,
            "justify_items": null,
            "left": null,
            "margin": null,
            "max_height": null,
            "max_width": null,
            "min_height": null,
            "min_width": null,
            "object_fit": null,
            "object_position": null,
            "order": null,
            "overflow": null,
            "overflow_x": null,
            "overflow_y": null,
            "padding": null,
            "right": null,
            "top": null,
            "visibility": null,
            "width": null
          }
        },
        "45150e12d9804736ab761bb0f0ed2631": {
          "model_module": "@jupyter-widgets/controls",
          "model_name": "DescriptionStyleModel",
          "model_module_version": "1.5.0",
          "state": {
            "_model_module": "@jupyter-widgets/controls",
            "_model_module_version": "1.5.0",
            "_model_name": "DescriptionStyleModel",
            "_view_count": null,
            "_view_module": "@jupyter-widgets/base",
            "_view_module_version": "1.2.0",
            "_view_name": "StyleView",
            "description_width": ""
          }
        },
        "cd1b39a9ac784f818f8b4f7422544938": {
          "model_module": "@jupyter-widgets/controls",
          "model_name": "HBoxModel",
          "model_module_version": "1.5.0",
          "state": {
            "_dom_classes": [],
            "_model_module": "@jupyter-widgets/controls",
            "_model_module_version": "1.5.0",
            "_model_name": "HBoxModel",
            "_view_count": null,
            "_view_module": "@jupyter-widgets/controls",
            "_view_module_version": "1.5.0",
            "_view_name": "HBoxView",
            "box_style": "",
            "children": [
              "IPY_MODEL_ed2c45f1aef9469797e6cb23970b038a",
              "IPY_MODEL_f4df01155bdb4365999eb6017a41c236",
              "IPY_MODEL_bcb5887543d14b80b41481342eeab9e8"
            ],
            "layout": "IPY_MODEL_7e7b44b879f04122b03212461f13660c"
          }
        },
        "ed2c45f1aef9469797e6cb23970b038a": {
          "model_module": "@jupyter-widgets/controls",
          "model_name": "HTMLModel",
          "model_module_version": "1.5.0",
          "state": {
            "_dom_classes": [],
            "_model_module": "@jupyter-widgets/controls",
            "_model_module_version": "1.5.0",
            "_model_name": "HTMLModel",
            "_view_count": null,
            "_view_module": "@jupyter-widgets/controls",
            "_view_module_version": "1.5.0",
            "_view_name": "HTMLView",
            "description": "",
            "description_tooltip": null,
            "layout": "IPY_MODEL_86a29420696147be93128dbd8824de5a",
            "placeholder": "​",
            "style": "IPY_MODEL_e8904f7ea94049c98f5e95e1f30a5b53",
            "value": "Generating validation split: "
          }
        },
        "f4df01155bdb4365999eb6017a41c236": {
          "model_module": "@jupyter-widgets/controls",
          "model_name": "FloatProgressModel",
          "model_module_version": "1.5.0",
          "state": {
            "_dom_classes": [],
            "_model_module": "@jupyter-widgets/controls",
            "_model_module_version": "1.5.0",
            "_model_name": "FloatProgressModel",
            "_view_count": null,
            "_view_module": "@jupyter-widgets/controls",
            "_view_module_version": "1.5.0",
            "_view_name": "ProgressView",
            "bar_style": "info",
            "description": "",
            "description_tooltip": null,
            "layout": "IPY_MODEL_bcfd6d0b6d7748a5bf3335149706e772",
            "max": 1,
            "min": 0,
            "orientation": "horizontal",
            "style": "IPY_MODEL_aeca138fd197428bb9a8cb5d37fe86d6",
            "value": 1
          }
        },
        "bcb5887543d14b80b41481342eeab9e8": {
          "model_module": "@jupyter-widgets/controls",
          "model_name": "HTMLModel",
          "model_module_version": "1.5.0",
          "state": {
            "_dom_classes": [],
            "_model_module": "@jupyter-widgets/controls",
            "_model_module_version": "1.5.0",
            "_model_name": "HTMLModel",
            "_view_count": null,
            "_view_module": "@jupyter-widgets/controls",
            "_view_module_version": "1.5.0",
            "_view_name": "HTMLView",
            "description": "",
            "description_tooltip": null,
            "layout": "IPY_MODEL_5776a183f29d46f3a62e5c5f078d9a47",
            "placeholder": "​",
            "style": "IPY_MODEL_efdd502e66e240e9a2c0f3699701fe1e",
            "value": " 6436/0 [00:20&lt;00:00, 1374.78 examples/s]"
          }
        },
        "7e7b44b879f04122b03212461f13660c": {
          "model_module": "@jupyter-widgets/base",
          "model_name": "LayoutModel",
          "model_module_version": "1.2.0",
          "state": {
            "_model_module": "@jupyter-widgets/base",
            "_model_module_version": "1.2.0",
            "_model_name": "LayoutModel",
            "_view_count": null,
            "_view_module": "@jupyter-widgets/base",
            "_view_module_version": "1.2.0",
            "_view_name": "LayoutView",
            "align_content": null,
            "align_items": null,
            "align_self": null,
            "border": null,
            "bottom": null,
            "display": null,
            "flex": null,
            "flex_flow": null,
            "grid_area": null,
            "grid_auto_columns": null,
            "grid_auto_flow": null,
            "grid_auto_rows": null,
            "grid_column": null,
            "grid_gap": null,
            "grid_row": null,
            "grid_template_areas": null,
            "grid_template_columns": null,
            "grid_template_rows": null,
            "height": null,
            "justify_content": null,
            "justify_items": null,
            "left": null,
            "margin": null,
            "max_height": null,
            "max_width": null,
            "min_height": null,
            "min_width": null,
            "object_fit": null,
            "object_position": null,
            "order": null,
            "overflow": null,
            "overflow_x": null,
            "overflow_y": null,
            "padding": null,
            "right": null,
            "top": null,
            "visibility": "hidden",
            "width": null
          }
        },
        "86a29420696147be93128dbd8824de5a": {
          "model_module": "@jupyter-widgets/base",
          "model_name": "LayoutModel",
          "model_module_version": "1.2.0",
          "state": {
            "_model_module": "@jupyter-widgets/base",
            "_model_module_version": "1.2.0",
            "_model_name": "LayoutModel",
            "_view_count": null,
            "_view_module": "@jupyter-widgets/base",
            "_view_module_version": "1.2.0",
            "_view_name": "LayoutView",
            "align_content": null,
            "align_items": null,
            "align_self": null,
            "border": null,
            "bottom": null,
            "display": null,
            "flex": null,
            "flex_flow": null,
            "grid_area": null,
            "grid_auto_columns": null,
            "grid_auto_flow": null,
            "grid_auto_rows": null,
            "grid_column": null,
            "grid_gap": null,
            "grid_row": null,
            "grid_template_areas": null,
            "grid_template_columns": null,
            "grid_template_rows": null,
            "height": null,
            "justify_content": null,
            "justify_items": null,
            "left": null,
            "margin": null,
            "max_height": null,
            "max_width": null,
            "min_height": null,
            "min_width": null,
            "object_fit": null,
            "object_position": null,
            "order": null,
            "overflow": null,
            "overflow_x": null,
            "overflow_y": null,
            "padding": null,
            "right": null,
            "top": null,
            "visibility": null,
            "width": null
          }
        },
        "e8904f7ea94049c98f5e95e1f30a5b53": {
          "model_module": "@jupyter-widgets/controls",
          "model_name": "DescriptionStyleModel",
          "model_module_version": "1.5.0",
          "state": {
            "_model_module": "@jupyter-widgets/controls",
            "_model_module_version": "1.5.0",
            "_model_name": "DescriptionStyleModel",
            "_view_count": null,
            "_view_module": "@jupyter-widgets/base",
            "_view_module_version": "1.2.0",
            "_view_name": "StyleView",
            "description_width": ""
          }
        },
        "bcfd6d0b6d7748a5bf3335149706e772": {
          "model_module": "@jupyter-widgets/base",
          "model_name": "LayoutModel",
          "model_module_version": "1.2.0",
          "state": {
            "_model_module": "@jupyter-widgets/base",
            "_model_module_version": "1.2.0",
            "_model_name": "LayoutModel",
            "_view_count": null,
            "_view_module": "@jupyter-widgets/base",
            "_view_module_version": "1.2.0",
            "_view_name": "LayoutView",
            "align_content": null,
            "align_items": null,
            "align_self": null,
            "border": null,
            "bottom": null,
            "display": null,
            "flex": null,
            "flex_flow": null,
            "grid_area": null,
            "grid_auto_columns": null,
            "grid_auto_flow": null,
            "grid_auto_rows": null,
            "grid_column": null,
            "grid_gap": null,
            "grid_row": null,
            "grid_template_areas": null,
            "grid_template_columns": null,
            "grid_template_rows": null,
            "height": null,
            "justify_content": null,
            "justify_items": null,
            "left": null,
            "margin": null,
            "max_height": null,
            "max_width": null,
            "min_height": null,
            "min_width": null,
            "object_fit": null,
            "object_position": null,
            "order": null,
            "overflow": null,
            "overflow_x": null,
            "overflow_y": null,
            "padding": null,
            "right": null,
            "top": null,
            "visibility": null,
            "width": "20px"
          }
        },
        "aeca138fd197428bb9a8cb5d37fe86d6": {
          "model_module": "@jupyter-widgets/controls",
          "model_name": "ProgressStyleModel",
          "model_module_version": "1.5.0",
          "state": {
            "_model_module": "@jupyter-widgets/controls",
            "_model_module_version": "1.5.0",
            "_model_name": "ProgressStyleModel",
            "_view_count": null,
            "_view_module": "@jupyter-widgets/base",
            "_view_module_version": "1.2.0",
            "_view_name": "StyleView",
            "bar_color": null,
            "description_width": ""
          }
        },
        "5776a183f29d46f3a62e5c5f078d9a47": {
          "model_module": "@jupyter-widgets/base",
          "model_name": "LayoutModel",
          "model_module_version": "1.2.0",
          "state": {
            "_model_module": "@jupyter-widgets/base",
            "_model_module_version": "1.2.0",
            "_model_name": "LayoutModel",
            "_view_count": null,
            "_view_module": "@jupyter-widgets/base",
            "_view_module_version": "1.2.0",
            "_view_name": "LayoutView",
            "align_content": null,
            "align_items": null,
            "align_self": null,
            "border": null,
            "bottom": null,
            "display": null,
            "flex": null,
            "flex_flow": null,
            "grid_area": null,
            "grid_auto_columns": null,
            "grid_auto_flow": null,
            "grid_auto_rows": null,
            "grid_column": null,
            "grid_gap": null,
            "grid_row": null,
            "grid_template_areas": null,
            "grid_template_columns": null,
            "grid_template_rows": null,
            "height": null,
            "justify_content": null,
            "justify_items": null,
            "left": null,
            "margin": null,
            "max_height": null,
            "max_width": null,
            "min_height": null,
            "min_width": null,
            "object_fit": null,
            "object_position": null,
            "order": null,
            "overflow": null,
            "overflow_x": null,
            "overflow_y": null,
            "padding": null,
            "right": null,
            "top": null,
            "visibility": null,
            "width": null
          }
        },
        "efdd502e66e240e9a2c0f3699701fe1e": {
          "model_module": "@jupyter-widgets/controls",
          "model_name": "DescriptionStyleModel",
          "model_module_version": "1.5.0",
          "state": {
            "_model_module": "@jupyter-widgets/controls",
            "_model_module_version": "1.5.0",
            "_model_name": "DescriptionStyleModel",
            "_view_count": null,
            "_view_module": "@jupyter-widgets/base",
            "_view_module_version": "1.2.0",
            "_view_name": "StyleView",
            "description_width": ""
          }
        },
        "f631d58532564222b333c366cfe02e19": {
          "model_module": "@jupyter-widgets/controls",
          "model_name": "HBoxModel",
          "model_module_version": "1.5.0",
          "state": {
            "_dom_classes": [],
            "_model_module": "@jupyter-widgets/controls",
            "_model_module_version": "1.5.0",
            "_model_name": "HBoxModel",
            "_view_count": null,
            "_view_module": "@jupyter-widgets/controls",
            "_view_module_version": "1.5.0",
            "_view_name": "HBoxView",
            "box_style": "",
            "children": [
              "IPY_MODEL_0589498c5bac4d1eaf92c4e45ae14f9b",
              "IPY_MODEL_a2a4e4a359fe47ab8685aee9b77f41dc",
              "IPY_MODEL_fc754e80e8ed49ffadaa4e710b9562ec"
            ],
            "layout": "IPY_MODEL_27976f01b32049409e1158e498da1ffd"
          }
        },
        "0589498c5bac4d1eaf92c4e45ae14f9b": {
          "model_module": "@jupyter-widgets/controls",
          "model_name": "HTMLModel",
          "model_module_version": "1.5.0",
          "state": {
            "_dom_classes": [],
            "_model_module": "@jupyter-widgets/controls",
            "_model_module_version": "1.5.0",
            "_model_name": "HTMLModel",
            "_view_count": null,
            "_view_module": "@jupyter-widgets/controls",
            "_view_module_version": "1.5.0",
            "_view_name": "HTMLView",
            "description": "",
            "description_tooltip": null,
            "layout": "IPY_MODEL_2087fe81f9af4e02af054eafb6fee5b4",
            "placeholder": "​",
            "style": "IPY_MODEL_8089dcc064854ff6a8583aa5d8ce21e6",
            "value": "Generating test split: "
          }
        },
        "a2a4e4a359fe47ab8685aee9b77f41dc": {
          "model_module": "@jupyter-widgets/controls",
          "model_name": "FloatProgressModel",
          "model_module_version": "1.5.0",
          "state": {
            "_dom_classes": [],
            "_model_module": "@jupyter-widgets/controls",
            "_model_module_version": "1.5.0",
            "_model_name": "FloatProgressModel",
            "_view_count": null,
            "_view_module": "@jupyter-widgets/controls",
            "_view_module_version": "1.5.0",
            "_view_name": "ProgressView",
            "bar_style": "info",
            "description": "",
            "description_tooltip": null,
            "layout": "IPY_MODEL_3b48d329459943ccb9737e6dbe8b0ef5",
            "max": 1,
            "min": 0,
            "orientation": "horizontal",
            "style": "IPY_MODEL_9d180a064cc649a8862082ef910c8014",
            "value": 1
          }
        },
        "fc754e80e8ed49ffadaa4e710b9562ec": {
          "model_module": "@jupyter-widgets/controls",
          "model_name": "HTMLModel",
          "model_module_version": "1.5.0",
          "state": {
            "_dom_classes": [],
            "_model_module": "@jupyter-widgets/controls",
            "_model_module_version": "1.5.0",
            "_model_name": "HTMLModel",
            "_view_count": null,
            "_view_module": "@jupyter-widgets/controls",
            "_view_module_version": "1.5.0",
            "_view_name": "HTMLView",
            "description": "",
            "description_tooltip": null,
            "layout": "IPY_MODEL_b7f088f4e19c4ab7936dca8cb909395e",
            "placeholder": "​",
            "style": "IPY_MODEL_429cebd299604191a8ed2ffc3bb434d2",
            "value": " 6440/0 [00:15&lt;00:00, 1631.72 examples/s]"
          }
        },
        "27976f01b32049409e1158e498da1ffd": {
          "model_module": "@jupyter-widgets/base",
          "model_name": "LayoutModel",
          "model_module_version": "1.2.0",
          "state": {
            "_model_module": "@jupyter-widgets/base",
            "_model_module_version": "1.2.0",
            "_model_name": "LayoutModel",
            "_view_count": null,
            "_view_module": "@jupyter-widgets/base",
            "_view_module_version": "1.2.0",
            "_view_name": "LayoutView",
            "align_content": null,
            "align_items": null,
            "align_self": null,
            "border": null,
            "bottom": null,
            "display": null,
            "flex": null,
            "flex_flow": null,
            "grid_area": null,
            "grid_auto_columns": null,
            "grid_auto_flow": null,
            "grid_auto_rows": null,
            "grid_column": null,
            "grid_gap": null,
            "grid_row": null,
            "grid_template_areas": null,
            "grid_template_columns": null,
            "grid_template_rows": null,
            "height": null,
            "justify_content": null,
            "justify_items": null,
            "left": null,
            "margin": null,
            "max_height": null,
            "max_width": null,
            "min_height": null,
            "min_width": null,
            "object_fit": null,
            "object_position": null,
            "order": null,
            "overflow": null,
            "overflow_x": null,
            "overflow_y": null,
            "padding": null,
            "right": null,
            "top": null,
            "visibility": "hidden",
            "width": null
          }
        },
        "2087fe81f9af4e02af054eafb6fee5b4": {
          "model_module": "@jupyter-widgets/base",
          "model_name": "LayoutModel",
          "model_module_version": "1.2.0",
          "state": {
            "_model_module": "@jupyter-widgets/base",
            "_model_module_version": "1.2.0",
            "_model_name": "LayoutModel",
            "_view_count": null,
            "_view_module": "@jupyter-widgets/base",
            "_view_module_version": "1.2.0",
            "_view_name": "LayoutView",
            "align_content": null,
            "align_items": null,
            "align_self": null,
            "border": null,
            "bottom": null,
            "display": null,
            "flex": null,
            "flex_flow": null,
            "grid_area": null,
            "grid_auto_columns": null,
            "grid_auto_flow": null,
            "grid_auto_rows": null,
            "grid_column": null,
            "grid_gap": null,
            "grid_row": null,
            "grid_template_areas": null,
            "grid_template_columns": null,
            "grid_template_rows": null,
            "height": null,
            "justify_content": null,
            "justify_items": null,
            "left": null,
            "margin": null,
            "max_height": null,
            "max_width": null,
            "min_height": null,
            "min_width": null,
            "object_fit": null,
            "object_position": null,
            "order": null,
            "overflow": null,
            "overflow_x": null,
            "overflow_y": null,
            "padding": null,
            "right": null,
            "top": null,
            "visibility": null,
            "width": null
          }
        },
        "8089dcc064854ff6a8583aa5d8ce21e6": {
          "model_module": "@jupyter-widgets/controls",
          "model_name": "DescriptionStyleModel",
          "model_module_version": "1.5.0",
          "state": {
            "_model_module": "@jupyter-widgets/controls",
            "_model_module_version": "1.5.0",
            "_model_name": "DescriptionStyleModel",
            "_view_count": null,
            "_view_module": "@jupyter-widgets/base",
            "_view_module_version": "1.2.0",
            "_view_name": "StyleView",
            "description_width": ""
          }
        },
        "3b48d329459943ccb9737e6dbe8b0ef5": {
          "model_module": "@jupyter-widgets/base",
          "model_name": "LayoutModel",
          "model_module_version": "1.2.0",
          "state": {
            "_model_module": "@jupyter-widgets/base",
            "_model_module_version": "1.2.0",
            "_model_name": "LayoutModel",
            "_view_count": null,
            "_view_module": "@jupyter-widgets/base",
            "_view_module_version": "1.2.0",
            "_view_name": "LayoutView",
            "align_content": null,
            "align_items": null,
            "align_self": null,
            "border": null,
            "bottom": null,
            "display": null,
            "flex": null,
            "flex_flow": null,
            "grid_area": null,
            "grid_auto_columns": null,
            "grid_auto_flow": null,
            "grid_auto_rows": null,
            "grid_column": null,
            "grid_gap": null,
            "grid_row": null,
            "grid_template_areas": null,
            "grid_template_columns": null,
            "grid_template_rows": null,
            "height": null,
            "justify_content": null,
            "justify_items": null,
            "left": null,
            "margin": null,
            "max_height": null,
            "max_width": null,
            "min_height": null,
            "min_width": null,
            "object_fit": null,
            "object_position": null,
            "order": null,
            "overflow": null,
            "overflow_x": null,
            "overflow_y": null,
            "padding": null,
            "right": null,
            "top": null,
            "visibility": null,
            "width": "20px"
          }
        },
        "9d180a064cc649a8862082ef910c8014": {
          "model_module": "@jupyter-widgets/controls",
          "model_name": "ProgressStyleModel",
          "model_module_version": "1.5.0",
          "state": {
            "_model_module": "@jupyter-widgets/controls",
            "_model_module_version": "1.5.0",
            "_model_name": "ProgressStyleModel",
            "_view_count": null,
            "_view_module": "@jupyter-widgets/base",
            "_view_module_version": "1.2.0",
            "_view_name": "StyleView",
            "bar_color": null,
            "description_width": ""
          }
        },
        "b7f088f4e19c4ab7936dca8cb909395e": {
          "model_module": "@jupyter-widgets/base",
          "model_name": "LayoutModel",
          "model_module_version": "1.2.0",
          "state": {
            "_model_module": "@jupyter-widgets/base",
            "_model_module_version": "1.2.0",
            "_model_name": "LayoutModel",
            "_view_count": null,
            "_view_module": "@jupyter-widgets/base",
            "_view_module_version": "1.2.0",
            "_view_name": "LayoutView",
            "align_content": null,
            "align_items": null,
            "align_self": null,
            "border": null,
            "bottom": null,
            "display": null,
            "flex": null,
            "flex_flow": null,
            "grid_area": null,
            "grid_auto_columns": null,
            "grid_auto_flow": null,
            "grid_auto_rows": null,
            "grid_column": null,
            "grid_gap": null,
            "grid_row": null,
            "grid_template_areas": null,
            "grid_template_columns": null,
            "grid_template_rows": null,
            "height": null,
            "justify_content": null,
            "justify_items": null,
            "left": null,
            "margin": null,
            "max_height": null,
            "max_width": null,
            "min_height": null,
            "min_width": null,
            "object_fit": null,
            "object_position": null,
            "order": null,
            "overflow": null,
            "overflow_x": null,
            "overflow_y": null,
            "padding": null,
            "right": null,
            "top": null,
            "visibility": null,
            "width": null
          }
        },
        "429cebd299604191a8ed2ffc3bb434d2": {
          "model_module": "@jupyter-widgets/controls",
          "model_name": "DescriptionStyleModel",
          "model_module_version": "1.5.0",
          "state": {
            "_model_module": "@jupyter-widgets/controls",
            "_model_module_version": "1.5.0",
            "_model_name": "DescriptionStyleModel",
            "_view_count": null,
            "_view_module": "@jupyter-widgets/base",
            "_view_module_version": "1.2.0",
            "_view_name": "StyleView",
            "description_width": ""
          }
        },
        "fac1fd8b21ef40bfb256bfa02dca478f": {
          "model_module": "@jupyter-widgets/controls",
          "model_name": "HBoxModel",
          "model_module_version": "1.5.0",
          "state": {
            "_dom_classes": [],
            "_model_module": "@jupyter-widgets/controls",
            "_model_module_version": "1.5.0",
            "_model_name": "HBoxModel",
            "_view_count": null,
            "_view_module": "@jupyter-widgets/controls",
            "_view_module_version": "1.5.0",
            "_view_name": "HBoxView",
            "box_style": "",
            "children": [
              "IPY_MODEL_ab4ff9455f2840c18946ec4d194f9efd",
              "IPY_MODEL_8084c32e565346d0b594a985bb85829c",
              "IPY_MODEL_3b578860bd8a4445ac54dc1428e3e798"
            ],
            "layout": "IPY_MODEL_95bcc7a02b98499da1849d10d0c625d8"
          }
        },
        "ab4ff9455f2840c18946ec4d194f9efd": {
          "model_module": "@jupyter-widgets/controls",
          "model_name": "HTMLModel",
          "model_module_version": "1.5.0",
          "state": {
            "_dom_classes": [],
            "_model_module": "@jupyter-widgets/controls",
            "_model_module_version": "1.5.0",
            "_model_name": "HTMLModel",
            "_view_count": null,
            "_view_module": "@jupyter-widgets/controls",
            "_view_module_version": "1.5.0",
            "_view_name": "HTMLView",
            "description": "",
            "description_tooltip": null,
            "layout": "IPY_MODEL_dc2d25b39b68492fad0189049652cd65",
            "placeholder": "​",
            "style": "IPY_MODEL_81a6c463a85d4191af4363ed0d4ff4d8",
            "value": "100%"
          }
        },
        "8084c32e565346d0b594a985bb85829c": {
          "model_module": "@jupyter-widgets/controls",
          "model_name": "FloatProgressModel",
          "model_module_version": "1.5.0",
          "state": {
            "_dom_classes": [],
            "_model_module": "@jupyter-widgets/controls",
            "_model_module_version": "1.5.0",
            "_model_name": "FloatProgressModel",
            "_view_count": null,
            "_view_module": "@jupyter-widgets/controls",
            "_view_module_version": "1.5.0",
            "_view_name": "ProgressView",
            "bar_style": "success",
            "description": "",
            "description_tooltip": null,
            "layout": "IPY_MODEL_c75dac90ac8c445d83cf763356adcc9f",
            "max": 3,
            "min": 0,
            "orientation": "horizontal",
            "style": "IPY_MODEL_ef8c7b64d19e4046a13d6a2d77368553",
            "value": 3
          }
        },
        "3b578860bd8a4445ac54dc1428e3e798": {
          "model_module": "@jupyter-widgets/controls",
          "model_name": "HTMLModel",
          "model_module_version": "1.5.0",
          "state": {
            "_dom_classes": [],
            "_model_module": "@jupyter-widgets/controls",
            "_model_module_version": "1.5.0",
            "_model_name": "HTMLModel",
            "_view_count": null,
            "_view_module": "@jupyter-widgets/controls",
            "_view_module_version": "1.5.0",
            "_view_name": "HTMLView",
            "description": "",
            "description_tooltip": null,
            "layout": "IPY_MODEL_767ed60883f74b108a5b77efdf6e1a1f",
            "placeholder": "​",
            "style": "IPY_MODEL_7f0eb01d87ad41d6bb7f1002b0921ee5",
            "value": " 3/3 [00:01&lt;00:00,  1.80s/it]"
          }
        },
        "95bcc7a02b98499da1849d10d0c625d8": {
          "model_module": "@jupyter-widgets/base",
          "model_name": "LayoutModel",
          "model_module_version": "1.2.0",
          "state": {
            "_model_module": "@jupyter-widgets/base",
            "_model_module_version": "1.2.0",
            "_model_name": "LayoutModel",
            "_view_count": null,
            "_view_module": "@jupyter-widgets/base",
            "_view_module_version": "1.2.0",
            "_view_name": "LayoutView",
            "align_content": null,
            "align_items": null,
            "align_self": null,
            "border": null,
            "bottom": null,
            "display": null,
            "flex": null,
            "flex_flow": null,
            "grid_area": null,
            "grid_auto_columns": null,
            "grid_auto_flow": null,
            "grid_auto_rows": null,
            "grid_column": null,
            "grid_gap": null,
            "grid_row": null,
            "grid_template_areas": null,
            "grid_template_columns": null,
            "grid_template_rows": null,
            "height": null,
            "justify_content": null,
            "justify_items": null,
            "left": null,
            "margin": null,
            "max_height": null,
            "max_width": null,
            "min_height": null,
            "min_width": null,
            "object_fit": null,
            "object_position": null,
            "order": null,
            "overflow": null,
            "overflow_x": null,
            "overflow_y": null,
            "padding": null,
            "right": null,
            "top": null,
            "visibility": null,
            "width": null
          }
        },
        "dc2d25b39b68492fad0189049652cd65": {
          "model_module": "@jupyter-widgets/base",
          "model_name": "LayoutModel",
          "model_module_version": "1.2.0",
          "state": {
            "_model_module": "@jupyter-widgets/base",
            "_model_module_version": "1.2.0",
            "_model_name": "LayoutModel",
            "_view_count": null,
            "_view_module": "@jupyter-widgets/base",
            "_view_module_version": "1.2.0",
            "_view_name": "LayoutView",
            "align_content": null,
            "align_items": null,
            "align_self": null,
            "border": null,
            "bottom": null,
            "display": null,
            "flex": null,
            "flex_flow": null,
            "grid_area": null,
            "grid_auto_columns": null,
            "grid_auto_flow": null,
            "grid_auto_rows": null,
            "grid_column": null,
            "grid_gap": null,
            "grid_row": null,
            "grid_template_areas": null,
            "grid_template_columns": null,
            "grid_template_rows": null,
            "height": null,
            "justify_content": null,
            "justify_items": null,
            "left": null,
            "margin": null,
            "max_height": null,
            "max_width": null,
            "min_height": null,
            "min_width": null,
            "object_fit": null,
            "object_position": null,
            "order": null,
            "overflow": null,
            "overflow_x": null,
            "overflow_y": null,
            "padding": null,
            "right": null,
            "top": null,
            "visibility": null,
            "width": null
          }
        },
        "81a6c463a85d4191af4363ed0d4ff4d8": {
          "model_module": "@jupyter-widgets/controls",
          "model_name": "DescriptionStyleModel",
          "model_module_version": "1.5.0",
          "state": {
            "_model_module": "@jupyter-widgets/controls",
            "_model_module_version": "1.5.0",
            "_model_name": "DescriptionStyleModel",
            "_view_count": null,
            "_view_module": "@jupyter-widgets/base",
            "_view_module_version": "1.2.0",
            "_view_name": "StyleView",
            "description_width": ""
          }
        },
        "c75dac90ac8c445d83cf763356adcc9f": {
          "model_module": "@jupyter-widgets/base",
          "model_name": "LayoutModel",
          "model_module_version": "1.2.0",
          "state": {
            "_model_module": "@jupyter-widgets/base",
            "_model_module_version": "1.2.0",
            "_model_name": "LayoutModel",
            "_view_count": null,
            "_view_module": "@jupyter-widgets/base",
            "_view_module_version": "1.2.0",
            "_view_name": "LayoutView",
            "align_content": null,
            "align_items": null,
            "align_self": null,
            "border": null,
            "bottom": null,
            "display": null,
            "flex": null,
            "flex_flow": null,
            "grid_area": null,
            "grid_auto_columns": null,
            "grid_auto_flow": null,
            "grid_auto_rows": null,
            "grid_column": null,
            "grid_gap": null,
            "grid_row": null,
            "grid_template_areas": null,
            "grid_template_columns": null,
            "grid_template_rows": null,
            "height": null,
            "justify_content": null,
            "justify_items": null,
            "left": null,
            "margin": null,
            "max_height": null,
            "max_width": null,
            "min_height": null,
            "min_width": null,
            "object_fit": null,
            "object_position": null,
            "order": null,
            "overflow": null,
            "overflow_x": null,
            "overflow_y": null,
            "padding": null,
            "right": null,
            "top": null,
            "visibility": null,
            "width": null
          }
        },
        "ef8c7b64d19e4046a13d6a2d77368553": {
          "model_module": "@jupyter-widgets/controls",
          "model_name": "ProgressStyleModel",
          "model_module_version": "1.5.0",
          "state": {
            "_model_module": "@jupyter-widgets/controls",
            "_model_module_version": "1.5.0",
            "_model_name": "ProgressStyleModel",
            "_view_count": null,
            "_view_module": "@jupyter-widgets/base",
            "_view_module_version": "1.2.0",
            "_view_name": "StyleView",
            "bar_color": null,
            "description_width": ""
          }
        },
        "767ed60883f74b108a5b77efdf6e1a1f": {
          "model_module": "@jupyter-widgets/base",
          "model_name": "LayoutModel",
          "model_module_version": "1.2.0",
          "state": {
            "_model_module": "@jupyter-widgets/base",
            "_model_module_version": "1.2.0",
            "_model_name": "LayoutModel",
            "_view_count": null,
            "_view_module": "@jupyter-widgets/base",
            "_view_module_version": "1.2.0",
            "_view_name": "LayoutView",
            "align_content": null,
            "align_items": null,
            "align_self": null,
            "border": null,
            "bottom": null,
            "display": null,
            "flex": null,
            "flex_flow": null,
            "grid_area": null,
            "grid_auto_columns": null,
            "grid_auto_flow": null,
            "grid_auto_rows": null,
            "grid_column": null,
            "grid_gap": null,
            "grid_row": null,
            "grid_template_areas": null,
            "grid_template_columns": null,
            "grid_template_rows": null,
            "height": null,
            "justify_content": null,
            "justify_items": null,
            "left": null,
            "margin": null,
            "max_height": null,
            "max_width": null,
            "min_height": null,
            "min_width": null,
            "object_fit": null,
            "object_position": null,
            "order": null,
            "overflow": null,
            "overflow_x": null,
            "overflow_y": null,
            "padding": null,
            "right": null,
            "top": null,
            "visibility": null,
            "width": null
          }
        },
        "7f0eb01d87ad41d6bb7f1002b0921ee5": {
          "model_module": "@jupyter-widgets/controls",
          "model_name": "DescriptionStyleModel",
          "model_module_version": "1.5.0",
          "state": {
            "_model_module": "@jupyter-widgets/controls",
            "_model_module_version": "1.5.0",
            "_model_name": "DescriptionStyleModel",
            "_view_count": null,
            "_view_module": "@jupyter-widgets/base",
            "_view_module_version": "1.2.0",
            "_view_name": "StyleView",
            "description_width": ""
          }
        },
        "d4e9b71f36be41ee8f8bbbb095a98e92": {
          "model_module": "@jupyter-widgets/controls",
          "model_name": "HBoxModel",
          "model_module_version": "1.5.0",
          "state": {
            "_dom_classes": [],
            "_model_module": "@jupyter-widgets/controls",
            "_model_module_version": "1.5.0",
            "_model_name": "HBoxModel",
            "_view_count": null,
            "_view_module": "@jupyter-widgets/controls",
            "_view_module_version": "1.5.0",
            "_view_name": "HBoxView",
            "box_style": "",
            "children": [
              "IPY_MODEL_3a5c60deab864de597e2f4a5f558a5c2",
              "IPY_MODEL_cf3885baafb54f6facbe1c42ef253d2e",
              "IPY_MODEL_3c134ae8f7a747b6a9a6c20bb50f4621"
            ],
            "layout": "IPY_MODEL_5d58345379b64f22b12dba38b9d19762"
          }
        },
        "3a5c60deab864de597e2f4a5f558a5c2": {
          "model_module": "@jupyter-widgets/controls",
          "model_name": "HTMLModel",
          "model_module_version": "1.5.0",
          "state": {
            "_dom_classes": [],
            "_model_module": "@jupyter-widgets/controls",
            "_model_module_version": "1.5.0",
            "_model_name": "HTMLModel",
            "_view_count": null,
            "_view_module": "@jupyter-widgets/controls",
            "_view_module_version": "1.5.0",
            "_view_name": "HTMLView",
            "description": "",
            "description_tooltip": null,
            "layout": "IPY_MODEL_e31f10efc87743ecb7e41fc35ae6dfcf",
            "placeholder": "​",
            "style": "IPY_MODEL_16567897f4d74d88bf791cd57b804803",
            "value": "Downloading (…)ve/main/spiece.model: 100%"
          }
        },
        "cf3885baafb54f6facbe1c42ef253d2e": {
          "model_module": "@jupyter-widgets/controls",
          "model_name": "FloatProgressModel",
          "model_module_version": "1.5.0",
          "state": {
            "_dom_classes": [],
            "_model_module": "@jupyter-widgets/controls",
            "_model_module_version": "1.5.0",
            "_model_name": "FloatProgressModel",
            "_view_count": null,
            "_view_module": "@jupyter-widgets/controls",
            "_view_module_version": "1.5.0",
            "_view_name": "ProgressView",
            "bar_style": "success",
            "description": "",
            "description_tooltip": null,
            "layout": "IPY_MODEL_115b0b7bd5ac4d47b3e6151d8b99561e",
            "max": 791656,
            "min": 0,
            "orientation": "horizontal",
            "style": "IPY_MODEL_6595cdf1ab5347cda8eba0dadc18a6d2",
            "value": 791656
          }
        },
        "3c134ae8f7a747b6a9a6c20bb50f4621": {
          "model_module": "@jupyter-widgets/controls",
          "model_name": "HTMLModel",
          "model_module_version": "1.5.0",
          "state": {
            "_dom_classes": [],
            "_model_module": "@jupyter-widgets/controls",
            "_model_module_version": "1.5.0",
            "_model_name": "HTMLModel",
            "_view_count": null,
            "_view_module": "@jupyter-widgets/controls",
            "_view_module_version": "1.5.0",
            "_view_name": "HTMLView",
            "description": "",
            "description_tooltip": null,
            "layout": "IPY_MODEL_1d105d955db94aabbed39dd540a1b5fb",
            "placeholder": "​",
            "style": "IPY_MODEL_7d5d29e3a68e47ce85cbb5d510a7f786",
            "value": " 792k/792k [00:01&lt;00:00, 707kB/s]"
          }
        },
        "5d58345379b64f22b12dba38b9d19762": {
          "model_module": "@jupyter-widgets/base",
          "model_name": "LayoutModel",
          "model_module_version": "1.2.0",
          "state": {
            "_model_module": "@jupyter-widgets/base",
            "_model_module_version": "1.2.0",
            "_model_name": "LayoutModel",
            "_view_count": null,
            "_view_module": "@jupyter-widgets/base",
            "_view_module_version": "1.2.0",
            "_view_name": "LayoutView",
            "align_content": null,
            "align_items": null,
            "align_self": null,
            "border": null,
            "bottom": null,
            "display": null,
            "flex": null,
            "flex_flow": null,
            "grid_area": null,
            "grid_auto_columns": null,
            "grid_auto_flow": null,
            "grid_auto_rows": null,
            "grid_column": null,
            "grid_gap": null,
            "grid_row": null,
            "grid_template_areas": null,
            "grid_template_columns": null,
            "grid_template_rows": null,
            "height": null,
            "justify_content": null,
            "justify_items": null,
            "left": null,
            "margin": null,
            "max_height": null,
            "max_width": null,
            "min_height": null,
            "min_width": null,
            "object_fit": null,
            "object_position": null,
            "order": null,
            "overflow": null,
            "overflow_x": null,
            "overflow_y": null,
            "padding": null,
            "right": null,
            "top": null,
            "visibility": null,
            "width": null
          }
        },
        "e31f10efc87743ecb7e41fc35ae6dfcf": {
          "model_module": "@jupyter-widgets/base",
          "model_name": "LayoutModel",
          "model_module_version": "1.2.0",
          "state": {
            "_model_module": "@jupyter-widgets/base",
            "_model_module_version": "1.2.0",
            "_model_name": "LayoutModel",
            "_view_count": null,
            "_view_module": "@jupyter-widgets/base",
            "_view_module_version": "1.2.0",
            "_view_name": "LayoutView",
            "align_content": null,
            "align_items": null,
            "align_self": null,
            "border": null,
            "bottom": null,
            "display": null,
            "flex": null,
            "flex_flow": null,
            "grid_area": null,
            "grid_auto_columns": null,
            "grid_auto_flow": null,
            "grid_auto_rows": null,
            "grid_column": null,
            "grid_gap": null,
            "grid_row": null,
            "grid_template_areas": null,
            "grid_template_columns": null,
            "grid_template_rows": null,
            "height": null,
            "justify_content": null,
            "justify_items": null,
            "left": null,
            "margin": null,
            "max_height": null,
            "max_width": null,
            "min_height": null,
            "min_width": null,
            "object_fit": null,
            "object_position": null,
            "order": null,
            "overflow": null,
            "overflow_x": null,
            "overflow_y": null,
            "padding": null,
            "right": null,
            "top": null,
            "visibility": null,
            "width": null
          }
        },
        "16567897f4d74d88bf791cd57b804803": {
          "model_module": "@jupyter-widgets/controls",
          "model_name": "DescriptionStyleModel",
          "model_module_version": "1.5.0",
          "state": {
            "_model_module": "@jupyter-widgets/controls",
            "_model_module_version": "1.5.0",
            "_model_name": "DescriptionStyleModel",
            "_view_count": null,
            "_view_module": "@jupyter-widgets/base",
            "_view_module_version": "1.2.0",
            "_view_name": "StyleView",
            "description_width": ""
          }
        },
        "115b0b7bd5ac4d47b3e6151d8b99561e": {
          "model_module": "@jupyter-widgets/base",
          "model_name": "LayoutModel",
          "model_module_version": "1.2.0",
          "state": {
            "_model_module": "@jupyter-widgets/base",
            "_model_module_version": "1.2.0",
            "_model_name": "LayoutModel",
            "_view_count": null,
            "_view_module": "@jupyter-widgets/base",
            "_view_module_version": "1.2.0",
            "_view_name": "LayoutView",
            "align_content": null,
            "align_items": null,
            "align_self": null,
            "border": null,
            "bottom": null,
            "display": null,
            "flex": null,
            "flex_flow": null,
            "grid_area": null,
            "grid_auto_columns": null,
            "grid_auto_flow": null,
            "grid_auto_rows": null,
            "grid_column": null,
            "grid_gap": null,
            "grid_row": null,
            "grid_template_areas": null,
            "grid_template_columns": null,
            "grid_template_rows": null,
            "height": null,
            "justify_content": null,
            "justify_items": null,
            "left": null,
            "margin": null,
            "max_height": null,
            "max_width": null,
            "min_height": null,
            "min_width": null,
            "object_fit": null,
            "object_position": null,
            "order": null,
            "overflow": null,
            "overflow_x": null,
            "overflow_y": null,
            "padding": null,
            "right": null,
            "top": null,
            "visibility": null,
            "width": null
          }
        },
        "6595cdf1ab5347cda8eba0dadc18a6d2": {
          "model_module": "@jupyter-widgets/controls",
          "model_name": "ProgressStyleModel",
          "model_module_version": "1.5.0",
          "state": {
            "_model_module": "@jupyter-widgets/controls",
            "_model_module_version": "1.5.0",
            "_model_name": "ProgressStyleModel",
            "_view_count": null,
            "_view_module": "@jupyter-widgets/base",
            "_view_module_version": "1.2.0",
            "_view_name": "StyleView",
            "bar_color": null,
            "description_width": ""
          }
        },
        "1d105d955db94aabbed39dd540a1b5fb": {
          "model_module": "@jupyter-widgets/base",
          "model_name": "LayoutModel",
          "model_module_version": "1.2.0",
          "state": {
            "_model_module": "@jupyter-widgets/base",
            "_model_module_version": "1.2.0",
            "_model_name": "LayoutModel",
            "_view_count": null,
            "_view_module": "@jupyter-widgets/base",
            "_view_module_version": "1.2.0",
            "_view_name": "LayoutView",
            "align_content": null,
            "align_items": null,
            "align_self": null,
            "border": null,
            "bottom": null,
            "display": null,
            "flex": null,
            "flex_flow": null,
            "grid_area": null,
            "grid_auto_columns": null,
            "grid_auto_flow": null,
            "grid_auto_rows": null,
            "grid_column": null,
            "grid_gap": null,
            "grid_row": null,
            "grid_template_areas": null,
            "grid_template_columns": null,
            "grid_template_rows": null,
            "height": null,
            "justify_content": null,
            "justify_items": null,
            "left": null,
            "margin": null,
            "max_height": null,
            "max_width": null,
            "min_height": null,
            "min_width": null,
            "object_fit": null,
            "object_position": null,
            "order": null,
            "overflow": null,
            "overflow_x": null,
            "overflow_y": null,
            "padding": null,
            "right": null,
            "top": null,
            "visibility": null,
            "width": null
          }
        },
        "7d5d29e3a68e47ce85cbb5d510a7f786": {
          "model_module": "@jupyter-widgets/controls",
          "model_name": "DescriptionStyleModel",
          "model_module_version": "1.5.0",
          "state": {
            "_model_module": "@jupyter-widgets/controls",
            "_model_module_version": "1.5.0",
            "_model_name": "DescriptionStyleModel",
            "_view_count": null,
            "_view_module": "@jupyter-widgets/base",
            "_view_module_version": "1.2.0",
            "_view_name": "StyleView",
            "description_width": ""
          }
        },
        "cf76d32d09e9442fa48a5cac79cc0341": {
          "model_module": "@jupyter-widgets/controls",
          "model_name": "HBoxModel",
          "model_module_version": "1.5.0",
          "state": {
            "_dom_classes": [],
            "_model_module": "@jupyter-widgets/controls",
            "_model_module_version": "1.5.0",
            "_model_name": "HBoxModel",
            "_view_count": null,
            "_view_module": "@jupyter-widgets/controls",
            "_view_module_version": "1.5.0",
            "_view_name": "HBoxView",
            "box_style": "",
            "children": [
              "IPY_MODEL_6b1e7699db924c869fe3b2106ac61f1d",
              "IPY_MODEL_42858ded7b254653aecfbd234d0f6c35",
              "IPY_MODEL_df33702f7bb94a95b46f13d8da2ba525"
            ],
            "layout": "IPY_MODEL_651a989f33594b79a3f1854961896058"
          }
        },
        "6b1e7699db924c869fe3b2106ac61f1d": {
          "model_module": "@jupyter-widgets/controls",
          "model_name": "HTMLModel",
          "model_module_version": "1.5.0",
          "state": {
            "_dom_classes": [],
            "_model_module": "@jupyter-widgets/controls",
            "_model_module_version": "1.5.0",
            "_model_name": "HTMLModel",
            "_view_count": null,
            "_view_module": "@jupyter-widgets/controls",
            "_view_module_version": "1.5.0",
            "_view_name": "HTMLView",
            "description": "",
            "description_tooltip": null,
            "layout": "IPY_MODEL_b4cef53287a3430daed68334b558a402",
            "placeholder": "​",
            "style": "IPY_MODEL_3fd2a5e23da8447f9b41004659107333",
            "value": "Downloading (…)lve/main/config.json: 100%"
          }
        },
        "42858ded7b254653aecfbd234d0f6c35": {
          "model_module": "@jupyter-widgets/controls",
          "model_name": "FloatProgressModel",
          "model_module_version": "1.5.0",
          "state": {
            "_dom_classes": [],
            "_model_module": "@jupyter-widgets/controls",
            "_model_module_version": "1.5.0",
            "_model_name": "FloatProgressModel",
            "_view_count": null,
            "_view_module": "@jupyter-widgets/controls",
            "_view_module_version": "1.5.0",
            "_view_name": "ProgressView",
            "bar_style": "success",
            "description": "",
            "description_tooltip": null,
            "layout": "IPY_MODEL_48dcfe41deaf48ee9b131795dcd8f965",
            "max": 1206,
            "min": 0,
            "orientation": "horizontal",
            "style": "IPY_MODEL_399f996d811d42b587df0940fe775178",
            "value": 1206
          }
        },
        "df33702f7bb94a95b46f13d8da2ba525": {
          "model_module": "@jupyter-widgets/controls",
          "model_name": "HTMLModel",
          "model_module_version": "1.5.0",
          "state": {
            "_dom_classes": [],
            "_model_module": "@jupyter-widgets/controls",
            "_model_module_version": "1.5.0",
            "_model_name": "HTMLModel",
            "_view_count": null,
            "_view_module": "@jupyter-widgets/controls",
            "_view_module_version": "1.5.0",
            "_view_name": "HTMLView",
            "description": "",
            "description_tooltip": null,
            "layout": "IPY_MODEL_310ccc22e5fc4b7da9abc0ac45ec5bc6",
            "placeholder": "​",
            "style": "IPY_MODEL_aa5a33b5a6334201a70f915763687894",
            "value": " 1.21k/1.21k [00:00&lt;00:00, 41.6kB/s]"
          }
        },
        "651a989f33594b79a3f1854961896058": {
          "model_module": "@jupyter-widgets/base",
          "model_name": "LayoutModel",
          "model_module_version": "1.2.0",
          "state": {
            "_model_module": "@jupyter-widgets/base",
            "_model_module_version": "1.2.0",
            "_model_name": "LayoutModel",
            "_view_count": null,
            "_view_module": "@jupyter-widgets/base",
            "_view_module_version": "1.2.0",
            "_view_name": "LayoutView",
            "align_content": null,
            "align_items": null,
            "align_self": null,
            "border": null,
            "bottom": null,
            "display": null,
            "flex": null,
            "flex_flow": null,
            "grid_area": null,
            "grid_auto_columns": null,
            "grid_auto_flow": null,
            "grid_auto_rows": null,
            "grid_column": null,
            "grid_gap": null,
            "grid_row": null,
            "grid_template_areas": null,
            "grid_template_columns": null,
            "grid_template_rows": null,
            "height": null,
            "justify_content": null,
            "justify_items": null,
            "left": null,
            "margin": null,
            "max_height": null,
            "max_width": null,
            "min_height": null,
            "min_width": null,
            "object_fit": null,
            "object_position": null,
            "order": null,
            "overflow": null,
            "overflow_x": null,
            "overflow_y": null,
            "padding": null,
            "right": null,
            "top": null,
            "visibility": null,
            "width": null
          }
        },
        "b4cef53287a3430daed68334b558a402": {
          "model_module": "@jupyter-widgets/base",
          "model_name": "LayoutModel",
          "model_module_version": "1.2.0",
          "state": {
            "_model_module": "@jupyter-widgets/base",
            "_model_module_version": "1.2.0",
            "_model_name": "LayoutModel",
            "_view_count": null,
            "_view_module": "@jupyter-widgets/base",
            "_view_module_version": "1.2.0",
            "_view_name": "LayoutView",
            "align_content": null,
            "align_items": null,
            "align_self": null,
            "border": null,
            "bottom": null,
            "display": null,
            "flex": null,
            "flex_flow": null,
            "grid_area": null,
            "grid_auto_columns": null,
            "grid_auto_flow": null,
            "grid_auto_rows": null,
            "grid_column": null,
            "grid_gap": null,
            "grid_row": null,
            "grid_template_areas": null,
            "grid_template_columns": null,
            "grid_template_rows": null,
            "height": null,
            "justify_content": null,
            "justify_items": null,
            "left": null,
            "margin": null,
            "max_height": null,
            "max_width": null,
            "min_height": null,
            "min_width": null,
            "object_fit": null,
            "object_position": null,
            "order": null,
            "overflow": null,
            "overflow_x": null,
            "overflow_y": null,
            "padding": null,
            "right": null,
            "top": null,
            "visibility": null,
            "width": null
          }
        },
        "3fd2a5e23da8447f9b41004659107333": {
          "model_module": "@jupyter-widgets/controls",
          "model_name": "DescriptionStyleModel",
          "model_module_version": "1.5.0",
          "state": {
            "_model_module": "@jupyter-widgets/controls",
            "_model_module_version": "1.5.0",
            "_model_name": "DescriptionStyleModel",
            "_view_count": null,
            "_view_module": "@jupyter-widgets/base",
            "_view_module_version": "1.2.0",
            "_view_name": "StyleView",
            "description_width": ""
          }
        },
        "48dcfe41deaf48ee9b131795dcd8f965": {
          "model_module": "@jupyter-widgets/base",
          "model_name": "LayoutModel",
          "model_module_version": "1.2.0",
          "state": {
            "_model_module": "@jupyter-widgets/base",
            "_model_module_version": "1.2.0",
            "_model_name": "LayoutModel",
            "_view_count": null,
            "_view_module": "@jupyter-widgets/base",
            "_view_module_version": "1.2.0",
            "_view_name": "LayoutView",
            "align_content": null,
            "align_items": null,
            "align_self": null,
            "border": null,
            "bottom": null,
            "display": null,
            "flex": null,
            "flex_flow": null,
            "grid_area": null,
            "grid_auto_columns": null,
            "grid_auto_flow": null,
            "grid_auto_rows": null,
            "grid_column": null,
            "grid_gap": null,
            "grid_row": null,
            "grid_template_areas": null,
            "grid_template_columns": null,
            "grid_template_rows": null,
            "height": null,
            "justify_content": null,
            "justify_items": null,
            "left": null,
            "margin": null,
            "max_height": null,
            "max_width": null,
            "min_height": null,
            "min_width": null,
            "object_fit": null,
            "object_position": null,
            "order": null,
            "overflow": null,
            "overflow_x": null,
            "overflow_y": null,
            "padding": null,
            "right": null,
            "top": null,
            "visibility": null,
            "width": null
          }
        },
        "399f996d811d42b587df0940fe775178": {
          "model_module": "@jupyter-widgets/controls",
          "model_name": "ProgressStyleModel",
          "model_module_version": "1.5.0",
          "state": {
            "_model_module": "@jupyter-widgets/controls",
            "_model_module_version": "1.5.0",
            "_model_name": "ProgressStyleModel",
            "_view_count": null,
            "_view_module": "@jupyter-widgets/base",
            "_view_module_version": "1.2.0",
            "_view_name": "StyleView",
            "bar_color": null,
            "description_width": ""
          }
        },
        "310ccc22e5fc4b7da9abc0ac45ec5bc6": {
          "model_module": "@jupyter-widgets/base",
          "model_name": "LayoutModel",
          "model_module_version": "1.2.0",
          "state": {
            "_model_module": "@jupyter-widgets/base",
            "_model_module_version": "1.2.0",
            "_model_name": "LayoutModel",
            "_view_count": null,
            "_view_module": "@jupyter-widgets/base",
            "_view_module_version": "1.2.0",
            "_view_name": "LayoutView",
            "align_content": null,
            "align_items": null,
            "align_self": null,
            "border": null,
            "bottom": null,
            "display": null,
            "flex": null,
            "flex_flow": null,
            "grid_area": null,
            "grid_auto_columns": null,
            "grid_auto_flow": null,
            "grid_auto_rows": null,
            "grid_column": null,
            "grid_gap": null,
            "grid_row": null,
            "grid_template_areas": null,
            "grid_template_columns": null,
            "grid_template_rows": null,
            "height": null,
            "justify_content": null,
            "justify_items": null,
            "left": null,
            "margin": null,
            "max_height": null,
            "max_width": null,
            "min_height": null,
            "min_width": null,
            "object_fit": null,
            "object_position": null,
            "order": null,
            "overflow": null,
            "overflow_x": null,
            "overflow_y": null,
            "padding": null,
            "right": null,
            "top": null,
            "visibility": null,
            "width": null
          }
        },
        "aa5a33b5a6334201a70f915763687894": {
          "model_module": "@jupyter-widgets/controls",
          "model_name": "DescriptionStyleModel",
          "model_module_version": "1.5.0",
          "state": {
            "_model_module": "@jupyter-widgets/controls",
            "_model_module_version": "1.5.0",
            "_model_name": "DescriptionStyleModel",
            "_view_count": null,
            "_view_module": "@jupyter-widgets/base",
            "_view_module_version": "1.2.0",
            "_view_name": "StyleView",
            "description_width": ""
          }
        },
        "dc186149de184760a5e90edcb1198d4d": {
          "model_module": "@jupyter-widgets/controls",
          "model_name": "HBoxModel",
          "model_module_version": "1.5.0",
          "state": {
            "_dom_classes": [],
            "_model_module": "@jupyter-widgets/controls",
            "_model_module_version": "1.5.0",
            "_model_name": "HBoxModel",
            "_view_count": null,
            "_view_module": "@jupyter-widgets/controls",
            "_view_module_version": "1.5.0",
            "_view_name": "HBoxView",
            "box_style": "",
            "children": [
              "IPY_MODEL_6349c2c0804844b993cb9c10c57b26b1",
              "IPY_MODEL_6b242429e9554f0c968783a073dd43e9",
              "IPY_MODEL_51b992ee11eb4123aa16e48f6c997f5a"
            ],
            "layout": "IPY_MODEL_5cd8129508ee4341b8a45a7c617b0af0"
          }
        },
        "6349c2c0804844b993cb9c10c57b26b1": {
          "model_module": "@jupyter-widgets/controls",
          "model_name": "HTMLModel",
          "model_module_version": "1.5.0",
          "state": {
            "_dom_classes": [],
            "_model_module": "@jupyter-widgets/controls",
            "_model_module_version": "1.5.0",
            "_model_name": "HTMLModel",
            "_view_count": null,
            "_view_module": "@jupyter-widgets/controls",
            "_view_module_version": "1.5.0",
            "_view_name": "HTMLView",
            "description": "",
            "description_tooltip": null,
            "layout": "IPY_MODEL_691f60ccfd054167a1e45557a60cd73e",
            "placeholder": "​",
            "style": "IPY_MODEL_aabbba6c185d44059a3d4b86de89ee47",
            "value": "Sanity Checking DataLoader 0: 100%"
          }
        },
        "6b242429e9554f0c968783a073dd43e9": {
          "model_module": "@jupyter-widgets/controls",
          "model_name": "FloatProgressModel",
          "model_module_version": "1.5.0",
          "state": {
            "_dom_classes": [],
            "_model_module": "@jupyter-widgets/controls",
            "_model_module_version": "1.5.0",
            "_model_name": "FloatProgressModel",
            "_view_count": null,
            "_view_module": "@jupyter-widgets/controls",
            "_view_module_version": "1.5.0",
            "_view_name": "ProgressView",
            "bar_style": "",
            "description": "",
            "description_tooltip": null,
            "layout": "IPY_MODEL_9720c92eacc2451f8708ddd51c4c529a",
            "max": 2,
            "min": 0,
            "orientation": "horizontal",
            "style": "IPY_MODEL_29d105653907427b93a113c7df92088b",
            "value": 2
          }
        },
        "51b992ee11eb4123aa16e48f6c997f5a": {
          "model_module": "@jupyter-widgets/controls",
          "model_name": "HTMLModel",
          "model_module_version": "1.5.0",
          "state": {
            "_dom_classes": [],
            "_model_module": "@jupyter-widgets/controls",
            "_model_module_version": "1.5.0",
            "_model_name": "HTMLModel",
            "_view_count": null,
            "_view_module": "@jupyter-widgets/controls",
            "_view_module_version": "1.5.0",
            "_view_name": "HTMLView",
            "description": "",
            "description_tooltip": null,
            "layout": "IPY_MODEL_f427780d5cae4d4bb2b82f4de8da2b42",
            "placeholder": "​",
            "style": "IPY_MODEL_a50e6cfc8b664ccfb9fd91e758f2c756",
            "value": " 2/2 [00:12&lt;00:00,  6.08s/it]"
          }
        },
        "5cd8129508ee4341b8a45a7c617b0af0": {
          "model_module": "@jupyter-widgets/base",
          "model_name": "LayoutModel",
          "model_module_version": "1.2.0",
          "state": {
            "_model_module": "@jupyter-widgets/base",
            "_model_module_version": "1.2.0",
            "_model_name": "LayoutModel",
            "_view_count": null,
            "_view_module": "@jupyter-widgets/base",
            "_view_module_version": "1.2.0",
            "_view_name": "LayoutView",
            "align_content": null,
            "align_items": null,
            "align_self": null,
            "border": null,
            "bottom": null,
            "display": "inline-flex",
            "flex": null,
            "flex_flow": "row wrap",
            "grid_area": null,
            "grid_auto_columns": null,
            "grid_auto_flow": null,
            "grid_auto_rows": null,
            "grid_column": null,
            "grid_gap": null,
            "grid_row": null,
            "grid_template_areas": null,
            "grid_template_columns": null,
            "grid_template_rows": null,
            "height": null,
            "justify_content": null,
            "justify_items": null,
            "left": null,
            "margin": null,
            "max_height": null,
            "max_width": null,
            "min_height": null,
            "min_width": null,
            "object_fit": null,
            "object_position": null,
            "order": null,
            "overflow": null,
            "overflow_x": null,
            "overflow_y": null,
            "padding": null,
            "right": null,
            "top": null,
            "visibility": "hidden",
            "width": "100%"
          }
        },
        "691f60ccfd054167a1e45557a60cd73e": {
          "model_module": "@jupyter-widgets/base",
          "model_name": "LayoutModel",
          "model_module_version": "1.2.0",
          "state": {
            "_model_module": "@jupyter-widgets/base",
            "_model_module_version": "1.2.0",
            "_model_name": "LayoutModel",
            "_view_count": null,
            "_view_module": "@jupyter-widgets/base",
            "_view_module_version": "1.2.0",
            "_view_name": "LayoutView",
            "align_content": null,
            "align_items": null,
            "align_self": null,
            "border": null,
            "bottom": null,
            "display": null,
            "flex": null,
            "flex_flow": null,
            "grid_area": null,
            "grid_auto_columns": null,
            "grid_auto_flow": null,
            "grid_auto_rows": null,
            "grid_column": null,
            "grid_gap": null,
            "grid_row": null,
            "grid_template_areas": null,
            "grid_template_columns": null,
            "grid_template_rows": null,
            "height": null,
            "justify_content": null,
            "justify_items": null,
            "left": null,
            "margin": null,
            "max_height": null,
            "max_width": null,
            "min_height": null,
            "min_width": null,
            "object_fit": null,
            "object_position": null,
            "order": null,
            "overflow": null,
            "overflow_x": null,
            "overflow_y": null,
            "padding": null,
            "right": null,
            "top": null,
            "visibility": null,
            "width": null
          }
        },
        "aabbba6c185d44059a3d4b86de89ee47": {
          "model_module": "@jupyter-widgets/controls",
          "model_name": "DescriptionStyleModel",
          "model_module_version": "1.5.0",
          "state": {
            "_model_module": "@jupyter-widgets/controls",
            "_model_module_version": "1.5.0",
            "_model_name": "DescriptionStyleModel",
            "_view_count": null,
            "_view_module": "@jupyter-widgets/base",
            "_view_module_version": "1.2.0",
            "_view_name": "StyleView",
            "description_width": ""
          }
        },
        "9720c92eacc2451f8708ddd51c4c529a": {
          "model_module": "@jupyter-widgets/base",
          "model_name": "LayoutModel",
          "model_module_version": "1.2.0",
          "state": {
            "_model_module": "@jupyter-widgets/base",
            "_model_module_version": "1.2.0",
            "_model_name": "LayoutModel",
            "_view_count": null,
            "_view_module": "@jupyter-widgets/base",
            "_view_module_version": "1.2.0",
            "_view_name": "LayoutView",
            "align_content": null,
            "align_items": null,
            "align_self": null,
            "border": null,
            "bottom": null,
            "display": null,
            "flex": "2",
            "flex_flow": null,
            "grid_area": null,
            "grid_auto_columns": null,
            "grid_auto_flow": null,
            "grid_auto_rows": null,
            "grid_column": null,
            "grid_gap": null,
            "grid_row": null,
            "grid_template_areas": null,
            "grid_template_columns": null,
            "grid_template_rows": null,
            "height": null,
            "justify_content": null,
            "justify_items": null,
            "left": null,
            "margin": null,
            "max_height": null,
            "max_width": null,
            "min_height": null,
            "min_width": null,
            "object_fit": null,
            "object_position": null,
            "order": null,
            "overflow": null,
            "overflow_x": null,
            "overflow_y": null,
            "padding": null,
            "right": null,
            "top": null,
            "visibility": null,
            "width": null
          }
        },
        "29d105653907427b93a113c7df92088b": {
          "model_module": "@jupyter-widgets/controls",
          "model_name": "ProgressStyleModel",
          "model_module_version": "1.5.0",
          "state": {
            "_model_module": "@jupyter-widgets/controls",
            "_model_module_version": "1.5.0",
            "_model_name": "ProgressStyleModel",
            "_view_count": null,
            "_view_module": "@jupyter-widgets/base",
            "_view_module_version": "1.2.0",
            "_view_name": "StyleView",
            "bar_color": null,
            "description_width": ""
          }
        },
        "f427780d5cae4d4bb2b82f4de8da2b42": {
          "model_module": "@jupyter-widgets/base",
          "model_name": "LayoutModel",
          "model_module_version": "1.2.0",
          "state": {
            "_model_module": "@jupyter-widgets/base",
            "_model_module_version": "1.2.0",
            "_model_name": "LayoutModel",
            "_view_count": null,
            "_view_module": "@jupyter-widgets/base",
            "_view_module_version": "1.2.0",
            "_view_name": "LayoutView",
            "align_content": null,
            "align_items": null,
            "align_self": null,
            "border": null,
            "bottom": null,
            "display": null,
            "flex": null,
            "flex_flow": null,
            "grid_area": null,
            "grid_auto_columns": null,
            "grid_auto_flow": null,
            "grid_auto_rows": null,
            "grid_column": null,
            "grid_gap": null,
            "grid_row": null,
            "grid_template_areas": null,
            "grid_template_columns": null,
            "grid_template_rows": null,
            "height": null,
            "justify_content": null,
            "justify_items": null,
            "left": null,
            "margin": null,
            "max_height": null,
            "max_width": null,
            "min_height": null,
            "min_width": null,
            "object_fit": null,
            "object_position": null,
            "order": null,
            "overflow": null,
            "overflow_x": null,
            "overflow_y": null,
            "padding": null,
            "right": null,
            "top": null,
            "visibility": null,
            "width": null
          }
        },
        "a50e6cfc8b664ccfb9fd91e758f2c756": {
          "model_module": "@jupyter-widgets/controls",
          "model_name": "DescriptionStyleModel",
          "model_module_version": "1.5.0",
          "state": {
            "_model_module": "@jupyter-widgets/controls",
            "_model_module_version": "1.5.0",
            "_model_name": "DescriptionStyleModel",
            "_view_count": null,
            "_view_module": "@jupyter-widgets/base",
            "_view_module_version": "1.2.0",
            "_view_name": "StyleView",
            "description_width": ""
          }
        },
        "127994e9baec424a988d4cf3bdddfc9a": {
          "model_module": "@jupyter-widgets/controls",
          "model_name": "HBoxModel",
          "model_module_version": "1.5.0",
          "state": {
            "_dom_classes": [],
            "_model_module": "@jupyter-widgets/controls",
            "_model_module_version": "1.5.0",
            "_model_name": "HBoxModel",
            "_view_count": null,
            "_view_module": "@jupyter-widgets/controls",
            "_view_module_version": "1.5.0",
            "_view_name": "HBoxView",
            "box_style": "",
            "children": [
              "IPY_MODEL_feed7d54222f41fc9cde456e9ec49848",
              "IPY_MODEL_9d1cdb4c4ce54003beef9e2d22b6ee55",
              "IPY_MODEL_1d49a5ef12be46f3bc650d58244b9b16"
            ],
            "layout": "IPY_MODEL_4c535362cd6c4793904710c22b26d096"
          }
        },
        "feed7d54222f41fc9cde456e9ec49848": {
          "model_module": "@jupyter-widgets/controls",
          "model_name": "HTMLModel",
          "model_module_version": "1.5.0",
          "state": {
            "_dom_classes": [],
            "_model_module": "@jupyter-widgets/controls",
            "_model_module_version": "1.5.0",
            "_model_name": "HTMLModel",
            "_view_count": null,
            "_view_module": "@jupyter-widgets/controls",
            "_view_module_version": "1.5.0",
            "_view_name": "HTMLView",
            "description": "",
            "description_tooltip": null,
            "layout": "IPY_MODEL_62c56a99d127409489e89d63d98e6d33",
            "placeholder": "​",
            "style": "IPY_MODEL_1e68291fb86b4a78954c685e81cc941d",
            "value": "Epoch 0:   2%"
          }
        },
        "9d1cdb4c4ce54003beef9e2d22b6ee55": {
          "model_module": "@jupyter-widgets/controls",
          "model_name": "FloatProgressModel",
          "model_module_version": "1.5.0",
          "state": {
            "_dom_classes": [],
            "_model_module": "@jupyter-widgets/controls",
            "_model_module_version": "1.5.0",
            "_model_name": "FloatProgressModel",
            "_view_count": null,
            "_view_module": "@jupyter-widgets/controls",
            "_view_module_version": "1.5.0",
            "_view_name": "ProgressView",
            "bar_style": "",
            "description": "",
            "description_tooltip": null,
            "layout": "IPY_MODEL_cbc4a02b2af74148b6362d58170632eb",
            "max": 50759,
            "min": 0,
            "orientation": "horizontal",
            "style": "IPY_MODEL_a34d65bb8a1740d3b0fa1e7c8039831b",
            "value": 1260
          }
        },
        "1d49a5ef12be46f3bc650d58244b9b16": {
          "model_module": "@jupyter-widgets/controls",
          "model_name": "HTMLModel",
          "model_module_version": "1.5.0",
          "state": {
            "_dom_classes": [],
            "_model_module": "@jupyter-widgets/controls",
            "_model_module_version": "1.5.0",
            "_model_name": "HTMLModel",
            "_view_count": null,
            "_view_module": "@jupyter-widgets/controls",
            "_view_module_version": "1.5.0",
            "_view_name": "HTMLView",
            "description": "",
            "description_tooltip": null,
            "layout": "IPY_MODEL_4847fed8e03a49c082aa75fb5b329f8d",
            "placeholder": "​",
            "style": "IPY_MODEL_8138c3a55ffb4572ba82afd76243a0aa",
            "value": " 1260/50759 [05:21&lt;3:30:45,  3.91it/s, v_num=7dbn]"
          }
        },
        "4c535362cd6c4793904710c22b26d096": {
          "model_module": "@jupyter-widgets/base",
          "model_name": "LayoutModel",
          "model_module_version": "1.2.0",
          "state": {
            "_model_module": "@jupyter-widgets/base",
            "_model_module_version": "1.2.0",
            "_model_name": "LayoutModel",
            "_view_count": null,
            "_view_module": "@jupyter-widgets/base",
            "_view_module_version": "1.2.0",
            "_view_name": "LayoutView",
            "align_content": null,
            "align_items": null,
            "align_self": null,
            "border": null,
            "bottom": null,
            "display": "inline-flex",
            "flex": null,
            "flex_flow": "row wrap",
            "grid_area": null,
            "grid_auto_columns": null,
            "grid_auto_flow": null,
            "grid_auto_rows": null,
            "grid_column": null,
            "grid_gap": null,
            "grid_row": null,
            "grid_template_areas": null,
            "grid_template_columns": null,
            "grid_template_rows": null,
            "height": null,
            "justify_content": null,
            "justify_items": null,
            "left": null,
            "margin": null,
            "max_height": null,
            "max_width": null,
            "min_height": null,
            "min_width": null,
            "object_fit": null,
            "object_position": null,
            "order": null,
            "overflow": null,
            "overflow_x": null,
            "overflow_y": null,
            "padding": null,
            "right": null,
            "top": null,
            "visibility": null,
            "width": "100%"
          }
        },
        "62c56a99d127409489e89d63d98e6d33": {
          "model_module": "@jupyter-widgets/base",
          "model_name": "LayoutModel",
          "model_module_version": "1.2.0",
          "state": {
            "_model_module": "@jupyter-widgets/base",
            "_model_module_version": "1.2.0",
            "_model_name": "LayoutModel",
            "_view_count": null,
            "_view_module": "@jupyter-widgets/base",
            "_view_module_version": "1.2.0",
            "_view_name": "LayoutView",
            "align_content": null,
            "align_items": null,
            "align_self": null,
            "border": null,
            "bottom": null,
            "display": null,
            "flex": null,
            "flex_flow": null,
            "grid_area": null,
            "grid_auto_columns": null,
            "grid_auto_flow": null,
            "grid_auto_rows": null,
            "grid_column": null,
            "grid_gap": null,
            "grid_row": null,
            "grid_template_areas": null,
            "grid_template_columns": null,
            "grid_template_rows": null,
            "height": null,
            "justify_content": null,
            "justify_items": null,
            "left": null,
            "margin": null,
            "max_height": null,
            "max_width": null,
            "min_height": null,
            "min_width": null,
            "object_fit": null,
            "object_position": null,
            "order": null,
            "overflow": null,
            "overflow_x": null,
            "overflow_y": null,
            "padding": null,
            "right": null,
            "top": null,
            "visibility": null,
            "width": null
          }
        },
        "1e68291fb86b4a78954c685e81cc941d": {
          "model_module": "@jupyter-widgets/controls",
          "model_name": "DescriptionStyleModel",
          "model_module_version": "1.5.0",
          "state": {
            "_model_module": "@jupyter-widgets/controls",
            "_model_module_version": "1.5.0",
            "_model_name": "DescriptionStyleModel",
            "_view_count": null,
            "_view_module": "@jupyter-widgets/base",
            "_view_module_version": "1.2.0",
            "_view_name": "StyleView",
            "description_width": ""
          }
        },
        "cbc4a02b2af74148b6362d58170632eb": {
          "model_module": "@jupyter-widgets/base",
          "model_name": "LayoutModel",
          "model_module_version": "1.2.0",
          "state": {
            "_model_module": "@jupyter-widgets/base",
            "_model_module_version": "1.2.0",
            "_model_name": "LayoutModel",
            "_view_count": null,
            "_view_module": "@jupyter-widgets/base",
            "_view_module_version": "1.2.0",
            "_view_name": "LayoutView",
            "align_content": null,
            "align_items": null,
            "align_self": null,
            "border": null,
            "bottom": null,
            "display": null,
            "flex": "2",
            "flex_flow": null,
            "grid_area": null,
            "grid_auto_columns": null,
            "grid_auto_flow": null,
            "grid_auto_rows": null,
            "grid_column": null,
            "grid_gap": null,
            "grid_row": null,
            "grid_template_areas": null,
            "grid_template_columns": null,
            "grid_template_rows": null,
            "height": null,
            "justify_content": null,
            "justify_items": null,
            "left": null,
            "margin": null,
            "max_height": null,
            "max_width": null,
            "min_height": null,
            "min_width": null,
            "object_fit": null,
            "object_position": null,
            "order": null,
            "overflow": null,
            "overflow_x": null,
            "overflow_y": null,
            "padding": null,
            "right": null,
            "top": null,
            "visibility": null,
            "width": null
          }
        },
        "a34d65bb8a1740d3b0fa1e7c8039831b": {
          "model_module": "@jupyter-widgets/controls",
          "model_name": "ProgressStyleModel",
          "model_module_version": "1.5.0",
          "state": {
            "_model_module": "@jupyter-widgets/controls",
            "_model_module_version": "1.5.0",
            "_model_name": "ProgressStyleModel",
            "_view_count": null,
            "_view_module": "@jupyter-widgets/base",
            "_view_module_version": "1.2.0",
            "_view_name": "StyleView",
            "bar_color": null,
            "description_width": ""
          }
        },
        "4847fed8e03a49c082aa75fb5b329f8d": {
          "model_module": "@jupyter-widgets/base",
          "model_name": "LayoutModel",
          "model_module_version": "1.2.0",
          "state": {
            "_model_module": "@jupyter-widgets/base",
            "_model_module_version": "1.2.0",
            "_model_name": "LayoutModel",
            "_view_count": null,
            "_view_module": "@jupyter-widgets/base",
            "_view_module_version": "1.2.0",
            "_view_name": "LayoutView",
            "align_content": null,
            "align_items": null,
            "align_self": null,
            "border": null,
            "bottom": null,
            "display": null,
            "flex": null,
            "flex_flow": null,
            "grid_area": null,
            "grid_auto_columns": null,
            "grid_auto_flow": null,
            "grid_auto_rows": null,
            "grid_column": null,
            "grid_gap": null,
            "grid_row": null,
            "grid_template_areas": null,
            "grid_template_columns": null,
            "grid_template_rows": null,
            "height": null,
            "justify_content": null,
            "justify_items": null,
            "left": null,
            "margin": null,
            "max_height": null,
            "max_width": null,
            "min_height": null,
            "min_width": null,
            "object_fit": null,
            "object_position": null,
            "order": null,
            "overflow": null,
            "overflow_x": null,
            "overflow_y": null,
            "padding": null,
            "right": null,
            "top": null,
            "visibility": null,
            "width": null
          }
        },
        "8138c3a55ffb4572ba82afd76243a0aa": {
          "model_module": "@jupyter-widgets/controls",
          "model_name": "DescriptionStyleModel",
          "model_module_version": "1.5.0",
          "state": {
            "_model_module": "@jupyter-widgets/controls",
            "_model_module_version": "1.5.0",
            "_model_name": "DescriptionStyleModel",
            "_view_count": null,
            "_view_module": "@jupyter-widgets/base",
            "_view_module_version": "1.2.0",
            "_view_name": "StyleView",
            "description_width": ""
          }
        }
      }
    },
    "accelerator": "GPU",
    "gpuClass": "standard"
  },
  "nbformat": 4,
  "nbformat_minor": 0
}